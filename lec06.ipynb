{
 "cells": [
  {
   "cell_type": "markdown",
   "metadata": {},
   "source": [
    "## Lecture 6: Solving Linear Equations"
   ]
  },
  {
   "cell_type": "code",
   "execution_count": 1,
   "metadata": {},
   "outputs": [],
   "source": [
    "import numpy as np\n",
    "import matplotlib.pyplot as plt\n",
    "import sympy as sy\n",
    "import fractions\n",
    "import utils as utils\n",
    "\n",
    "from func import Func\n",
    "from linalg import LinearSystem\n",
    "\n",
    "# Inline plotting\n",
    "%matplotlib inline\n",
    "\n",
    "# Make sympy print pretty math expressions\n",
    "sy.init_printing()"
   ]
  },
  {
   "cell_type": "markdown",
   "metadata": {},
   "source": [
    "Systems of linear equations have the following form:\n",
    "$$\n",
    "A \\mathbf{x} = \\mathbf{b}\n",
    "$$\n",
    "where $A$ is an $m \\times n$ matrix, $m \\geq n$, $\\mathbf{x} \\in \\mathbb{R}^n$, $\\mathbf{b} \\in \\mathbb{R}^m$."
   ]
  },
  {
   "cell_type": "markdown",
   "metadata": {},
   "source": [
    "Typically, we are given $A$ and $\\mathbf{b}$ and we are asked to find $\\mathbf{x}$. For small matrix $A$ and $\\mathbf{b}$, we can solve it using Gaussian Elimination by creating a tableau and reducing the tableau to Reduced Row Echelon Form. From a computational point of view Gaussian Elimination is useful for small and large systems of linear equations. The problem with Gaussian Elimination is that we can not iteratively find a better and better solution. Instead, it finds the final solution. In the following lectures, we will talk about finding approximate solutions. An iterative approach can be useful if you have say have one million variables."
   ]
  },
  {
   "cell_type": "markdown",
   "metadata": {},
   "source": [
    "The system $A\\mathbf{x}=\\mathbf{b}$ is called a homogenous system if $\\mathbf{b}=\\mathbf{0}$ i.e., $A\\mathbf{x}=\\mathbf{0}$. "
   ]
  },
  {
   "cell_type": "markdown",
   "metadata": {},
   "source": [
    "---\n",
    "## Matrix Norms and Condition Numbers\n",
    "\n",
    "\n"
   ]
  },
  {
   "cell_type": "markdown",
   "metadata": {},
   "source": [
    "<img src=\"figures/lecture-06/matrix-norms-and-condition-numbers.png\" width=\"600\" />\n"
   ]
  },
  {
   "cell_type": "markdown",
   "metadata": {},
   "source": [
    "---\n",
    "## Matrix Norms"
   ]
  },
  {
   "cell_type": "markdown",
   "metadata": {},
   "source": [
    "There are many different norms like the infinity norm:"
   ]
  },
  {
   "cell_type": "markdown",
   "metadata": {},
   "source": [
    "<img src=\"figures/lecture-06/matrix-norms.png\" width=\"600\" />\n",
    "\n",
    "\n",
    "\n",
    "\n"
   ]
  },
  {
   "cell_type": "markdown",
   "metadata": {},
   "source": [
    "The Frobenius norm simply squares each entry in the matrix, sum them together and takes the square root of the sum.:"
   ]
  },
  {
   "cell_type": "markdown",
   "metadata": {},
   "source": [
    "<img src=\"figures/lecture-06/frobenius-norm-example.png\" width=\"600\" />\n"
   ]
  },
  {
   "cell_type": "code",
   "execution_count": 2,
   "metadata": {},
   "outputs": [
    {
     "data": {
      "image/png": "[encoded data removed]",
      "text/latex": [
       "$$6.0$$"
      ],
      "text/plain": [
       "6.0"
      ]
     },
     "execution_count": 2,
     "metadata": {},
     "output_type": "execute_result"
    }
   ],
   "source": [
    "A = [[4, 2],\n",
    "     [0, 4]]\n",
    "# Compute the Frobenius matrix norm\n",
    "np.linalg.norm(A, ord='fro')"
   ]
  },
  {
   "cell_type": "markdown",
   "metadata": {},
   "source": [
    "The Frobenius norm is not always useful. We will use two **subordinate matrix norms** that are easy to compute:"
   ]
  },
  {
   "cell_type": "markdown",
   "metadata": {},
   "source": [
    "<img src=\"figures/lecture-06/theorem-matrix-norms.png\" width=\"600\" />\n"
   ]
  },
  {
   "cell_type": "code",
   "execution_count": 3,
   "metadata": {},
   "outputs": [],
   "source": [
    "A = [[ -3,  2,   4,  -3],\n",
    "     [  5, -2,  -3,   5],\n",
    "     [  2,  1,  -6,   4],\n",
    "     [  1,  1,   1,   1]]"
   ]
  },
  {
   "cell_type": "code",
   "execution_count": 4,
   "metadata": {},
   "outputs": [
    {
     "data": {
      "image/png": "[encoded data removed]",
      "text/latex": [
       "$$14.0$$"
      ],
      "text/plain": [
       "14.0"
      ]
     },
     "execution_count": 4,
     "metadata": {},
     "output_type": "execute_result"
    }
   ],
   "source": [
    "# Compute the first order matrix norm\n",
    "# max(sum(abs(x), axis=0))\n",
    "np.linalg.norm(A, ord=1)"
   ]
  },
  {
   "cell_type": "code",
   "execution_count": 5,
   "metadata": {},
   "outputs": [
    {
     "data": {
      "image/png": "[encoded data removed]",
      "text/latex": [
       "$$15.0$$"
      ],
      "text/plain": [
       "15.0"
      ]
     },
     "execution_count": 5,
     "metadata": {},
     "output_type": "execute_result"
    }
   ],
   "source": [
    "# Compute the infinite matrix norm\n",
    "# max(sum(abs(x), axis=1))\n",
    "np.linalg.norm(A, ord=np.inf)"
   ]
  },
  {
   "cell_type": "code",
   "execution_count": 6,
   "metadata": {},
   "outputs": [
    {
     "data": {
      "image/png": "[encoded data removed]",
      "text/latex": [
       "$$11.914218016838003$$"
      ],
      "text/plain": [
       "11.914218016838003"
      ]
     },
     "execution_count": 6,
     "metadata": {},
     "output_type": "execute_result"
    }
   ],
   "source": [
    "# Compute the second matrix norm i.e. largest sing. value\n",
    "np.linalg.norm(A, ord=2)"
   ]
  },
  {
   "cell_type": "markdown",
   "metadata": {},
   "source": [
    "---\n",
    "## Condition Numbers\n",
    "\n",
    "A condition number can be used to estimate the sensitivity of linear systems to small changes in the coefficient matrix $A$.\n",
    "\n",
    "<img src=\"figures/lecture-06/condition-number-example.png\" width=\"600\" />\n",
    "\n",
    "\n",
    "\n",
    "\n",
    "In the following example, we look at one system (5) that we want to represent in a computer. Assume that for some reason, we are only able to represent numbers with 3 decimal places. In such case, the representation in our computer looks like the system in (6). Notice the only difference is the coefficient $a_{22}$. If we compute the solution in the computer, we get $x' = [2, 1]^T$ whereas the exact solution is $x=[1, 2]^T$. These are two different numbers.\n",
    "\n",
    "If you plot the two equations in the system then we would get something like this:\n",
    "\n",
    "<img src=\"figures/lecture-06/ill-conditioned-geometric.png\" width=\"400\" />"
   ]
  },
  {
   "cell_type": "markdown",
   "metadata": {},
   "source": [
    "Plotting the equations, we observe that the lines corresponding to the equations are very close at being parallel. So when we  make a small change in the coefficients, one of the lines is moved slightly. Since the lines are very close to one another, the intersection point (i.e., the solution) will change significantly. \n",
    "\n",
    "To summarise: if the lines are close to being parallel, we get into a situation where we get very different solutions to solving two systems with small change in the coefficient. "
   ]
  },
  {
   "cell_type": "markdown",
   "metadata": {},
   "source": [
    "So the **condition number** tell us something about whether the solution that the computer calculates is close to the real solution. "
   ]
  },
  {
   "cell_type": "markdown",
   "metadata": {},
   "source": [
    "Condition Number tells us how bad a matrix is. This number is very high if the matrix is very close of being singular i.e., the matrix cannot be inverted. Geometrically, this means that the lines defined by the matrix is very close to being parallel."
   ]
  },
  {
   "cell_type": "markdown",
   "metadata": {},
   "source": [
    "<img src=\"figures/lecture-06/definition-conditioned.png\" width=\"600\" />\n",
    "\n",
    "\n",
    "\n",
    "\n"
   ]
  },
  {
   "cell_type": "markdown",
   "metadata": {},
   "source": [
    "<img src=\"figures/lecture-06/well-conditioned-matrix-meaning.png\" width=\"600\" />\n"
   ]
  },
  {
   "cell_type": "markdown",
   "metadata": {},
   "source": [
    "<img src=\"figures/lecture-06/errors.png\" width=\"600\" />\n"
   ]
  },
  {
   "cell_type": "markdown",
   "metadata": {},
   "source": [
    "### Derivation of the Condition Number"
   ]
  },
  {
   "cell_type": "markdown",
   "metadata": {},
   "source": [
    "We want the relative error to be small. But we don't know what the true $x$ is. Therefore, we need another quantity."
   ]
  },
  {
   "cell_type": "markdown",
   "metadata": {},
   "source": [
    "The **residual** or the error is represented by the vector $r$:\n",
    "$$\n",
    "r =  b - b' = b - Ax'\n",
    "$$"
   ]
  },
  {
   "cell_type": "markdown",
   "metadata": {},
   "source": [
    "The **relative residual** is defined as follows:\n",
    "$$\n",
    "\\frac{\\lVert  b- Ax' \\rVert}{\\lVert b \\rVert} = \\frac{\\lVert r \\rVert}{\\lVert b \\rVert}\n",
    "$$"
   ]
  },
  {
   "cell_type": "code",
   "execution_count": 7,
   "metadata": {},
   "outputs": [
    {
     "data": {
      "image/png": "[encoded data removed]",
      "text/latex": [
       "$$0.01174440439029416$$"
      ],
      "text/plain": [
       "0.01174440439029416"
      ]
     },
     "execution_count": 7,
     "metadata": {},
     "output_type": "execute_result"
    }
   ],
   "source": [
    "A = [[3, 2],\n",
    "     [1, 1]]\n",
    "b = [5, 2]\n",
    "linsys = LinearSystem(A, b)\n",
    "linsys.relative_residual([1.1, 0.88])"
   ]
  },
  {
   "cell_type": "code",
   "execution_count": 8,
   "metadata": {},
   "outputs": [
    {
     "data": {
      "image/png": "[encoded data removed]",
      "text/latex": [
       "$$19.999999999999996$$"
      ],
      "text/plain": [
       "19.999999999999996"
      ]
     },
     "execution_count": 8,
     "metadata": {},
     "output_type": "execute_result"
    }
   ],
   "source": [
    "linsys.condition_number()"
   ]
  },
  {
   "cell_type": "markdown",
   "metadata": {},
   "source": [
    "<img src=\"figures/lecture-06/relative-error-estimation.png\" width=\"600\" />\n"
   ]
  },
  {
   "cell_type": "markdown",
   "metadata": {},
   "source": [
    "Normally, we cannot calculate the relative error since we don't know what $x$ is. Instead, we use the **relative residual** to derive the condition number."
   ]
  },
  {
   "cell_type": "markdown",
   "metadata": {},
   "source": [
    "<img src=\"figures/lecture-06/len-r-div-len-a.png\" width=\"200\" />\n"
   ]
  },
  {
   "cell_type": "markdown",
   "metadata": {},
   "source": [
    "<img src=\"figures/lecture-06/norm-b-div-norm-a.png\" width=\"200\" />\n"
   ]
  },
  {
   "cell_type": "markdown",
   "metadata": {},
   "source": [
    "<img src=\"figures/lecture-06/derive-condition-number.png\" width=\"400\" />\n"
   ]
  },
  {
   "cell_type": "markdown",
   "metadata": {},
   "source": [
    "<img src=\"figures/lecture-06/definition-condition-number.png\" width=\"600\" />\n"
   ]
  },
  {
   "cell_type": "markdown",
   "metadata": {},
   "source": [
    "---\n",
    "## Exercise during the Lecture\n",
    "\n",
    "\n"
   ]
  },
  {
   "cell_type": "markdown",
   "metadata": {},
   "source": [
    "<img src=\"figures/lecture-06/lecture-exercise.png\" width=\"800\" />\n"
   ]
  },
  {
   "cell_type": "markdown",
   "metadata": {},
   "source": [
    "We will use the following definition to solve the exercise:"
   ]
  },
  {
   "cell_type": "markdown",
   "metadata": {},
   "source": [
    "<img src=\"figures/lecture-06/definition-condition-number.png\" width=\"600\" />\n"
   ]
  },
  {
   "cell_type": "code",
   "execution_count": 9,
   "metadata": {},
   "outputs": [],
   "source": [
    "A = [[3, 2],\n",
    "     [1, 1]]\n",
    "b = [5, 2]\n",
    "x_prime = [1.1, 0.88]"
   ]
  },
  {
   "cell_type": "code",
   "execution_count": 10,
   "metadata": {},
   "outputs": [
    {
     "data": {
      "image/png": "[encoded data removed]",
      "text/latex": [
       "$$19.999999999999996$$"
      ],
      "text/plain": [
       "19.999999999999996"
      ]
     },
     "execution_count": 10,
     "metadata": {},
     "output_type": "execute_result"
    }
   ],
   "source": [
    "# Compute the condition number of A: cond(A) = ||A|| * ||A^-1||\n",
    "A_norm = np.linalg.norm(A, ord=np.inf)\n",
    "A_inv_norm = np.linalg.norm(np.linalg.inv(A), ord=np.inf)\n",
    "cond_inf = A_norm * A_inv_norm\n",
    "cond_inf"
   ]
  },
  {
   "cell_type": "code",
   "execution_count": 11,
   "metadata": {},
   "outputs": [
    {
     "data": {
      "text/plain": [
       "array([5.06, 1.98])"
      ]
     },
     "execution_count": 11,
     "metadata": {},
     "output_type": "execute_result"
    }
   ],
   "source": [
    "b_prime = np.array(A) @ x_prime\n",
    "b_prime"
   ]
  },
  {
   "cell_type": "code",
   "execution_count": 12,
   "metadata": {},
   "outputs": [
    {
     "data": {
      "text/plain": [
       "array([-0.06,  0.02])"
      ]
     },
     "execution_count": 12,
     "metadata": {},
     "output_type": "execute_result"
    }
   ],
   "source": [
    "r = b - b_prime\n",
    "r"
   ]
  },
  {
   "cell_type": "code",
   "execution_count": 13,
   "metadata": {},
   "outputs": [
    {
     "data": {
      "image/png": "[encoded data removed]",
      "text/latex": [
       "$$0.000600000000000005$$"
      ],
      "text/plain": [
       "0.000600000000000005"
      ]
     },
     "execution_count": 13,
     "metadata": {},
     "output_type": "execute_result"
    }
   ],
   "source": [
    "lower_bound = (1/cond_inf) * (np.linalg.norm(r, np.inf) / np.linalg.norm(b, np.inf))\n",
    "lower_bound"
   ]
  },
  {
   "cell_type": "code",
   "execution_count": 14,
   "metadata": {},
   "outputs": [
    {
     "data": {
      "image/png": "[encoded data removed]",
      "text/latex": [
       "$$0.24000000000000193$$"
      ],
      "text/plain": [
       "0.24000000000000193"
      ]
     },
     "execution_count": 14,
     "metadata": {},
     "output_type": "execute_result"
    }
   ],
   "source": [
    "upper_bound = (cond_inf) * (np.linalg.norm(r, np.inf) / np.linalg.norm(b, np.inf))\n",
    "upper_bound"
   ]
  },
  {
   "cell_type": "code",
   "execution_count": 15,
   "metadata": {},
   "outputs": [
    {
     "data": {
      "text/plain": [
       "array([-0.1 ,  0.12])"
      ]
     },
     "execution_count": 15,
     "metadata": {},
     "output_type": "execute_result"
    }
   ],
   "source": [
    "x = np.array([1, 1])\n",
    "e = x - x_prime\n",
    "e"
   ]
  },
  {
   "cell_type": "code",
   "execution_count": 16,
   "metadata": {},
   "outputs": [
    {
     "data": {
      "image/png": "[encoded data removed]",
      "text/latex": [
       "$$0.12$$"
      ],
      "text/plain": [
       "0.12"
      ]
     },
     "execution_count": 16,
     "metadata": {},
     "output_type": "execute_result"
    }
   ],
   "source": [
    "relative_error = np.linalg.norm(e, np.inf) / np.linalg.norm(x, np.inf)\n",
    "relative_error"
   ]
  },
  {
   "cell_type": "markdown",
   "metadata": {},
   "source": [
    "---\n",
    "## Consistency\n",
    "\n",
    "If $\\mathbf{b}$ does not belong to the range of $A$ then the system is said to be **inconsistent**. We can determine if a system is inconsistent if the rank $A < $ rank $[A|b]$.\n",
    "\n",
    "The range (aka. image or column space) of a matrix is the the span (set of all possible linear combinations) of its column vectors.\n"
   ]
  },
  {
   "cell_type": "code",
   "execution_count": 17,
   "metadata": {},
   "outputs": [],
   "source": [
    "A = [[3, 2],\n",
    "     [1, 1]]\n",
    "b = [5, 2]\n",
    "linsys = LinearSystem(A, b)"
   ]
  },
  {
   "cell_type": "code",
   "execution_count": 18,
   "metadata": {},
   "outputs": [
    {
     "data": {
      "text/plain": [
       "False"
      ]
     },
     "execution_count": 18,
     "metadata": {},
     "output_type": "execute_result"
    }
   ],
   "source": [
    "linsys.is_inconsistent()"
   ]
  },
  {
   "cell_type": "code",
   "execution_count": 19,
   "metadata": {},
   "outputs": [
    {
     "data": {
      "text/plain": [
       "array([[1.],\n",
       "       [1.]])"
      ]
     },
     "execution_count": 19,
     "metadata": {},
     "output_type": "execute_result"
    }
   ],
   "source": [
    "linsys.least_squares_solution()"
   ]
  },
  {
   "cell_type": "code",
   "execution_count": 20,
   "metadata": {},
   "outputs": [
    {
     "data": {
      "image/png": "[encoded data removed]",
      "text/latex": [
       "$$0.0$$"
      ],
      "text/plain": [
       "0.0"
      ]
     },
     "execution_count": 20,
     "metadata": {},
     "output_type": "execute_result"
    }
   ],
   "source": [
    "linsys.relative_residual([1, 1])"
   ]
  },
  {
   "cell_type": "markdown",
   "metadata": {},
   "source": [
    "---\n",
    "## Solving Linear Systems"
   ]
  },
  {
   "cell_type": "markdown",
   "metadata": {},
   "source": [
    "How can do something when we there are no solution for $A \\mathbf{x}=\\mathbf{b}$? We can minimise $\\lVert A\\mathbf{x} - \\mathbf{b} \\rVert$ to find an approximate solution.   "
   ]
  },
  {
   "cell_type": "markdown",
   "metadata": {},
   "source": [
    "Let $\\mathbf{x}^{*}$ be a vector that minimises the squared sum of residuals $\\lVert A \\mathbf{x}-\\mathbf{b}\\rVert^2$. This means that for all $\\mathbf{x} \\in \\mathbb{R}^n$, we have following:\n",
    "\n",
    "\\begin{align}\n",
    "\\lVert A \\mathbf{x}-\\mathbf{b}\\rVert^2 \\geq \\lVert A \\mathbf{x}^{*}-\\mathbf{b} \\rVert^2\n",
    "\\end{align}\n",
    "\n",
    "We says that the vector $\\mathbf{x}^{*}$ is the **least-squares solution** to the linear system $Ax = b$."
   ]
  },
  {
   "cell_type": "markdown",
   "metadata": {},
   "source": [
    "<img src=\"figures/lecture-06/theorem-least-squares-solution.png\" width=\"600\" />\n"
   ]
  },
  {
   "cell_type": "markdown",
   "metadata": {},
   "source": [
    "Theorem 12.1 gives us an analytical approach of finding the least-squares solution which is known as the normal equation."
   ]
  },
  {
   "cell_type": "markdown",
   "metadata": {},
   "source": [
    "\n",
    "<img src=\"figures/lecture-06/least-squares-solution-derivation.png\" width=\"600\" />\n"
   ]
  },
  {
   "cell_type": "markdown",
   "metadata": {},
   "source": [
    "The last equation is called the **Normal Equation**. The normal equation is about finding an orthogal projection that is in the range of $A$ since $b$ is not in the range of $A$. The range of $A$ is all the possible vectors that can created by the matrix $A$."
   ]
  },
  {
   "cell_type": "markdown",
   "metadata": {},
   "source": [
    "There is a geometric interpretation of least-squares solution:"
   ]
  },
  {
   "cell_type": "markdown",
   "metadata": {},
   "source": [
    "<img src=\"figures/lecture-06/least-squares-solution-geometric.png\" width=\"600\" />\n"
   ]
  },
  {
   "cell_type": "markdown",
   "metadata": {},
   "source": [
    "Notice that $b$ is not in the range of $A$. Basically, the Normal Equation performs an orthogonal projection of $b$ onto the subspace range of $A$."
   ]
  },
  {
   "cell_type": "markdown",
   "metadata": {},
   "source": [
    "---\n",
    "## Least-Squares Problems\n",
    "\n",
    "<img src=\"figures/lecture-06/example-12.1.png\" width=\"600\" />\n",
    "\n"
   ]
  },
  {
   "cell_type": "markdown",
   "metadata": {},
   "source": [
    "Suppose $x_1$ represent the first type of concrete and $x_2$ represent the second. This problem can be formulated with the following linear equations:\n",
    "\n",
    "$$\n",
    "0.3 x_1 + 0.1 x_2 = 5 \\\\\n",
    "0.4 x_1 + 0.2 x_2 = 3 \\\\\n",
    "0.3 x_1 + 0.7 x_2 = 4\n",
    "$$"
   ]
  },
  {
   "cell_type": "code",
   "execution_count": 21,
   "metadata": {},
   "outputs": [
    {
     "data": {
      "text/plain": [
       "array([[10.56650246],\n",
       "       [ 0.96059113]])"
      ]
     },
     "execution_count": 21,
     "metadata": {},
     "output_type": "execute_result"
    }
   ],
   "source": [
    "def create_ex121():\n",
    "    A = [[0.3, 0.1],\n",
    "         [0.4, 0.2],\n",
    "         [0.3, 0.7]]\n",
    "    b = [5, 3, 4]\n",
    "    return LinearSystem(A, b)\n",
    "ex121 = create_ex121()\n",
    "sol121 = ex121.least_squares_solution()\n",
    "sol121"
   ]
  },
  {
   "cell_type": "markdown",
   "metadata": {},
   "source": [
    "---\n",
    "\n",
    "## Example 12.1: Line Fitting\n",
    "\n",
    "The least-squares analysis can also be used to find a straight line that best fit a set of experimental data. This is a useful tool that can be used when a system of equations is **inconsistent**. Suppose we have a problem that can represented as a set of three linear equations:\n",
    "\\begin{align}\n",
    "3m + c &= 3 \\\\\n",
    "3m + c &= 4 \\\\\n",
    "4m + c &= 15\n",
    "\\end{align}\n",
    "We would like to find a straight line given by:\n",
    "\\begin{align}\n",
    "y = mt + c\n",
    "\\end{align}\n",
    "The straight line that best fit the data points is the one that minimises:\n",
    "$$\n",
    "\\lVert Ax - b \\rVert^2\n",
    "$$\n",
    "Therefore, we can use least-squares solution on this problem."
   ]
  },
  {
   "cell_type": "code",
   "execution_count": 22,
   "metadata": {},
   "outputs": [],
   "source": [
    "def create_ex123():\n",
    "    A = [[2, 1],\n",
    "         [3, 1],\n",
    "         [4, 1]]\n",
    "    b = [3, 4, 15]\n",
    "    return LinearSystem(A, b)\n",
    "ex122 = create_ex123()"
   ]
  },
  {
   "cell_type": "code",
   "execution_count": 23,
   "metadata": {},
   "outputs": [
    {
     "data": {
      "text/plain": [
       "True"
      ]
     },
     "execution_count": 23,
     "metadata": {},
     "output_type": "execute_result"
    }
   ],
   "source": [
    "# Check whether the system is inconsistent\n",
    "ex122.is_inconsistent()"
   ]
  },
  {
   "cell_type": "code",
   "execution_count": 24,
   "metadata": {},
   "outputs": [
    {
     "data": {
      "text/plain": [
       "array([[  6.        ],\n",
       "       [-10.66666667]])"
      ]
     },
     "execution_count": 24,
     "metadata": {},
     "output_type": "execute_result"
    }
   ],
   "source": [
    "ex122.least_squares_solution()"
   ]
  },
  {
   "cell_type": "markdown",
   "metadata": {},
   "source": [
    "Using the least-squares solution, we have found that the line that best fit the data points is described by:\n",
    "\n",
    "\\begin{align}\n",
    " y = 6t - \\frac{32}{3}\n",
    "\\end{align}"
   ]
  },
  {
   "cell_type": "markdown",
   "metadata": {},
   "source": [
    "A graphical illustration of our problem is shown in Figure 12.2:\n",
    "\n",
    "<img src=\"figures/lecture-06/figure-12.2.png\" width=\"600\" />\n"
   ]
  },
  {
   "cell_type": "markdown",
   "metadata": {},
   "source": [
    "---\n",
    "## Polynomial Regression through Least Square Method \n",
    "\n",
    "We can also use the normal equation to fit data to other than a straight line. Consider the following data that looks like data whose graphs looks like a parabola:"
   ]
  },
  {
   "cell_type": "markdown",
   "metadata": {},
   "source": [
    "| $x_i$ \t| $y_i$ \t|\n",
    "|-----\t|-----\t|\n",
    "| 1   \t| 1   \t|\n",
    "| 2   \t| 5   \t|\n",
    "| 3   \t| 8   \t|\n",
    "| 4   \t| 17  \t|\n",
    "| 5   \t| 16  \t|"
   ]
  },
  {
   "cell_type": "markdown",
   "metadata": {},
   "source": [
    "A good fit to this data is to find $a$, $b$ and $c$ such that $y(x_i) = ax_i^2 + bx_i + c$ is closest to the data. In the least-squares sense, this means $y_i - y(x_i) = y_i - (ax^2 + bx_i + c)$"
   ]
  },
  {
   "cell_type": "code",
   "execution_count": 25,
   "metadata": {},
   "outputs": [
    {
     "data": {
      "text/plain": [
       "array([[ 1.14285714],\n",
       "       [-0.65714286],\n",
       "       [ 0.8       ]])"
      ]
     },
     "execution_count": 25,
     "metadata": {},
     "output_type": "execute_result"
    }
   ],
   "source": [
    "def create_parabola():\n",
    "    A = [[1**2,  1,  1],\n",
    "         [2**2,  2,  1],\n",
    "         [3**2,  3,  1],\n",
    "         [4**2,  4,  1],\n",
    "         [5**2,  5,  1]]\n",
    "    b = [1, 5, 8, 17, 26]\n",
    "    return LinearSystem(A, b)\n",
    "ex_parabola = create_parabola()\n",
    "ls = ex_parabola.least_squares_solution()\n",
    "ls"
   ]
  },
  {
   "cell_type": "markdown",
   "metadata": {},
   "source": [
    "The coefficients are:\n",
    "$$\n",
    "a = 1.1429, b=-0.6571, c=0.8\n",
    "$$"
   ]
  },
  {
   "cell_type": "markdown",
   "metadata": {},
   "source": [
    "---\n",
    "Let us look at another example:"
   ]
  },
  {
   "cell_type": "code",
   "execution_count": 26,
   "metadata": {},
   "outputs": [
    {
     "data": {
      "text/plain": [
       "array([[0.84365714],\n",
       "       [0.86418286],\n",
       "       [1.00513714]])"
      ]
     },
     "execution_count": 26,
     "metadata": {},
     "output_type": "execute_result"
    }
   ],
   "source": [
    "def create_parabola2():\n",
    "    A = [[0.00,  0.00,  1],\n",
    "         [0.25**2,  0.25,  1],\n",
    "         [0.50**2,  0.50,  1],\n",
    "         [0.75**2,  0.75,  1],\n",
    "         [1.00**2,  1.00,  1]]\n",
    "    b = [1.00, 1.2840, 1.6487, 2.1170, 2.7183]\n",
    "    return LinearSystem(A, b)\n",
    "ex_parabola2 = create_parabola2()\n",
    "ls = ex_parabola2.least_squares_solution()\n",
    "ls"
   ]
  },
  {
   "cell_type": "code",
   "execution_count": 27,
   "metadata": {},
   "outputs": [
    {
     "data": {
      "image/png": "[encoded data removed]",
      "text/latex": [
       "$$\\left [ 0.8436571428571504, \\quad 0.8641828571428407, \\quad 1.0051371428571418\\right ]$$"
      ],
      "text/plain": [
       "[0.8436571428571504, 0.8641828571428407, 1.0051371428571418]"
      ]
     },
     "execution_count": 27,
     "metadata": {},
     "output_type": "execute_result"
    }
   ],
   "source": [
    "utils.to_decimal(ls)"
   ]
  },
  {
   "cell_type": "markdown",
   "metadata": {},
   "source": [
    "The coefficients of the polynomial are:\n",
    "$$\n",
    "a = 0.8437, b=0.8642, c=1.0051\n",
    "$$"
   ]
  },
  {
   "cell_type": "markdown",
   "metadata": {},
   "source": [
    "---\n",
    "## QR decomposition (not covered in the lecture)\n",
    "\n",
    "QR decomposition is more efficient method than the normal equation method of solving a least squares problem. QR decomposition can be be used to solve problems like:\n",
    "$$\n",
    "\\min_{x} \\lVert A \\boldsymbol{x} - b \\rVert\n",
    "$$\n"
   ]
  },
  {
   "cell_type": "markdown",
   "metadata": {},
   "source": [
    "---\n",
    "## Recursive Least-Squares (RLS) Algorithm\n",
    "\n",
    "In Example 12.1, we are given a set of experimental points $\\{ (t_0, y_0), (t_1, y_1), (t_2, y_2) \\}$, and we find the parameters $m^{*}$ and $c^{*}$ of the straight line that best fits these data in the least-squares sense. Suppose that\n",
    "we are now given an extra measurement point $(t_3, y_3)$, so that we now have a  set of four experimental data points. We need to update our line. There is two ways to solve this:\n",
    "\n",
    "1. We can go through the procedure for finding the parameters of the line of best fit for this set of four points. \n",
    "2. We can use previous calculations of $m^{*}$ and $c^{*}$ for the three data points to calculate the parameters for the four data points. This is more efficient. In effect, we simply \"update\" our values of $m^{*}$ and $c^{*}$ to accommodate the new data point. \n",
    "\n",
    "The second procedure is called the recursive least-squares (RLS) algorithm."
   ]
  },
  {
   "cell_type": "markdown",
   "metadata": {},
   "source": [
    "\n",
    "<img src=\"figures/lecture-06/derive-rls-1.png\" width=\"600\" />\n",
    "\n"
   ]
  },
  {
   "cell_type": "markdown",
   "metadata": {},
   "source": [
    "\n",
    "<img src=\"figures/lecture-06/derive-rls-2.png\" width=\"600\" />\n",
    "\n"
   ]
  },
  {
   "cell_type": "markdown",
   "metadata": {},
   "source": [
    "\n",
    "<img src=\"figures/lecture-06/derive-rls-3.png\" width=\"600\" />\n",
    "\n"
   ]
  },
  {
   "cell_type": "markdown",
   "metadata": {},
   "source": [
    "\n",
    "<img src=\"figures/lecture-06/derive-rls-4.png\" width=\"600\" />\n",
    "\n"
   ]
  },
  {
   "cell_type": "markdown",
   "metadata": {},
   "source": [
    "\n",
    "<img src=\"figures/lecture-06/derive-rls-5.png\" width=\"600\" />\n",
    "\n"
   ]
  },
  {
   "cell_type": "markdown",
   "metadata": {},
   "source": [
    "\n",
    "<img src=\"figures/lecture-06/derive-rls-6.png\" width=\"600\" />\n",
    "\n"
   ]
  },
  {
   "cell_type": "markdown",
   "metadata": {},
   "source": [
    "where\n",
    "\n",
    "<img src=\"figures/lecture-06/derive-rls-8.png\" width=\"200\" />\n",
    "\n"
   ]
  },
  {
   "cell_type": "markdown",
   "metadata": {},
   "source": [
    "This algorithm works like the Kalman Filter"
   ]
  },
  {
   "cell_type": "markdown",
   "metadata": {},
   "source": [
    "\n",
    "<img src=\"figures/lecture-06/derive-rls-7.png\" width=\"600\" />\n",
    "\n"
   ]
  },
  {
   "cell_type": "markdown",
   "metadata": {},
   "source": [
    "--- \n",
    "## Example 12.6\n",
    "\n",
    "<img src=\"figures/lecture-06/example-12.6-a.png\" width=\"600\" />\n",
    "\n"
   ]
  },
  {
   "cell_type": "markdown",
   "metadata": {},
   "source": [
    "\n",
    "<img src=\"figures/lecture-06/example-12.6-b.png\" width=\"600\" />\n"
   ]
  },
  {
   "cell_type": "markdown",
   "metadata": {},
   "source": [
    "\n",
    "<img src=\"figures/lecture-06/example-12.6-c.png\" width=\"600\" />\n"
   ]
  },
  {
   "cell_type": "markdown",
   "metadata": {},
   "source": [
    "\n",
    "<img src=\"figures/lecture-06/example-12.6-d.png\" width=\"600\" />\n"
   ]
  },
  {
   "cell_type": "markdown",
   "metadata": {},
   "source": [
    "---\n",
    "## Solution to a Linear System with Minimum Norm"
   ]
  },
  {
   "cell_type": "markdown",
   "metadata": {},
   "source": [
    "\n",
    "<img src=\"figures/lecture-06/linear-system-with-minimum-norm-problem.png\" width=\"600\" />\n",
    "\n",
    "\n"
   ]
  },
  {
   "cell_type": "markdown",
   "metadata": {},
   "source": [
    "<img src=\"figures/lecture-06/linear-system-with-minimum-norm-solution.png\" width=\"600\" />\n",
    "\n"
   ]
  },
  {
   "cell_type": "markdown",
   "metadata": {},
   "source": [
    "---\n",
    "## Example 12.7\n",
    "\n",
    "<img src=\"figures/lecture-06/example-12.7.png\" width=\"600\" />\n",
    "\n",
    "\n"
   ]
  },
  {
   "cell_type": "code",
   "execution_count": 28,
   "metadata": {},
   "outputs": [],
   "source": [
    "def create_ex127():\n",
    "    A = [[1, 2, -1],\n",
    "         [4, 1,  3]]\n",
    "    b = [1, 0]\n",
    "    return LinearSystem(A, b)\n",
    "ex127 = create_ex127()"
   ]
  },
  {
   "cell_type": "code",
   "execution_count": 29,
   "metadata": {},
   "outputs": [
    {
     "data": {
      "text/plain": [
       "array([[ 0.0952381 ],\n",
       "       [ 0.33333333],\n",
       "       [-0.23809524]])"
      ]
     },
     "execution_count": 29,
     "metadata": {},
     "output_type": "execute_result"
    }
   ],
   "source": [
    "ex127.solve_minimum_norm()"
   ]
  },
  {
   "cell_type": "markdown",
   "metadata": {},
   "source": [
    "---\n",
    "\n",
    "## Kaczmarz's Algorithm\n"
   ]
  },
  {
   "cell_type": "markdown",
   "metadata": {},
   "source": [
    "<img src=\"figures/lecture-06/kaczmarz-algorithm-intro.png\" width=\"600\" />\n"
   ]
  },
  {
   "cell_type": "markdown",
   "metadata": {},
   "source": [
    "<img src=\"figures/lecture-06/kaczmarz-algorithm-1.png\" width=\"600\" />\n"
   ]
  },
  {
   "cell_type": "markdown",
   "metadata": {},
   "source": [
    "<img src=\"figures/lecture-06/kaczmarz-algorithm-2.png\" width=\"600\" />\n"
   ]
  },
  {
   "cell_type": "markdown",
   "metadata": {},
   "source": [
    "<img src=\"figures/lecture-06/kaczmarz-algorithm-3.png\" width=\"600\" />\n"
   ]
  },
  {
   "cell_type": "markdown",
   "metadata": {},
   "source": [
    "<img src=\"figures/lecture-06/kaczmarz-convergence-theorem.png\" width=\"600\" />\n",
    "\n",
    "\n"
   ]
  },
  {
   "cell_type": "markdown",
   "metadata": {},
   "source": [
    "---\n",
    "\n",
    "## Moore-Penrose inverse\n",
    "\n",
    "\n"
   ]
  },
  {
   "cell_type": "markdown",
   "metadata": {},
   "source": [
    "The Moore-Penrose inverse defines *pseudoinverse* or *generalised inverse* of a given matrix $A \\in \\mathbb{R}^{m \\times n}$ which plays the role as $A^{-1}$ when $A$ does not have an inverse (e.g., when $A$ is not a square matrix or the determinant is zero). The Moore-Pensore inverse of a given matrix $A$ is denoted $A^{\\dagger}$"
   ]
  },
  {
   "cell_type": "markdown",
   "metadata": {},
   "source": [
    "\n",
    "<img src=\"figures/lecture-06/moore-penrose-inverse-problem.png\" width=\"600\" />\n",
    "\n",
    "where $r \\leq \\min\\{m,n\\}$."
   ]
  },
  {
   "cell_type": "markdown",
   "metadata": {},
   "source": [
    "<img src=\"figures/lecture-06/moore-penrose-inverse-case-1.png\" width=\"600\" />\n"
   ]
  },
  {
   "cell_type": "markdown",
   "metadata": {},
   "source": [
    "<img src=\"figures/lecture-06/moore-penrose-inverse-case-2.png\" width=\"600\" />\n"
   ]
  }
 ],
 "metadata": {
  "kernelspec": {
   "display_name": "Python 3",
   "language": "python",
   "name": "python3"
  },
  "language_info": {
   "codemirror_mode": {
    "name": "ipython",
    "version": 3
   },
   "file_extension": ".py",
   "mimetype": "text/x-python",
   "name": "python",
   "nbconvert_exporter": "python",
   "pygments_lexer": "ipython3",
   "version": "3.6.6"
  }
 },
 "nbformat": 4,
 "nbformat_minor": 2
}
