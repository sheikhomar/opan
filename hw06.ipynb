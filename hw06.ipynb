{
 "cells": [
  {
   "cell_type": "markdown",
   "metadata": {},
   "source": [
    "# Homework 6"
   ]
  },
  {
   "cell_type": "code",
   "execution_count": 1,
   "metadata": {},
   "outputs": [],
   "source": [
    "import numpy as np\n",
    "import matplotlib.pyplot as plt\n",
    "import sympy as sy\n",
    "import fractions\n",
    "import utils as utils\n",
    "\n",
    "from func import Func\n",
    "from linalg import LinearSystem\n",
    "\n",
    "# Inline plotting\n",
    "%matplotlib inline\n",
    "\n",
    "# Make sympy print pretty math expressions\n",
    "sy.init_printing()"
   ]
  },
  {
   "cell_type": "markdown",
   "metadata": {},
   "source": [
    "---\n",
    "## Exercise 12.2\n",
    "\n",
    "<img src=\"figures/homework-06/exercise-12.2.png\" width=\"600\" />\n"
   ]
  },
  {
   "cell_type": "code",
   "execution_count": 5,
   "metadata": {},
   "outputs": [],
   "source": [
    "def create_ex122():\n",
    "    A = [[1, 1],\n",
    "         [1, 2],\n",
    "         [1, 4]]\n",
    "    b = [3, 4, 5]\n",
    "    return LinearSystem(A, b)\n",
    "ex122 = create_ex122()"
   ]
  },
  {
   "cell_type": "code",
   "execution_count": 6,
   "metadata": {},
   "outputs": [
    {
     "data": {
      "text/plain": [
       "array([[5/2],\n",
       "       [9/14]])"
      ]
     },
     "execution_count": 6,
     "metadata": {},
     "output_type": "execute_result"
    }
   ],
   "source": [
    "ex122.least_squares_solution()"
   ]
  },
  {
   "cell_type": "markdown",
   "metadata": {},
   "source": [
    "The solution is $a=\\frac{5}{2}$ and $b=\\frac{9}{14}$."
   ]
  },
  {
   "cell_type": "markdown",
   "metadata": {},
   "source": [
    "---\n",
    "## Exercise 12.4\n",
    "\n",
    "<img src=\"figures/homework-06/exercise-12.4a.png\" width=\"600\" />\n",
    "\n",
    "<img src=\"figures/homework-06/exercise-12.4b.png\" width=\"600\" />\n"
   ]
  },
  {
   "cell_type": "markdown",
   "metadata": {},
   "source": [
    "To solve this exercise, we need theorem that defines the least-squares method:"
   ]
  },
  {
   "cell_type": "markdown",
   "metadata": {},
   "source": [
    "<img src=\"figures/lecture-06/theorem-least-squares-solution.png\" width=\"600\" />\n"
   ]
  },
  {
   "cell_type": "markdown",
   "metadata": {},
   "source": [
    "In Theorem 12.1, given matrix $A$ and vector $b$, we need to find a vector $x^{*}$ that minimises $\\lVert Ax-b \\rVert^2$. The solution is given by $x^{*}= (A^T A)^{-1}A^T b$.\n",
    "\n",
    "For this exercise, we apply the same formula. Instead, we attempt to find $\\alpha^{*}$, which can be found by:\n",
    "$$\n",
    "\\alpha^{*} = (x^T x)^{-1} x^T y = \\frac{x^T y}{x^T x}\n",
    "$$"
   ]
  },
  {
   "cell_type": "code",
   "execution_count": null,
   "metadata": {},
   "outputs": [],
   "source": []
  }
 ],
 "metadata": {
  "kernelspec": {
   "display_name": "Python 3",
   "language": "python",
   "name": "python3"
  },
  "language_info": {
   "codemirror_mode": {
    "name": "ipython",
    "version": 3
   },
   "file_extension": ".py",
   "mimetype": "text/x-python",
   "name": "python",
   "nbconvert_exporter": "python",
   "pygments_lexer": "ipython3",
   "version": "3.6.6"
  }
 },
 "nbformat": 4,
 "nbformat_minor": 2
}
