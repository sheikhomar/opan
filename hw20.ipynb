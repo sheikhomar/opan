{
 "cells": [
  {
   "cell_type": "markdown",
   "metadata": {},
   "source": [
    "# Homework 20"
   ]
  },
  {
   "cell_type": "code",
   "execution_count": 1,
   "metadata": {},
   "outputs": [
    {
     "data": {
      "text/html": [
       "<style type=\"text/css\">.summary {\n",
       "  border: solid 1px green !important;\n",
       "  background: #cdffd8 !important;\n",
       "  padding: 10px !important;\n",
       "  border-radius: 2px !important;\n",
       "}\n",
       "\n",
       ".insight {\n",
       "  border: solid 1px green !important;\n",
       "  background: #cdffd8 !important;\n",
       "  padding: 10px !important;\n",
       "  border-radius: 2px !important;\n",
       "}\n",
       "\n",
       ".sidenote {\n",
       "  border: solid 1px green !important;\n",
       "  background: #cdffd8 !important;\n",
       "  padding: 10px !important;\n",
       "  border-radius: 2px !important;\n",
       "}\n",
       "\n",
       ".warning {\n",
       "  border: solid 1px #8a6d3b !important;\n",
       "  background: #fcf8e3 !important;\n",
       "  padding: 10px !important;\n",
       "  border-radius: 2px !important;\n",
       "}\n",
       "\n",
       ".green {\n",
       "  color: #006600 !important;\n",
       "}\n",
       "\n",
       ".red {\n",
       "  color: #cc0000 !important;\n",
       "}</style>Stylesheet \"styles.css\" loaded."
      ],
      "text/plain": [
       "<IPython.core.display.HTML object>"
      ]
     },
     "metadata": {},
     "output_type": "display_data"
    }
   ],
   "source": [
    "import numpy as np\n",
    "import matplotlib.pyplot as plt\n",
    "import sympy as sy\n",
    "import utils as utils\n",
    "from fractions import Fraction\n",
    "from sklearn.metrics import pairwise_distances\n",
    "\n",
    "from IPython.display import display, HTML\n",
    "\n",
    "# Inline plotting\n",
    "%matplotlib inline\n",
    "\n",
    "# Make sympy print pretty math expressions\n",
    "sy.init_printing()\n",
    "\n",
    "utils.load_custom_styles()"
   ]
  },
  {
   "cell_type": "markdown",
   "metadata": {},
   "source": [
    "---\n",
    "## Exercise 4.1\n",
    "\n",
    "<img src=\"figures/homework-20/exercise-4.1.png\" width=\"600\" />\n",
    "\n",
    "\n",
    "\n",
    "\n",
    "\n",
    "\n",
    "\n",
    "\n",
    "\n",
    "\n",
    "\n",
    "\n",
    "\n",
    "\n",
    "\n",
    "\n",
    "\n",
    "\n"
   ]
  },
  {
   "cell_type": "markdown",
   "metadata": {},
   "source": [
    "---\n",
    "## Exercise 4.2\n",
    "\n",
    "<img src=\"figures/homework-20/exercise-4.2.png\" width=\"600\" />\n",
    "\n",
    "\n",
    "\n",
    "\n",
    "\n",
    "\n",
    "\n",
    "\n",
    "\n",
    "\n",
    "\n",
    "\n",
    "\n",
    "\n",
    "\n",
    "\n",
    "\n",
    "\n"
   ]
  },
  {
   "cell_type": "code",
   "execution_count": 2,
   "metadata": {},
   "outputs": [],
   "source": [
    "c1 = np.array([[-1,  0, -0.5, -1.5, -2,  0, -1  ],\n",
    "               [ 0, -1, -0.5, -1.5,  0, -2, -1.3]])\n",
    "\n",
    "c2 = np.array([[ 1, 1.3, 0.7, 2.5, 0],\n",
    "               [ 1, 0.7, 1.3,   1, 1]])\n",
    "\n",
    "X = np.array([[0, 1, -1,  0.7, -0.2],\n",
    "              [0, 1,  0, -0.2,  1.5]])"
   ]
  },
  {
   "cell_type": "markdown",
   "metadata": {},
   "source": [
    "### Nearest Class Centroid classifier"
   ]
  },
  {
   "cell_type": "markdown",
   "metadata": {},
   "source": [
    "Nearest Class Centroid represents each class $c_k$ with the corresponding mean class vector:\n",
    "\n",
    "<img src=\"figures/lecture-19/ncc-class-representation.png\" width=\"600\" />\n",
    "\n",
    "\n",
    "Given the class mean vectors $\\mu_1, \\mu_2, \\cdots, \\mu_K$, the new sample $\\mathbf{x}_{*}$ is classified to the class $c_k$ corresponding to the\n",
    "smallest distance:\n",
    "\n",
    "<img src=\"figures/lecture-19/ncc-classification-of-new-sample.png\" width=\"600\" />\n",
    "\n",
    "\n",
    "\n"
   ]
  },
  {
   "cell_type": "code",
   "execution_count": 3,
   "metadata": {},
   "outputs": [],
   "source": [
    "m1 = np.mean(c1, axis=1).reshape(-1, 1)\n",
    "m2 = np.mean(c2, axis=1).reshape(-1, 1)"
   ]
  },
  {
   "cell_type": "code",
   "execution_count": 4,
   "metadata": {},
   "outputs": [
    {
     "data": {
      "text/plain": [
       "array([[-0.85714286],\n",
       "       [-0.9       ]])"
      ]
     },
     "execution_count": 4,
     "metadata": {},
     "output_type": "execute_result"
    }
   ],
   "source": [
    "m1"
   ]
  },
  {
   "cell_type": "code",
   "execution_count": 5,
   "metadata": {},
   "outputs": [
    {
     "data": {
      "text/plain": [
       "array([[1.1],\n",
       "       [1. ]])"
      ]
     },
     "execution_count": 5,
     "metadata": {},
     "output_type": "execute_result"
    }
   ],
   "source": [
    "m2"
   ]
  },
  {
   "cell_type": "code",
   "execution_count": 6,
   "metadata": {},
   "outputs": [
    {
     "data": {
      "text/plain": [
       "array([[ 0.        ,  1.        , -1.        ,  0.7       , -0.2       ,\n",
       "        -0.85714286,  1.1       ],\n",
       "       [ 0.        ,  1.        ,  0.        , -0.2       ,  1.5       ,\n",
       "        -0.9       ,  1.        ]])"
      ]
     },
     "execution_count": 6,
     "metadata": {},
     "output_type": "execute_result"
    }
   ],
   "source": [
    "combined_vectors = np.concatenate([X, m1, m2], axis=1)\n",
    "combined_vectors"
   ]
  },
  {
   "cell_type": "code",
   "execution_count": 7,
   "metadata": {},
   "outputs": [
    {
     "data": {
      "text/plain": [
       "array([[1.24285714, 2.65687403, 0.91126734, 1.70724746, 2.48834016],\n",
       "       [1.48660687, 0.1       , 2.32594067, 1.26491106, 1.39283883]])"
      ]
     },
     "execution_count": 7,
     "metadata": {},
     "output_type": "execute_result"
    }
   ],
   "source": [
    "# Compute distances between samples and m_k's\n",
    "dist = pairwise_distances(combined_vectors.T)\n",
    "\n",
    "N = X.shape[1]\n",
    "\n",
    "# Remove the top N rows\n",
    "dist = np.delete(dist, np.s_[0:N], axis=0)\n",
    "\n",
    "# Remove the last two columns\n",
    "dist = np.delete(dist, np.s_[N:N+2], axis=1)\n",
    "\n",
    "dist"
   ]
  },
  {
   "cell_type": "code",
   "execution_count": 8,
   "metadata": {},
   "outputs": [
    {
     "data": {
      "text/plain": [
       "array([1, 2, 1, 2, 2])"
      ]
     },
     "execution_count": 8,
     "metadata": {},
     "output_type": "execute_result"
    }
   ],
   "source": [
    "# Classify based on minimum distance\n",
    "np.argmin(dist, axis=0)+1"
   ]
  },
  {
   "cell_type": "markdown",
   "metadata": {},
   "source": [
    "So the Nearest Centroid Classification is as follows:\n",
    "\\begin{align}\n",
    "c_1 &= \\{ \\mathbf{x}_1, \\mathbf{x}_3 \\} \\\\\n",
    "c_2 &= \\{ \\mathbf{x}_2, \\mathbf{x}_4, \\mathbf{x}_5  \\} \\\\\n",
    "\\end{align}"
   ]
  },
  {
   "cell_type": "markdown",
   "metadata": {},
   "source": [
    "### Nearest Neighbour"
   ]
  },
  {
   "cell_type": "code",
   "execution_count": 9,
   "metadata": {},
   "outputs": [],
   "source": [
    "def compute_min_distances(X, c):\n",
    "    N = X.shape[1]\n",
    "    N_c = c.shape[1]\n",
    "    combined_vectors = np.concatenate([X, c], axis=1)\n",
    "    dist = pairwise_distances(combined_vectors.T)\n",
    "    dist = np.delete(dist, np.s_[0:N], axis=0)\n",
    "    dist = np.delete(dist, np.s_[N:N+N_c], axis=1)\n",
    "    return np.min(dist, axis=0)"
   ]
  },
  {
   "cell_type": "code",
   "execution_count": 10,
   "metadata": {},
   "outputs": [
    {
     "data": {
      "text/plain": [
       "array([[0.70710678, 2.12132034, 0.        , 1.06301458, 1.7       ],\n",
       "       [1.        , 0.        , 1.41421356, 1.08166538, 0.53851648]])"
      ]
     },
     "execution_count": 10,
     "metadata": {},
     "output_type": "execute_result"
    }
   ],
   "source": [
    "dist_c1 = compute_min_distances(X, c1)\n",
    "dist_c2 = compute_min_distances(X, c2)\n",
    "dist = np.concatenate([[dist_c1], [dist_c2]], axis=0)\n",
    "dist"
   ]
  },
  {
   "cell_type": "code",
   "execution_count": 11,
   "metadata": {},
   "outputs": [
    {
     "data": {
      "text/plain": [
       "array([1, 2, 1, 1, 2])"
      ]
     },
     "execution_count": 11,
     "metadata": {},
     "output_type": "execute_result"
    }
   ],
   "source": [
    "# Classify based on minimum distance\n",
    "np.argmin(dist, axis=0)+1"
   ]
  },
  {
   "cell_type": "markdown",
   "metadata": {},
   "source": [
    "Nearest Neighbour Classification is as follows:\n",
    "\\begin{align}\n",
    "c_1 &= \\{ \\mathbf{x}_1, \\mathbf{x}_3, \\mathbf{x}_4  \\} \\\\\n",
    "c_2 &= \\{ \\mathbf{x}_2,  \\mathbf{x}_5  \\} \\\\\n",
    "\\end{align}"
   ]
  },
  {
   "cell_type": "markdown",
   "metadata": {},
   "source": [
    "---\n",
    "## Exercise 4.3\n",
    "\n",
    "<img src=\"figures/homework-20/exercise-4.3.png\" width=\"600\" />\n",
    "\n",
    "\n",
    "\n",
    "\n",
    "\n",
    "\n",
    "\n",
    "\n",
    "\n",
    "Calculate the data projections in the 1-dimensional feature space determined by\n",
    "applying Fisher Discriminant Analysis.\n",
    "\n",
    "\n",
    "\n",
    "\n",
    "\n",
    "\n",
    "\n",
    "\n"
   ]
  },
  {
   "cell_type": "code",
   "execution_count": 12,
   "metadata": {},
   "outputs": [],
   "source": [
    "c1 = np.array([[-1,  0, -0.5, -1.5, -2,  0, -1  ],\n",
    "               [ 0, -1, -0.5, -1.5,  0, -2, -1.3]])\n",
    "c2 = np.array([[ 1, 1.3, 0.7, 2.5, 0],\n",
    "               [ 1, 0.7, 1.3,   1, 1]])"
   ]
  },
  {
   "cell_type": "markdown",
   "metadata": {},
   "source": [
    "The within-class scatter matrix $\\mathbf{S}_w$ can be computed as follows:\n",
    "\n",
    "<img src=\"figures/lecture-19/within-scatter-matrix-formula.png\" width=\"600\" />\n",
    "\n",
    "\n",
    "\n"
   ]
  },
  {
   "cell_type": "code",
   "execution_count": 13,
   "metadata": {},
   "outputs": [],
   "source": [
    "m1 = np.mean(c1, axis=1).reshape(-1, 1)\n",
    "m2 = np.mean(c2, axis=1).reshape(-1, 1)"
   ]
  },
  {
   "cell_type": "code",
   "execution_count": 14,
   "metadata": {},
   "outputs": [
    {
     "data": {
      "text/plain": [
       "array([[ 6.73714286, -1.78      ],\n",
       "       [-1.78      ,  3.7       ]])"
      ]
     },
     "execution_count": 14,
     "metadata": {},
     "output_type": "execute_result"
    }
   ],
   "source": [
    "S1 = np.dot((c1 - m1), (c1 - m1).T)\n",
    "S2 = np.dot((c2 - m2), (c2 - m2).T)\n",
    "Sw = S1 + S2\n",
    "Sw"
   ]
  },
  {
   "cell_type": "markdown",
   "metadata": {},
   "source": [
    "Next, we compute the between-class scatter matrix $\\mathbf{S}_b$ is a $D\\times D$ :\n",
    "\n",
    "<img src=\"figures/lecture-19/eq.4.15-between-class-scatter.png\" width=\"600\" />\n",
    "\n"
   ]
  },
  {
   "cell_type": "code",
   "execution_count": 15,
   "metadata": {},
   "outputs": [
    {
     "data": {
      "text/plain": [
       "array([[3.83040816, 3.71857143],\n",
       "       [3.71857143, 3.61      ]])"
      ]
     },
     "execution_count": 15,
     "metadata": {},
     "output_type": "execute_result"
    }
   ],
   "source": [
    "Sb = np.dot(m1 - m2, (m1 - m2).T)\n",
    "Sb"
   ]
  },
  {
   "cell_type": "markdown",
   "metadata": {},
   "source": [
    "Now, we can perform eigenanalysis on $\\mathbf{S} = \\mathbf{S}_{w}^{-1}\\mathbf{S}_{b}$ and pick the eigenvector corresponding to the maximal eigenvalue:"
   ]
  },
  {
   "cell_type": "markdown",
   "metadata": {},
   "source": [
    "<img src=\"figures/lecture-19/fisher-ratio-solution-2a.png\" width=\"600\" />\n",
    "\n",
    "\n",
    "\n"
   ]
  },
  {
   "cell_type": "code",
   "execution_count": 16,
   "metadata": {},
   "outputs": [
    {
     "data": {
      "text/plain": [
       "array([-0.54638477, -0.83753429])"
      ]
     },
     "execution_count": 16,
     "metadata": {},
     "output_type": "execute_result"
    }
   ],
   "source": [
    "S_inv = np.linalg.inv(Sw)\n",
    "S = np.dot(S_inv, Sb)\n",
    "eigvals, eigvec = np.linalg.eig(S)\n",
    "maximal_eigval_idx = np.argmax(eigvals)\n",
    "w = eigvec[:,maximal_eigval_idx]\n",
    "w"
   ]
  },
  {
   "cell_type": "markdown",
   "metadata": {},
   "source": [
    "Finally, we perform the projection:\n",
    "\n",
    "$$\n",
    "y_i = \\mathbf{w}^T \\mathbf{x}_i\n",
    "$$"
   ]
  },
  {
   "cell_type": "code",
   "execution_count": 17,
   "metadata": {},
   "outputs": [
    {
     "data": {
      "text/plain": [
       "array([ 0.54638477,  0.83753429,  0.69195953,  2.07587859,  1.09276954,\n",
       "        1.67506858,  1.63517934, -1.38391906, -1.2965742 , -1.47126391,\n",
       "       -2.20349621, -0.83753429])"
      ]
     },
     "execution_count": 17,
     "metadata": {},
     "output_type": "execute_result"
    }
   ],
   "source": [
    "np.dot(w.T, np.concatenate([c1, c2], axis=1))"
   ]
  },
  {
   "cell_type": "markdown",
   "metadata": {},
   "source": [
    "---\n",
    "### Alternative computation of w"
   ]
  },
  {
   "cell_type": "markdown",
   "metadata": {},
   "source": [
    "The optimal projection vector $\\mathbf{w}$ can be computed as follows:\n",
    "\n",
    "<img src=\"figures/lecture-19/fisher-ratio-solution-2b.png\" width=\"600\" />\n",
    "\n",
    "\n",
    "\n"
   ]
  },
  {
   "cell_type": "code",
   "execution_count": 18,
   "metadata": {},
   "outputs": [
    {
     "data": {
      "text/plain": [
       "array([-0.48823083, -0.74839213])"
      ]
     },
     "execution_count": 18,
     "metadata": {},
     "output_type": "execute_result"
    }
   ],
   "source": [
    "w_alt = np.dot(np.linalg.inv(Sw), m1-m2)\n",
    "w_alt = w_alt.reshape(-1)\n",
    "w_alt"
   ]
  },
  {
   "cell_type": "markdown",
   "metadata": {},
   "source": [
    "Compute the unit vector:"
   ]
  },
  {
   "cell_type": "code",
   "execution_count": 19,
   "metadata": {},
   "outputs": [
    {
     "data": {
      "text/plain": [
       "array([-0.54638477, -0.83753429])"
      ]
     },
     "execution_count": 19,
     "metadata": {},
     "output_type": "execute_result"
    }
   ],
   "source": [
    "w_alt / np.linalg.norm(w_alt)"
   ]
  },
  {
   "cell_type": "markdown",
   "metadata": {},
   "source": [
    "----\n",
    "### Visualisation"
   ]
  },
  {
   "cell_type": "code",
   "execution_count": 20,
   "metadata": {},
   "outputs": [
    {
     "data": {
      "image/png": "[encoded data removed]",
      "text/plain": [
       "<Figure size 720x504 with 1 Axes>"
      ]
     },
     "metadata": {
      "needs_background": "light"
     },
     "output_type": "display_data"
    }
   ],
   "source": [
    "fig, ax = plt.subplots(figsize=(10, 7))\n",
    "ax.scatter(c1[0], c1[1], color='b', marker='o', label='Class 1')\n",
    "ax.scatter(c2[0], c2[1], color='g', marker='s', label='Class 2')\n",
    "ax.scatter(m1[0], m1[1], color='r', marker='o', label='$\\mu_1$')\n",
    "ax.scatter(m2[0], m2[1], color='r', marker='s', label='$\\mu_2$')\n",
    "\n",
    "w_origin = [2, -1]\n",
    "\n",
    "w_coords = np.arange(-5, 5, 0.1)\n",
    "x1_coords = w_coords * w[0] + w_origin[0]\n",
    "x2_coords = w_coords * w[1] + w_origin[1]\n",
    "ax.plot(x1_coords, x2_coords, color='black', label='Span($\\mathbf{w}$)')\n",
    "\n",
    "c1_projections = np.dot(w.T, c1)\n",
    "c1_x1_coords = c1_projections * w[0] + w_origin[0]\n",
    "c1_x2_coords = c1_projections * w[1] + w_origin[1]\n",
    "ax.scatter(c1_x1_coords, c1_x2_coords, color='b', marker='o')\n",
    "\n",
    "\n",
    "c2_projections = np.dot(w.T, c2)\n",
    "c2_x1_coords = c2_projections * w[0] + w_origin[0]\n",
    "c2_x2_coords = c2_projections * w[1] + w_origin[1]\n",
    "ax.scatter(c2_x1_coords, c2_x2_coords, color='g', marker='s')\n",
    "\n",
    "\n",
    "#ax.arrow(w_origin[0]+0.2, w_origin[1], w[0], w[1], color='purple', head_width=0.1, head_length=0.2)\n",
    "\n",
    "ax.annotate('Line spanned by $\\mathbf{w}$', xy=(2, -1), xytext=(2.4, -3),\n",
    "            arrowprops=dict(facecolor='black', shrink=0.05),\n",
    "            )\n",
    "\n",
    "ax.set_xlim((-3, 4))\n",
    "ax.set_ylim((-4, 2))\n",
    "\n",
    "ax.legend();"
   ]
  },
  {
   "cell_type": "markdown",
   "metadata": {},
   "source": [
    "---\n",
    "## Exercise 4.4\n",
    "\n",
    "<img src=\"figures/homework-20/exercise-4.4a.png\" width=\"600\" />\n",
    "\n",
    "\n",
    "\n",
    "\n",
    "\n",
    "\n",
    "\n",
    "\n",
    "\n",
    "\n",
    "\n",
    "\n",
    "\n",
    "\n",
    "\n",
    "\n",
    "\n",
    "\n"
   ]
  },
  {
   "cell_type": "markdown",
   "metadata": {},
   "source": [
    "<img src=\"figures/homework-20/exercise-4.4b.png\" width=\"600\" />\n",
    "\n",
    "\n",
    "\n",
    "\n",
    "\n",
    "\n",
    "\n",
    "\n",
    "\n",
    "\n",
    "\n",
    "\n",
    "\n",
    "\n",
    "\n",
    "\n",
    "\n",
    "\n"
   ]
  }
 ],
 "metadata": {
  "kernelspec": {
   "display_name": "Python 3",
   "language": "python",
   "name": "python3"
  },
  "language_info": {
   "codemirror_mode": {
    "name": "ipython",
    "version": 3
   },
   "file_extension": ".py",
   "mimetype": "text/x-python",
   "name": "python",
   "nbconvert_exporter": "python",
   "pygments_lexer": "ipython3",
   "version": "3.6.6"
  }
 },
 "nbformat": 4,
 "nbformat_minor": 2
}
