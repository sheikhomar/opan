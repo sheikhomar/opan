{
 "cells": [
  {
   "cell_type": "markdown",
   "metadata": {},
   "source": [
    "# Lecture 16: Unsupervised learning"
   ]
  },
  {
   "cell_type": "code",
   "execution_count": 1,
   "metadata": {},
   "outputs": [
    {
     "data": {
      "text/html": [
       "<style type=\"text/css\">.sidenote {\n",
       "  border: solid 1px green !important;\n",
       "  background: #cdffd8 !important;\n",
       "  padding: 10px !important;\n",
       "  border-radius: 2px !important;\n",
       "}\n",
       "\n",
       ".warning {\n",
       "  border: solid 1px #8a6d3b !important;\n",
       "  background: #fcf8e3 !important;\n",
       "  padding: 10px !important;\n",
       "  border-radius: 2px !important;\n",
       "}\n",
       "\n",
       ".green {\n",
       "  color: #006600 !important;\n",
       "}\n",
       "\n",
       ".red {\n",
       "  color: #cc0000 !important;\n",
       "}</style>Stylesheet \"styles.css\" loaded."
      ],
      "text/plain": [
       "<IPython.core.display.HTML object>"
      ]
     },
     "metadata": {},
     "output_type": "display_data"
    }
   ],
   "source": [
    "import numpy as np\n",
    "import matplotlib.pyplot as plt\n",
    "import sympy as sy\n",
    "import utils as utils\n",
    "from IPython.display import display, HTML\n",
    "\n",
    "# Inline plotting\n",
    "%matplotlib inline\n",
    "\n",
    "# Make sympy print pretty math expressions\n",
    "sy.init_printing()\n",
    "\n",
    "utils.load_custom_styles()"
   ]
  },
  {
   "cell_type": "markdown",
   "metadata": {},
   "source": [
    "---\n",
    "## Notation"
   ]
  },
  {
   "cell_type": "markdown",
   "metadata": {},
   "source": [
    "- $\\bar{\\mathbf{x}}$: centered sample i.e., $\\mathbf{x} - \\mu$\n",
    "- $\\hat{\\mathbf{x}}$: standardised sample\n",
    "- $\\tilde{\\mathbf{x}}$: $l_2$ normalised sample\n",
    "- $\\dot{\\mathbf{x}}$: $l_1$ normalised sample\n",
    "- $\\ddot{\\mathbf{x}}$: rotated sample so as to correspond to the principle axes"
   ]
  },
  {
   "cell_type": "markdown",
   "metadata": {
    "toc-hr-collapsed": true
   },
   "source": [
    "---\n",
    "## Data Preprocessing"
   ]
  },
  {
   "cell_type": "markdown",
   "metadata": {},
   "source": [
    "Data preprocessing is the boring tasks of preparing the data so it can be processed by ML algorithms. This includes:\n",
    "- Formatting: convert the data into a readable format like CSV.\n",
    "- Cleaning: remove or fix missing data to avoid errors in computations. Sometimes, we need to remove data points that are irrelavant for the task at hand\n",
    "- Samping: reduce the data set by random sampling i.e., selecting representative samples\n",
    "  - is used to reduce computational and memory requirements\n",
    "  - allows for faster prototyping before using the whole data set\n",
    "  - somtimes we need to downsample or upsample the data points to evenly distribute samples from all classes when data is unbalanced. \n",
    "- Scaling: ensure that the relative scale and range of all dimensions of the samples are the same e.g. in the range $[0, 1]$"
   ]
  },
  {
   "cell_type": "markdown",
   "metadata": {},
   "source": [
    "**Why is data preprocessing required?** E.g. in clustering, the results of clustering depends on various factors like the relative scale of the various dimensions of the data. Many ML algorithms assume that the scale of each dimension is between 0 and 1. "
   ]
  },
  {
   "cell_type": "markdown",
   "metadata": {},
   "source": [
    "---\n",
    "### Data Centering"
   ]
  },
  {
   "cell_type": "markdown",
   "metadata": {},
   "source": [
    "<img src=\"figures/lecture-16/data-centering.png\" width=\"600\" />\n",
    "\n",
    "\n",
    "\n",
    "\n",
    "\n",
    "\n",
    "\n",
    "\n",
    "\n",
    "\n"
   ]
  },
  {
   "cell_type": "markdown",
   "metadata": {},
   "source": [
    "Data centering makes the various dimensions contribute equally to the optimization of the criterion used in subsequent steps (in the case of equal dimension scales). When scaling of the various dimensions is not equal, an additional scaling process can be applied."
   ]
  },
  {
   "cell_type": "markdown",
   "metadata": {},
   "source": [
    "---\n",
    "### Data Standardisation"
   ]
  },
  {
   "cell_type": "markdown",
   "metadata": {},
   "source": [
    "<img src=\"figures/lecture-16/data-standardisation.png\" width=\"600\" />\n",
    "\n",
    "\n",
    "\n",
    "\n",
    "\n",
    "\n",
    "\n",
    "\n",
    "\n",
    "\n",
    "\n"
   ]
  },
  {
   "cell_type": "markdown",
   "metadata": {},
   "source": [
    "---\n",
    "### Data Normalisation"
   ]
  },
  {
   "cell_type": "markdown",
   "metadata": {},
   "source": [
    "<img src=\"figures/lecture-16/data-normalisation.png\" width=\"600\" />\n",
    "\n",
    "\n",
    "\n",
    "\n",
    "\n",
    "\n",
    "\n",
    "\n",
    "\n",
    "\n",
    "\n",
    "\n",
    "\n",
    "\n"
   ]
  },
  {
   "cell_type": "markdown",
   "metadata": {},
   "source": [
    "<img src=\"figures/lecture-16/figure-2.1.png\" width=\"600\" />\n",
    "\n",
    "\n",
    "\n",
    "\n",
    "\n",
    "\n",
    "\n",
    "\n",
    "\n",
    "\n",
    "\n",
    "\n",
    "\n",
    "\n",
    "\n",
    "\n",
    "\n",
    "\n",
    "\n",
    "\n"
   ]
  },
  {
   "cell_type": "markdown",
   "metadata": {},
   "source": [
    "---\n",
    "### Rotation"
   ]
  },
  {
   "cell_type": "markdown",
   "metadata": {},
   "source": [
    "<img src=\"figures/lecture-16/rotation.png\" width=\"600\" />\n",
    "\n",
    "\n",
    "\n",
    "\n",
    "\n",
    "\n",
    "\n"
   ]
  },
  {
   "cell_type": "markdown",
   "metadata": {
    "toc-hr-collapsed": true
   },
   "source": [
    "---\n",
    "## Distance Metrics"
   ]
  },
  {
   "cell_type": "markdown",
   "metadata": {},
   "source": [
    "---\n",
    "### Euclidean"
   ]
  },
  {
   "cell_type": "markdown",
   "metadata": {},
   "source": [
    "<img src=\"figures/lecture-16/euclidean-distance.png\" width=\"600\" />\n",
    "\n",
    "\n",
    "\n",
    "\n",
    "\n",
    "\n"
   ]
  },
  {
   "cell_type": "markdown",
   "metadata": {},
   "source": [
    "**Squared Euclidean**: The standard Euclidean distance can be squared in order to place progressively greater weight on objects that are farther apart."
   ]
  },
  {
   "cell_type": "markdown",
   "metadata": {},
   "source": [
    "\\begin{align}\n",
    "d_{SE}(\\mathbf{x}_i, \\mathbf{x}_j) \n",
    "&= \\lVert \\mathbf{x}_i - \\mathbf{x}_j \\rVert_2^2 \\\\\n",
    "&= (\\mathbf{x}_i - \\mathbf{x}_j)^T (\\mathbf{x}_i - \\mathbf{x}_j)\n",
    "\\end{align}"
   ]
  },
  {
   "cell_type": "markdown",
   "metadata": {},
   "source": [
    "<div class=\"warning\">\n",
    "Squared Euclidean distance is not a metric, as it does not satisfy the triangle inequality; however, it is frequently used in optimization problems in which distances only have to be compared.\n",
    "</div>"
   ]
  },
  {
   "cell_type": "markdown",
   "metadata": {},
   "source": [
    "---\n",
    "### Manhattan"
   ]
  },
  {
   "cell_type": "markdown",
   "metadata": {},
   "source": [
    "<img src=\"figures/lecture-16/manhattan-distance.png\" width=\"600\" />\n",
    "\n",
    "\n",
    "\n",
    "\n",
    "\n",
    "\n"
   ]
  },
  {
   "cell_type": "markdown",
   "metadata": {},
   "source": [
    "---\n",
    "### Minkowski"
   ]
  },
  {
   "cell_type": "markdown",
   "metadata": {},
   "source": [
    "<img src=\"figures/lecture-16/minkowski-distance.png\" width=\"600\" />\n",
    "\n",
    "\n",
    "\n",
    "\n",
    "\n",
    "\n"
   ]
  },
  {
   "cell_type": "code",
   "execution_count": null,
   "metadata": {},
   "outputs": [],
   "source": []
  },
  {
   "cell_type": "code",
   "execution_count": null,
   "metadata": {},
   "outputs": [],
   "source": []
  },
  {
   "cell_type": "markdown",
   "metadata": {
    "toc-hr-collapsed": true
   },
   "source": [
    "---\n",
    "## Similarity Measures"
   ]
  },
  {
   "cell_type": "markdown",
   "metadata": {},
   "source": [
    "A similarity measure or a similarity function is a function $s: \\mathbb{R}^D \\times \\mathbb{R}^D \\to \\mathbb{R}$ that quantifies how similar two samples $\\mathbf{x}_i \\in \\mathbb{R}^D$ and $\\mathbf{x}_j \\in \\mathbb{R}^D$ are."
   ]
  },
  {
   "cell_type": "markdown",
   "metadata": {},
   "source": [
    "### Why are similarity measures important?\n",
    "- It is natural to assume that two similar samples share the same properties, e.g. they belong to the same class, the same cluster, etc\n",
    "- They can be used in order to define optimization criteria for defining the parameters of a model\n",
    "\n"
   ]
  },
  {
   "cell_type": "markdown",
   "metadata": {},
   "source": [
    "### Why should be careful to use similarity measures?\n",
    "- \n"
   ]
  },
  {
   "cell_type": "markdown",
   "metadata": {},
   "source": [
    "### Distance-based Similarity Functions"
   ]
  },
  {
   "cell_type": "markdown",
   "metadata": {},
   "source": [
    "Some similarity functions are defined based on a distance metric. The following similarity function is called the **heat kernel** or the RBF kernel:"
   ]
  },
  {
   "cell_type": "markdown",
   "metadata": {},
   "source": [
    "<img src=\"figures/lecture-16/distance-based-similarity-1.png\" width=\"600\" />\n"
   ]
  },
  {
   "cell_type": "markdown",
   "metadata": {},
   "source": [
    "where $d(\\cdot, \\cdot)$ can be replaced with any of the above distance functions and $\\sigma$ is a scaling parameter."
   ]
  },
  {
   "cell_type": "markdown",
   "metadata": {},
   "source": [
    "Here are three plots with different $\\sigma$ values:"
   ]
  },
  {
   "cell_type": "code",
   "execution_count": 2,
   "metadata": {},
   "outputs": [
    {
     "data": {
      "text/plain": [
       "<matplotlib.legend.Legend at 0x7ff1fee3c550>"
      ]
     },
     "execution_count": 2,
     "metadata": {},
     "output_type": "execute_result"
    },
    {
     "data": {
      "image/png": "[encoded data removed]",
      "text/plain": [
       "<Figure size 864x432 with 1 Axes>"
      ]
     },
     "metadata": {
      "needs_background": "light"
     },
     "output_type": "display_data"
    }
   ],
   "source": [
    "x = np.arange(0, 30, 0.1)\n",
    "fig, ax = plt.subplots(figsize=(12, 6))\n",
    "ax.plot(x, np.exp(-x/8), label='$e^{x/8}$')\n",
    "ax.plot(x, np.exp(-x/4), label='$e^{x/4}$')\n",
    "ax.plot(x, np.exp(-x/2), label='$e^{x/2}$')\n",
    "ax.set_xlim(x.min(), x.max())\n",
    "ax.set_ylim(0, 1)\n",
    "ax.legend()"
   ]
  },
  {
   "cell_type": "markdown",
   "metadata": {},
   "source": [
    "Why is this happening? The exponential function $e^{x}$ for negative values yields values between 0 and 1. "
   ]
  },
  {
   "cell_type": "code",
   "execution_count": 3,
   "metadata": {},
   "outputs": [
    {
     "data": {
      "image/png": "[encoded data removed]",
      "text/plain": [
       "<Figure size 864x432 with 1 Axes>"
      ]
     },
     "metadata": {
      "needs_background": "light"
     },
     "output_type": "display_data"
    }
   ],
   "source": [
    "x = np.arange(-5, 3, 0.1)\n",
    "y = np.exp(x)\n",
    "fig, ax = utils.prepare_plot(x, y,\n",
    "                             figsize=(12, 6),\n",
    "                             xlimit=(x.min(), x.max()),\n",
    "                             ylimit=(0, 4))\n",
    "ax.plot(x, np.exp(x), label='$e^{x}$')\n",
    "ax.legend();"
   ]
  },
  {
   "cell_type": "markdown",
   "metadata": {},
   "source": [
    "<div class=\"sidenote\">\n",
    "The above similarity function looks like the Radial Basis Function (RBF). The key idea behind RBF is that nearby samples have greater similarity than samples that are father away. Imagine that one sample $\\mathbf{x}_i$ is at the top of a mountain peak. The closer another sample $\\mathbf{x}_j$ is to the top the more influence it gets. This is illustrated by the figure below:\n",
    "    <br/>\n",
    "\n",
    "<img src=\"figures/lecture-16/mountain-peak.png\" width=\"300\" />\n",
    "\n",
    "</div>"
   ]
  },
  {
   "cell_type": "markdown",
   "metadata": {},
   "source": [
    "### Special Similarity Functions"
   ]
  },
  {
   "cell_type": "markdown",
   "metadata": {},
   "source": [
    "Another distance-based similarity function is:"
   ]
  },
  {
   "cell_type": "markdown",
   "metadata": {},
   "source": [
    "<img src=\"figures/lecture-16/distance-based-similarity-2.png\" width=\"600\" />\n"
   ]
  },
  {
   "cell_type": "markdown",
   "metadata": {},
   "source": [
    "The similarity function is inversely propotional to the distance between the samples $\\mathbf{x}_i$ and $\\mathbf{x}_j$ i.e., when the distance between the two samples is low then the similarity function yields a high value and vice versa."
   ]
  },
  {
   "cell_type": "code",
   "execution_count": 4,
   "metadata": {},
   "outputs": [
    {
     "data": {
      "text/plain": [
       "<matplotlib.legend.Legend at 0x7ff1fea0c748>"
      ]
     },
     "execution_count": 4,
     "metadata": {},
     "output_type": "execute_result"
    },
    {
     "data": {
      "image/png": "[encoded data removed]",
      "text/plain": [
       "<Figure size 864x432 with 1 Axes>"
      ]
     },
     "metadata": {
      "needs_background": "light"
     },
     "output_type": "display_data"
    }
   ],
   "source": [
    "import matplotlib.ticker as ticker\n",
    "\n",
    "x = np.arange(0.1, 10, 0.01)\n",
    "fig, ax = plt.subplots(figsize=(12, 6))\n",
    "ax.plot(x, 4/x, label='$\\sigma=4$')\n",
    "ax.plot(x, 2/x, label='$\\sigma=2$')\n",
    "ax.plot(x, 1/x, label='$\\sigma=1$')\n",
    "ax.set_xlim(x.min(), x.max())\n",
    "ax.set_ylim(0, 10)\n",
    "ax.yaxis.set_major_locator(ticker.MultipleLocator(1))\n",
    "ax.xaxis.set_major_locator(ticker.MultipleLocator(1))\n",
    "ax.grid(color='#eeeeee', linestyle='-', linewidth=2)\n",
    "ax.legend()"
   ]
  },
  {
   "cell_type": "markdown",
   "metadata": {},
   "source": [
    "We can also have similarity functions that are not based on a distance function. The similarity function below defines the similarity between the two vectors based on the angle they form in the $D$-dimensional Euclidean space:"
   ]
  },
  {
   "cell_type": "markdown",
   "metadata": {},
   "source": [
    "<img src=\"figures/lecture-16/angle-based-similarity.png\" width=\"600\" />\n",
    "\n"
   ]
  },
  {
   "cell_type": "markdown",
   "metadata": {},
   "source": [
    "---\n",
    "## Principle Component Analysis"
   ]
  },
  {
   "cell_type": "markdown",
   "metadata": {},
   "source": [
    "PCA is a linear transformation method that allows us to project a $D$-dimensional dataset into a $K$-dimensional subspace such that the variance (spread) in each dimension in our dataset is maximised. \n",
    "\n",
    "The transformation or projection happens as follows:\n",
    "$$\n",
    "\\mathbf{y}_i = W^T \\mathbf{x}_i\n",
    "$$\n",
    "where\n",
    "- $\\mathbf{x}_i \\in \\mathbb{R}^D$ is the $i$th sample in our dataset $X \\in \\mathbb{R}^{D \\times N}$\n",
    "- $W$ is a $D \\times d$ projection matrix where $d \\leq D$. When $d=D$, PCA does not perform any dimensionality reduction but just rotates each of the data points' dimensions to the principal axes i.e., the direction corresponding to the maximal spread of the data. Reducing the number of dimensions is simply a matter of removing columns from $W$.\n",
    "- $\\mathbf{y}_i \\in \\mathbb{R}^d$ is the transformed data point\n"
   ]
  },
  {
   "cell_type": "markdown",
   "metadata": {},
   "source": [
    "We can also express the transformation with all our dataset as follows:\n",
    "\n",
    "$$\n",
    "Y=W^T X\n",
    "$$\n"
   ]
  },
  {
   "cell_type": "markdown",
   "metadata": {},
   "source": [
    "The trick is to find a projection matrix $W$ that maximises the variance in each direction. "
   ]
  },
  {
   "cell_type": "markdown",
   "metadata": {},
   "source": [
    "---\n",
    "### Scatter Matrix"
   ]
  },
  {
   "cell_type": "markdown",
   "metadata": {},
   "source": [
    "Before we can find $W$, we need a way to express the variance formally since we want to find $W$ with maximum variance. The variance of the transformed data can be expressed as:\n",
    "\n",
    "<img src=\"figures/lecture-16/scatter-matrix-expression.png\" width=\"500\" />\n"
   ]
  },
  {
   "cell_type": "markdown",
   "metadata": {},
   "source": [
    "Let us make this more concrete:"
   ]
  },
  {
   "cell_type": "code",
   "execution_count": 5,
   "metadata": {},
   "outputs": [],
   "source": [
    "N = 5\n",
    "D = 2\n",
    "center_of_points = np.array([0.5, 0.5])\n",
    "cov = np.eye(D)\n",
    "np.random.seed(42)\n",
    "X = np.random.multivariate_normal(center_of_points, cov, size=N).T"
   ]
  },
  {
   "cell_type": "code",
   "execution_count": 6,
   "metadata": {},
   "outputs": [
    {
     "data": {
      "image/png": "[encoded data removed]",
      "text/plain": [
       "<Figure size 720x432 with 1 Axes>"
      ]
     },
     "metadata": {
      "needs_background": "light"
     },
     "output_type": "display_data"
    }
   ],
   "source": [
    "x_coords = X[0]\n",
    "y_coords = X[1]\n",
    "fig, ax = utils.prepare_plot(x_coords, y_coords, xlimit=(-1, 3), ylimit=(-1, 2.5))\n",
    "\n",
    "# Plot the mean\n",
    "mean = np.mean(X, axis=1)\n",
    "ax.scatter(mean[0], mean[1], color='g', marker='x', label=\"$\\mu$\")\n",
    "\n",
    "# Plot data points\n",
    "ax.scatter(x_coords, y_coords, label='$x_i$')\n",
    "\n",
    "# Plot centered data points\n",
    "mean_vector = np.mean(X, axis=1).reshape(D, 1)\n",
    "X_centered = X - mean_vector\n",
    "x_coords = X_centered[0]\n",
    "y_coords = X_centered[1]\n",
    "ax.scatter(x_coords, y_coords, marker='s', label='Centered $x_i$')\n",
    "\n",
    "ax.legend();"
   ]
  },
  {
   "cell_type": "markdown",
   "metadata": {},
   "source": [
    "Notice how orange boxes represents the blue dots minus the mean point. Let us compute the scatter matrix defined on the dataset i.e., $\\tilde{S}_T = \\bar{X}\\bar{X}^T$:"
   ]
  },
  {
   "cell_type": "code",
   "execution_count": 7,
   "metadata": {},
   "outputs": [
    {
     "data": {
      "text/plain": [
       "array([[2.61930241, 0.93573401],\n",
       "       [0.93573401, 2.06595106]])"
      ]
     },
     "execution_count": 7,
     "metadata": {},
     "output_type": "execute_result"
    }
   ],
   "source": [
    "scatter_matrix = np.dot((X - mean_vector), (X - mean_vector).T)\n",
    "scatter_matrix"
   ]
  },
  {
   "cell_type": "markdown",
   "metadata": {},
   "source": [
    "<div class=\"sidenote\">\n",
    "<b>Scatter Matrix vs. Covariance Matrix</b>: The equation for the scatter matrix is similar to the equation of the covariance matrix:\n",
    "\n",
    "$$\n",
    "\\frac{1}{N-1} \\sum_{i=1}^{N} (\\mathbf{x}_i - \\mu)(\\mathbf{x}_i - \\mu)^T\n",
    "$$\n",
    "\n",
    "The only difference is that the covariance matrix is scaled by factor $1/(N-1)$. Performing eigen analysis on the matrices, will yield the same eigenspace i.e., the same eigenvectors are returned -- only the eigenvalues are scaled differently by a constant factor.\n",
    "</div>"
   ]
  },
  {
   "cell_type": "markdown",
   "metadata": {},
   "source": [
    "We can compute the covariance matrix using the scatter matrix:"
   ]
  },
  {
   "cell_type": "code",
   "execution_count": 8,
   "metadata": {},
   "outputs": [
    {
     "data": {
      "text/plain": [
       "array([[0.6548256 , 0.2339335 ],\n",
       "       [0.2339335 , 0.51648777]])"
      ]
     },
     "execution_count": 8,
     "metadata": {},
     "output_type": "execute_result"
    }
   ],
   "source": [
    "covaraince_matrix = 1/(N-1) * scatter_matrix\n",
    "covaraince_matrix"
   ]
  },
  {
   "cell_type": "markdown",
   "metadata": {},
   "source": [
    "Numpy has a built-in function to compute the covariance matrix:"
   ]
  },
  {
   "cell_type": "code",
   "execution_count": 9,
   "metadata": {},
   "outputs": [
    {
     "data": {
      "text/plain": [
       "array([[0.6548256 , 0.2339335 ],\n",
       "       [0.2339335 , 0.51648777]])"
      ]
     },
     "execution_count": 9,
     "metadata": {},
     "output_type": "execute_result"
    }
   ],
   "source": [
    "np.cov(X)"
   ]
  },
  {
   "cell_type": "markdown",
   "metadata": {},
   "source": [
    "---\n",
    "### Optimisation"
   ]
  },
  {
   "cell_type": "markdown",
   "metadata": {},
   "source": [
    "Using the scatter matrix, we have now come up with a way to express variance of our dataset. Next, we need to formulate an objective function to find a projection matrix $W$ that maximises the scatter matrix $\\tilde{S}_T$."
   ]
  },
  {
   "cell_type": "markdown",
   "metadata": {},
   "source": [
    "<img src=\"figures/lecture-16/pca-objective-function.png\" width=\"600\" />\n",
    "\n",
    "\n"
   ]
  },
  {
   "cell_type": "markdown",
   "metadata": {},
   "source": [
    "where\n",
    "- $W^{*}$ is the optimal solution for $W$\n",
    "- $I \\in \\mathbb{R}^{D \\times D}$ is the identity matrix\n",
    "- $Tr(A)$ is the trace operator. It sums the diagonal elements of the matrix $A$"
   ]
  },
  {
   "cell_type": "markdown",
   "metadata": {},
   "source": [
    "The solution of 2.16 is obtained by applying eigen-analysis to the scatter matrix $\\tilde{S}_T$. $W^{*}$ is formed by the eigen-vectors of $\\tilde{S}_T$ sorted in descending order of the corresponding eigen-values i.e., the column of $W^{*}$ are the eigen-vectors of $\\tilde{S}_T$."
   ]
  },
  {
   "cell_type": "markdown",
   "metadata": {},
   "source": [
    "---\n",
    "#### Why use the trace operator? \n",
    "\n",
    "Because we want $W^{*}$ to define an orthogonal transformation."
   ]
  },
  {
   "cell_type": "markdown",
   "metadata": {},
   "source": [
    "--- \n",
    "#### Why use the constraint W^T W=I?"
   ]
  },
  {
   "cell_type": "code",
   "execution_count": null,
   "metadata": {},
   "outputs": [],
   "source": []
  },
  {
   "cell_type": "markdown",
   "metadata": {},
   "source": [
    "---\n",
    "#### Alternative Objective"
   ]
  },
  {
   "cell_type": "markdown",
   "metadata": {},
   "source": [
    "<img src=\"figures/lecture-16/alternative-pca-objective-formulation.png\" width=\"600\" />\n",
    "\n",
    "\n"
   ]
  },
  {
   "cell_type": "markdown",
   "metadata": {},
   "source": [
    "---\n",
    "## Clustering"
   ]
  },
  {
   "cell_type": "code",
   "execution_count": null,
   "metadata": {},
   "outputs": [],
   "source": []
  }
 ],
 "metadata": {
  "kernelspec": {
   "display_name": "Python 3",
   "language": "python",
   "name": "python3"
  },
  "language_info": {
   "codemirror_mode": {
    "name": "ipython",
    "version": 3
   },
   "file_extension": ".py",
   "mimetype": "text/x-python",
   "name": "python",
   "nbconvert_exporter": "python",
   "pygments_lexer": "ipython3",
   "version": "3.6.6"
  }
 },
 "nbformat": 4,
 "nbformat_minor": 2
}
