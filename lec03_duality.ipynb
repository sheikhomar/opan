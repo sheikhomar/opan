{
 "cells": [
  {
   "cell_type": "markdown",
   "metadata": {},
   "source": [
    "# Duality"
   ]
  },
  {
   "cell_type": "markdown",
   "metadata": {},
   "source": [
    "Each canonical linear programming problem is associated with a minimisation problem called the **dual** problem. Recall the canonical problem:\n",
    "\n",
    "<img src=\"figures/lecture-02/lec02-canonical-linear-prog.png\" width=\"500\" />\n"
   ]
  },
  {
   "cell_type": "markdown",
   "metadata": {},
   "source": [
    "The primal problem and the dual problem are given as follows:\n",
    "\n",
    "<img src=\"figures/lec03-primal-and-dual-problem.png\" width=\"400\" />\n"
   ]
  },
  {
   "cell_type": "markdown",
   "metadata": {},
   "source": [
    "## Converting between Primal and Dual"
   ]
  },
  {
   "cell_type": "markdown",
   "metadata": {},
   "source": [
    "We can convert a primal problem into its dual by creating a table and performing a transpose operation.\n",
    "\n",
    "<img src=\"figures/lec03-ex2-primal-problem.png\" width=\"300\" />\n",
    "\n",
    "First, we put values in a table and perform transpose.\n",
    "\n",
    "\\begin{equation*}\n",
    "\\begin{bmatrix}\n",
    "\\begin{array}{ccccc|c}\n",
    "x_1 & x_2 & b \\\\ \\hline \n",
    "1 & 0 & 30 \\\\ \n",
    "0 & 1 & 20 \\\\ \n",
    "1 & 2 & 54 \\\\ \\hline \n",
    "2 & 3 & 1 \\\\ \n",
    "\\end{array}\n",
    "\\end{bmatrix}\n",
    "\\Longrightarrow^{Transpose}\n",
    "\\begin{bmatrix}\n",
    "\\begin{array}{ccccc|c}\n",
    "y_1 & y_2 & y_3 & c \\\\ \\hline \n",
    "1 & 0 & 1 & 2 \\\\ \n",
    "0 & 1 & 2 & 3 \\\\ \\hline \n",
    "30 & 20 & 54 & 1 \\\\ \n",
    "\\end{array}\n",
    "\\end{bmatrix}\n",
    "\\end{equation*}\n",
    "\n",
    "From the resulting, we can read off the values for the dual problem.\n",
    "\n",
    "<img src=\"figures/lec03-ex2-dual-problem.png\" width=\"400\" />\n"
   ]
  },
  {
   "cell_type": "markdown",
   "metadata": {},
   "source": [
    "## Duality Theorem"
   ]
  },
  {
   "cell_type": "markdown",
   "metadata": {},
   "source": [
    "The duality theorem states that the solution of one problem can be used as the solution its dual problem."
   ]
  },
  {
   "cell_type": "markdown",
   "metadata": {},
   "source": [
    "\n",
    "<img src=\"figures/lec03-duality-theorem.png\" width=\"600\" />\n"
   ]
  },
  {
   "cell_type": "markdown",
   "metadata": {},
   "source": [
    "First, let us find the solution to primal problem:"
   ]
  },
  {
   "cell_type": "code",
   "execution_count": 1,
   "metadata": {},
   "outputs": [
    {
     "data": {
      "text/html": [
       "Optimal solution: "
      ],
      "text/plain": [
       "<IPython.core.display.HTML object>"
      ]
     },
     "metadata": {},
     "output_type": "display_data"
    },
    {
     "data": {
      "text/latex": [
       "$$x_1 = 30, x_2 = 12, s_1 = 0, s_2 = 8, s_3 = 0, M=96$$"
      ],
      "text/plain": [
       "<IPython.core.display.Math object>"
      ]
     },
     "metadata": {},
     "output_type": "display_data"
    }
   ],
   "source": [
    "import linprog as lp\n",
    "\n",
    "A = [[1, 0],\n",
    "     [0, 1],\n",
    "     [1, 2]]\n",
    "b = [30, 20, 54]\n",
    "c = [2, 3]\n",
    "\n",
    "res = lp.maximise(A, b, c)\n",
    "lp.pretty_print(res)"
   ]
  },
  {
   "cell_type": "markdown",
   "metadata": {},
   "source": [
    "We see that the optimal solution is $\\bar{x} = (30, 12)$ and the maximal value $f(\\bar{x}) = 96$"
   ]
  },
  {
   "cell_type": "markdown",
   "metadata": {},
   "source": [
    "Next, we find the solution to the dual problem:"
   ]
  },
  {
   "cell_type": "code",
   "execution_count": 2,
   "metadata": {},
   "outputs": [
    {
     "data": {
      "text/html": [
       "Optimal solution: "
      ],
      "text/plain": [
       "<IPython.core.display.HTML object>"
      ]
     },
     "metadata": {},
     "output_type": "display_data"
    },
    {
     "data": {
      "text/latex": [
       "$$x_1 = 1/2, x_2 = 0, x_3 = 3/2, s_1 = 0, s_2 = 0, M=96$$"
      ],
      "text/plain": [
       "<IPython.core.display.Math object>"
      ]
     },
     "metadata": {},
     "output_type": "display_data"
    }
   ],
   "source": [
    "import linprog as lp\n",
    "\n",
    "A = [[1, 0, 1],\n",
    "     [0, 1, 2]]\n",
    "b = [2, 3]\n",
    "c = [30, 20, 54]\n",
    "\n",
    "res = lp.minimise(A, b, c)\n",
    "lp.pretty_print(res)"
   ]
  },
  {
   "cell_type": "markdown",
   "metadata": {},
   "source": [
    "The optimal $\\bar{y} = (1/2, 0, 3/2)$ and $g(\\bar{y}) = 96$. This means that $f(\\bar{x}) = g(\\bar{y}) = 96$."
   ]
  },
  {
   "cell_type": "markdown",
   "metadata": {},
   "source": [
    "## Duality and the Simplex Method"
   ]
  },
  {
   "cell_type": "markdown",
   "metadata": {},
   "source": [
    "There is another important relationship between duality and the simplex method, which is expressed in the Duality Theorem:"
   ]
  },
  {
   "cell_type": "markdown",
   "metadata": {},
   "source": [
    "\n",
    "<img src=\"figures/lec03-duality-theorem-c.png\" width=\"600\" />\n"
   ]
  },
  {
   "cell_type": "markdown",
   "metadata": {},
   "source": [
    "Let us use the simplex method on our running example."
   ]
  },
  {
   "cell_type": "code",
   "execution_count": 3,
   "metadata": {},
   "outputs": [],
   "source": [
    "from simplex import SimplexSolver \n",
    "\n",
    "A = [[1, 0],\n",
    "     [0, 1],\n",
    "     [1, 2]]\n",
    "b = [30, 20, 54]\n",
    "c = [2, 3]\n",
    "\n",
    "res = SimplexSolver().run_simplex(A, b, c, prob='max', enable_msg=False, latex_path='latex/lec03-ex2-max.tex')"
   ]
  },
  {
   "cell_type": "markdown",
   "metadata": {},
   "source": [
    "\\begin{equation*}\n",
    "\\begin{bmatrix}\n",
    "\\begin{array}{ccccc|c}\n",
    "x_1 & x_2 & s_1 & s_2 & s_3 & b \\\\ \\hline \n",
    "0 & 0 & 1/2 & 1 & -1/2 & 8 \\\\ \n",
    "0 & 1 & -1/2 & 0 & 1/2 & 12 \\\\ \n",
    "1 & 0 & 1 & 0 & 0 & 30 \\\\ \\hline \n",
    "0 & 0 & 1/2 & 0 & 3/2 & 96 \\\\ \n",
    "\\end{array}\n",
    "\\end{bmatrix}\n",
    "\\begin{array}{c}\\\\ \n",
    "s_2 \\\\ \n",
    "x_2 \\\\ \n",
    "x_1 \\\\ \n",
    "\\\\ \n",
    "\\end{array}\\end{equation*}"
   ]
  },
  {
   "cell_type": "markdown",
   "metadata": {},
   "source": [
    "When the entries in the bottom row are non-negative then we can read off optimal solution of the dual problem:"
   ]
  },
  {
   "cell_type": "markdown",
   "metadata": {},
   "source": [
    "\n",
    "<img src=\"figures/lec03-ex2-duality-simplex.png\" width=\"400\" />\n"
   ]
  },
  {
   "cell_type": "markdown",
   "metadata": {},
   "source": [
    "## Economic Interpretation of the Dual Variables"
   ]
  },
  {
   "cell_type": "markdown",
   "metadata": {},
   "source": [
    "The Dual Theorem tells us that $f(\\bar{x})=g(\\bar{y})$. By converting the primal problem to the dual problem, we found that $g(\\bar{y}) = 30 y_1 + 20 y_2 + 54 y_3$ in our running example. The entries of $\\bar{y}$ are called the **marginal values** of some resource unit $i$. Basically, $y_i$ is the amount of extra profit, we can expect to make for each additional unit of resource $i$ available. We can think $y_i$ as what is the fair price for one unit of resource $i$. If a marginal value is zero then there will be no increase in profit from increasing the number of resource $i$."
   ]
  },
  {
   "cell_type": "markdown",
   "metadata": {},
   "source": [
    "## Network Flow"
   ]
  },
  {
   "cell_type": "markdown",
   "metadata": {},
   "source": [
    "A network flow problem can be reduced to a linear programming problem."
   ]
  },
  {
   "cell_type": "code",
   "execution_count": null,
   "metadata": {},
   "outputs": [],
   "source": []
  },
  {
   "cell_type": "code",
   "execution_count": null,
   "metadata": {},
   "outputs": [],
   "source": []
  },
  {
   "cell_type": "markdown",
   "metadata": {},
   "source": [
    "## Linear Programming and Matrix Games"
   ]
  },
  {
   "cell_type": "markdown",
   "metadata": {},
   "source": [
    "A matrix game problem can be reduced to a linear programming problem and vice versa."
   ]
  },
  {
   "cell_type": "code",
   "execution_count": 4,
   "metadata": {},
   "outputs": [],
   "source": [
    "import numpy as np\n",
    "from simplex import SimplexSolver \n",
    "\n",
    "def arr_to_str(array):\n",
    "    return '[{}]'.format(', '.join(str(x) for x in array))\n",
    "\n",
    "def solve_matrix_game(A):\n",
    "    A = np.array(A)\n",
    "    \n",
    "    # Ensure that all entries are greater than 0.\n",
    "    # If some of the entries are equal to or less than zero,\n",
    "    # then add a fixed value k to each entry. This will not change\n",
    "    # the optimal strategy for the two players. It will only add\n",
    "    # an amount k to the value of the game.\n",
    "    min_entry = A.min()\n",
    "    k = 0\n",
    "    if min_entry <= 0:\n",
    "        k = min_entry * -1 + 1\n",
    "    A += k\n",
    "    \n",
    "    # b and c are always ones\n",
    "    b = np.ones(A.shape[0], dtype=np.int)\n",
    "    c = np.ones(A.shape[1], dtype=np.int)\n",
    "    \n",
    "    # Solve using the simplex method\n",
    "    solver = SimplexSolver()\n",
    "    res = solver.run_simplex(A, b, c, prob='max', enable_msg=False, latex_path=None)\n",
    "    \n",
    "    # Compute player C's strategy, y_hat\n",
    "    y_bar = np.array([res[k] for k in res.keys() if k.startswith('x_')])\n",
    "    _lambda = np.array(y_bar).sum()\n",
    "    y_hat = y_bar / _lambda\n",
    "    \n",
    "    # Compute player R's strategy, x_hat\n",
    "    margin_values = solver.get_marginal_values()\n",
    "    x_bar = np.array(margin_values)\n",
    "    # x_delta = x_bar.sum()\n",
    "    x_hat = x_bar / _lambda\n",
    "\n",
    "    # Compute the value of the game\n",
    "    # Substract the amount k added to the payoff matrix\n",
    "    v = 1/_lambda - k\n",
    "\n",
    "    print(\"Row player's strategy: {}\".format(arr_to_str(x_hat)))\n",
    "    print(\"Column player's strategy: {}\".format(arr_to_str(y_hat)))\n",
    "    print('Value of the game: {}'.format(v))\n",
    "    #return x_hat, y_hat, v\n"
   ]
  },
  {
   "cell_type": "code",
   "execution_count": 5,
   "metadata": {},
   "outputs": [
    {
     "name": "stdout",
     "output_type": "stream",
     "text": [
      "Row player's strategy: [3/7, 4/7]\n",
      "Column player's strategy: [2/7, 0, 5/7]\n",
      "Value of the game: 6/7\n"
     ]
    }
   ],
   "source": [
    "A = [[-2, 1, 2],\n",
    "     [ 3, 2, 0]]\n",
    "\n",
    "solve_matrix_game(A)"
   ]
  },
  {
   "cell_type": "code",
   "execution_count": 6,
   "metadata": {},
   "outputs": [
    {
     "name": "stdout",
     "output_type": "stream",
     "text": [
      "Row player's strategy: [0, 2/5, 3/5]\n",
      "Column player's strategy: [1, 0, 0]\n",
      "Value of the game: 1\n"
     ]
    }
   ],
   "source": [
    "A = [[-1, -1, -1],\n",
    "     [ 1, -5, -5],\n",
    "     [ 1,  5, 10]]\n",
    "\n",
    "solve_matrix_game(A)"
   ]
  },
  {
   "cell_type": "code",
   "execution_count": 7,
   "metadata": {},
   "outputs": [
    {
     "name": "stdout",
     "output_type": "stream",
     "text": [
      "Row player's strategy: [3/5, 2/5]\n",
      "Column player's strategy: [2/5, 0, 3/5, 0]\n",
      "Value of the game: 11/5\n"
     ]
    }
   ],
   "source": [
    "A = [[1, 5, 3, 6],\n",
    "     [4, 0, 1, 2]]\n",
    "\n",
    "solve_matrix_game(A)"
   ]
  },
  {
   "cell_type": "code",
   "execution_count": 8,
   "metadata": {},
   "outputs": [
    {
     "name": "stdout",
     "output_type": "stream",
     "text": [
      "Row player's strategy: [1/3, 2/3]\n",
      "Column player's strategy: [1/3, 2/3]\n",
      "Value of the game: 2/3\n"
     ]
    }
   ],
   "source": [
    "from fractions import Fraction\n",
    "A = [[0, 1],\n",
    "     [1, Fraction(1,2)]]\n",
    "\n",
    "solve_matrix_game(A)"
   ]
  }
 ],
 "metadata": {
  "kernelspec": {
   "display_name": "Python 3",
   "language": "python",
   "name": "python3"
  },
  "language_info": {
   "codemirror_mode": {
    "name": "ipython",
    "version": 3
   },
   "file_extension": ".py",
   "mimetype": "text/x-python",
   "name": "python",
   "nbconvert_exporter": "python",
   "pygments_lexer": "ipython3",
   "version": "3.6.6"
  }
 },
 "nbformat": 4,
 "nbformat_minor": 2
}
