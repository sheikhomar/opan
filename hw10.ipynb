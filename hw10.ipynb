{
 "cells": [
  {
   "cell_type": "markdown",
   "metadata": {},
   "source": [
    "# Homework 10"
   ]
  },
  {
   "cell_type": "code",
   "execution_count": 1,
   "metadata": {},
   "outputs": [],
   "source": [
    "import numpy as np\n",
    "import matplotlib.pyplot as plt\n",
    "import sympy as sy\n",
    "import utils as utils\n",
    "from fractions import Fraction\n",
    "from conjugate import ConjugateGradient\n",
    "\n",
    "from func import Func\n",
    "from IPython.display import display, HTML\n",
    "\n",
    "# Inline plotting\n",
    "%matplotlib inline\n",
    "\n",
    "# Make sympy print pretty math expressions\n",
    "sy.init_printing()"
   ]
  },
  {
   "cell_type": "markdown",
   "metadata": {},
   "source": [
    "---\n",
    "## Exercise 10.5\n",
    "\n",
    "<img src=\"figures/homework-10/exercise-10.5.png\" width=\"600\" />\n"
   ]
  },
  {
   "cell_type": "markdown",
   "metadata": {},
   "source": [
    "We want the directions $\\mathbf{d}^{(k)}$ and $\\mathbf{d}^{(k+1)}$ to be $Q$-conjugate."
   ]
  },
  {
   "cell_type": "markdown",
   "metadata": {},
   "source": [
    "So $\\mathbf{d}^{(k)T}Q\\mathbf{d}^{(k+1)} = 0$."
   ]
  },
  {
   "cell_type": "markdown",
   "metadata": {},
   "source": [
    "To derive a formula for $\\gamma_k$, we simply all terms with  $\\mathbf{d}^{(k)T}Q$."
   ]
  },
  {
   "cell_type": "markdown",
   "metadata": {},
   "source": [
    "\\begin{align}\n",
    "\\mathbf{d}^{(k+1)} &= \\gamma_k \\mathbf{g}^{(k+1)} + \\mathbf{d}^{(k)} \\\\\n",
    "\\mathbf{d}^{(k)T}Q\\mathbf{d}^{(k+1)} &= \\gamma_k \\mathbf{d}^{(k)T}Q \\mathbf{g}^{(k+1)} + \\mathbf{d}^{(k)T}Q\\mathbf{d}^{(k)} \\\\\n",
    "\\end{align}\n"
   ]
  },
  {
   "cell_type": "markdown",
   "metadata": {},
   "source": [
    "Since we want the directions $\\mathbf{d}^{(k)}$ and $\\mathbf{d}^{(k+1)}$ to be $Q$-conjugate, the left-hand side of the equation is zero:"
   ]
  },
  {
   "cell_type": "markdown",
   "metadata": {},
   "source": [
    "\\begin{align}\n",
    "0 &= \\gamma_k \\mathbf{d}^{(k)T}Q \\mathbf{g}^{(k+1)} + \\mathbf{d}^{(k)T}Q\\mathbf{d}^{(k)} \\\\\n",
    "- \\mathbf{d}^{(k)T}Q\\mathbf{d}^{(k)} &= \\gamma_k \\mathbf{d}^{(k)T}Q \\mathbf{g}^{(k+1)} \\\\\n",
    "- \\frac{\\mathbf{d}^{(k)T}Q\\mathbf{d}^{(k)}}{\\mathbf{d}^{(k)T}Q \\mathbf{g}^{(k+1)}} &= \\gamma_k \\\\\n",
    "\\end{align}"
   ]
  },
  {
   "cell_type": "markdown",
   "metadata": {},
   "source": [
    "Now we have formula for $\\gamma_k$."
   ]
  },
  {
   "cell_type": "markdown",
   "metadata": {},
   "source": [
    "---\n",
    "## Exercise 10.10\n",
    "\n",
    "<img src=\"figures/homework-10/exercise-10.10.png\" width=\"600\" />\n"
   ]
  },
  {
   "cell_type": "code",
   "execution_count": 2,
   "metadata": {},
   "outputs": [
    {
     "data": {
      "text/latex": [
       "$$\\left[\\begin{matrix}\\frac{5 x_{1}^{2}}{2} + 2 x_{1} x_{2} - 3 x_{1} + \\frac{x_{2}^{2}}{2} - x_{2}\\end{matrix}\\right]$$"
      ],
      "text/plain": [
       "⎡    2                      2     ⎤\n",
       "⎢5⋅x₁                     x₂      ⎥\n",
       "⎢───── + 2⋅x₁⋅x₂ - 3⋅x₁ + ─── - x₂⎥\n",
       "⎣  2                       2      ⎦"
      ]
     },
     "metadata": {},
     "output_type": "display_data"
    },
    {
     "data": {
      "text/plain": []
     },
     "execution_count": 2,
     "metadata": {},
     "output_type": "execute_result"
    }
   ],
   "source": [
    "x1, x2 = sy.symbols('x1, x2')\n",
    "f_ex1010 = Func(Fraction(5,2) * x1**2 + Fraction(1,2)*x2**2 + 2*x1*x2 - 3*x1 - x2, (x1, x2))\n",
    "f_ex1010"
   ]
  },
  {
   "cell_type": "code",
   "execution_count": 3,
   "metadata": {},
   "outputs": [
    {
     "data": {
      "text/plain": [
       "(<Figure size 864x432 with 2 Axes>,\n",
       " <matplotlib.axes._subplots.AxesSubplot at 0x7fedd11d4588>)"
      ]
     },
     "execution_count": 3,
     "metadata": {},
     "output_type": "execute_result"
    },
    {
     "data": {
      "image/png": "[encoded data removed]",
      "text/plain": [
       "<Figure size 864x432 with 2 Axes>"
      ]
     },
     "metadata": {
      "needs_background": "light"
     },
     "output_type": "display_data"
    }
   ],
   "source": [
    "f_ex1010.plot_contour(x_limit=(-0.5, 1.0))"
   ]
  },
  {
   "cell_type": "markdown",
   "metadata": {},
   "source": [
    "---\n",
    "### Exercise 10.10 a)\n",
    "\n",
    "<img src=\"figures/homework-10/exercise-10.10-a.png\" width=\"600\" />\n"
   ]
  },
  {
   "cell_type": "markdown",
   "metadata": {},
   "source": [
    "We simply read off the entries for $Q$ in the function coefficients:"
   ]
  },
  {
   "cell_type": "markdown",
   "metadata": {},
   "source": [
    "$$\n",
    "Q=\\begin{bmatrix}\n",
    "x_1^2 & x_1 x_2 \\\\\n",
    "x_2 x_1 & x_2^2 \\\\\n",
    "\\end{bmatrix},\n",
    "\\mathbf{b}=\n",
    "\\begin{bmatrix}\n",
    "x_1 \\\\\n",
    "x_2\n",
    "\\end{bmatrix},\n",
    "$$"
   ]
  },
  {
   "cell_type": "markdown",
   "metadata": {},
   "source": [
    "Since we are dividing the quantity $\\mathbf{x}^TQ \\mathbf{x}$ with 2, we have to multiply the coefficients in front of $x_1^2$ and $x_2^2$ by 2."
   ]
  },
  {
   "cell_type": "markdown",
   "metadata": {},
   "source": [
    "The function $f$ can be expressed as:\n",
    "$$\n",
    "f\\left(\\mathbf{x} \\right) =\n",
    "\\frac{1}{2} \\mathbf{x}^T \n",
    "\\begin{bmatrix}\n",
    "5 & 2 \\\\\n",
    "2 & 1\n",
    "\\end{bmatrix}\n",
    "\\mathbf{x}\n",
    "-\n",
    "\\mathbf{x}^T\n",
    "\\begin{bmatrix}\n",
    "3 \\\\\n",
    "1\n",
    "\\end{bmatrix}\n",
    "$$"
   ]
  },
  {
   "cell_type": "code",
   "execution_count": 6,
   "metadata": {},
   "outputs": [
    {
     "data": {
      "text/latex": [
       "$$\\left ( \\left[\\begin{matrix}5 & 2\\\\2 & 1\\end{matrix}\\right], \\quad \\left[\\begin{matrix}3\\\\1\\end{matrix}\\right]\\right )$$"
      ],
      "text/plain": [
       "⎛⎡5  2⎤  ⎡3⎤⎞\n",
       "⎜⎢    ⎥, ⎢ ⎥⎟\n",
       "⎝⎣2  1⎦  ⎣1⎦⎠"
      ]
     },
     "execution_count": 6,
     "metadata": {},
     "output_type": "execute_result"
    }
   ],
   "source": [
    "Q, b = f_ex1010.as_quadratic_form_for_gradient_descent()\n",
    "Q, b"
   ]
  },
  {
   "cell_type": "code",
   "execution_count": 7,
   "metadata": {},
   "outputs": [
    {
     "data": {
      "text/latex": [
       "$$\\left[\\begin{matrix}\\frac{5 x_{1}^{2}}{2} + 2 x_{1} x_{2} - 3 x_{1} + \\frac{x_{2}^{2}}{2} - x_{2}\\end{matrix}\\right]$$"
      ],
      "text/plain": [
       "⎡    2                      2     ⎤\n",
       "⎢5⋅x₁                     x₂      ⎥\n",
       "⎢───── + 2⋅x₁⋅x₂ - 3⋅x₁ + ─── - x₂⎥\n",
       "⎣  2                       2      ⎦"
      ]
     },
     "execution_count": 7,
     "metadata": {},
     "output_type": "execute_result"
    }
   ],
   "source": [
    "# Let us check our result\n",
    "x = sy.Matrix([[x1],\n",
    "               [x2]])\n",
    "Q = sy.Matrix([[5, 2],\n",
    "               [2, 1]])\n",
    "b = sy.Matrix([[3],\n",
    "               [1]])\n",
    "sy.expand(Fraction(1, 2) * x.T * Q * x - x.T*b)"
   ]
  },
  {
   "cell_type": "markdown",
   "metadata": {},
   "source": [
    "---\n",
    "### Exercise 10.10 b)\n",
    "\n",
    "<img src=\"figures/homework-10/exercise-10.10-b.png\" width=\"600\" />\n"
   ]
  },
  {
   "cell_type": "markdown",
   "metadata": {},
   "source": [
    "The steps of the algorithm is as follows:"
   ]
  },
  {
   "cell_type": "markdown",
   "metadata": {},
   "source": [
    "<img src=\"figures/lecture-10/conjugate-gradient-algorithm-steps.png\" width=\"600\" />\n",
    "\n"
   ]
  },
  {
   "cell_type": "code",
   "execution_count": 8,
   "metadata": {},
   "outputs": [],
   "source": [
    "Q = sy.Matrix([[5, 2],\n",
    "               [2, 1]])"
   ]
  },
  {
   "cell_type": "code",
   "execution_count": 9,
   "metadata": {},
   "outputs": [],
   "source": [
    "cg = ConjugateGradient(f_ex1010, Q)"
   ]
  },
  {
   "cell_type": "code",
   "execution_count": 10,
   "metadata": {},
   "outputs": [
    {
     "name": "stdout",
     "output_type": "stream",
     "text": [
      "Stopping since g(k) = [ 0.0000,  0.0000]\n"
     ]
    },
    {
     "data": {
      "text/html": [
       "<table><thead><tr><th style=\"text-align:center;\">$k$</th><th style=\"text-align:center;\">$d^{(k)}$</th><th style=\"text-align:center;\">$\\alpha_k$</th><th style=\"text-align:center;\">$x^{(k+1)}$</th><th style=\"text-align:center;\">$g^{(k+1)}$</th><th style=\"text-align:center;\">$\\beta_k$</th></tr></thead><tbody><tr><td style=\"text-align:left;\">$0$</td><td style=\"text-align:left;\">\\begin{bmatrix}3.00000 \\\\ 1.00000 \\\\ \\end{bmatrix}&nbsp;</td><td style=\"text-align:left;\">$0.172414$</td><td style=\"text-align:left;\">\\begin{bmatrix}0.51724 \\\\ 0.17241 \\\\ \\end{bmatrix}&nbsp;</td><td style=\"text-align:left;\">\\begin{bmatrix}-0.06897 \\\\ 0.20690 \\\\ \\end{bmatrix}&nbsp;</td><td style=\"text-align:left;\">$0.004756$</td></tr><tr><td style=\"text-align:left;\">$1$</td><td style=\"text-align:left;\">\\begin{bmatrix}0.08323 \\\\ -0.20214 \\\\ \\end{bmatrix}&nbsp;</td><td style=\"text-align:left;\">$5.800000$</td><td style=\"text-align:left;\">\\begin{bmatrix}1.00000 \\\\ -1.00000 \\\\ \\end{bmatrix}&nbsp;</td><td style=\"text-align:left;\">\\begin{bmatrix}0.00000 \\\\ 0.00000 \\\\ \\end{bmatrix}&nbsp;</td><td style=\"text-align:left;\">$0.000000$</td></tr></tbody></table>"
      ],
      "text/plain": [
       "<IPython.core.display.HTML object>"
      ]
     },
     "metadata": {},
     "output_type": "display_data"
    }
   ],
   "source": [
    "x_star = cg.find_minimum((0, 0))"
   ]
  },
  {
   "cell_type": "code",
   "execution_count": 11,
   "metadata": {},
   "outputs": [
    {
     "data": {
      "text/latex": [
       "$$\\left[\\begin{matrix}1\\\\-1\\end{matrix}\\right]$$"
      ],
      "text/plain": [
       "⎡1 ⎤\n",
       "⎢  ⎥\n",
       "⎣-1⎦"
      ]
     },
     "execution_count": 11,
     "metadata": {},
     "output_type": "execute_result"
    }
   ],
   "source": [
    "x_star"
   ]
  },
  {
   "cell_type": "markdown",
   "metadata": {},
   "source": [
    "---\n",
    "### Exercise 10.10 c)\n",
    "\n",
    "<img src=\"figures/homework-10/exercise-10.10-c.png\" width=\"600\" />\n"
   ]
  },
  {
   "cell_type": "markdown",
   "metadata": {},
   "source": [
    "If we want to find the minimiser of $f$ analytically, we can use Corollary 6.1 (p 86). It says that we can find the a minimiser $\\mathbf{x}^{*}$ by solving the following equation:\n",
    "$$\n",
    "\\nabla f(\\mathbf{x}^{*}) = \\mathbf{0}\n",
    "$$\n"
   ]
  },
  {
   "cell_type": "markdown",
   "metadata": {},
   "source": [
    "We know that the gradient of the quadratic function is $\\nabla f(\\mathbf{x}) = Q\\mathbf{x} - \\mathbf{b}$. The FONC gives us two equations with two unknowns:"
   ]
  },
  {
   "cell_type": "code",
   "execution_count": 10,
   "metadata": {},
   "outputs": [
    {
     "data": {
      "text/latex": [
       "$$\\left[\\begin{matrix}5 x_{1} + 2 x_{2} - 3\\\\2 x_{1} + x_{2} - 1\\end{matrix}\\right]$$"
      ],
      "text/plain": [
       "⎡5⋅x₁ + 2⋅x₂ - 3⎤\n",
       "⎢               ⎥\n",
       "⎣ 2⋅x₁ + x₂ - 1 ⎦"
      ]
     },
     "execution_count": 10,
     "metadata": {},
     "output_type": "execute_result"
    }
   ],
   "source": [
    "eq = Q * f_ex1010.func_args() - b\n",
    "eq"
   ]
  },
  {
   "cell_type": "markdown",
   "metadata": {},
   "source": [
    "Solving the system of equations, we get:"
   ]
  },
  {
   "cell_type": "code",
   "execution_count": 11,
   "metadata": {},
   "outputs": [
    {
     "data": {
      "image/png": "[encoded data removed]",
      "text/latex": [
       "$$\\left\\{\\left ( 1, \\quad -1\\right )\\right\\}$$"
      ],
      "text/plain": [
       "{(1, -1)}"
      ]
     },
     "execution_count": 11,
     "metadata": {},
     "output_type": "execute_result"
    }
   ],
   "source": [
    "sy.nonlinsolve(eq, list(f_ex1010.func_args()))"
   ]
  },
  {
   "cell_type": "markdown",
   "metadata": {},
   "source": [
    "Thus, $\\mathbf{x}^{*} = [1, -1]^T$"
   ]
  },
  {
   "cell_type": "markdown",
   "metadata": {},
   "source": [
    "We could also rewritten the FONC to get following formula:\n",
    "\\begin{align}\n",
    "\\nabla f(\\mathbf{x}^{*}) &= \\mathbf{0} \\\\\n",
    " Q\\mathbf{x}^{*} - \\mathbf{b} &= \\mathbf{0} \\\\\n",
    " Q\\mathbf{x}^{*} &= \\mathbf{b} \\\\\n",
    " Q^{-1}Q\\mathbf{x}^{*} &= Q^{-1}\\mathbf{b} \\\\\n",
    " \\mathbf{x}^{*} &= Q^{-1}\\mathbf{b} \\\\\n",
    "\\end{align}"
   ]
  },
  {
   "cell_type": "code",
   "execution_count": 12,
   "metadata": {},
   "outputs": [
    {
     "data": {
      "text/latex": [
       "$$\\left[\\begin{matrix}1\\\\-1\\end{matrix}\\right]$$"
      ],
      "text/plain": [
       "⎡1 ⎤\n",
       "⎢  ⎥\n",
       "⎣-1⎦"
      ]
     },
     "execution_count": 12,
     "metadata": {},
     "output_type": "execute_result"
    }
   ],
   "source": [
    "Q.inv() * b"
   ]
  }
 ],
 "metadata": {
  "kernelspec": {
   "display_name": "Python 3",
   "language": "python",
   "name": "python3"
  },
  "language_info": {
   "codemirror_mode": {
    "name": "ipython",
    "version": 3
   },
   "file_extension": ".py",
   "mimetype": "text/x-python",
   "name": "python",
   "nbconvert_exporter": "python",
   "pygments_lexer": "ipython3",
   "version": "3.6.6"
  }
 },
 "nbformat": 4,
 "nbformat_minor": 2
}
