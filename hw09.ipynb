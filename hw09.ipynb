{
 "cells": [
  {
   "cell_type": "markdown",
   "metadata": {},
   "source": [
    "# Homework 9"
   ]
  },
  {
   "cell_type": "code",
   "execution_count": 1,
   "metadata": {},
   "outputs": [],
   "source": [
    "import numpy as np\n",
    "import matplotlib.pyplot as plt\n",
    "import sympy as sy\n",
    "import utils as utils\n",
    "\n",
    "from func import Func\n",
    "from IPython.display import display, HTML\n",
    "\n",
    "# Inline plotting\n",
    "%matplotlib inline\n",
    "\n",
    "# Make sympy print pretty math expressions\n",
    "sy.init_printing()"
   ]
  },
  {
   "cell_type": "markdown",
   "metadata": {
    "toc-hr-collapsed": false
   },
   "source": [
    "---\n",
    "## Exercise 9.1"
   ]
  },
  {
   "cell_type": "markdown",
   "metadata": {},
   "source": [
    "<img src=\"figures/homework-09/exercise-9.1.png\" width=\"600\" />\n"
   ]
  },
  {
   "cell_type": "markdown",
   "metadata": {},
   "source": [
    "---\n",
    "### Exercise 9.1 a)\n",
    "<img src=\"figures/homework-09/exercise-9.1-a.png\" width=\"600\" />\n"
   ]
  },
  {
   "cell_type": "markdown",
   "metadata": {},
   "source": [
    "The update equation for Newton's method in one dimension is given as\n",
    "\n",
    "<img src=\"figures/lecture-07/newtons-formula.png\" width=\"200\" />\n"
   ]
  },
  {
   "cell_type": "markdown",
   "metadata": {},
   "source": [
    "So to find the update equation to the problem given in this exercise, we need to find the first and second derivative of the function $f$:"
   ]
  },
  {
   "cell_type": "markdown",
   "metadata": {},
   "source": [
    "\\begin{align}\n",
    "f'(x) &=  4(x - x_0)^3 \\\\\n",
    "f''(x) &= 12(x - x_0)^2 \n",
    "\\end{align}"
   ]
  },
  {
   "cell_type": "markdown",
   "metadata": {},
   "source": [
    "Let us check our results with SymPy:"
   ]
  },
  {
   "cell_type": "code",
   "execution_count": 2,
   "metadata": {},
   "outputs": [
    {
     "data": {
      "text/latex": [
       "$$\\left ( \\left(x - x_{0}\\right)^{4}, \\quad \\left[\\begin{matrix}4 \\left(x - x_{0}\\right)^{3}\\end{matrix}\\right], \\quad \\left[\\begin{matrix}12 \\left(x - x_{0}\\right)^{2}\\end{matrix}\\right]\\right )$$"
      ],
      "text/plain": [
       "⎛        4  ⎡          3⎤  ⎡           2⎤⎞\n",
       "⎝(x - x₀) , ⎣4⋅(x - x₀) ⎦, ⎣12⋅(x - x₀) ⎦⎠"
      ]
     },
     "execution_count": 2,
     "metadata": {},
     "output_type": "execute_result"
    }
   ],
   "source": [
    "x, x0 = sy.symbols('x, x0')\n",
    "f = (x-x0)**4\n",
    "first_derivative = sy.Matrix([f]).jacobian((x,))\n",
    "second_derivative = first_derivative.jacobian((x,))\n",
    "f, first_derivative, second_derivative"
   ]
  },
  {
   "cell_type": "markdown",
   "metadata": {},
   "source": [
    "The update equation for the problem is:\n",
    "\n",
    "$$\n",
    "x^{(k+1)} = x^{(k)} - \\frac{ 4\\left( x^{(k)} - x_0 \\right)^3 }{12\\left( x^{(k)} - x_0 \\right)^2} = x^{(k)} - \\frac{ x^{(k)} - x_0 }{ 3 }\n",
    "$$"
   ]
  },
  {
   "cell_type": "markdown",
   "metadata": {},
   "source": [
    "---\n",
    "### Exercise 9.1 b)\n",
    "<img src=\"figures/homework-09/exercise-9.1-b.png\" width=\"600\" />\n"
   ]
  },
  {
   "cell_type": "markdown",
   "metadata": {},
   "source": [
    "We are given $y^{(k)} = \\left| x^{(k)} - x_0 \\right|$ and we need to show that $y^{(k+1)} = \\frac{2}{3}y^{(k)} =  \\frac{2}{3}\\left| x^{(k)} - x_0 \\right|$"
   ]
  },
  {
   "cell_type": "markdown",
   "metadata": {},
   "source": [
    "If $y^{(k)} = \\left| x^{(k)} - x_0 \\right|$ then $y^{(k+1)}$ must be equal to $\\left| x^{(k+1)} - x_0 \\right|$."
   ]
  },
  {
   "cell_type": "markdown",
   "metadata": {},
   "source": [
    "In exercise a) we found an expression for $x^{(k+1)}$. We can substitute and simplify:"
   ]
  },
  {
   "cell_type": "markdown",
   "metadata": {},
   "source": [
    "\\begin{align}\n",
    " y^{(k+1)}\n",
    " &= \\left| x^{(k+1)} - x_0 \\right|  \\\\\n",
    "&= \\left| x^{(k)} - \\frac{ x^{(k)} - x_0 }{ 3 } - x_0 \\right| \\\\\n",
    "&= \\left| \\frac{3x^{(k)} }{3} - \\frac{ x^{(k)} - x_0 }{ 3 } - \\frac{3x_0}{3} \\right| \\\\\n",
    "&= \\left| \\frac{3x^{(k)} - \\left(x^{(k)} - x_0 \\right) - 3x_0 }{3} \\right| \\\\\n",
    "&= \\left| \\frac{3x^{(k)} - \\left(x^{(k)} - x_0 \\right) - 3x_0 }{3} \\right| \\\\\n",
    "&= \\left| \\frac{2x^{(k)} - 2x_0 }{3} \\right| \\\\\n",
    "&= \\frac{2}{3} \\left|  x^{(k)} - x_0  \\right| \\\\\n",
    "\\end{align}"
   ]
  },
  {
   "cell_type": "markdown",
   "metadata": {},
   "source": [
    "Let us check our results with SymPy"
   ]
  },
  {
   "cell_type": "code",
   "execution_count": 3,
   "metadata": {},
   "outputs": [
    {
     "data": {
      "image/png": "[encoded data removed]",
      "text/latex": [
       "$$- \\frac{2 x_{0}}{3} + \\frac{2 x_{k}}{3}$$"
      ],
      "text/plain": [
       "  2⋅x₀   2⋅xₖ\n",
       "- ──── + ────\n",
       "   3      3  "
      ]
     },
     "execution_count": 3,
     "metadata": {},
     "output_type": "execute_result"
    }
   ],
   "source": [
    "x_k, x_0 = sy.symbols('x_k, x0')\n",
    "sy.simplify(x_k - (x_k - x_0)/3 - x_0)"
   ]
  },
  {
   "cell_type": "markdown",
   "metadata": {},
   "source": [
    "---\n",
    "### Exercise 9.1 c)\n",
    "<img src=\"figures/homework-09/exercise-9.1-c.png\" width=\"600\" />\n"
   ]
  },
  {
   "cell_type": "markdown",
   "metadata": {},
   "source": [
    "**Help!**"
   ]
  },
  {
   "cell_type": "markdown",
   "metadata": {},
   "source": [
    "**The solution which I don't understand:** From part b) we see that $y^{(k)} = (2/3)^k y^{(0)}$ and therefore $y^{(0)} \\to 0 $. Hence, $x^{(k)} \\to x_0$ for any $x_0$."
   ]
  },
  {
   "cell_type": "markdown",
   "metadata": {},
   "source": [
    "---\n",
    "## Exercise 9.3"
   ]
  },
  {
   "cell_type": "markdown",
   "metadata": {},
   "source": [
    "<img src=\"figures/homework-09/exercise-9.3.png\" width=\"600\" />\n"
   ]
  },
  {
   "cell_type": "markdown",
   "metadata": {},
   "source": [
    "---\n",
    "### Exercise 9.3 a)\n",
    "<img src=\"figures/homework-09/exercise-9.3-a.png\" width=\"600\" />\n"
   ]
  },
  {
   "cell_type": "markdown",
   "metadata": {},
   "source": [
    "The update equation for Newton's method in one dimension is given as\n",
    "\n",
    "<img src=\"figures/lecture-07/newtons-formula.png\" width=\"200\" />\n"
   ]
  },
  {
   "cell_type": "markdown",
   "metadata": {},
   "source": [
    "So to find the update equation to the problem given in this exercise, we need to find the first and second derivative of the function $f$:"
   ]
  },
  {
   "cell_type": "markdown",
   "metadata": {},
   "source": [
    "\\begin{align}\n",
    "f'(x) &=  \\frac{4}{3} x^{1/3} \\\\\n",
    "f''(x) &= \\frac{4}{9} x^{-2/3}\n",
    "\\end{align}"
   ]
  },
  {
   "cell_type": "markdown",
   "metadata": {},
   "source": [
    "Let us check our results with SymPy:"
   ]
  },
  {
   "cell_type": "code",
   "execution_count": 4,
   "metadata": {},
   "outputs": [
    {
     "data": {
      "text/latex": [
       "$$\\left ( x^{\\frac{4}{3}}, \\quad \\left[\\begin{matrix}\\frac{4 \\sqrt[3]{x}}{3}\\end{matrix}\\right], \\quad \\left[\\begin{matrix}\\frac{4}{9 x^{\\frac{2}{3}}}\\end{matrix}\\right]\\right )$$"
      ],
      "text/plain": [
       "⎛      ⎡  3 ___⎤  ⎡  4   ⎤⎞\n",
       "⎜ 4/3  ⎢4⋅╲╱ x ⎥  ⎢──────⎥⎟\n",
       "⎜x   , ⎢───────⎥, ⎢   2/3⎥⎟\n",
       "⎝      ⎣   3   ⎦  ⎣9⋅x   ⎦⎠"
      ]
     },
     "execution_count": 4,
     "metadata": {},
     "output_type": "execute_result"
    }
   ],
   "source": [
    "x = sy.symbols('x')\n",
    "f = x**(sy.Rational(4,3))\n",
    "first_derivative = sy.Matrix([f]).jacobian((x,))\n",
    "second_derivative = first_derivative.jacobian((x,))\n",
    "f, first_derivative, second_derivative"
   ]
  },
  {
   "cell_type": "markdown",
   "metadata": {},
   "source": [
    "For convenience, let us also find the ratio $\\frac{f'(x)}{f''(x)}$ in SymPy:"
   ]
  },
  {
   "cell_type": "code",
   "execution_count": 5,
   "metadata": {},
   "outputs": [
    {
     "data": {
      "text/latex": [
       "$$\\left[\\begin{matrix}3 x\\end{matrix}\\right]$$"
      ],
      "text/plain": [
       "[3⋅x]"
      ]
     },
     "execution_count": 5,
     "metadata": {},
     "output_type": "execute_result"
    }
   ],
   "source": [
    "first_derivative / second_derivative"
   ]
  },
  {
   "cell_type": "markdown",
   "metadata": {},
   "source": [
    "The update equation for this problem is:\n",
    "\n",
    "$$\n",
    "x^{(k+1)} = x^{(k)} - 3x^{(k)} = - 2x^{(k)}\n",
    "$$"
   ]
  },
  {
   "cell_type": "markdown",
   "metadata": {},
   "source": [
    "---\n",
    "### Exercise 9.3 b)\n",
    "<img src=\"figures/homework-09/exercise-9.3-b.png\" width=\"600\" />\n"
   ]
  },
  {
   "cell_type": "markdown",
   "metadata": {},
   "source": [
    "Let $y^{(k)} = \\left| x^{(k)}  \\right|$. \n",
    "\n",
    "From a) we know that $y^{(k+1)} = \\left| x^{(k+1)}  \\right| = \\left| -2x^{(k)}  \\right| =  2 \\left| x^{(k)}  \\right| = 2 y^{(k)}  $. \n",
    "\n",
    "This tells us that each entry $y^{(i)}$ in the sequence $\\left\\{ y^{(k)} \\right\\}$ is always two times larger than the previous entry $y^{(i-1)}$ if the starting point is not 0. \n",
    "\n",
    "This means at each iteration, the next iterate $x^{(k+1)}$ will never be zero unless $x^{(0)}  = 0$.\n",
    "\n",
    "The global minimiser of the function $f(x) = x^{\\frac{4}{3}}$ is $x^{*} = 0$ (given in the exercise description). We can also find out the global minimiser by solving $f(x) = 0$:"
   ]
  },
  {
   "cell_type": "code",
   "execution_count": 6,
   "metadata": {},
   "outputs": [
    {
     "data": {
      "image/png": "[encoded data removed]",
      "text/latex": [
       "$$\\left\\{\\left ( 0\\right )\\right\\}$$"
      ],
      "text/plain": [
       "{(0,)}"
      ]
     },
     "execution_count": 6,
     "metadata": {},
     "output_type": "execute_result"
    }
   ],
   "source": [
    "x = sy.symbols('x')\n",
    "f = x**(sy.Rational(4,3))\n",
    "sy.nonlinsolve([f], (x,))"
   ]
  },
  {
   "cell_type": "markdown",
   "metadata": {},
   "source": [
    "Thus, we conclude that the algorithm in part a) will not converge to 0 if the starting point is not 0."
   ]
  },
  {
   "cell_type": "markdown",
   "metadata": {},
   "source": [
    "---\n",
    "## Exercise 9.4"
   ]
  },
  {
   "cell_type": "markdown",
   "metadata": {},
   "source": [
    "<img src=\"figures/homework-09/exercise-9.4.png\" width=\"600\" />\n"
   ]
  },
  {
   "cell_type": "markdown",
   "metadata": {},
   "source": [
    "---\n",
    "### Exercise 9.4 a)\n",
    "<img src=\"figures/homework-09/exercise-9.4-a.png\" width=\"600\" />\n"
   ]
  },
  {
   "cell_type": "markdown",
   "metadata": {},
   "source": [
    "We can find minimisers of $f$ by solving $\\nabla f(\\mathbf{x}) = 0$ (FONC):"
   ]
  },
  {
   "cell_type": "code",
   "execution_count": 7,
   "metadata": {},
   "outputs": [
    {
     "data": {
      "image/png": "[encoded data removed]",
      "text/latex": [
       "$$\\left\\{\\left ( 1, \\quad 1\\right )\\right\\}$$"
      ],
      "text/plain": [
       "{(1, 1)}"
      ]
     },
     "execution_count": 7,
     "metadata": {},
     "output_type": "execute_result"
    }
   ],
   "source": [
    "x1, x2 = sy.symbols('x1, x2')\n",
    "f = sy.Matrix([ 100*(x2 - x1**2)**2 + (1-x1)**2 ])\n",
    "g = f.jacobian((x1, x2))\n",
    "sy.nonlinsolve(g, (x1, x2))"
   ]
  },
  {
   "cell_type": "markdown",
   "metadata": {},
   "source": [
    "This means that the Rosenbrock's Function has one minimum at $x^{*}=[1, 1]^T$, which is also the global minimizer."
   ]
  },
  {
   "cell_type": "markdown",
   "metadata": {},
   "source": [
    "An alternative proof goes as follows:\n",
    "\n",
    "- It is fairly easy to realise that the Rosenbrock's function never yields negative values i.e., $f(\\mathbf{x}) \\geq 0$. Therefore, any minimiser of $f$ will yield zero: $f(\\mathbf{x^{*}})=0$\n",
    "- The function consists of two terms $100 \\left(x_2 - x_1^2 \\right)^2$ and $(1-x_1)^2$\n",
    "- For $f(\\mathbf{x})$ to yield zero, both terms must be zero.\n",
    "- The second term $(1-x_1)^2$ will be zero if we fix $x_1=1$. The first term $100 \\left(x_2 - x_1^2 \\right)^2$ is now $100 \\left( x_2 - 1 \\right)^2$ because we fixed $x_1$ to 1.\n",
    "- The first term $100 \\left(x_2 - 1  \\right)^2$ will be zero if $x_2$ is set to 1."
   ]
  },
  {
   "cell_type": "markdown",
   "metadata": {},
   "source": [
    "So the only way  $f(\\mathbf{x}) = 0$ is if $x_1 = 1$ and $x_2 = 1$."
   ]
  },
  {
   "cell_type": "markdown",
   "metadata": {},
   "source": [
    "---\n",
    "### Exercise 9.4 b)\n",
    "<img src=\"figures/homework-09/exercise-9.4-b.png\" width=\"600\" />\n"
   ]
  },
  {
   "cell_type": "code",
   "execution_count": 2,
   "metadata": {},
   "outputs": [],
   "source": [
    "x1, x2 = sy.symbols('x1, x2')\n",
    "f = Func(100*(x2 - x1**2)**2 + (1-x1)**2, (x1, x2))"
   ]
  },
  {
   "cell_type": "code",
   "execution_count": 3,
   "metadata": {},
   "outputs": [
    {
     "name": "stdout",
     "output_type": "stream",
     "text": [
      "Iteration  1: x(1)=['1.0000', '0.0000'] \n",
      "Iteration  2: x(2)=['1.0000', '1.0000'] \n",
      "Iteration  3: x(3)=['1.0000', '1.0000'] \n",
      " Stopping condition reached!\n"
     ]
    },
    {
     "data": {
      "text/latex": [
       "$$\\left[\\begin{matrix}1\\\\1\\end{matrix}\\right]$$"
      ],
      "text/plain": [
       "⎡1⎤\n",
       "⎢ ⎥\n",
       "⎣1⎦"
      ]
     },
     "execution_count": 3,
     "metadata": {},
     "output_type": "execute_result"
    }
   ],
   "source": [
    "from newton import NewtonMultivariateSearch\n",
    "newton_algo = NewtonMultivariateSearch(f)\n",
    "newton_algo.find_minimum(starting_point=(0, 0))"
   ]
  },
  {
   "cell_type": "markdown",
   "metadata": {},
   "source": [
    "---\n",
    "### Exercise 9.4 c)\n",
    "<img src=\"figures/homework-09/exercise-9.4-c.png\" width=\"600\" />\n"
   ]
  },
  {
   "cell_type": "code",
   "execution_count": 4,
   "metadata": {},
   "outputs": [
    {
     "data": {
      "text/html": [
       "<table><thead><tr><th style=\"text-align:center;\">$k$</th><th style=\"text-align:center;\">$x^{(k)}$</th><th style=\"text-align:center;\">$\\nabla f\\left(x^{(k)}\\right)$</th><th style=\"text-align:center;\">$\\alpha_k$</th><th style=\"text-align:center;\">$x^{(k+1)}$</th></tr></thead><tbody><tr><td style=\"text-align:left;\">$0$</td><td style=\"text-align:left;\">$\\begin{bmatrix}0 \\\\0 \\\\\\end{bmatrix}$</td><td style=\"text-align:left;\">$\\begin{bmatrix}-2 \\\\0 \\\\\\end{bmatrix}$</td><td style=\"text-align:left;\">$0.05$</td><td style=\"text-align:left;\">$\\begin{bmatrix}0.100000000000000 \\\\0 \\\\\\end{bmatrix}$</td></tr><tr><td style=\"text-align:left;\">$1$</td><td style=\"text-align:left;\">$\\begin{bmatrix}0.100000000000000 \\\\0 \\\\\\end{bmatrix}$</td><td style=\"text-align:left;\">$\\begin{bmatrix}-1.40000000000000 \\\\-2.00000000000000 \\\\\\end{bmatrix}$</td><td style=\"text-align:left;\">$0.05$</td><td style=\"text-align:left;\">$\\begin{bmatrix}0.170000000000000 \\\\0.100000000000000 \\\\\\end{bmatrix}$</td></tr><tr><td style=\"text-align:left;\">$2$</td><td style=\"text-align:left;\">$\\begin{bmatrix}0.170000000000000 \\\\0.100000000000000 \\\\\\end{bmatrix}$</td><td style=\"text-align:left;\">$\\begin{bmatrix}-6.49480000000000 \\\\14.2200000000000 \\\\\\end{bmatrix}$</td><td style=\"text-align:left;\">$0.05$</td><td style=\"text-align:left;\">$\\begin{bmatrix}0.494740000000000 \\\\-0.611000000000000 \\\\\\end{bmatrix}$</td></tr><tr><td style=\"text-align:left;\">$3$</td><td style=\"text-align:left;\">$\\begin{bmatrix}0.494740000000000 \\\\-0.611000000000000 \\\\\\end{bmatrix}$</td><td style=\"text-align:left;\">$\\begin{bmatrix}168.342478347370 \\\\-171.153533520000 \\\\\\end{bmatrix}$</td><td style=\"text-align:left;\">$0.05$</td><td style=\"text-align:left;\">$\\begin{bmatrix}-7.92238391736849 \\\\7.94667667600000 \\\\\\end{bmatrix}$</td></tr><tr><td style=\"text-align:left;\">$4$</td><td style=\"text-align:left;\">$\\begin{bmatrix}-7.92238391736849 \\\\7.94667667600000 \\\\\\end{bmatrix}$</td><td style=\"text-align:left;\">$\\begin{bmatrix}-173731.926052595 \\\\-10963.4980516358 \\\\\\end{bmatrix}$</td><td style=\"text-align:left;\">$0.05$</td><td style=\"text-align:left;\">$\\begin{bmatrix}8678.67391871238 \\\\556.121579257789 \\\\\\end{bmatrix}$</td></tr></tbody></table>"
      ],
      "text/plain": [
       "<IPython.core.display.HTML object>"
      ]
     },
     "metadata": {},
     "output_type": "display_data"
    },
    {
     "data": {
      "text/latex": [
       "$$\\left[\\begin{matrix}8678.67391871238\\\\556.121579257789\\end{matrix}\\right]$$"
      ],
      "text/plain": [
       "⎡8678.67391871238⎤\n",
       "⎢                ⎥\n",
       "⎣556.121579257789⎦"
      ]
     },
     "execution_count": 4,
     "metadata": {},
     "output_type": "execute_result"
    }
   ],
   "source": [
    "from steepestd import SteepestDescent\n",
    "\n",
    "sd_94c = SteepestDescent(f)\n",
    "sd_94c.run(initial_point=(0, 0), alpha=0.05, max_iterations=5, verbose=False)"
   ]
  },
  {
   "cell_type": "markdown",
   "metadata": {},
   "source": [
    "We see that fixed-step-size steepest descent algorithm have difficulty finding the minimum that the Newton method found in two steps."
   ]
  },
  {
   "cell_type": "markdown",
   "metadata": {},
   "source": [
    "---\n"
   ]
  }
 ],
 "metadata": {
  "kernelspec": {
   "display_name": "Python 3",
   "language": "python",
   "name": "python3"
  },
  "language_info": {
   "codemirror_mode": {
    "name": "ipython",
    "version": 3
   },
   "file_extension": ".py",
   "mimetype": "text/x-python",
   "name": "python",
   "nbconvert_exporter": "python",
   "pygments_lexer": "ipython3",
   "version": "3.6.6"
  }
 },
 "nbformat": 4,
 "nbformat_minor": 2
}
