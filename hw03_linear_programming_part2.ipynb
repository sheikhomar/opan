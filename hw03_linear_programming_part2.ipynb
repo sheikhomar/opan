{
 "cells": [
  {
   "cell_type": "markdown",
   "metadata": {},
   "source": [
    "# Homework 3: Linear Programming, Simplex and Duality"
   ]
  },
  {
   "cell_type": "markdown",
   "metadata": {},
   "source": [
    "---\n",
    "## Exercise 9.2.11"
   ]
  },
  {
   "cell_type": "markdown",
   "metadata": {},
   "source": [
    "<img src=\"figures/exercise-9.2.11.png\" width=\"500\" />"
   ]
  },
  {
   "cell_type": "markdown",
   "metadata": {},
   "source": [
    "a) To answer this question, we need to use the definition of the canonical linear programming problem: \n",
    "\n",
    "Given an $m \\times n$ matrix $A = [a_{ij}], b \\in \\mathbb{R}^m$ and $\\vec{c} \\in \\mathbb{R}^n$, find $x \\in \\mathbb{R}^n$ that maximises $f(x) = c^T x$ subject to $Ax \\leq b$ and $x \\geq 0$. \n"
   ]
  },
  {
   "cell_type": "markdown",
   "metadata": {},
   "source": [
    "<img src=\"figures/canonical-programming-problem.png\" width=\"600\" />"
   ]
  },
  {
   "cell_type": "markdown",
   "metadata": {},
   "source": [
    "So by definition the answer is True."
   ]
  },
  {
   "cell_type": "markdown",
   "metadata": {},
   "source": [
    "b) We know that a vector $\\bar{x} \\in \\mathscr{F}$ is an optimal solution if $f(\\bar{x}) = \\max_{x \\in \\mathscr{F}}{f(x)}$.\n",
    "\n",
    "So the answer is false because the vector $\\bar{x}$ itself must be in the feasible set $\\mathscr{F}$. It is possible for an $\\bar{x} \\not \\in \\mathscr{F}$ --- i.e., a non-feasible vector --- to yield the maximum value of $f$.\n",
    "\n",
    "In the follow figure, we see that that $2x_1 + 3x_2 = 96$ is maximum value of the linear function $f$. The optimal solution is when $x_1 = 30$ and $x_2 = 11$ i.e., the green point. Notice that the red points on the level line also yield $f(x_1, x_2)=96$, but these points are not optimal since they are outside the feasible set. "
   ]
  },
  {
   "cell_type": "markdown",
   "metadata": {},
   "source": [
    "<img src=\"figures/example-5.png\" width=\"500\" />"
   ]
  },
  {
   "cell_type": "code",
   "execution_count": 1,
   "metadata": {},
   "outputs": [
    {
     "data": {
      "text/plain": [
       "     fun: 96.0\n",
       " message: 'Optimization terminated successfully.'\n",
       "     nit: 3\n",
       "   slack: array([0, 8, 0])\n",
       "  status: 0\n",
       " success: True\n",
       "       x: array([30, 12])"
      ]
     },
     "execution_count": 1,
     "metadata": {},
     "output_type": "execute_result"
    }
   ],
   "source": [
    "import linprog as lp\n",
    "\n",
    "A = [[1, 0],\n",
    "     [0, 1],\n",
    "     [1, 2]]\n",
    "b = [30, 20, 54]\n",
    "c = [2, 3]\n",
    "\n",
    "lp.maximise(A, b, c)"
   ]
  },
  {
   "cell_type": "markdown",
   "metadata": {},
   "source": [
    "---\n",
    "## Exercise 9.4.11"
   ]
  },
  {
   "cell_type": "markdown",
   "metadata": {},
   "source": [
    "<img src=\"figures/exercise-9.4.11.png\" width=\"400\" />"
   ]
  },
  {
   "cell_type": "code",
   "execution_count": 2,
   "metadata": {},
   "outputs": [
    {
     "data": {
      "text/plain": [
       "     fun: 43.0\n",
       " message: 'Optimization terminated successfully.'\n",
       "     nit: 2\n",
       "   slack: array([0, 0])\n",
       "  status: 0\n",
       " success: True\n",
       "       x: array([7/4, 0, 3/4])"
      ]
     },
     "execution_count": 2,
     "metadata": {},
     "output_type": "execute_result"
    }
   ],
   "source": [
    "import linprog as lp\n",
    "\n",
    "A = [[1, 1, 3],\n",
    "     [2, 1, 2]]\n",
    "b = [4, 5]\n",
    "c = [16, 10, 20]\n",
    "\n",
    "lp.minimise(A, b, c)"
   ]
  },
  {
   "cell_type": "markdown",
   "metadata": {},
   "source": [
    "---\n",
    "## Exercise 9.4.12"
   ]
  },
  {
   "cell_type": "markdown",
   "metadata": {},
   "source": [
    "<img src=\"figures/exercise-9.4.12.png\" width=\"300\" />"
   ]
  },
  {
   "cell_type": "code",
   "execution_count": 3,
   "metadata": {},
   "outputs": [
    {
     "data": {
      "text/plain": [
       "     fun: 26.0\n",
       " message: 'Optimization terminated successfully.'\n",
       "     nit: 3\n",
       "   slack: array([0, 0, 11/3])\n",
       "  status: 0\n",
       " success: True\n",
       "       x: array([5/3, 2/3])"
      ]
     },
     "execution_count": 3,
     "metadata": {},
     "output_type": "execute_result"
    }
   ],
   "source": [
    "import linprog as lp\n",
    "\n",
    "A = [[1, 2],\n",
    "     [2, 1],\n",
    "     [3, 1]]\n",
    "b = [3, 4, 2]\n",
    "c = [10, 14]\n",
    "\n",
    "lp.minimise(A, b, c)"
   ]
  }
 ],
 "metadata": {
  "kernelspec": {
   "display_name": "Python 3",
   "language": "python",
   "name": "python3"
  },
  "language_info": {
   "codemirror_mode": {
    "name": "ipython",
    "version": 3
   },
   "file_extension": ".py",
   "mimetype": "text/x-python",
   "name": "python",
   "nbconvert_exporter": "python",
   "pygments_lexer": "ipython3",
   "version": "3.6.6"
  }
 },
 "nbformat": 4,
 "nbformat_minor": 2
}
