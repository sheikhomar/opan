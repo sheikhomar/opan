{
 "cells": [
  {
   "cell_type": "markdown",
   "metadata": {},
   "source": [
    "# Homework 3: Linear Programming, Simplex and Duality"
   ]
  },
  {
   "cell_type": "markdown",
   "metadata": {},
   "source": [
    "---\n",
    "## Exercise 9.2.11"
   ]
  },
  {
   "cell_type": "markdown",
   "metadata": {},
   "source": [
    "<img src=\"figures/homework-03/hw03-exercise-9.2.11.png\" width=\"500\" />"
   ]
  },
  {
   "cell_type": "markdown",
   "metadata": {},
   "source": [
    "a) To answer this question, we need to use the definition of the canonical linear programming problem: \n"
   ]
  },
  {
   "cell_type": "markdown",
   "metadata": {},
   "source": [
    "<img src=\"figures/lecture-02/lec02-canonical-linear-prog.png\" width=\"500\"/>"
   ]
  },
  {
   "cell_type": "markdown",
   "metadata": {},
   "source": [
    "So by definition the answer is True."
   ]
  },
  {
   "cell_type": "markdown",
   "metadata": {},
   "source": [
    "b) We know that a vector $\\bar{x} \\in \\mathscr{F}$ is an optimal solution if $f(\\bar{x}) = \\max_{x \\in \\mathscr{F}}{f(x)}$.\n",
    "\n",
    "So the answer is false because the vector $\\bar{x}$ itself must be in the feasible set $\\mathscr{F}$. It is possible for an $\\bar{x} \\not \\in \\mathscr{F}$ --- i.e., a non-feasible vector --- to yield the maximum value of $f$.\n",
    "\n",
    "In the follow figure, we see that that $2x_1 + 3x_2 = 96$ is maximum value of the linear function $f$. The optimal solution is when $x_1 = 30$ and $x_2 = 11$ i.e., the green point. Notice that the red points on the level line also yield $f(x_1, x_2)=96$, but these points are not optimal since they are outside the feasible set. "
   ]
  },
  {
   "cell_type": "markdown",
   "metadata": {},
   "source": [
    "<img src=\"figures/homework-03/hw03-example-5.png\" width=\"500\" />"
   ]
  },
  {
   "cell_type": "code",
   "execution_count": 1,
   "metadata": {},
   "outputs": [
    {
     "data": {
      "text/html": [
       "Optimal solution: "
      ],
      "text/plain": [
       "<IPython.core.display.HTML object>"
      ]
     },
     "metadata": {},
     "output_type": "display_data"
    },
    {
     "data": {
      "text/latex": [
       "$$x_1 = 30, x_2 = 12, s_1 = 0, s_2 = 8, s_3 = 0, M=96$$"
      ],
      "text/plain": [
       "<IPython.core.display.Math object>"
      ]
     },
     "metadata": {},
     "output_type": "display_data"
    }
   ],
   "source": [
    "import linprog as lp\n",
    "\n",
    "A = [[1, 0],\n",
    "     [0, 1],\n",
    "     [1, 2]]\n",
    "b = [30, 20, 54]\n",
    "c = [2, 3]\n",
    "\n",
    "res = lp.maximise(A, b, c)\n",
    "lp.pretty_print(res)"
   ]
  },
  {
   "cell_type": "markdown",
   "metadata": {},
   "source": [
    "---\n",
    "## Exercise 9.4.11"
   ]
  },
  {
   "cell_type": "markdown",
   "metadata": {},
   "source": [
    "<img src=\"figures/homework-03/hw03-exercise-9.4.11.png\" width=\"400\" />"
   ]
  },
  {
   "cell_type": "markdown",
   "metadata": {},
   "source": [
    "First, we need to convert the problem to its dual problem by putting the values in a ''matrix'' and perform transpose.\n",
    "\n",
    "\\begin{equation*}\n",
    "\\begin{bmatrix}\n",
    "\\begin{array}{ccccc|c}\n",
    "x_1 & x_2 & x_3 &  b \\\\ \\hline \n",
    "  1 &   1 &   3 &  4 \\\\ \n",
    "  2 &   1 &   2 &  5 \\\\ \\hline \n",
    " 16 &  10 &  20 &  1 \\\\\n",
    "\\end{array}\n",
    "\\end{bmatrix}\n",
    "\\Longrightarrow^{Transpose}\n",
    "\\begin{bmatrix}\n",
    "\\begin{array}{ccccc|c}\n",
    "y_1 & y_2 &   c \\\\ \\hline \n",
    "  1 &   2 &  16 \\\\ \n",
    "  1 &   1 &  10 \\\\ \n",
    "  3 &   2 &  20 \\\\ \\hline \n",
    "  4 &   5 &   1 \\\\ \n",
    "\\end{array}\n",
    "\\end{bmatrix}\n",
    "\\end{equation*}\n",
    "\n",
    "From the resulting, we can read off the values for the dual problem and solve it using the simplex method:"
   ]
  },
  {
   "cell_type": "code",
   "execution_count": 2,
   "metadata": {},
   "outputs": [
    {
     "name": "stdout",
     "output_type": "stream",
     "text": [
      "   x_1   x_2   s_1   s_2   s_3    b    \n",
      "|   1     2     1     0     0    16   | s_1\n",
      "|   1     1     0     1     0    10   | s_2\n",
      "|   3     2     0     0     1    20   | s_3\n",
      "|  -4    -5     0     0     0     0   |\n",
      "Current solution: {'x_1': 0, 'x_2': 0, 's_1': Fraction(16, 1), 's_2': Fraction(10, 1), 's_3': Fraction(20, 1), 'z': 0}\n",
      "\n",
      "   x_1   x_2   s_1   s_2   s_3    b    \n",
      "|   1     2     1     0     0    16   | s_1\n",
      "|   1     1     0     1     0    10   | s_2\n",
      "|   3     2     0     0     1    20   | s_3\n",
      "|  -4    -5     0     0     0     0   |\n",
      "\n",
      "There are negative elements in the bottom row, so the current solution is not optimal. Thus, pivot to improve the current solution. The entering variable is x_2 and the departing variable is s_1.\n",
      "\n",
      "\n",
      "Perform elementary row operations until the pivot is one and all other elements in the entering column are zero.\n",
      "\n",
      "   x_1   x_2   s_1   s_2   s_3    b    \n",
      "|  1/2    1    1/2    0     0     8   | x_2\n",
      "|  1/2    0   -1/2    1     0     2   | s_2\n",
      "|   2     0    -1     0     1     4   | s_3\n",
      "| -3/2    0    5/2    0     0    40   |\n",
      "Current solution: {'x_1': 0, 'x_2': Fraction(8, 1), 's_1': 0, 's_2': Fraction(2, 1), 's_3': Fraction(4, 1), 'z': Fraction(40, 1)}\n",
      "\n",
      "   x_1   x_2   s_1   s_2   s_3    b    \n",
      "|  1/2    1    1/2    0     0     8   | x_2\n",
      "|  1/2    0   -1/2    1     0     2   | s_2\n",
      "|   2     0    -1     0     1     4   | s_3\n",
      "| -3/2    0    5/2    0     0    40   |\n",
      "\n",
      "There are negative elements in the bottom row, so the current solution is not optimal. Thus, pivot to improve the current solution. The entering variable is x_1 and the departing variable is s_3.\n",
      "\n",
      "\n",
      "Perform elementary row operations until the pivot is one and all other elements in the entering column are zero.\n",
      "\n",
      "   x_1   x_2   s_1   s_2   s_3    b    \n",
      "|   0     1    3/4    0   -1/4    7   | x_2\n",
      "|   0     0   -1/4    1   -1/4    1   | s_2\n",
      "|   1     0   -1/2    0    1/2    2   | x_1\n",
      "|   0     0    7/4    0    3/4   43   |\n",
      "Current solution: {'x_1': Fraction(2, 1), 'x_2': Fraction(7, 1), 's_1': 0, 's_2': Fraction(1, 1), 's_3': 0, 'z': Fraction(43, 1)}\n",
      "\n",
      "That's all folks!\n"
     ]
    }
   ],
   "source": [
    "from simplex import SimplexSolver \n",
    "A = [[1, 2],\n",
    "     [1, 1],\n",
    "     [3, 2]]\n",
    "b = [16, 10, 20]\n",
    "c = [4, 5]\n",
    "solver = SimplexSolver()\n",
    "res = solver.run_simplex(A, b, c, prob='max', enable_msg=True, latex_path=None)"
   ]
  },
  {
   "cell_type": "markdown",
   "metadata": {},
   "source": [
    "When the entries in the bottom row are non-negative then we can read off optimal solution of the primal problem at the bottom row."
   ]
  },
  {
   "cell_type": "markdown",
   "metadata": {},
   "source": [
    "The solution of the primal problem is:\n",
    "\n",
    "$x_1 = 7/4, x_2 = 0, x_3 = 3/4$ and $M=43$"
   ]
  },
  {
   "cell_type": "markdown",
   "metadata": {},
   "source": [
    "---\n",
    "## Exercise 9.4.21"
   ]
  },
  {
   "cell_type": "markdown",
   "metadata": {},
   "source": [
    "<img src=\"figures/homework-03/exercise-21.png\" width=\"900\" />\n",
    "\n"
   ]
  },
  {
   "cell_type": "markdown",
   "metadata": {},
   "source": [
    "Since the matrix contains negative values, we add $k=3$ to shift the game.\n",
    "\n",
    "\\begin{equation*}\n",
    "\\begin{bmatrix}\n",
    "\\begin{array}{ccccc|c}\n",
    "  7 &   4 &   1 \\\\ \n",
    "  4 &   6 &   3 \\\\\n",
    "  2 &   3 &   7 \\\\\n",
    "\\end{array}\n",
    "\\end{bmatrix}\n",
    "\\end{equation*}\n",
    "\n",
    "The linear programming problem is to maximise $y_1 + y_2 + y_3$ subject to:\n",
    "\n",
    "\\begin{align*}\n",
    "7 y_1 + 4 y_2 +   y_3 & \\leq 1 \\\\\n",
    "4 y_1 + 6 y_2 + 3 y_3 & \\leq 1 \\\\\n",
    "2 y_1 + 3 y_2 + 7 y_3 & \\leq 1 \\\\\n",
    "\\end{align*}\n",
    "\n",
    "and $y_1 \\leq 0, y_2 \\leq 0, y_3 \\leq 0$.\n"
   ]
  },
  {
   "cell_type": "markdown",
   "metadata": {},
   "source": [
    "The following algorithm converts the problem into a linear programming problem and uses the simplex method to solve the problem."
   ]
  },
  {
   "cell_type": "code",
   "execution_count": 3,
   "metadata": {},
   "outputs": [],
   "source": [
    "import numpy as np\n",
    "from simplex import SimplexSolver \n",
    "\n",
    "def arr_to_str(array):\n",
    "    return '[{}]'.format(', '.join(str(x) for x in array))\n",
    "\n",
    "def solve_matrix_game(A):\n",
    "    A = np.array(A)\n",
    "    \n",
    "    # Ensure that all entries are greater than 0.\n",
    "    # If some of the entries are equal to or less than zero,\n",
    "    # then add a fixed value k to each entry. This will not change\n",
    "    # the optimal strategy for the two players. It will only add\n",
    "    # an amount k to the value of the game.\n",
    "    min_entry = A.min()\n",
    "    k = 0\n",
    "    if min_entry <= 0:\n",
    "        k = min_entry * -1 + 1\n",
    "    A += k\n",
    "    \n",
    "    # b and c are always ones\n",
    "    b = np.ones(A.shape[0], dtype=np.int)\n",
    "    c = np.ones(A.shape[1], dtype=np.int)\n",
    "    \n",
    "    # Solve using the simplex method\n",
    "    solver = SimplexSolver()\n",
    "    res = solver.run_simplex(A, b, c, prob='max', enable_msg=False, latex_path=None)\n",
    "    \n",
    "    # Compute player C's strategy, y_hat\n",
    "    y_bar = np.array([res[k] for k in res.keys() if k.startswith('x_')])\n",
    "    _lambda = np.array(y_bar).sum()\n",
    "    y_hat = y_bar / _lambda\n",
    "    \n",
    "    # Compute player R's strategy, x_hat\n",
    "    margin_values = solver.get_marginal_values()\n",
    "    x_bar = np.array(margin_values)\n",
    "    # x_delta = x_bar.sum()\n",
    "    x_hat = x_bar / _lambda\n",
    "\n",
    "    # Compute the value of the game\n",
    "    # Substract the amount k added to the payoff matrix\n",
    "    v = 1/_lambda - k\n",
    "\n",
    "    print(\"Row player's strategy: {}\".format(arr_to_str(x_hat)))\n",
    "    print(\"Column player's strategy: {}\".format(arr_to_str(y_hat)))\n",
    "    print('Value of the game: {}'.format(v))\n",
    "    #return x_hat, y_hat, v\n"
   ]
  },
  {
   "cell_type": "code",
   "execution_count": 4,
   "metadata": {},
   "outputs": [
    {
     "name": "stdout",
     "output_type": "stream",
     "text": [
      "Row player's strategy: [11/35, 9/35, 3/7]\n",
      "Column player's strategy: [2/5, 8/35, 13/35]\n",
      "Value of the game: 38/35\n"
     ]
    }
   ],
   "source": [
    "A = [[ 4,  1,  -2],\n",
    "     [ 1,  3,   0],\n",
    "     [-1,  0,   4]]\n",
    "solve_matrix_game(A)"
   ]
  },
  {
   "cell_type": "markdown",
   "metadata": {},
   "source": [
    "The expected value of the portfolio is $38/35$ based on a payoff matrix for an investment of 100 USD. \n",
    "\n",
    "With 35,000 USD to invest, Bob plays this game 350 times. The expected payout is 380 USD. By the end of the year, the expected value of the portfolio has increased to 35,380.\n",
    "\n",
    "Using the optimal game strategy, Bob should invest $11/35 \\approx 31 \\%$ in stocks, $9/35 \\approx 26 \\%$ in bonds and $3/7 \\approx 43  \\%$ in gold."
   ]
  }
 ],
 "metadata": {
  "kernelspec": {
   "display_name": "Python 3",
   "language": "python",
   "name": "python3"
  },
  "language_info": {
   "codemirror_mode": {
    "name": "ipython",
    "version": 3
   },
   "file_extension": ".py",
   "mimetype": "text/x-python",
   "name": "python",
   "nbconvert_exporter": "python",
   "pygments_lexer": "ipython3",
   "version": "3.6.6"
  }
 },
 "nbformat": 4,
 "nbformat_minor": 2
}
