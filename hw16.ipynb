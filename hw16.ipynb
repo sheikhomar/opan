{
 "cells": [
  {
   "cell_type": "markdown",
   "metadata": {},
   "source": [
    "# Homework 16: Unsupervised Learning"
   ]
  },
  {
   "cell_type": "code",
   "execution_count": 1,
   "metadata": {},
   "outputs": [
    {
     "data": {
      "text/html": [
       "<style type=\"text/css\">.sidenote {\n",
       "  border: solid 1px green !important;\n",
       "  background: #cdffd8 !important;\n",
       "  padding: 10px !important;\n",
       "  border-radius: 2px !important;\n",
       "}\n",
       "\n",
       ".warning {\n",
       "  border: solid 1px #8a6d3b !important;\n",
       "  background: #fcf8e3 !important;\n",
       "  padding: 10px !important;\n",
       "  border-radius: 2px !important;\n",
       "}\n",
       "\n",
       ".green {\n",
       "  color: #006600 !important;\n",
       "}\n",
       "\n",
       ".red {\n",
       "  color: #cc0000 !important;\n",
       "}</style>Stylesheet \"styles.css\" loaded."
      ],
      "text/plain": [
       "<IPython.core.display.HTML object>"
      ]
     },
     "metadata": {},
     "output_type": "display_data"
    }
   ],
   "source": [
    "import numpy as np\n",
    "import matplotlib.pyplot as plt\n",
    "import sympy as sy\n",
    "import utils as utils\n",
    "from fractions import Fraction\n",
    "\n",
    "from IPython.display import display, HTML\n",
    "\n",
    "# Inline plotting\n",
    "%matplotlib inline\n",
    "\n",
    "# Make sympy print pretty math expressions\n",
    "sy.init_printing()\n",
    "\n",
    "utils.load_custom_styles()"
   ]
  },
  {
   "cell_type": "markdown",
   "metadata": {},
   "source": []
  },
  {
   "cell_type": "markdown",
   "metadata": {},
   "source": [
    "---\n",
    "## Exercise 2.1\n",
    "\n",
    "<img src=\"figures/homework-16/equation-2.16.png\" width=\"600\" />\n",
    "\n",
    "<img src=\"figures/homework-16/equation-2.17.png\" width=\"600\" />\n",
    "\n",
    "\n",
    "\n",
    "\n",
    "\n",
    "\n",
    "\n",
    "<img src=\"figures/homework-16/exercise-2.1.png\" width=\"600\" />\n",
    "\n",
    "\n",
    "\n",
    "\n"
   ]
  },
  {
   "cell_type": "code",
   "execution_count": null,
   "metadata": {},
   "outputs": [],
   "source": []
  },
  {
   "cell_type": "markdown",
   "metadata": {},
   "source": [
    "---\n",
    "## Exercise 2.2\n",
    "\n",
    "\n",
    "<img src=\"figures/homework-16/exercise-2.2.png\" width=\"600\" />\n",
    "\n",
    "\n",
    "\n",
    "\n",
    "\n",
    "\n",
    "\n",
    "\n",
    "\n",
    "\n",
    "\n",
    "\n",
    "\n"
   ]
  },
  {
   "cell_type": "code",
   "execution_count": 2,
   "metadata": {},
   "outputs": [
    {
     "data": {
      "image/png": "[encoded data removed]",
      "text/latex": [
       "$$\\left ( 2, \\quad 12\\right )$$"
      ],
      "text/plain": [
       "(2, 12)"
      ]
     },
     "execution_count": 2,
     "metadata": {},
     "output_type": "execute_result"
    }
   ],
   "source": [
    "X = [[-1,   0, -0.5, -1.5, -2,  0,   -1, 1, 1.3, 0.7, 2.5, 0],\n",
    "     [ 0 , -1, -0.5, -1.5,  0, -2, -1.3, 1, 0.7, 1.3,   1, 1]]\n",
    "X = np.array(X)\n",
    "X.shape"
   ]
  },
  {
   "cell_type": "code",
   "execution_count": 3,
   "metadata": {},
   "outputs": [],
   "source": [
    "M = np.array([[-1, -0.9],\n",
    "              [-1,    0]])"
   ]
  },
  {
   "cell_type": "code",
   "execution_count": 4,
   "metadata": {},
   "outputs": [
    {
     "data": {
      "image/png": "[encoded data removed]",
      "text/plain": [
       "<Figure size 720x432 with 1 Axes>"
      ]
     },
     "metadata": {
      "needs_background": "light"
     },
     "output_type": "display_data"
    }
   ],
   "source": [
    "fig, ax = plt.subplots(figsize=(10, 6))\n",
    "ax.scatter(X[0], X[1], color='#aaaaaa', label='Data points')\n",
    "centroid1 = M[:,0] \n",
    "centroid2 = M[:,1] \n",
    "ax.scatter(centroid1[0], centroid1[1], marker='x', color='orange', label='Centroid 1')\n",
    "ax.scatter(centroid2[0], centroid2[1], marker='x', color='green', label='Centroid 2')\n",
    "ax.legend();"
   ]
  },
  {
   "cell_type": "code",
   "execution_count": 5,
   "metadata": {},
   "outputs": [],
   "source": [
    "from sklearn.metrics import pairwise_distances\n",
    "\n",
    "def batchKMeans(X, M, max_iterations=10):\n",
    "    centroids = M.copy()\n",
    "    assert(X.shape[0] == centroids.shape[0])\n",
    "    K = centroids.shape[1]\n",
    "    print('K=%s' % K)\n",
    "    clusters = []\n",
    "    for k in range(K):\n",
    "        clusters.append({'centroid': centroids.T[k], 'members': []})\n",
    "    results = {\n",
    "        'iterations': [],\n",
    "        'final_clustering': None\n",
    "    }\n",
    "    print('Initial Centroids')\n",
    "    print(centroids)\n",
    "    for i in range(max_iterations):\n",
    "        # Compute pairwise distances\n",
    "        distances = pairwise_distances(X.T, centroids.T)\n",
    "        \n",
    "        # Determine which cluster each data point belongs to \n",
    "        cluster_indices = distances.argmin(axis=1)\n",
    "        \n",
    "        # Reset data point from previous iteration\n",
    "        for k in range(K):\n",
    "            clusters[k]['members'] = []\n",
    "            \n",
    "        # Assign each data point to a cluster based on the closest centroid\n",
    "        for data_idx, cluster_idx in enumerate(cluster_indices):\n",
    "            clusters[cluster_idx]['members'].append(X[:,data_idx])\n",
    "        print('\\n\\nIteration %s' % (i+1))\n",
    "        \n",
    "            \n",
    "        print('\\nLabels')\n",
    "        print(cluster_indices)\n",
    "        \n",
    "        print('\\nDistances')\n",
    "        print(distances.T)\n",
    "        \n",
    "        # Recompute the centroids\n",
    "        for k in range(K):\n",
    "            new_centroid = np.mean(clusters[k]['members'], axis=0)\n",
    "            centroids[:, k] = new_centroid\n",
    "            clusters[k]['centroid'] = new_centroid\n",
    "            \n",
    "        print('\\nNew centroids')\n",
    "        print(centroids)\n",
    "        \n",
    "        results['iterations'].append({\n",
    "            'distances': distances.T,\n",
    "            'cluster_indices': cluster_indices,\n",
    "            'clustering': clusters\n",
    "        })\n",
    "    results['final_clustering'] = clusters\n",
    "    return results"
   ]
  },
  {
   "cell_type": "code",
   "execution_count": 6,
   "metadata": {},
   "outputs": [
    {
     "name": "stdout",
     "output_type": "stream",
     "text": [
      "K=2\n",
      "Initial Centroids\n",
      "[[-1.  -0.9]\n",
      " [-1.   0. ]]\n",
      "\n",
      "\n",
      "Iteration 1\n",
      "\n",
      "Labels\n",
      "[1 0 1 0 1 0 0 1 1 1 1 1]\n",
      "\n",
      "Distances\n",
      "[[1.         1.         0.70710678 0.70710678 1.41421356 1.41421356\n",
      "  0.3        2.82842712 2.86006993 2.86006993 4.03112887 2.23606798]\n",
      " [0.1        1.3453624  0.64031242 1.61554944 1.1        2.19317122\n",
      "  1.30384048 2.14709106 2.30867928 2.06155281 3.54400903 1.3453624 ]]\n",
      "\n",
      "New centroids\n",
      "[[-0.625   0.25  ]\n",
      " [-1.45    0.5625]]\n",
      "\n",
      "\n",
      "Iteration 2\n",
      "\n",
      "Labels\n",
      "[1 0 0 0 0 0 0 1 1 1 1 1]\n",
      "\n",
      "Distances\n",
      "[[1.49770658 0.77014609 0.95818839 0.87642741 1.99828051 0.83254129\n",
      "  0.40388736 2.93991922 2.8858491  3.0525604  3.97090985 2.52846297]\n",
      " [1.37073201 1.58237361 1.30054075 2.70488563 2.31924691 2.57466624\n",
      "  2.24307964 0.86827775 1.05896471 0.86394806 2.2921401  0.50389111]]\n",
      "\n",
      "New centroids\n",
      "[[-0.83333333  0.75      ]\n",
      " [-1.05        0.83333333]]\n",
      "\n",
      "\n",
      "Iteration 3\n",
      "\n",
      "Labels\n",
      "[0 0 0 0 0 0 0 1 1 1 1 1]\n",
      "\n",
      "Distances\n",
      "[[1.06314523 0.83483199 0.64312605 0.80432857 1.56958947 1.26370267\n",
      "  0.30046261 2.75020201 2.75927728 2.80599557 3.91326093 2.21290407]\n",
      " [1.93828389 1.98081072 1.82764268 3.24144172 2.87348994 2.93091757\n",
      "  2.75927728 0.30046261 0.56593089 0.46933759 1.75791859 0.76829537]]\n",
      "\n",
      "New centroids\n",
      "[[-0.85714286  1.1       ]\n",
      " [-0.9         1.        ]]\n"
     ]
    }
   ],
   "source": [
    "result = batchKMeans(X, M, 3)"
   ]
  },
  {
   "cell_type": "code",
   "execution_count": 7,
   "metadata": {},
   "outputs": [
    {
     "data": {
      "image/png": "[encoded data removed]",
      "text/plain": [
       "<Figure size 720x432 with 1 Axes>"
      ]
     },
     "metadata": {
      "needs_background": "light"
     },
     "output_type": "display_data"
    }
   ],
   "source": [
    "fig, ax = plt.subplots(figsize=(10, 6))\n",
    "\n",
    "colors = ['orange', 'green']\n",
    "clusters = result['final_clustering']\n",
    "\n",
    "K = len(clusters)\n",
    "for k in range(K):\n",
    "    centroid = clusters[k]['centroid']\n",
    "    data_points = np.array(clusters[k]['members']).T\n",
    "    \n",
    "    ax.scatter(centroid[0], centroid[1], marker='x', color=colors[k], label='Centroid (k=%s)' % k)\n",
    "    ax.scatter(data_points[0], data_points[1], color=colors[k], label='Members (k=%s)' % k)\n",
    "    \n",
    "ax.legend();\n"
   ]
  },
  {
   "cell_type": "markdown",
   "metadata": {},
   "source": [
    "---\n",
    "## Exercise 2.3\n",
    "\n",
    "\n",
    "<img src=\"figures/homework-16/exercise-2.3.png\" width=\"600\" />\n",
    "\n",
    "\n"
   ]
  },
  {
   "cell_type": "code",
   "execution_count": 8,
   "metadata": {},
   "outputs": [],
   "source": [
    "def fuzzyKMeans(X, M, gamma, max_iterations=10):\n",
    "    centroids = M.copy()\n",
    "    assert(X.shape[0] == centroids.shape[0])\n",
    "    N = X.shape[1]\n",
    "    K = centroids.shape[1]\n",
    "    \n",
    "    print('Initial Centroids')\n",
    "    print(centroids)\n",
    "    for iteration in range(max_iterations):\n",
    "        # Compute membership vectors\n",
    "        a_ik = np.zeros((N, K))\n",
    "        for i in range(N):\n",
    "            for k in range(K):\n",
    "                x_i = X.T[i]\n",
    "                mu_k = centroids.T[k]\n",
    "                distance = np.linalg.norm(x_i - mu_k)\n",
    "                a_ik[i, k] = np.power(distance, -gamma)\n",
    "\n",
    "        # Normalise membership vectors\n",
    "        a_ik = (a_ik.T / a_ik.sum(axis=1)).T\n",
    "        \n",
    "        print('\\nMembership vectors')\n",
    "        print(a_ik)\n",
    "        \n",
    "        for k in range(K):\n",
    "            new_centroid = np.sum(a_ik[:,k] * X, axis=1)\n",
    "            centroids[:, k] = new_centroid\n",
    "        \n",
    "        print('\\nNew centroids')\n",
    "        print(centroids)"
   ]
  },
  {
   "cell_type": "code",
   "execution_count": 9,
   "metadata": {},
   "outputs": [
    {
     "name": "stdout",
     "output_type": "stream",
     "text": [
      "Initial Centroids\n",
      "[[-1.  -0.9]\n",
      " [-1.   0. ]]\n",
      "\n",
      "Membership vectors\n",
      "[[0.00990099 0.99009901]\n",
      " [0.64412811 0.35587189]\n",
      " [0.45054945 0.54945055]\n",
      " [0.8392283  0.1607717 ]\n",
      " [0.37694704 0.62305296]\n",
      " [0.70631424 0.29368576]\n",
      " [0.94972067 0.05027933]\n",
      " [0.36558287 0.63441713]\n",
      " [0.39452258 0.60547742]\n",
      " [0.34191472 0.65808528]\n",
      " [0.43595974 0.56404026]\n",
      " [0.26578561 0.73421439]]\n",
      "\n",
      "New centroids\n",
      "[[-0.98993104  0.48993104]\n",
      " [-2.98752748  1.68752748]]\n",
      "\n",
      "Membership vectors\n",
      "[[0.36215392 0.63784608]\n",
      " [0.60217841 0.39782159]\n",
      " [0.47282941 0.52717059]\n",
      " [0.85096736 0.14903264]\n",
      " [0.47635837 0.52364163]\n",
      " [0.87620047 0.12379953]\n",
      " [0.79648131 0.20351869]\n",
      " [0.03558792 0.96441208]\n",
      " [0.07968627 0.92031373]\n",
      " [0.00906574 0.99093426]\n",
      " [0.13846722 0.86153278]\n",
      " [0.04051178 0.95948822]]\n",
      "\n",
      "New centroids\n",
      "[[-3.13252356  2.63252356]\n",
      " [-4.62073803  3.32073803]]\n",
      "\n",
      "Membership vectors\n",
      "[[0.48327712 0.51672288]\n",
      " [0.52758071 0.47241929]\n",
      " [0.50517453 0.49482547]\n",
      " [0.76472291 0.23527709]\n",
      " [0.58938221 0.41061779]\n",
      " [0.6787265  0.3212735 ]\n",
      " [0.68925536 0.31074464]\n",
      " [0.14193862 0.85806138]\n",
      " [0.15271506 0.84728494]\n",
      " [0.13582069 0.86417931]\n",
      " [0.07862743 0.92137257]\n",
      " [0.22925695 0.77074305]]\n",
      "\n",
      "New centroids\n",
      "[[-3.11885728  2.61885728]\n",
      " [-3.44744687  2.14744687]]\n"
     ]
    }
   ],
   "source": [
    "fuzzyKMeans(X, M, gamma=2, max_iterations=3)"
   ]
  },
  {
   "cell_type": "markdown",
   "metadata": {},
   "source": [
    "---\n",
    "## Exercise 2.4\n",
    "\n",
    "\n",
    "<img src=\"figures/homework-16/exercise-2.4.png\" width=\"600\" />\n",
    "\n",
    "\n",
    "\n"
   ]
  },
  {
   "cell_type": "code",
   "execution_count": null,
   "metadata": {},
   "outputs": [],
   "source": []
  },
  {
   "cell_type": "markdown",
   "metadata": {},
   "source": [
    "---\n",
    "### Exercise 2.4a\n",
    "\n",
    "<img src=\"figures/homework-16/exercise-2.4-a.png\" width=\"600\" />\n",
    "\n"
   ]
  },
  {
   "cell_type": "code",
   "execution_count": null,
   "metadata": {},
   "outputs": [],
   "source": []
  },
  {
   "cell_type": "markdown",
   "metadata": {},
   "source": [
    "---\n",
    "### Exercise 2.4b\n",
    "\n",
    "<img src=\"figures/homework-16/exercise-2.4-b.png\" width=\"600\" />\n",
    "\n",
    "\n"
   ]
  },
  {
   "cell_type": "code",
   "execution_count": null,
   "metadata": {},
   "outputs": [],
   "source": []
  },
  {
   "cell_type": "markdown",
   "metadata": {},
   "source": [
    "---\n",
    "### Exercise 2.4c\n",
    "\n",
    "<img src=\"figures/homework-16/exercise-2.4-c.png\" width=\"600\" />\n",
    "\n"
   ]
  },
  {
   "cell_type": "code",
   "execution_count": null,
   "metadata": {},
   "outputs": [],
   "source": []
  },
  {
   "cell_type": "markdown",
   "metadata": {},
   "source": [
    "---\n",
    "## Exercise 2.5\n",
    "\n",
    "\n",
    "<img src=\"figures/homework-16/exercise-2.5.png\" width=\"600\" />\n",
    "\n",
    "\n",
    "\n",
    "\n",
    "\n",
    "\n",
    "\n",
    "\n",
    "\n",
    "\n",
    "\n",
    "\n",
    "\n"
   ]
  },
  {
   "cell_type": "code",
   "execution_count": null,
   "metadata": {},
   "outputs": [],
   "source": []
  }
 ],
 "metadata": {
  "kernelspec": {
   "display_name": "Python 3",
   "language": "python",
   "name": "python3"
  },
  "language_info": {
   "codemirror_mode": {
    "name": "ipython",
    "version": 3
   },
   "file_extension": ".py",
   "mimetype": "text/x-python",
   "name": "python",
   "nbconvert_exporter": "python",
   "pygments_lexer": "ipython3",
   "version": "3.6.6"
  }
 },
 "nbformat": 4,
 "nbformat_minor": 2
}
