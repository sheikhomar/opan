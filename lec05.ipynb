{
 "cells": [
  {
   "cell_type": "markdown",
   "metadata": {},
   "source": [
    "# Lecture 5: Problems with Equality Constraints"
   ]
  },
  {
   "cell_type": "code",
   "execution_count": 1,
   "metadata": {},
   "outputs": [],
   "source": [
    "import numpy as np\n",
    "import matplotlib.pyplot as plt\n",
    "import sympy as sy\n",
    "from func import Func\n",
    "\n",
    "# Inline plotting\n",
    "%matplotlib inline\n",
    "\n",
    "# Make sympy print pretty math expressions\n",
    "sy.init_printing()"
   ]
  },
  {
   "cell_type": "markdown",
   "metadata": {},
   "source": [
    "<img src=\"figures/lecture-05/problem-formulation.png\" width=\"600\" />\n"
   ]
  },
  {
   "cell_type": "code",
   "execution_count": null,
   "metadata": {},
   "outputs": [],
   "source": []
  },
  {
   "cell_type": "markdown",
   "metadata": {},
   "source": [
    "**Definition**: A point $x^{*}$ satisfying the constraints $h_i(x^{*})=0$ where $i = 1, 2, \\cdots, m$ is said to be a **regular point** of the constraints if the gradient vectors $\\triangledown h_1(x^{*}), \\triangledown h_2(x^{*}), \\cdots, \\triangledown h_m(x^{*})$ are linearly independent. "
   ]
  },
  {
   "cell_type": "code",
   "execution_count": null,
   "metadata": {},
   "outputs": [],
   "source": []
  },
  {
   "cell_type": "markdown",
   "metadata": {},
   "source": [
    "**Definition**: Any point satisfying the equality contraints $h_i(x)=0$ --- $h_i : \\mathbb{R}^n \\to \\mathbb{R}$ --- is called a *feasible point*. The set of all feasible points $S$ describes a surface:\n",
    "\\begin{equation}\n",
    "S = \\{ x \\in \\mathbb{R}^n \\mid h_1(x)=0, h_2(x)=0, \\cdots, h_m(x)=0  \\}\n",
    "\\end{equation}"
   ]
  },
  {
   "cell_type": "code",
   "execution_count": null,
   "metadata": {},
   "outputs": [],
   "source": []
  },
  {
   "cell_type": "markdown",
   "metadata": {},
   "source": [
    "**Definition**: The dimension of a vector space $S$ is the minimal number of vectors $\\{ x_1, x_2, \\cdots, x_n \\}$ necessary so that the Span$(x_1, x_2, \\cdots\\, x_n)=S$"
   ]
  },
  {
   "cell_type": "markdown",
   "metadata": {},
   "source": [
    "Assuming that the points in $S$ are regular, the dimension of the surface $S$ is $n-m$."
   ]
  },
  {
   "cell_type": "code",
   "execution_count": null,
   "metadata": {},
   "outputs": [],
   "source": []
  },
  {
   "cell_type": "markdown",
   "metadata": {},
   "source": [
    "<img src=\"figures/lecture-05/example-20.3.png\" width=\"600\" />\n"
   ]
  },
  {
   "cell_type": "code",
   "execution_count": null,
   "metadata": {},
   "outputs": [],
   "source": []
  },
  {
   "cell_type": "markdown",
   "metadata": {},
   "source": [
    "<img src=\"figures/lecture-05/definition-20.3.png\" width=\"600\" />\n"
   ]
  },
  {
   "cell_type": "code",
   "execution_count": null,
   "metadata": {},
   "outputs": [],
   "source": []
  },
  {
   "cell_type": "markdown",
   "metadata": {},
   "source": [
    "<img src=\"figures/lecture-05/definition-20.5.png\" width=\"600\" />\n"
   ]
  },
  {
   "cell_type": "code",
   "execution_count": null,
   "metadata": {},
   "outputs": [],
   "source": []
  },
  {
   "cell_type": "markdown",
   "metadata": {},
   "source": [
    "<img src=\"figures/lecture-05/definition-20.6.png\" width=\"600\" />\n"
   ]
  },
  {
   "cell_type": "code",
   "execution_count": null,
   "metadata": {},
   "outputs": [],
   "source": []
  },
  {
   "cell_type": "markdown",
   "metadata": {},
   "source": [
    "<img src=\"figures/lecture-05/lemma-20.1.png\" width=\"600\" />\n"
   ]
  },
  {
   "cell_type": "code",
   "execution_count": null,
   "metadata": {},
   "outputs": [],
   "source": []
  },
  {
   "cell_type": "markdown",
   "metadata": {},
   "source": [
    "\n",
    "<img src=\"figures/lecture-05/figure-20.9.png\" width=\"600\" />\n",
    "\n"
   ]
  },
  {
   "cell_type": "code",
   "execution_count": null,
   "metadata": {},
   "outputs": [],
   "source": []
  },
  {
   "cell_type": "markdown",
   "metadata": {},
   "source": [
    "<img src=\"figures/lecture-05/theorem-20.2.png\" width=\"600\" />\n",
    "\n",
    "\n"
   ]
  },
  {
   "cell_type": "code",
   "execution_count": null,
   "metadata": {},
   "outputs": [],
   "source": []
  },
  {
   "cell_type": "markdown",
   "metadata": {},
   "source": [
    "<img src=\"figures/lecture-05/figure-20.10.png\" width=\"600\" />\n",
    "\n"
   ]
  },
  {
   "cell_type": "code",
   "execution_count": null,
   "metadata": {},
   "outputs": [],
   "source": []
  },
  {
   "cell_type": "markdown",
   "metadata": {},
   "source": [
    "<img src=\"figures/lecture-05/theorem-20.3.png\" width=\"600\" />\n",
    "\n",
    "\n"
   ]
  },
  {
   "cell_type": "code",
   "execution_count": null,
   "metadata": {},
   "outputs": [],
   "source": []
  },
  {
   "cell_type": "markdown",
   "metadata": {},
   "source": [
    "<img src=\"figures/lecture-05/figure-20.11.png\" width=\"600\" />\n",
    "\n",
    "\n"
   ]
  },
  {
   "cell_type": "code",
   "execution_count": null,
   "metadata": {},
   "outputs": [],
   "source": []
  },
  {
   "cell_type": "markdown",
   "metadata": {},
   "source": [
    "<img src=\"figures/lecture-05/example-20.6.png\" width=\"600\" />\n"
   ]
  },
  {
   "cell_type": "code",
   "execution_count": null,
   "metadata": {},
   "outputs": [],
   "source": []
  },
  {
   "cell_type": "markdown",
   "metadata": {},
   "source": [
    "<img src=\"figures/lecture-05/example-20.6-continued.png\" width=\"600\" />\n"
   ]
  },
  {
   "cell_type": "code",
   "execution_count": null,
   "metadata": {},
   "outputs": [],
   "source": []
  },
  {
   "cell_type": "markdown",
   "metadata": {},
   "source": [
    "<img src=\"figures/lecture-05/example-20.7.png\" width=\"600\" />\n"
   ]
  },
  {
   "cell_type": "code",
   "execution_count": null,
   "metadata": {},
   "outputs": [],
   "source": []
  },
  {
   "cell_type": "markdown",
   "metadata": {},
   "source": [
    "<img src=\"figures/lecture-05/figure-20.14.png\" width=\"600\" />\n"
   ]
  },
  {
   "cell_type": "code",
   "execution_count": null,
   "metadata": {},
   "outputs": [],
   "source": []
  },
  {
   "cell_type": "markdown",
   "metadata": {},
   "source": [
    "<img src=\"figures/lecture-05/example-20.8.png\" width=\"600\" />\n"
   ]
  },
  {
   "cell_type": "markdown",
   "metadata": {},
   "source": [
    "<img src=\"figures/lecture-05/example-20.8-continued.png\" width=\"600\" />\n"
   ]
  },
  {
   "cell_type": "code",
   "execution_count": null,
   "metadata": {},
   "outputs": [],
   "source": []
  },
  {
   "cell_type": "markdown",
   "metadata": {},
   "source": [
    "---\n",
    "\n",
    "Minimise $6x^2 + 12y^2$ subject to $x+y=90$.\n",
    "\n",
    "- Step 1: Take the objective function and subtract from $\\lambda$ multiplied by the constraint:\n",
    "\n",
    "$$\n",
    "6x^2 + 12y^2 - \\lambda(x+y-90)\n",
    "$$"
   ]
  },
  {
   "cell_type": "code",
   "execution_count": 2,
   "metadata": {},
   "outputs": [
    {
     "data": {
      "text/latex": [
       "$$\\left[\\begin{matrix}- \\lambda \\left(x + y - 90\\right) + 6 x^{2} + 12 y^{2}\\end{matrix}\\right]$$"
      ],
      "text/plain": [
       "⎡                     2       2⎤\n",
       "⎣-λ⋅(x + y - 90) + 6⋅x  + 12⋅y ⎦"
      ]
     },
     "execution_count": 2,
     "metadata": {},
     "output_type": "execute_result"
    }
   ],
   "source": [
    "x, y, lamda = sy.symbols('x, y, lamda')\n",
    "f = 6*x**2 + 12*y**2 - lamda * (x + y - 90)\n",
    "F = sy.Matrix([f])\n",
    "F"
   ]
  },
  {
   "cell_type": "markdown",
   "metadata": {},
   "source": [
    "- Step 2: Compute the derivative with respect $x, y$ and $\\lambda$:"
   ]
  },
  {
   "cell_type": "code",
   "execution_count": 3,
   "metadata": {},
   "outputs": [
    {
     "data": {
      "text/latex": [
       "$$\\left[\\begin{matrix}- \\lambda + 12 x & - \\lambda + 24 y & - x - y + 90\\end{matrix}\\right]$$"
      ],
      "text/plain": [
       "[-λ + 12⋅x  -λ + 24⋅y  -x - y + 90]"
      ]
     },
     "execution_count": 3,
     "metadata": {},
     "output_type": "execute_result"
    }
   ],
   "source": [
    "dF = F.jacobian((x, y, lamda))\n",
    "dF"
   ]
  },
  {
   "cell_type": "markdown",
   "metadata": {},
   "source": [
    " - Step 3: Solve it for $x, y$ and $\\lambda$ to find the points where the objective function is maximised or minimised:"
   ]
  },
  {
   "cell_type": "code",
   "execution_count": 4,
   "metadata": {},
   "outputs": [
    {
     "data": {
      "image/png": "[encoded data removed]",
      "text/latex": [
       "$$\\left\\{\\left ( 60, \\quad 30, \\quad 720\\right )\\right\\}$$"
      ],
      "text/plain": [
       "{(60, 30, 720)}"
      ]
     },
     "execution_count": 4,
     "metadata": {},
     "output_type": "execute_result"
    }
   ],
   "source": [
    "sy.nonlinsolve(dF, (x, y, lamda))"
   ]
  },
  {
   "cell_type": "markdown",
   "metadata": {},
   "source": [
    "- Step 4: Evaluate the function at $x=60$ and $y=30$."
   ]
  },
  {
   "cell_type": "code",
   "execution_count": 5,
   "metadata": {},
   "outputs": [
    {
     "data": {
      "image/png": "[encoded data removed]",
      "text/latex": [
       "$$32400.0$$"
      ],
      "text/plain": [
       "32400.0000000000"
      ]
     },
     "execution_count": 5,
     "metadata": {},
     "output_type": "execute_result"
    }
   ],
   "source": [
    "f = 6*x**2 + 12*y**2\n",
    "f.evalf(subs={\"x\": 60, \"y\": 30})"
   ]
  },
  {
   "cell_type": "markdown",
   "metadata": {},
   "source": [
    " - Step 5: Determine if it is a minimum or a maximum by evaluating another point that satisfies the constraint $x+y=90$:"
   ]
  },
  {
   "cell_type": "code",
   "execution_count": 6,
   "metadata": {},
   "outputs": [
    {
     "data": {
      "image/png": "[encoded data removed]",
      "text/latex": [
       "$$32418.0$$"
      ],
      "text/plain": [
       "32418.0000000000"
      ]
     },
     "execution_count": 6,
     "metadata": {},
     "output_type": "execute_result"
    }
   ],
   "source": [
    "f.evalf(subs={\"x\": 59, \"y\": 31})"
   ]
  },
  {
   "cell_type": "markdown",
   "metadata": {},
   "source": [
    "---\n",
    "Find the maximum and the minimum values of the function $x^2 + x + 2y^2 + 3z^2$ subject to $x^2 + y^2 + z^2 = 1$."
   ]
  },
  {
   "cell_type": "code",
   "execution_count": 7,
   "metadata": {},
   "outputs": [
    {
     "data": {
      "text/latex": [
       "$$\\left[\\begin{matrix}- \\lambda \\left(x^{2} + y^{2} + z^{2} - 1\\right) + x^{2} + x + 2 y^{2} + 3 z^{2}\\end{matrix}\\right]$$"
      ],
      "text/plain": [
       "⎡    ⎛ 2    2    2    ⎞    2          2      2⎤\n",
       "⎣- λ⋅⎝x  + y  + z  - 1⎠ + x  + x + 2⋅y  + 3⋅z ⎦"
      ]
     },
     "execution_count": 7,
     "metadata": {},
     "output_type": "execute_result"
    }
   ],
   "source": [
    "x, y, z, lamda = sy.symbols('x, y, z, lamda')\n",
    "f = x**2 + x + 2*y**2 + 3*z**2 - lamda * (x**2 + y**2 + z**2 - 1)\n",
    "F = sy.Matrix([f])\n",
    "F"
   ]
  },
  {
   "cell_type": "code",
   "execution_count": 8,
   "metadata": {},
   "outputs": [
    {
     "data": {
      "text/latex": [
       "$$\\left[\\begin{matrix}- 2 \\lambda x + 2 x + 1 & - 2 \\lambda y + 4 y & - 2 \\lambda z + 6 z & - x^{2} - y^{2} - z^{2} + 1\\end{matrix}\\right]$$"
      ],
      "text/plain": [
       "⎡                                                 2    2    2    ⎤\n",
       "⎣-2⋅λ⋅x + 2⋅x + 1  -2⋅λ⋅y + 4⋅y  -2⋅λ⋅z + 6⋅z  - x  - y  - z  + 1⎦"
      ]
     },
     "execution_count": 8,
     "metadata": {},
     "output_type": "execute_result"
    }
   ],
   "source": [
    "dF = F.jacobian((x, y, z, lamda))\n",
    "dF"
   ]
  },
  {
   "cell_type": "code",
   "execution_count": 9,
   "metadata": {},
   "outputs": [
    {
     "data": {
      "image/png": "[encoded data removed]",
      "text/latex": [
       "$$\\left\\{\\left ( -1, \\quad 0, \\quad 0, \\quad \\frac{1}{2}\\right ), \\left ( \\frac{1}{4}, \\quad 0, \\quad - \\frac{\\sqrt{15}}{4}, \\quad 3\\right ), \\left ( \\frac{1}{4}, \\quad 0, \\quad \\frac{\\sqrt{15}}{4}, \\quad 3\\right ), \\left ( \\frac{1}{2}, \\quad - \\frac{\\sqrt{3}}{2}, \\quad 0, \\quad 2\\right ), \\left ( \\frac{1}{2}, \\quad \\frac{\\sqrt{3}}{2}, \\quad 0, \\quad 2\\right ), \\left ( 1, \\quad 0, \\quad 0, \\quad \\frac{3}{2}\\right )\\right\\}$$"
      ],
      "text/plain": [
       "⎧                 ⎛        -√15    ⎞  ⎛        √15   ⎞  ⎛     -√3       ⎞  ⎛  \n",
       "⎨(-1, 0, 0, 1/2), ⎜1/4, 0, ─────, 3⎟, ⎜1/4, 0, ───, 3⎟, ⎜1/2, ────, 0, 2⎟, ⎜1/\n",
       "⎩                 ⎝          4     ⎠  ⎝         4    ⎠  ⎝      2        ⎠  ⎝  \n",
       "\n",
       "   √3      ⎞                ⎫\n",
       "2, ──, 0, 2⎟, (1, 0, 0, 3/2)⎬\n",
       "   2       ⎠                ⎭"
      ]
     },
     "execution_count": 9,
     "metadata": {},
     "output_type": "execute_result"
    }
   ],
   "source": [
    "sy.nonlinsolve(dF, (x, y, z, lamda))"
   ]
  },
  {
   "cell_type": "code",
   "execution_count": null,
   "metadata": {},
   "outputs": [],
   "source": []
  }
 ],
 "metadata": {
  "kernelspec": {
   "display_name": "Python 3",
   "language": "python",
   "name": "python3"
  },
  "language_info": {
   "codemirror_mode": {
    "name": "ipython",
    "version": 3
   },
   "file_extension": ".py",
   "mimetype": "text/x-python",
   "name": "python",
   "nbconvert_exporter": "python",
   "pygments_lexer": "ipython3",
   "version": "3.6.6"
  }
 },
 "nbformat": 4,
 "nbformat_minor": 2
}
