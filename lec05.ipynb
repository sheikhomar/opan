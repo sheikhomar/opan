{
 "cells": [
  {
   "cell_type": "markdown",
   "metadata": {},
   "source": [
    "# Lecture 5: Problems with Equality Constraints"
   ]
  },
  {
   "cell_type": "code",
   "execution_count": 1,
   "metadata": {},
   "outputs": [],
   "source": [
    "import numpy as np\n",
    "import matplotlib.pyplot as plt\n",
    "import sympy as sy\n",
    "from func import Func\n",
    "\n",
    "# Inline plotting\n",
    "%matplotlib inline\n",
    "\n",
    "# Make sympy print pretty math expressions\n",
    "sy.init_printing()"
   ]
  },
  {
   "cell_type": "markdown",
   "metadata": {},
   "source": [
    "<img src=\"figures/lecture-05/problem-formulation.png\" width=\"600\" />\n"
   ]
  },
  {
   "cell_type": "markdown",
   "metadata": {},
   "source": [
    "**Definition**: A point $x^{*}$ satisfying the constraints $h_i(x^{*})=0$ where $i = 1, 2, \\cdots, m$ is said to be a **regular point** of the constraints if the gradient vectors $\\triangledown h_1(x^{*}), \\triangledown h_2(x^{*}), \\cdots, \\triangledown h_m(x^{*})$ are linearly independent. "
   ]
  },
  {
   "cell_type": "markdown",
   "metadata": {},
   "source": [
    "**Definition**: Any point satisfying the equality contraints $h_i(x)=0$ --- $h_i : \\mathbb{R}^n \\to \\mathbb{R}$ --- is called a *feasible point*. The set of all feasible points $S$ describes a surface:\n",
    "\\begin{equation}\n",
    "S = \\{ x \\in \\mathbb{R}^n \\mid h_1(x)=0, h_2(x)=0, \\cdots, h_m(x)=0  \\}\n",
    "\\end{equation}"
   ]
  },
  {
   "cell_type": "markdown",
   "metadata": {},
   "source": [
    "**Definition**: The dimension of a vector space $S$ is the minimal number of vectors $\\{ x_1, x_2, \\cdots, x_n \\}$ necessary so that the Span$(x_1, x_2, \\cdots\\, x_n)=S$"
   ]
  },
  {
   "cell_type": "markdown",
   "metadata": {},
   "source": [
    "Assuming that the points in $S$ are regular, the dimension of the surface $S$ is $n-m$."
   ]
  },
  {
   "cell_type": "markdown",
   "metadata": {},
   "source": [
    "---\n",
    "<img src=\"figures/lecture-05/example-20.3.png\" width=\"600\" />\n",
    "\n",
    "\n",
    "\n"
   ]
  },
  {
   "cell_type": "markdown",
   "metadata": {},
   "source": [
    "Typically, the gradients of $h_i$ are linearly independent."
   ]
  },
  {
   "cell_type": "markdown",
   "metadata": {},
   "source": [
    "<img src=\"figures/lecture-05/definition-20.3.png\" width=\"600\" />\n"
   ]
  },
  {
   "cell_type": "markdown",
   "metadata": {},
   "source": [
    "<img src=\"figures/lecture-05/definition-20.5.png\" width=\"600\" />\n"
   ]
  },
  {
   "cell_type": "markdown",
   "metadata": {},
   "source": [
    "It is like a plane on top on a plane. T(x) is also known as the kernel of the matrix. A tangent space is local approximation of the surface at the specific point $x^{*}$. The vector $Dh$ is orthogonal to the tangent space."
   ]
  },
  {
   "cell_type": "markdown",
   "metadata": {},
   "source": [
    "<img src=\"figures/lecture-05/definition-20.6.png\" width=\"600\" />\n"
   ]
  },
  {
   "cell_type": "markdown",
   "metadata": {},
   "source": [
    "<img src=\"figures/lecture-05/lemma-20.1.png\" width=\"600\" />\n"
   ]
  },
  {
   "cell_type": "markdown",
   "metadata": {},
   "source": [
    "\n",
    "<img src=\"figures/lecture-05/figure-20.9.png\" width=\"600\" />\n",
    "\n"
   ]
  },
  {
   "cell_type": "markdown",
   "metadata": {},
   "source": [
    "----\n",
    "<img src=\"figures/lecture-05/theorem-20.2.png\" width=\"600\" />\n",
    "\n",
    "\n",
    "\n",
    "\n",
    "\n",
    "\n"
   ]
  },
  {
   "cell_type": "markdown",
   "metadata": {},
   "source": [
    "How to setup equations to find extreme points. Similar to the FONC. When n=2 we are in two dimensions. "
   ]
  },
  {
   "cell_type": "markdown",
   "metadata": {},
   "source": [
    "<img src=\"figures/lecture-05/figure-20.10.png\" width=\"600\" />\n",
    "\n"
   ]
  },
  {
   "cell_type": "code",
   "execution_count": null,
   "metadata": {},
   "outputs": [],
   "source": []
  },
  {
   "cell_type": "markdown",
   "metadata": {},
   "source": [
    "We can generalise the above:"
   ]
  },
  {
   "cell_type": "markdown",
   "metadata": {},
   "source": [
    "<img src=\"figures/lecture-05/theorem-20.3.png\" width=\"600\" />\n",
    "\n",
    "\n"
   ]
  },
  {
   "cell_type": "code",
   "execution_count": null,
   "metadata": {},
   "outputs": [],
   "source": []
  },
  {
   "cell_type": "markdown",
   "metadata": {},
   "source": [
    "<img src=\"figures/lecture-05/figure-20.11.png\" width=\"600\" />\n",
    "\n",
    "\n"
   ]
  },
  {
   "cell_type": "markdown",
   "metadata": {},
   "source": [
    "---\n",
    "## Example 20.6"
   ]
  },
  {
   "cell_type": "markdown",
   "metadata": {},
   "source": [
    "<img src=\"figures/lecture-05/example-20.6.png\" width=\"600\" />\n"
   ]
  },
  {
   "cell_type": "code",
   "execution_count": null,
   "metadata": {},
   "outputs": [],
   "source": []
  },
  {
   "cell_type": "markdown",
   "metadata": {},
   "source": [
    "<img src=\"figures/lecture-05/example-20.6-continued.png\" width=\"600\" />\n"
   ]
  },
  {
   "cell_type": "markdown",
   "metadata": {},
   "source": [
    "---\n",
    "## Example 20.7"
   ]
  },
  {
   "cell_type": "markdown",
   "metadata": {},
   "source": [
    "<img src=\"figures/lecture-05/example-20.7.png\" width=\"600\" />\n"
   ]
  },
  {
   "cell_type": "markdown",
   "metadata": {},
   "source": [
    "<img src=\"figures/lecture-05/figure-20.14.png\" width=\"600\" />\n"
   ]
  },
  {
   "cell_type": "markdown",
   "metadata": {},
   "source": [
    "---"
   ]
  },
  {
   "cell_type": "markdown",
   "metadata": {},
   "source": [
    "We can generalise from the previous example as follows:"
   ]
  },
  {
   "cell_type": "markdown",
   "metadata": {},
   "source": [
    "<img src=\"figures/lecture-05/example-20.8.png\" width=\"600\" />\n"
   ]
  },
  {
   "cell_type": "markdown",
   "metadata": {},
   "source": [
    "<img src=\"figures/lecture-05/example-20.8-continued.png\" width=\"600\" />\n"
   ]
  },
  {
   "cell_type": "markdown",
   "metadata": {},
   "source": [
    "To study more about SVM, search \"Winston, MIT support vector machine\" on Google"
   ]
  },
  {
   "cell_type": "markdown",
   "metadata": {},
   "source": [
    "---\n",
    "## The Langrangian Method\n",
    "\n",
    "The Lagrangian method is given as follows:\n",
    "1. Define the Lagrangian function by incoporating the constraint into the objective function\n",
    "$$\n",
    "L(\\mathbf{x}, \\lambda) = f(\\mathbf{x}) - \\lambda (h(\\mathbf{x}) - c  )\n",
    "$$\n",
    "where $\\lambda$ is the Lagrangian multiplier associated with the contraint. When the contraint holds i.e., when $h(\\mathbf{x})=c$ then $L(\\mathbf{x}, \\lambda)=f(\\mathbf{x})$\n",
    "2. Since $L(\\mathbf{x}, \\lambda)$ is an unconstraint objective function, we can optimise it by finding its FONC i.e., taking the derivative and setting it zero.\n",
    "3. Now, we get a system of linear equations. Solving it will yield the points where the objective function is maximised or minimised.\n"
   ]
  },
  {
   "cell_type": "markdown",
   "metadata": {},
   "source": [
    "---\n",
    "## Example 1 using the Lagrangian Method\n",
    "\n",
    "**Problem:** Minimise $f(x,y) = 6x^2 + 12y^2$ subject to $h(x,y) = x+y=90$.\n",
    "\n",
    "\n",
    "The solution of a constrained optimization problem can often be found by using the Lagrangian method:\n",
    "\n",
    "- Step 1: Define the Lagrangian $L(x,y, \\lambda) = f(x,y) + \\lambda (h(x,y) - c)$\n",
    "\n",
    "\n",
    "$$\n",
    "L(x, y, \\lambda) = 6x^2 + 12y^2 - \\lambda(x+y-90)\n",
    "$$"
   ]
  },
  {
   "cell_type": "code",
   "execution_count": 2,
   "metadata": {},
   "outputs": [
    {
     "data": {
      "text/latex": [
       "$$\\left[\\begin{matrix}- \\lambda \\left(x + y - 90\\right) + 6 x^{2} + 12 y^{2}\\end{matrix}\\right]$$"
      ],
      "text/plain": [
       "⎡                     2       2⎤\n",
       "⎣-λ⋅(x + y - 90) + 6⋅x  + 12⋅y ⎦"
      ]
     },
     "execution_count": 2,
     "metadata": {},
     "output_type": "execute_result"
    }
   ],
   "source": [
    "x, y, lamda = sy.symbols('x, y, lamda')\n",
    "f = 6*x**2 + 12*y**2 - lamda * (x + y - 90)\n",
    "F = sy.Matrix([f])\n",
    "F"
   ]
  },
  {
   "cell_type": "markdown",
   "metadata": {},
   "source": [
    "- Step 2: Compute the gradient of $L$ with respect $x, y$ and $\\lambda$:"
   ]
  },
  {
   "cell_type": "code",
   "execution_count": 3,
   "metadata": {},
   "outputs": [
    {
     "data": {
      "text/latex": [
       "$$\\left[\\begin{matrix}- \\lambda + 12 x & - \\lambda + 24 y & - x - y + 90\\end{matrix}\\right]$$"
      ],
      "text/plain": [
       "[-λ + 12⋅x  -λ + 24⋅y  -x - y + 90]"
      ]
     },
     "execution_count": 3,
     "metadata": {},
     "output_type": "execute_result"
    }
   ],
   "source": [
    "dF = F.jacobian((x, y, lamda))\n",
    "dF"
   ]
  },
  {
   "cell_type": "markdown",
   "metadata": {},
   "source": [
    " - Step 3: Solve it for $x, y$ and $\\lambda$ to find the points where the objective function is maximised or minimised:"
   ]
  },
  {
   "cell_type": "code",
   "execution_count": 4,
   "metadata": {},
   "outputs": [
    {
     "data": {
      "image/png": "[encoded data removed]",
      "text/latex": [
       "$$\\left\\{\\left ( 60, \\quad 30, \\quad 720\\right )\\right\\}$$"
      ],
      "text/plain": [
       "{(60, 30, 720)}"
      ]
     },
     "execution_count": 4,
     "metadata": {},
     "output_type": "execute_result"
    }
   ],
   "source": [
    "sy.nonlinsolve(dF, (x, y, lamda))"
   ]
  },
  {
   "cell_type": "markdown",
   "metadata": {},
   "source": [
    "- Step 4: Evaluate the function at $x=60$ and $y=30$."
   ]
  },
  {
   "cell_type": "code",
   "execution_count": 5,
   "metadata": {},
   "outputs": [
    {
     "data": {
      "image/png": "[encoded data removed]",
      "text/latex": [
       "$$32400.0$$"
      ],
      "text/plain": [
       "32400.0000000000"
      ]
     },
     "execution_count": 5,
     "metadata": {},
     "output_type": "execute_result"
    }
   ],
   "source": [
    "f = 6*x**2 + 12*y**2\n",
    "f.evalf(subs={\"x\": 60, \"y\": 30})"
   ]
  },
  {
   "cell_type": "markdown",
   "metadata": {},
   "source": [
    " - Step 5: Determine if it is a minimum or a maximum by evaluating another point that satisfies the constraint $x+y=90$:"
   ]
  },
  {
   "cell_type": "code",
   "execution_count": 6,
   "metadata": {},
   "outputs": [
    {
     "data": {
      "image/png": "[encoded data removed]",
      "text/latex": [
       "$$32418.0$$"
      ],
      "text/plain": [
       "32418.0000000000"
      ]
     },
     "execution_count": 6,
     "metadata": {},
     "output_type": "execute_result"
    }
   ],
   "source": [
    "f.evalf(subs={\"x\": 59, \"y\": 31})"
   ]
  },
  {
   "cell_type": "markdown",
   "metadata": {},
   "source": [
    "Since the value of the function increases, we can say that $x=60, y=30$ is a mimimum."
   ]
  },
  {
   "cell_type": "markdown",
   "metadata": {},
   "source": [
    "---\n",
    "\n",
    "## Example 2 using the Lagrangian Method\n",
    "\n",
    "**Problem:** Find the maximum and the minimum values of the function $x^2 + x + 2y^2 + 3z^2$ subject to $x^2 + y^2 + z^2 = 1$."
   ]
  },
  {
   "cell_type": "code",
   "execution_count": 7,
   "metadata": {},
   "outputs": [
    {
     "name": "stdout",
     "output_type": "stream",
     "text": [
      "  f(-1, 0, 0) = 0E-125\n",
      "  f(1, 0, 0) = 2.00000000000000\n",
      "  f(1/4, 0, -sqrt(15)/4) = 3.12500000000000\n",
      "  f(1/4, 0, sqrt(15)/4) = 3.12500000000000\n",
      "  f(1/2, -sqrt(3)/2, 0) = 2.25000000000000\n",
      "  f(1/2, sqrt(3)/2, 0) = 2.25000000000000\n"
     ]
    }
   ],
   "source": [
    "x, y, z, lamda = sy.symbols('x, y, z, lamda')\n",
    "\n",
    "# Form the Lagrangian function\n",
    "f = x**2 + x + 2*y**2 + 3*z**2 - lamda * (x**2 + y**2 + z**2 - 1)\n",
    "F = sy.Matrix([x**2 + x + 2*y**2 + 3*z**2 ])\n",
    "L = sy.Matrix([f])\n",
    "\n",
    "# Compute the gradient with respect to all variables\n",
    "dL = L.jacobian((x, y, z, lamda))\n",
    "\n",
    "# Set the gradient to zero and solve it\n",
    "points = sy.nonlinsolve(dL, (x, y, z, lamda))\n",
    "\n",
    "# Look at the function value of each points to determine\n",
    "# which points yields maximum and minimum values\n",
    "for point in points:\n",
    "    point = point[0:-1] # Remove the lambda value\n",
    "    result = F.evalf(subs=dict(zip((x, y, z), point)))[0]\n",
    "    print(f'  f{point} = {result}')"
   ]
  },
  {
   "cell_type": "markdown",
   "metadata": {},
   "source": [
    "We can see that the point $[-1, 0, 0]$ is a minimiser because this yields 0.\n",
    "The points $\\left[1/4, 0, \\sqrt{15}/4 \\right]$ and $\\left[1/4, 0, -\\sqrt{15}/4 \\right]$ are maximisers."
   ]
  },
  {
   "cell_type": "markdown",
   "metadata": {},
   "source": [
    "---\n",
    "## Example 3"
   ]
  },
  {
   "cell_type": "code",
   "execution_count": 8,
   "metadata": {},
   "outputs": [
    {
     "data": {
      "image/png": "[encoded data removed]",
      "text/latex": [
       "$$\\left\\{\\left ( -1, \\quad \\frac{9}{4}, \\quad \\frac{3}{4}, \\quad 2\\right ), \\left ( 1, \\quad - \\frac{9}{4}, \\quad - \\frac{3}{4}, \\quad -2\\right )\\right\\}$$"
      ],
      "text/plain": [
       "{(-1, 9/4, 3/4, 2), (1, -9/4, -3/4, -2)}"
      ]
     },
     "execution_count": 8,
     "metadata": {},
     "output_type": "execute_result"
    }
   ],
   "source": [
    "x, y, z, lamda = sy.symbols('x, y, z, lamda')\n",
    "f = x-y-z + lamda * ((x**2/4) + (y**2/9) + (z**2/3) - 1)\n",
    "F = sy.Matrix([f])\n",
    "dF = F.jacobian((x, y, z, lamda))\n",
    "sy.nonlinsolve(dF, (x, y, z, lamda))"
   ]
  },
  {
   "cell_type": "code",
   "execution_count": 9,
   "metadata": {},
   "outputs": [
    {
     "data": {
      "text/latex": [
       "$$\\left[\\begin{matrix}\\lambda \\left(\\frac{x^{2}}{4} + \\frac{y^{2}}{9} + \\frac{z^{2}}{3} - 1\\right) + x - y - z\\end{matrix}\\right]$$"
      ],
      "text/plain": [
       "⎡  ⎛ 2    2    2    ⎞            ⎤\n",
       "⎢  ⎜x    y    z     ⎟            ⎥\n",
       "⎢λ⋅⎜── + ── + ── - 1⎟ + x - y - z⎥\n",
       "⎣  ⎝4    9    3     ⎠            ⎦"
      ]
     },
     "execution_count": 9,
     "metadata": {},
     "output_type": "execute_result"
    }
   ],
   "source": [
    "x, y, z, lamda = sy.symbols('x, y, z, lamda')\n",
    "f = x-y-z + lamda * ((x**2/4) + (y**2/9) + (z**2/3) - 1)\n",
    "F = sy.Matrix([f])\n",
    "F"
   ]
  },
  {
   "cell_type": "code",
   "execution_count": 10,
   "metadata": {},
   "outputs": [
    {
     "data": {
      "text/latex": [
       "$$\\left[\\begin{matrix}\\frac{\\lambda x}{2} + 1 & \\frac{2 \\lambda y}{9} - 1 & \\frac{2 \\lambda z}{3} - 1 & \\frac{x^{2}}{4} + \\frac{y^{2}}{9} + \\frac{z^{2}}{3} - 1\\end{matrix}\\right]$$"
      ],
      "text/plain": [
       "⎡                                2    2    2    ⎤\n",
       "⎢λ⋅x      2⋅λ⋅y      2⋅λ⋅z      x    y    z     ⎥\n",
       "⎢─── + 1  ───── - 1  ───── - 1  ── + ── + ── - 1⎥\n",
       "⎣ 2         9          3        4    9    3     ⎦"
      ]
     },
     "execution_count": 10,
     "metadata": {},
     "output_type": "execute_result"
    }
   ],
   "source": [
    "dF = F.jacobian((x, y, z, lamda))\n",
    "dF"
   ]
  },
  {
   "cell_type": "code",
   "execution_count": 11,
   "metadata": {},
   "outputs": [
    {
     "data": {
      "image/png": "[encoded data removed]",
      "text/latex": [
       "$$\\left\\{\\left ( -1, \\quad \\frac{9}{4}, \\quad \\frac{3}{4}, \\quad 2\\right ), \\left ( 1, \\quad - \\frac{9}{4}, \\quad - \\frac{3}{4}, \\quad -2\\right )\\right\\}$$"
      ],
      "text/plain": [
       "{(-1, 9/4, 3/4, 2), (1, -9/4, -3/4, -2)}"
      ]
     },
     "execution_count": 11,
     "metadata": {},
     "output_type": "execute_result"
    }
   ],
   "source": [
    "sy.nonlinsolve(dF, (x, y, z, lamda))"
   ]
  },
  {
   "cell_type": "markdown",
   "metadata": {},
   "source": [
    "We need to evaluate these points on the objective function $f$. Typically, one point would be a minimum and the other point would be a maximum.  "
   ]
  }
 ],
 "metadata": {
  "kernelspec": {
   "display_name": "Python 3",
   "language": "python",
   "name": "python3"
  },
  "language_info": {
   "codemirror_mode": {
    "name": "ipython",
    "version": 3
   },
   "file_extension": ".py",
   "mimetype": "text/x-python",
   "name": "python",
   "nbconvert_exporter": "python",
   "pygments_lexer": "ipython3",
   "version": "3.6.6"
  }
 },
 "nbformat": 4,
 "nbformat_minor": 2
}
