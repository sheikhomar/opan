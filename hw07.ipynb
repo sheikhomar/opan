{
 "cells": [
  {
   "cell_type": "markdown",
   "metadata": {},
   "source": [
    "# Homework 7"
   ]
  },
  {
   "cell_type": "code",
   "execution_count": 1,
   "metadata": {},
   "outputs": [],
   "source": [
    "import numpy as np\n",
    "import matplotlib.pyplot as plt\n",
    "import sympy as sy\n",
    "from func import Func\n",
    "from search1d import GoldenSectionSearch, FibonacciSearch, NewtonSearch, SecantSearch\n",
    "\n",
    "# Inline plotting\n",
    "%matplotlib inline\n",
    "\n",
    "# Make sympy print pretty math expressions\n",
    "sy.init_printing()"
   ]
  },
  {
   "cell_type": "markdown",
   "metadata": {},
   "source": [
    "## Exercise 7.2"
   ]
  },
  {
   "cell_type": "markdown",
   "metadata": {},
   "source": [
    "<img src=\"figures/homework-07/exercise-7.2.png\" width=\"600\" />\n",
    "\n"
   ]
  },
  {
   "cell_type": "code",
   "execution_count": 2,
   "metadata": {},
   "outputs": [],
   "source": [
    "def create_s72():\n",
    "    x = sy.symbols('x')\n",
    "    f = x**2 + 4*sy.cos(x)\n",
    "    return GoldenSectionSearch(f, x, initial_range=(1, 2), uncertainty=0.2)\n",
    "s72 = create_s72()"
   ]
  },
  {
   "cell_type": "markdown",
   "metadata": {},
   "source": [
    "---\n",
    "<img src=\"figures/homework-07/exercise-7.2-a.png\" width=\"600\" />\n",
    "\n"
   ]
  },
  {
   "cell_type": "code",
   "execution_count": 3,
   "metadata": {},
   "outputs": [
    {
     "data": {
      "image/png": "[encoded data removed]",
      "text/plain": [
       "<Figure size 720x432 with 1 Axes>"
      ]
     },
     "metadata": {
      "needs_background": "light"
     },
     "output_type": "display_data"
    }
   ],
   "source": [
    "s72.plot()"
   ]
  },
  {
   "cell_type": "markdown",
   "metadata": {},
   "source": [
    "---\n",
    "<img src=\"figures/homework-07/exercise-7.2-b.png\" width=\"600\" />\n",
    "\n"
   ]
  },
  {
   "cell_type": "markdown",
   "metadata": {},
   "source": [
    "We will find the minimum number of iterations $N$ required to find the minimizer within a range of $0.2$. This number can found by solving following inequality:\n",
    "\n",
    "$$\n",
    "(0.61803)^N \\leq \\frac{u}{b_0 - a_0}\n",
    "$$\n",
    "where $u$ is the uncertainty range and $[a_0, b_0]$ is our initial interval. For this exercise the inequality becomes:\n",
    "$$\n",
    "(0.61803)^N \\leq \\frac{0.2}{2 - 1}\n",
    "$$"
   ]
  },
  {
   "cell_type": "markdown",
   "metadata": {},
   "source": [
    "Solving the inequality, we get $N \\geq 3.3445$, which means that we need at least 4 iterations to find the minimizer. "
   ]
  },
  {
   "cell_type": "code",
   "execution_count": 4,
   "metadata": {},
   "outputs": [
    {
     "data": {
      "image/png": "[encoded data removed]",
      "text/latex": [
       "$$4$$"
      ],
      "text/plain": [
       "4"
      ]
     },
     "execution_count": 4,
     "metadata": {},
     "output_type": "execute_result"
    }
   ],
   "source": [
    "s72.estimate_iterations()"
   ]
  },
  {
   "cell_type": "code",
   "execution_count": 5,
   "metadata": {},
   "outputs": [
    {
     "data": {
      "text/html": [
       "<table><thead><tr><th>$k$</th><th>$a_k$</th><th>$b_k$</th><th>$f(a_k)$</th><th>$f(b_k)$</th><th>Uncertainty interval</th></tr></thead><tbody><tr><td>1</td><td>1.3820</td><td>1.6180</td><td>2.6607</td><td>2.4292</td><td>[1.3820, 2.0000]</td></tr><tr><td>2</td><td>1.6180</td><td>1.7639</td><td>2.4292</td><td>2.3437</td><td>[1.6180, 2.0000]</td></tr><tr><td>3</td><td>1.7639</td><td>1.8541</td><td>2.3437</td><td>2.3196</td><td>[1.7639, 2.0000]</td></tr><tr><td>4</td><td>1.8541</td><td>1.9098</td><td>2.3196</td><td>2.3171</td><td>[1.8541, 2.0000]</td></tr></tbody></table>"
      ],
      "text/plain": [
       "<IPython.core.display.HTML object>"
      ]
     },
     "metadata": {},
     "output_type": "display_data"
    }
   ],
   "source": [
    "s72.run(num_iterations=4)"
   ]
  },
  {
   "cell_type": "markdown",
   "metadata": {},
   "source": [
    "---\n",
    "<img src=\"figures/homework-07/exercise-7.2-c.png\" width=\"600\" />\n",
    "\n"
   ]
  },
  {
   "cell_type": "code",
   "execution_count": 6,
   "metadata": {},
   "outputs": [],
   "source": [
    "def create_ex72c():\n",
    "    x = sy.symbols('x')\n",
    "    f = x**2 + 4*sy.cos(x)\n",
    "    return FibonacciSearch(f, x, initial_range=(1, 2), uncertainty=0.2, epsilon=0.05)\n",
    "ex72c = create_ex72c()"
   ]
  },
  {
   "cell_type": "code",
   "execution_count": 7,
   "metadata": {},
   "outputs": [
    {
     "data": {
      "image/png": "[encoded data removed]",
      "text/latex": [
       "$$4$$"
      ],
      "text/plain": [
       "4"
      ]
     },
     "execution_count": 7,
     "metadata": {},
     "output_type": "execute_result"
    }
   ],
   "source": [
    "ex72c.estimate_iterations()"
   ]
  },
  {
   "cell_type": "code",
   "execution_count": 8,
   "metadata": {},
   "outputs": [
    {
     "data": {
      "text/html": [
       "<table><thead><tr><th>$k$</th><th>$a_k$</th><th>$b_k$</th><th>$f(a_k)$</th><th>$f(b_k)$</th><th>Uncertainty interval</th></tr></thead><tbody><tr><td>1</td><td>1.3750</td><td>1.6250</td><td>2.6688</td><td>2.4239</td><td>[1.3750, 2.0000]</td></tr><tr><td>2</td><td>1.6250</td><td>1.7500</td><td>2.4239</td><td>2.3495</td><td>[1.6250, 2.0000]</td></tr><tr><td>3</td><td>1.7500</td><td>1.8750</td><td>2.3495</td><td>2.3175</td><td>[1.7500, 2.0000]</td></tr><tr><td>4</td><td>1.8625</td><td>1.8750</td><td>2.3186</td><td>2.3175</td><td>[1.8625, 2.0000]</td></tr></tbody></table>"
      ],
      "text/plain": [
       "<IPython.core.display.HTML object>"
      ]
     },
     "metadata": {},
     "output_type": "display_data"
    }
   ],
   "source": [
    "ex72c.run(num_iterations=4)"
   ]
  },
  {
   "cell_type": "markdown",
   "metadata": {},
   "source": [
    "---\n",
    "## Exercise 7.3"
   ]
  },
  {
   "cell_type": "markdown",
   "metadata": {},
   "source": [
    "<img src=\"figures/homework-07/exercise-7.3.png\" width=\"600\" />\n"
   ]
  },
  {
   "cell_type": "code",
   "execution_count": 9,
   "metadata": {},
   "outputs": [],
   "source": [
    "def create_f73():\n",
    "    x = sy.symbols('x')\n",
    "    f = 8* sy.exp(1-x) + 7* sy.log(x)\n",
    "    return GoldenSectionSearch(f, x, initial_range=(1, 2), uncertainty=0.23)\n",
    "s73 = create_f73()"
   ]
  },
  {
   "cell_type": "markdown",
   "metadata": {},
   "source": [
    "---\n",
    "<img src=\"figures/homework-07/exercise-7.3-a.png\" width=\"600\" />\n",
    "\n"
   ]
  },
  {
   "cell_type": "code",
   "execution_count": 10,
   "metadata": {},
   "outputs": [
    {
     "data": {
      "image/png": "[encoded data removed]",
      "text/plain": [
       "<Figure size 720x432 with 1 Axes>"
      ]
     },
     "metadata": {
      "needs_background": "light"
     },
     "output_type": "display_data"
    }
   ],
   "source": [
    "s73.plot()"
   ]
  },
  {
   "cell_type": "markdown",
   "metadata": {},
   "source": [
    "---\n",
    "<img src=\"figures/homework-07/exercise-7.3-b.png\" width=\"600\" />\n",
    "\n"
   ]
  },
  {
   "cell_type": "code",
   "execution_count": 11,
   "metadata": {},
   "outputs": [
    {
     "data": {
      "image/png": "[encoded data removed]",
      "text/latex": [
       "$$4$$"
      ],
      "text/plain": [
       "4"
      ]
     },
     "execution_count": 11,
     "metadata": {},
     "output_type": "execute_result"
    }
   ],
   "source": [
    "s73.estimate_iterations()"
   ]
  },
  {
   "cell_type": "code",
   "execution_count": 12,
   "metadata": {},
   "outputs": [
    {
     "data": {
      "text/html": [
       "<table><thead><tr><th>$k$</th><th>$a_k$</th><th>$b_k$</th><th>$f(a_k)$</th><th>$f(b_k)$</th><th>Uncertainty interval</th></tr></thead><tbody><tr><td>1</td><td>1.3820</td><td>1.6180</td><td>7.7247</td><td>7.6805</td><td>[1.3820, 2.0000]</td></tr><tr><td>2</td><td>1.6180</td><td>1.7639</td><td>7.6805</td><td>7.6995</td><td>[1.3820, 1.7639]</td></tr><tr><td>3</td><td>1.5279</td><td>1.6180</td><td>7.6860</td><td>7.6805</td><td>[1.5279, 1.7639]</td></tr><tr><td>4</td><td>1.6180</td><td>1.6738</td><td>7.6805</td><td>7.6838</td><td>[1.5279, 1.6738]</td></tr></tbody></table>"
      ],
      "text/plain": [
       "<IPython.core.display.HTML object>"
      ]
     },
     "metadata": {},
     "output_type": "display_data"
    }
   ],
   "source": [
    "s73.run(num_iterations=4)"
   ]
  },
  {
   "cell_type": "markdown",
   "metadata": {},
   "source": [
    "---\n",
    "<img src=\"figures/homework-07/exercise-7.3-c.png\" width=\"600\" />\n",
    "\n"
   ]
  },
  {
   "cell_type": "code",
   "execution_count": 13,
   "metadata": {},
   "outputs": [],
   "source": [
    "def create_f73c():\n",
    "    x = sy.symbols('x')\n",
    "    f = 8* sy.exp(1-x) + 7* sy.log(x)\n",
    "    return FibonacciSearch(f, x, initial_range=(1, 2), uncertainty=0.23, epsilon=0.05)\n",
    "s73c = create_f73c()"
   ]
  },
  {
   "cell_type": "code",
   "execution_count": 14,
   "metadata": {},
   "outputs": [
    {
     "data": {
      "image/png": "[encoded data removed]",
      "text/latex": [
       "$$3$$"
      ],
      "text/plain": [
       "3"
      ]
     },
     "execution_count": 14,
     "metadata": {},
     "output_type": "execute_result"
    }
   ],
   "source": [
    "s73c.estimate_iterations()"
   ]
  },
  {
   "cell_type": "code",
   "execution_count": 15,
   "metadata": {},
   "outputs": [
    {
     "data": {
      "text/html": [
       "<table><thead><tr><th>$k$</th><th>$a_k$</th><th>$b_k$</th><th>$f(a_k)$</th><th>$f(b_k)$</th><th>Uncertainty interval</th></tr></thead><tbody><tr><td>1</td><td>1.4000</td><td>1.6000</td><td>7.7179</td><td>7.6805</td><td>[1.4000, 2.0000]</td></tr><tr><td>2</td><td>1.6000</td><td>1.8000</td><td>7.6805</td><td>7.7091</td><td>[1.4000, 1.8000]</td></tr><tr><td>3</td><td>1.5800</td><td>1.6000</td><td>7.6812</td><td>7.6805</td><td>[1.5800, 1.8000]</td></tr></tbody></table>"
      ],
      "text/plain": [
       "<IPython.core.display.HTML object>"
      ]
     },
     "metadata": {},
     "output_type": "display_data"
    }
   ],
   "source": [
    "s73c.run(num_iterations=3)"
   ]
  },
  {
   "cell_type": "markdown",
   "metadata": {},
   "source": [
    "---\n",
    "## Exercise 7.10"
   ]
  },
  {
   "cell_type": "markdown",
   "metadata": {},
   "source": [
    "<img src=\"figures/homework-07/exercise-7.10.png\" width=\"600\" />\n",
    "\n"
   ]
  },
  {
   "cell_type": "markdown",
   "metadata": {},
   "source": [
    "---\n",
    "<img src=\"figures/homework-07/exercise-7.10-a.png\" width=\"600\" />\n",
    "\n"
   ]
  },
  {
   "cell_type": "markdown",
   "metadata": {},
   "source": [
    "---\n",
    "<img src=\"figures/homework-07/exercise-7.10-b.png\" width=\"600\" />\n",
    "\n"
   ]
  },
  {
   "cell_type": "code",
   "execution_count": 16,
   "metadata": {},
   "outputs": [],
   "source": [
    "def create_ex710():\n",
    "    x = sy.symbols('x')\n",
    "    f = (2*x - 1)**2 + 4*(4-1024*x)**4\n",
    "    return SecantSearch(f, x)\n",
    "ex710 = create_ex710()"
   ]
  },
  {
   "cell_type": "code",
   "execution_count": 17,
   "metadata": {},
   "outputs": [
    {
     "data": {
      "image/png": "[encoded data removed]",
      "text/plain": [
       "<Figure size 720x432 with 1 Axes>"
      ]
     },
     "metadata": {
      "needs_background": "light"
     },
     "output_type": "display_data"
    }
   ],
   "source": [
    "ex710.plot(xlimit=(-1, 1))"
   ]
  },
  {
   "cell_type": "code",
   "execution_count": 18,
   "metadata": {},
   "outputs": [
    {
     "name": "stdout",
     "output_type": "stream",
     "text": [
      "Iteration  1: x(0)=1.000 x(1)=-0.000\n",
      "Iteration  2: x(1)=-0.000 x(2)=-0.000\n",
      "Iteration  3: x(2)=-0.000 x(3)=0.001\n",
      "Iteration  4: x(3)=0.001 x(4)=0.001\n",
      "Iteration  5: x(4)=0.001 x(5)=0.002\n",
      "Iteration  6: x(5)=0.002 x(6)=0.002\n",
      "Iteration  7: x(6)=0.002 x(7)=0.003\n",
      "Iteration  8: x(7)=0.003 x(8)=0.003\n",
      "Iteration  9: x(8)=0.003 x(9)=0.003\n",
      "Iteration 10: x(9)=0.003 x(10)=0.003\n",
      "Iteration 11: x(10)=0.003 x(11)=0.003\n",
      "Iteration 12: x(11)=0.003 x(12)=0.004\n",
      "Iteration 13: x(12)=0.004 x(13)=0.007\n",
      "Iteration 14: x(13)=0.007 x(14)=0.004\n",
      "Iteration 15: x(14)=0.004 x(15)=0.004\n",
      "Iteration 16: x(15)=0.004 x(16)=0.212\n",
      "Iteration 17: x(16)=0.212 x(17)=0.004\n",
      "Iteration 18: x(17)=0.004 x(18)=0.004\n",
      " Stopping condition reached!\n"
     ]
    },
    {
     "data": {
      "image/png": "[encoded data removed]",
      "text/latex": [
       "$$0.0038664094745021575$$"
      ],
      "text/plain": [
       "0.0038664094745021575"
      ]
     },
     "execution_count": 18,
     "metadata": {},
     "output_type": "execute_result"
    }
   ],
   "source": [
    "result = ex710.find_root(x_minus1=0, x_0=1, epsilon=10**(-5))\n",
    "result"
   ]
  },
  {
   "cell_type": "code",
   "execution_count": 19,
   "metadata": {},
   "outputs": [
    {
     "data": {
      "text/plain": [
       "'0.003866'"
      ]
     },
     "execution_count": 19,
     "metadata": {},
     "output_type": "execute_result"
    }
   ],
   "source": [
    "'%f' % result"
   ]
  },
  {
   "cell_type": "markdown",
   "metadata": {},
   "source": [
    "The value of $g(0.003866)$ is:"
   ]
  },
  {
   "cell_type": "code",
   "execution_count": 20,
   "metadata": {},
   "outputs": [
    {
     "data": {
      "image/png": "[encoded data removed]",
      "text/latex": [
       "$$0.9846052391085552$$"
      ],
      "text/plain": [
       "0.9846052391085552"
      ]
     },
     "execution_count": 20,
     "metadata": {},
     "output_type": "execute_result"
    }
   ],
   "source": [
    "ex710.func_at(result)"
   ]
  },
  {
   "cell_type": "markdown",
   "metadata": {},
   "source": [
    "Compare our results with WolframAlpha:\n",
    "\n",
    "<img src=\"figures/homework-07/secant-solve-wolframalpha.png\" width=\"500\" />\n"
   ]
  },
  {
   "cell_type": "code",
   "execution_count": null,
   "metadata": {},
   "outputs": [],
   "source": []
  }
 ],
 "metadata": {
  "kernelspec": {
   "display_name": "Python 3",
   "language": "python",
   "name": "python3"
  },
  "language_info": {
   "codemirror_mode": {
    "name": "ipython",
    "version": 3
   },
   "file_extension": ".py",
   "mimetype": "text/x-python",
   "name": "python",
   "nbconvert_exporter": "python",
   "pygments_lexer": "ipython3",
   "version": "3.6.6"
  }
 },
 "nbformat": 4,
 "nbformat_minor": 2
}
