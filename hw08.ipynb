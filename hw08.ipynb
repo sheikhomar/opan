{
 "cells": [
  {
   "cell_type": "markdown",
   "metadata": {},
   "source": [
    "# Homework 8"
   ]
  },
  {
   "cell_type": "code",
   "execution_count": 1,
   "metadata": {},
   "outputs": [],
   "source": [
    "import numpy as np\n",
    "import matplotlib.pyplot as plt\n",
    "import sympy as sy\n",
    "from gd import rewrite_as_quadratic_form\n",
    "\n",
    "# Inline plotting\n",
    "%matplotlib inline\n",
    "\n",
    "# Make sympy print pretty math expressions\n",
    "sy.init_printing()"
   ]
  },
  {
   "cell_type": "markdown",
   "metadata": {},
   "source": [
    "---\n",
    "## Exercise 8.8"
   ]
  },
  {
   "cell_type": "markdown",
   "metadata": {},
   "source": [
    "\n",
    "<img src=\"figures/homework-08/exercise-8.8.png\" width=\"600\" />\n"
   ]
  },
  {
   "cell_type": "code",
   "execution_count": 2,
   "metadata": {},
   "outputs": [
    {
     "data": {
      "image/png": "[encoded data removed]",
      "text/latex": [
       "$$3 x_{1}^{2} + 4 x_{1} x_{2} + 5 x_{1} + 3 x_{2}^{2} + 6 x_{2} + 7$$"
      ],
      "text/plain": [
       "    2                        2           \n",
       "3⋅x₁  + 4⋅x₁⋅x₂ + 5⋅x₁ + 3⋅x₂  + 6⋅x₂ + 7"
      ]
     },
     "execution_count": 2,
     "metadata": {},
     "output_type": "execute_result"
    }
   ],
   "source": [
    "x1, x2 = sy.symbols('x1, x2')\n",
    "x = sy.Matrix([[x1],\n",
    "               [x2]])\n",
    "f = 3*(x1**2  + x2**2)  +   4*x1*x2  + 5*x1  + 6*x2 + 7\n",
    "f"
   ]
  },
  {
   "cell_type": "markdown",
   "metadata": {},
   "source": [
    "First, we need to rewrite the function $f$ as the following quadratic form:\n",
    "$$\n",
    "f(\\mathbf{x}) = \\frac{1}{2} \\mathbf{x}^T \\mathbf{Q} \\mathbf{x} - \\mathbf{b}^T \\mathbf{x}\n",
    "$$"
   ]
  },
  {
   "cell_type": "code",
   "execution_count": 3,
   "metadata": {},
   "outputs": [
    {
     "name": "stdout",
     "output_type": "stream",
     "text": [
      "Ignoring constant term: 7\n"
     ]
    }
   ],
   "source": [
    "Q, b = rewrite_as_quadratic_form(f, x1, x2)"
   ]
  },
  {
   "cell_type": "code",
   "execution_count": 4,
   "metadata": {},
   "outputs": [
    {
     "data": {
      "text/latex": [
       "$$\\left[\\begin{matrix}6 & 4\\\\4 & 6\\end{matrix}\\right]$$"
      ],
      "text/plain": [
       "⎡6  4⎤\n",
       "⎢    ⎥\n",
       "⎣4  6⎦"
      ]
     },
     "execution_count": 4,
     "metadata": {},
     "output_type": "execute_result"
    }
   ],
   "source": [
    "Q"
   ]
  },
  {
   "cell_type": "markdown",
   "metadata": {},
   "source": [
    "Let us ensure that the return $\\mathbf{Q}$ and $\\mathbf{b}$ are correct:"
   ]
  },
  {
   "cell_type": "code",
   "execution_count": 5,
   "metadata": {},
   "outputs": [
    {
     "data": {
      "text/latex": [
       "$$\\left[\\begin{matrix}3.0 x_{1}^{2} + 4.0 x_{1} x_{2} + 5.0 x_{1} + 3.0 x_{2}^{2} + 6.0 x_{2}\\end{matrix}\\right]$$"
      ],
      "text/plain": [
       "⎡      2                              2         ⎤\n",
       "⎣3.0⋅x₁  + 4.0⋅x₁⋅x₂ + 5.0⋅x₁ + 3.0⋅x₂  + 6.0⋅x₂⎦"
      ]
     },
     "execution_count": 5,
     "metadata": {},
     "output_type": "execute_result"
    }
   ],
   "source": [
    "sy.simplify(1/2 * x.T * Q * x - b.T * x)"
   ]
  },
  {
   "cell_type": "markdown",
   "metadata": {},
   "source": [
    "The only difference with this result and the original function $f$ is the constant term. "
   ]
  },
  {
   "cell_type": "code",
   "execution_count": 6,
   "metadata": {},
   "outputs": [
    {
     "data": {
      "image/png": "[encoded data removed]",
      "text/latex": [
       "$$3 x_{1}^{2} + 4 x_{1} x_{2} + 5 x_{1} + 3 x_{2}^{2} + 6 x_{2} + 7$$"
      ],
      "text/plain": [
       "    2                        2           \n",
       "3⋅x₁  + 4⋅x₁⋅x₂ + 5⋅x₁ + 3⋅x₂  + 6⋅x₂ + 7"
      ]
     },
     "execution_count": 6,
     "metadata": {},
     "output_type": "execute_result"
    }
   ],
   "source": [
    "f"
   ]
  },
  {
   "cell_type": "markdown",
   "metadata": {},
   "source": [
    "Next, we find the characteristic polynomial of $\\mathbf{Q}$ which is given by $\\det(\\lambda I - Q)$:"
   ]
  },
  {
   "cell_type": "code",
   "execution_count": 7,
   "metadata": {},
   "outputs": [
    {
     "data": {
      "image/png": "[encoded data removed]",
      "text/latex": [
       "$$\\left(\\lambda - 6\\right)^{2} - 16$$"
      ],
      "text/plain": [
       "       2     \n",
       "(λ - 6)  - 16"
      ]
     },
     "execution_count": 7,
     "metadata": {},
     "output_type": "execute_result"
    }
   ],
   "source": [
    "lamda = sy.symbols('lambda')\n",
    "char_poly = sy.det(lamda * sy.eye(2) - Q)\n",
    "char_poly"
   ]
  },
  {
   "cell_type": "markdown",
   "metadata": {},
   "source": [
    "Solving the characteristic polynomial, we get:"
   ]
  },
  {
   "cell_type": "code",
   "execution_count": 8,
   "metadata": {},
   "outputs": [
    {
     "data": {
      "image/png": "[encoded data removed]",
      "text/latex": [
       "$$\\left\\{\\left ( 2\\right ), \\left ( 10\\right )\\right\\}$$"
      ],
      "text/plain": [
       "{(2,), (10,)}"
      ]
     },
     "execution_count": 8,
     "metadata": {},
     "output_type": "execute_result"
    }
   ],
   "source": [
    "sy.nonlinsolve([char_poly], lamda)"
   ]
  },
  {
   "cell_type": "markdown",
   "metadata": {},
   "source": [
    "From this, we know that $\\lambda = 2$ and $\\lambda = 10$. This means that eigenvalues of $\\mathbf{Q}$ are $2$ and $10$. \n",
    "\n",
    "We can use SymPy to find the characteristic polynomial and eigenvalues directly:"
   ]
  },
  {
   "cell_type": "code",
   "execution_count": 9,
   "metadata": {},
   "outputs": [
    {
     "data": {
      "image/png": "[encoded data removed]",
      "text/latex": [
       "$$\\operatorname{PurePoly}{\\left( \\lambda^{2} - 12 \\lambda + 20, \\lambda, domain=\\mathbb{Z} \\right)}$$"
      ],
      "text/plain": [
       "PurePoly(lambda**2 - 12*lambda + 20, lambda, domain='ZZ')"
      ]
     },
     "execution_count": 9,
     "metadata": {},
     "output_type": "execute_result"
    }
   ],
   "source": [
    "Q.charpoly()"
   ]
  },
  {
   "cell_type": "code",
   "execution_count": 10,
   "metadata": {},
   "outputs": [
    {
     "data": {
      "image/png": "[encoded data removed]",
      "text/latex": [
       "$$\\left \\{ 2 : 1, \\quad 10 : 1\\right \\}$$"
      ],
      "text/plain": [
       "{2: 1, 10: 1}"
      ]
     },
     "execution_count": 10,
     "metadata": {},
     "output_type": "execute_result"
    }
   ],
   "source": [
    "Q.eigenvals()"
   ]
  },
  {
   "cell_type": "markdown",
   "metadata": {},
   "source": [
    "The result is interpreted as follows; the matrix $\\mathbf{Q}$ has the eigenvalues 2 and 10 and that the eigenvalues 2 and 10 have algebraic multiplicity 1. Algebraic multiplicity is the number of times that an eigenvalue appears in the characteristic polynomial of a matrix. This is important because there are cases where the same eigenvalue appears multiple tiles in the characteristic polynomial of a matrix. "
   ]
  },
  {
   "cell_type": "code",
   "execution_count": 11,
   "metadata": {},
   "outputs": [
    {
     "data": {
      "image/png": "[encoded data removed]",
      "text/latex": [
       "$$\\left \\{ 5 : 2\\right \\}$$"
      ],
      "text/plain": [
       "{5: 2}"
      ]
     },
     "execution_count": 11,
     "metadata": {},
     "output_type": "execute_result"
    }
   ],
   "source": [
    "sy.Matrix([[5, 0],\n",
    "           [0, 5]]).eigenvals()"
   ]
  },
  {
   "cell_type": "markdown",
   "metadata": {},
   "source": [
    "To find the range of values for $\\alpha$, we use the Theorem 8.3:"
   ]
  },
  {
   "cell_type": "markdown",
   "metadata": {},
   "source": [
    "\n",
    "<img src=\"figures/lecture-08/theorem-8.3.png\" width=\"600\" />\n"
   ]
  },
  {
   "cell_type": "markdown",
   "metadata": {},
   "source": [
    "Since $\\lambda_{max}(\\mathbf{Q}) = 10$, the largest range of values of $\\alpha$ for which the algorithm is globally convergent is $0 < \\alpha < 2/10$"
   ]
  },
  {
   "cell_type": "markdown",
   "metadata": {},
   "source": []
  },
  {
   "cell_type": "markdown",
   "metadata": {},
   "source": [
    "---\n",
    "## Exercise 8.16"
   ]
  },
  {
   "cell_type": "markdown",
   "metadata": {},
   "source": [
    "\n",
    "<img src=\"figures/homework-08/exercise-8.16.png\" width=\"600\" />\n"
   ]
  },
  {
   "cell_type": "markdown",
   "metadata": {},
   "source": [
    "---\n",
    "<img src=\"figures/homework-08/exercise-8.16-a.png\" width=\"600\" />\n"
   ]
  },
  {
   "cell_type": "markdown",
   "metadata": {},
   "source": [
    "We know that $\\lVert \\mathbf{x} \\rVert^2 = \\mathbf{x}^T \\mathbf{x}$ where $\\mathbf{x} \\in \\mathbb{R}^n$ because by definition  $\\lVert \\mathbf{x} \\rVert = \\sqrt{\\mathbf{x}^T \\mathbf{x}}$, we have:"
   ]
  },
  {
   "cell_type": "markdown",
   "metadata": {},
   "source": [
    "\\begin{align}\n",
    "\\lVert \\mathbf{Ax-b} \\rVert^2 \n",
    "&= (\\mathbf{Ax} - \\mathbf{b})^T(\\mathbf{Ax} - \\mathbf{b}) \\\\\n",
    "&= (\\mathbf{Ax})^T (\\mathbf{Ax}) - (\\mathbf{Ax})^T \\mathbf{b} - \\mathbf{b}^T(\\mathbf{Ax})  + \\mathbf{b}^T \\mathbf{b} \\\\\n",
    "&= \\mathbf{x}^T \\mathbf{A}^T (\\mathbf{Ax}) - 2 (\\mathbf{Ax})^T \\mathbf{b}  + \\mathbf{b}^T \\mathbf{b} \\\\\n",
    "&= \\mathbf{x}^T (\\mathbf{A}^T \\mathbf{A})\\mathbf{x} - 2 \\mathbf{b}^T(\\mathbf{Ax})  + \\mathbf{b}^T \\mathbf{b}\n",
    "\\end{align}"
   ]
  },
  {
   "cell_type": "markdown",
   "metadata": {},
   "source": [
    "The gradient of the function is:\n",
    "\\begin{align}\n",
    "f'(\\mathbf{x}) = 2 (\\mathbf{A}^T \\mathbf{A})\\mathbf{x} - 2 \\mathbf{b}^T \\mathbf{A}\n",
    "\\end{align}"
   ]
  },
  {
   "cell_type": "markdown",
   "metadata": {},
   "source": [
    "Notice that $\\mathbf{Q} = 2(\\mathbf{A}^T \\mathbf{A})$ because\n",
    "\n",
    "\n",
    "<img src=\"figures/lecture-08/solution-steepest-descent-for-quadratic-functions.png\" width=\"600\" />\n"
   ]
  },
  {
   "cell_type": "markdown",
   "metadata": {},
   "source": [
    "The Hessian of the function is:\n",
    "\\begin{align}\n",
    "f''(\\mathbf{x}) = 2 (\\mathbf{A}^T \\mathbf{A})\n",
    "\\end{align}"
   ]
  },
  {
   "cell_type": "markdown",
   "metadata": {},
   "source": [
    "Let us verify our result using SymPy:"
   ]
  },
  {
   "cell_type": "code",
   "execution_count": 12,
   "metadata": {},
   "outputs": [
    {
     "data": {
      "text/latex": [
       "$$\\left[\\begin{matrix}\\left(-b^T + x^T A^T\\right) \\left(-b + A x\\right)\\end{matrix}\\right]$$"
      ],
      "text/plain": [
       "⎡⎛  T    T  T⎞           ⎤\n",
       "⎣⎝-b  + x ⋅A ⎠⋅(-b + A⋅x)⎦"
      ]
     },
     "execution_count": 12,
     "metadata": {},
     "output_type": "execute_result"
    }
   ],
   "source": [
    "m, n = sy.symbols('m, n')\n",
    "A = sy.MatrixSymbol('A', m, n)\n",
    "b = sy.MatrixSymbol('b', m, 1)\n",
    "x = sy.MatrixSymbol('x', n, 1)\n",
    "\n",
    "# Turn it into a Matrix\n",
    "f = sy.Matrix([ (A*x - b).T * (A*x-b) ])\n",
    "f"
   ]
  },
  {
   "cell_type": "code",
   "execution_count": 13,
   "metadata": {},
   "outputs": [
    {
     "data": {
      "text/latex": [
       "$$\\left[\\begin{matrix}2 A^T \\left(-b + A x\\right)\\end{matrix}\\right]$$"
      ],
      "text/plain": [
       "⎡   T           ⎤\n",
       "⎣2⋅A ⋅(-b + A⋅x)⎦"
      ]
     },
     "execution_count": 13,
     "metadata": {},
     "output_type": "execute_result"
    }
   ],
   "source": [
    "# Find the gradient of the function\n",
    "gradient = f.jacobian([x])\n",
    "gradient"
   ]
  },
  {
   "cell_type": "code",
   "execution_count": 14,
   "metadata": {},
   "outputs": [
    {
     "data": {
      "text/latex": [
       "$$\\left[\\begin{matrix}2 A^T A\\end{matrix}\\right]$$"
      ],
      "text/plain": [
       "⎡   T  ⎤\n",
       "⎣2⋅A ⋅A⎦"
      ]
     },
     "execution_count": 14,
     "metadata": {},
     "output_type": "execute_result"
    }
   ],
   "source": [
    "# Find the Hessian of the function\n",
    "hessian = gradient.jacobian([x])\n",
    "hessian"
   ]
  },
  {
   "cell_type": "markdown",
   "metadata": {},
   "source": [
    "---\n",
    "<img src=\"figures/homework-08/exercise-8.16-b.png\" width=\"600\" />\n"
   ]
  },
  {
   "cell_type": "markdown",
   "metadata": {},
   "source": [
    "In general, the fixed-step-size algorithm is given by:\n",
    "\n",
    "\n",
    "<img src=\"figures/lecture-08/fixed-step-size-gradient-algorithm.png\" width=\"600\" />\n"
   ]
  },
  {
   "cell_type": "markdown",
   "metadata": {},
   "source": [
    "where $\\mathbf{g}^{(k)}$ is gradient of the function i.e., $\\nabla f(\\mathbf{x}^{(k)})$"
   ]
  },
  {
   "cell_type": "markdown",
   "metadata": {},
   "source": [
    "The fixed-step-size gradient algorithm for solving is therefore:\n",
    "$$\n",
    "\\mathbf{x}^{(k+1)} = \\mathbf{x}^{(k)} - \\alpha (  2 (\\mathbf{A}^T \\mathbf{A})\\mathbf{x} - 2 \\mathbf{b}^T \\mathbf{A}  )\n",
    "$$"
   ]
  },
  {
   "cell_type": "markdown",
   "metadata": {},
   "source": []
  },
  {
   "cell_type": "markdown",
   "metadata": {},
   "source": [
    "---\n",
    "<img src=\"figures/homework-08/exercise-8.16-c.png\" width=\"600\" />\n"
   ]
  },
  {
   "cell_type": "code",
   "execution_count": 15,
   "metadata": {},
   "outputs": [
    {
     "data": {
      "image/png": "[encoded data removed]",
      "text/latex": [
       "$$\\left \\{ 2 : 1, \\quad 8 : 1\\right \\}$$"
      ],
      "text/plain": [
       "{2: 1, 8: 1}"
      ]
     },
     "execution_count": 15,
     "metadata": {},
     "output_type": "execute_result"
    }
   ],
   "source": [
    "A = sy.Matrix([[1, 0],\n",
    "               [0, 2]])\n",
    "# Find Q\n",
    "Q = 2* (A.T * A)\n",
    "\n",
    "# Compute the eigenvalues of Q\n",
    "Q.eigenvals()"
   ]
  },
  {
   "cell_type": "markdown",
   "metadata": {},
   "source": [
    "We use Theorem 8.3:"
   ]
  },
  {
   "cell_type": "markdown",
   "metadata": {},
   "source": [
    "\n",
    "<img src=\"figures/lecture-08/theorem-8.3.png\" width=\"600\" />\n"
   ]
  },
  {
   "cell_type": "markdown",
   "metadata": {},
   "source": [
    "Thus, $0 < \\alpha < \\frac{2}{8}$"
   ]
  },
  {
   "cell_type": "markdown",
   "metadata": {},
   "source": [
    "---\n",
    "## Exercise 8.21"
   ]
  },
  {
   "cell_type": "markdown",
   "metadata": {},
   "source": [
    "\n",
    "<img src=\"figures/homework-08/exercise-8.21.png\" width=\"600\" />\n"
   ]
  },
  {
   "cell_type": "markdown",
   "metadata": {},
   "source": [
    "---\n",
    "<img src=\"figures/homework-08/exercise-8.21-a.png\" width=\"600\" />\n"
   ]
  },
  {
   "cell_type": "code",
   "execution_count": null,
   "metadata": {},
   "outputs": [],
   "source": []
  },
  {
   "cell_type": "markdown",
   "metadata": {},
   "source": [
    "---\n",
    "<img src=\"figures/homework-08/exercise-8.21-b.png\" width=\"600\" />\n"
   ]
  },
  {
   "cell_type": "code",
   "execution_count": null,
   "metadata": {},
   "outputs": [],
   "source": []
  },
  {
   "cell_type": "markdown",
   "metadata": {},
   "source": [
    "---\n",
    "## Exercise 8.25"
   ]
  },
  {
   "cell_type": "markdown",
   "metadata": {},
   "source": [
    "<img src=\"figures/homework-08/exercise-8.25.png\" width=\"600\" />\n"
   ]
  },
  {
   "cell_type": "markdown",
   "metadata": {},
   "source": [
    "---\n",
    "## Exercise 8.26"
   ]
  },
  {
   "cell_type": "markdown",
   "metadata": {},
   "source": [
    "<img src=\"figures/homework-08/exercise-8.26.png\" width=\"600\" />\n"
   ]
  }
 ],
 "metadata": {
  "kernelspec": {
   "display_name": "Python 3",
   "language": "python",
   "name": "python3"
  },
  "language_info": {
   "codemirror_mode": {
    "name": "ipython",
    "version": 3
   },
   "file_extension": ".py",
   "mimetype": "text/x-python",
   "name": "python",
   "nbconvert_exporter": "python",
   "pygments_lexer": "ipython3",
   "version": "3.6.6"
  }
 },
 "nbformat": 4,
 "nbformat_minor": 2
}
