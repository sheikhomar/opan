{
 "cells": [
  {
   "cell_type": "markdown",
   "metadata": {},
   "source": [
    "# Homework 8"
   ]
  },
  {
   "cell_type": "code",
   "execution_count": 1,
   "metadata": {},
   "outputs": [],
   "source": [
    "import numpy as np\n",
    "import matplotlib.pyplot as plt\n",
    "import sympy as sy\n",
    "from func import Func\n",
    "\n",
    "# Inline plotting\n",
    "%matplotlib inline\n",
    "\n",
    "# Make sympy print pretty math expressions\n",
    "sy.init_printing()"
   ]
  },
  {
   "cell_type": "markdown",
   "metadata": {},
   "source": [
    "---\n",
    "## Exercise 8.8"
   ]
  },
  {
   "cell_type": "markdown",
   "metadata": {},
   "source": [
    "\n",
    "<img src=\"figures/homework-08/exercise-8.8.png\" width=\"600\" />\n"
   ]
  },
  {
   "cell_type": "code",
   "execution_count": 2,
   "metadata": {},
   "outputs": [
    {
     "data": {
      "text/latex": [
       "$$\\left[\\begin{matrix}3 x_{1}^{2} + 4 x_{1} x_{2} + 5 x_{1} + 3 x_{2}^{2} + 6 x_{2} + 7\\end{matrix}\\right]$$"
      ],
      "text/plain": [
       "⎡    2                        2           ⎤\n",
       "⎣3⋅x₁  + 4⋅x₁⋅x₂ + 5⋅x₁ + 3⋅x₂  + 6⋅x₂ + 7⎦"
      ]
     },
     "metadata": {},
     "output_type": "display_data"
    },
    {
     "data": {
      "text/plain": []
     },
     "execution_count": 2,
     "metadata": {},
     "output_type": "execute_result"
    }
   ],
   "source": [
    "def create_ex88():\n",
    "    x1, x2 = sy.symbols('x1, x2')\n",
    "    f = 3*(x1**2  + x2**2)  +   4*x1*x2  + 5*x1  + 6*x2 + 7\n",
    "    return Func(f, (x1, x2))\n",
    "ex88 = create_ex88()\n",
    "ex88"
   ]
  },
  {
   "cell_type": "markdown",
   "metadata": {},
   "source": [
    "First, we need to rewrite the function $f$ as the following quadratic form:\n",
    "$$\n",
    "f(\\mathbf{x}) = \\frac{1}{2} \\mathbf{x}^T \\mathbf{Q} \\mathbf{x} - \\mathbf{b}^T \\mathbf{x}\n",
    "$$"
   ]
  },
  {
   "cell_type": "code",
   "execution_count": 3,
   "metadata": {},
   "outputs": [
    {
     "name": "stdout",
     "output_type": "stream",
     "text": [
      "Ignoring constant term: 1\n"
     ]
    },
    {
     "data": {
      "text/latex": [
       "$$\\left ( \\left[\\begin{matrix}6 & 4\\\\4 & 6\\end{matrix}\\right], \\quad \\left[\\begin{matrix}-5\\\\-6\\end{matrix}\\right]\\right )$$"
      ],
      "text/plain": [
       "⎛⎡6  4⎤  ⎡-5⎤⎞\n",
       "⎜⎢    ⎥, ⎢  ⎥⎟\n",
       "⎝⎣4  6⎦  ⎣-6⎦⎠"
      ]
     },
     "execution_count": 3,
     "metadata": {},
     "output_type": "execute_result"
    }
   ],
   "source": [
    "Q, b = ex88.as_quadratic_form_for_gradient_descent()\n",
    "Q, b"
   ]
  },
  {
   "cell_type": "markdown",
   "metadata": {},
   "source": [
    "Let us ensure that the return $\\mathbf{Q}$ and $\\mathbf{b}$ are correct:"
   ]
  },
  {
   "cell_type": "code",
   "execution_count": 4,
   "metadata": {},
   "outputs": [
    {
     "data": {
      "text/latex": [
       "$$\\left[\\begin{matrix}3.0 x_{1}^{2} + 4.0 x_{1} x_{2} + 5.0 x_{1} + 3.0 x_{2}^{2} + 6.0 x_{2}\\end{matrix}\\right]$$"
      ],
      "text/plain": [
       "⎡      2                              2         ⎤\n",
       "⎣3.0⋅x₁  + 4.0⋅x₁⋅x₂ + 5.0⋅x₁ + 3.0⋅x₂  + 6.0⋅x₂⎦"
      ]
     },
     "execution_count": 4,
     "metadata": {},
     "output_type": "execute_result"
    }
   ],
   "source": [
    "x1,x2 = sy.symbols('x1, x2')\n",
    "x = sy.Matrix([[x1],\n",
    "               [x2]])\n",
    "sy.simplify(1/2 * x.T * Q * x - b.T * x)"
   ]
  },
  {
   "cell_type": "markdown",
   "metadata": {},
   "source": [
    "The only difference with this result and the original function $f$ is the constant term. "
   ]
  },
  {
   "cell_type": "code",
   "execution_count": 5,
   "metadata": {},
   "outputs": [
    {
     "data": {
      "text/latex": [
       "$$\\left[\\begin{matrix}3 x_{1}^{2} + 4 x_{1} x_{2} + 5 x_{1} + 3 x_{2}^{2} + 6 x_{2} + 7\\end{matrix}\\right]$$"
      ],
      "text/plain": [
       "⎡    2                        2           ⎤\n",
       "⎣3⋅x₁  + 4⋅x₁⋅x₂ + 5⋅x₁ + 3⋅x₂  + 6⋅x₂ + 7⎦"
      ]
     },
     "metadata": {},
     "output_type": "display_data"
    },
    {
     "data": {
      "text/plain": []
     },
     "execution_count": 5,
     "metadata": {},
     "output_type": "execute_result"
    }
   ],
   "source": [
    "ex88"
   ]
  },
  {
   "cell_type": "markdown",
   "metadata": {},
   "source": [
    "Next, we find the characteristic polynomial of $\\mathbf{Q}$ which is given by $\\det(\\lambda I - Q)$:"
   ]
  },
  {
   "cell_type": "code",
   "execution_count": 6,
   "metadata": {},
   "outputs": [
    {
     "data": {
      "image/png": "[encoded data removed]",
      "text/latex": [
       "$$\\left(\\lambda - 6\\right)^{2} - 16$$"
      ],
      "text/plain": [
       "       2     \n",
       "(λ - 6)  - 16"
      ]
     },
     "execution_count": 6,
     "metadata": {},
     "output_type": "execute_result"
    }
   ],
   "source": [
    "lamda = sy.symbols('lambda')\n",
    "char_poly = sy.det(lamda * sy.eye(2) - Q)\n",
    "char_poly"
   ]
  },
  {
   "cell_type": "markdown",
   "metadata": {},
   "source": [
    "Solving the characteristic polynomial, we get:"
   ]
  },
  {
   "cell_type": "code",
   "execution_count": 7,
   "metadata": {},
   "outputs": [
    {
     "data": {
      "image/png": "[encoded data removed]",
      "text/latex": [
       "$$\\left\\{\\left ( 2\\right ), \\left ( 10\\right )\\right\\}$$"
      ],
      "text/plain": [
       "{(2,), (10,)}"
      ]
     },
     "execution_count": 7,
     "metadata": {},
     "output_type": "execute_result"
    }
   ],
   "source": [
    "sy.nonlinsolve([char_poly], lamda)"
   ]
  },
  {
   "cell_type": "markdown",
   "metadata": {},
   "source": [
    "From this, we know that $\\lambda = 2$ and $\\lambda = 10$. This means that eigenvalues of $\\mathbf{Q}$ are $2$ and $10$. \n",
    "\n",
    "We can use SymPy to find the characteristic polynomial and eigenvalues directly:"
   ]
  },
  {
   "cell_type": "code",
   "execution_count": 8,
   "metadata": {},
   "outputs": [
    {
     "data": {
      "image/png": "[encoded data removed]",
      "text/latex": [
       "$$\\operatorname{PurePoly}{\\left( \\lambda^{2} - 12 \\lambda + 20, \\lambda, domain=\\mathbb{Z} \\right)}$$"
      ],
      "text/plain": [
       "PurePoly(lambda**2 - 12*lambda + 20, lambda, domain='ZZ')"
      ]
     },
     "execution_count": 8,
     "metadata": {},
     "output_type": "execute_result"
    }
   ],
   "source": [
    "Q.charpoly()"
   ]
  },
  {
   "cell_type": "code",
   "execution_count": 9,
   "metadata": {},
   "outputs": [
    {
     "data": {
      "image/png": "[encoded data removed]",
      "text/latex": [
       "$$\\left \\{ 2 : 1, \\quad 10 : 1\\right \\}$$"
      ],
      "text/plain": [
       "{2: 1, 10: 1}"
      ]
     },
     "execution_count": 9,
     "metadata": {},
     "output_type": "execute_result"
    }
   ],
   "source": [
    "Q.eigenvals()"
   ]
  },
  {
   "cell_type": "markdown",
   "metadata": {},
   "source": [
    "*Side Note: The result is interpreted as follows; the matrix $\\mathbf{Q}$ has the eigenvalues 2 and 10 and that the eigenvalues 2 and 10 have algebraic multiplicity 1. Algebraic multiplicity is the number of times that an eigenvalue appears in the characteristic polynomial of a matrix. This is important because there are cases where the same eigenvalue appears multiple tiles in the characteristic polynomial of a matrix.*"
   ]
  },
  {
   "cell_type": "code",
   "execution_count": 10,
   "metadata": {},
   "outputs": [
    {
     "data": {
      "image/png": "[encoded data removed]",
      "text/latex": [
       "$$\\left \\{ 5 : 2\\right \\}$$"
      ],
      "text/plain": [
       "{5: 2}"
      ]
     },
     "execution_count": 10,
     "metadata": {},
     "output_type": "execute_result"
    }
   ],
   "source": [
    "sy.Matrix([[5, 0],\n",
    "           [0, 5]]).eigenvals()"
   ]
  },
  {
   "cell_type": "markdown",
   "metadata": {},
   "source": [
    "To find the range of values for $\\alpha$, we use the Theorem 8.3:"
   ]
  },
  {
   "cell_type": "markdown",
   "metadata": {},
   "source": [
    "\n",
    "<img src=\"figures/lecture-08/theorem-8.3.png\" width=\"600\" />\n"
   ]
  },
  {
   "cell_type": "markdown",
   "metadata": {},
   "source": [
    "Since $\\lambda_{max}(\\mathbf{Q}) = 10$, the largest range of values of $\\alpha$ for which the algorithm is globally convergent is $0 < \\alpha < 2/10$"
   ]
  },
  {
   "cell_type": "markdown",
   "metadata": {},
   "source": [
    "---\n",
    "## Exercise 8.16"
   ]
  },
  {
   "cell_type": "markdown",
   "metadata": {},
   "source": [
    "\n",
    "<img src=\"figures/homework-08/exercise-8.16.png\" width=\"600\" />\n"
   ]
  },
  {
   "cell_type": "markdown",
   "metadata": {},
   "source": [
    "---\n",
    "<img src=\"figures/homework-08/exercise-8.16-a.png\" width=\"600\" />\n"
   ]
  },
  {
   "cell_type": "markdown",
   "metadata": {},
   "source": [
    "We know that $\\lVert \\mathbf{x} \\rVert^2 = \\mathbf{x}^T \\mathbf{x}$ where $\\mathbf{x} \\in \\mathbb{R}^n$ because by definition  $\\lVert \\mathbf{x} \\rVert = \\sqrt{\\mathbf{x}^T \\mathbf{x}}$, we have:"
   ]
  },
  {
   "cell_type": "markdown",
   "metadata": {},
   "source": [
    "\\begin{align}\n",
    "\\lVert \\mathbf{Ax-b} \\rVert^2 \n",
    "&= (\\mathbf{Ax} - \\mathbf{b})^T(\\mathbf{Ax} - \\mathbf{b}) \\\\\n",
    "&= (\\mathbf{Ax})^T (\\mathbf{Ax}) - (\\mathbf{Ax})^T \\mathbf{b} - \\mathbf{b}^T(\\mathbf{Ax})  + \\mathbf{b}^T \\mathbf{b} \\\\\n",
    "&= \\mathbf{x}^T \\mathbf{A}^T (\\mathbf{Ax}) - 2 (\\mathbf{Ax})^T \\mathbf{b}  + \\mathbf{b}^T \\mathbf{b} \\\\\n",
    "&= \\mathbf{x}^T (\\mathbf{A}^T \\mathbf{A})\\mathbf{x} - 2 \\mathbf{b}^T(\\mathbf{Ax})  + \\mathbf{b}^T \\mathbf{b}\n",
    "\\end{align}"
   ]
  },
  {
   "cell_type": "markdown",
   "metadata": {},
   "source": [
    "The gradient of the function is:\n",
    "\\begin{align}\n",
    "f'(\\mathbf{x}) = 2 (\\mathbf{A}^T \\mathbf{A})\\mathbf{x} - 2 \\mathbf{b}^T \\mathbf{A}\n",
    "\\end{align}"
   ]
  },
  {
   "cell_type": "markdown",
   "metadata": {},
   "source": [
    "The Hessian of the function is:\n",
    "\\begin{align}\n",
    "f''(\\mathbf{x}) = 2 (\\mathbf{A}^T \\mathbf{A})\n",
    "\\end{align}"
   ]
  },
  {
   "cell_type": "markdown",
   "metadata": {},
   "source": [
    "Notice that $\\mathbf{Q} = 2(\\mathbf{A}^T \\mathbf{A})$. Why? Consider the quadratic function of the form:\n",
    "\n",
    "$$\n",
    "g(\\mathbf{x}) = \\frac{1}{2} \\mathbf{x}^T \\mathbf{Q} \\mathbf{x} - \\mathbf{b}^T \\mathbf{x}\n",
    "$$\n"
   ]
  },
  {
   "cell_type": "markdown",
   "metadata": {},
   "source": [
    "If wanted to extract $\\mathbf{Q}$ out of this expression, we find the Hessian. First, let us compute the gradient of $g$:\n",
    "$$\n",
    "g(\\mathbf{x}) = \\mathbf{Q} \\mathbf{x} - \\mathbf{b}\n",
    "$$"
   ]
  },
  {
   "cell_type": "markdown",
   "metadata": {},
   "source": [
    "The Hessian of $g$ is:\n",
    "$$\n",
    "g(\\mathbf{x}) = \\mathbf{Q}\n",
    "$$"
   ]
  },
  {
   "cell_type": "markdown",
   "metadata": {},
   "source": [
    "Therefore, whenever we need to find the $\\mathbf{Q}$ for a quadratic function, we simply compute the Hessian and the result is an expression of $\\mathbf{Q}$."
   ]
  },
  {
   "cell_type": "markdown",
   "metadata": {},
   "source": [
    "---\n",
    "Let us verify our result using SymPy:"
   ]
  },
  {
   "cell_type": "code",
   "execution_count": 11,
   "metadata": {},
   "outputs": [
    {
     "data": {
      "text/latex": [
       "$$\\left[\\begin{matrix}\\left(-b^T + x^T A^T\\right) \\left(-b + A x\\right)\\end{matrix}\\right]$$"
      ],
      "text/plain": [
       "⎡⎛  T    T  T⎞           ⎤\n",
       "⎣⎝-b  + x ⋅A ⎠⋅(-b + A⋅x)⎦"
      ]
     },
     "execution_count": 11,
     "metadata": {},
     "output_type": "execute_result"
    }
   ],
   "source": [
    "m, n = sy.symbols('m, n')\n",
    "A = sy.MatrixSymbol('A', m, n)\n",
    "b = sy.MatrixSymbol('b', m, 1)\n",
    "x = sy.MatrixSymbol('x', n, 1)\n",
    "\n",
    "# Turn it into a Matrix\n",
    "f = sy.Matrix([ (A*x - b).T * (A*x-b) ])\n",
    "f"
   ]
  },
  {
   "cell_type": "code",
   "execution_count": 12,
   "metadata": {},
   "outputs": [
    {
     "data": {
      "text/latex": [
       "$$\\left[\\begin{matrix}2 A^T \\left(-b + A x\\right)\\end{matrix}\\right]$$"
      ],
      "text/plain": [
       "⎡   T           ⎤\n",
       "⎣2⋅A ⋅(-b + A⋅x)⎦"
      ]
     },
     "execution_count": 12,
     "metadata": {},
     "output_type": "execute_result"
    }
   ],
   "source": [
    "# Find the gradient of the function\n",
    "gradient = f.jacobian([x])\n",
    "gradient"
   ]
  },
  {
   "cell_type": "code",
   "execution_count": 13,
   "metadata": {},
   "outputs": [
    {
     "data": {
      "text/latex": [
       "$$\\left[\\begin{matrix}2 A^T A\\end{matrix}\\right]$$"
      ],
      "text/plain": [
       "⎡   T  ⎤\n",
       "⎣2⋅A ⋅A⎦"
      ]
     },
     "execution_count": 13,
     "metadata": {},
     "output_type": "execute_result"
    }
   ],
   "source": [
    "# Find the Hessian of the function\n",
    "hessian = gradient.jacobian([x])\n",
    "hessian"
   ]
  },
  {
   "cell_type": "markdown",
   "metadata": {},
   "source": [
    "---\n",
    "<img src=\"figures/homework-08/exercise-8.16-b.png\" width=\"600\" />\n"
   ]
  },
  {
   "cell_type": "markdown",
   "metadata": {},
   "source": [
    "In general, the fixed-step-size algorithm is given by:\n",
    "\n",
    "\n",
    "<img src=\"figures/lecture-08/fixed-step-size-gradient-algorithm.png\" width=\"600\" />\n"
   ]
  },
  {
   "cell_type": "markdown",
   "metadata": {},
   "source": [
    "where $\\mathbf{g}^{(k)}$ is gradient of the function i.e., $\\nabla f(\\mathbf{x}^{(k)})$"
   ]
  },
  {
   "cell_type": "markdown",
   "metadata": {},
   "source": [
    "The fixed-step-size gradient algorithm for the optimisation problem is therefore:\n",
    "$$\n",
    "\\mathbf{x}^{(k+1)} = \\mathbf{x}^{(k)} - \\alpha \\left(  2 (\\mathbf{A}^T \\mathbf{A})\\mathbf{x} - 2 \\mathbf{b}^T \\mathbf{A}  \\right)\n",
    "$$"
   ]
  },
  {
   "cell_type": "markdown",
   "metadata": {},
   "source": [
    "---\n",
    "<img src=\"figures/homework-08/exercise-8.16-c.png\" width=\"600\" />\n"
   ]
  },
  {
   "cell_type": "markdown",
   "metadata": {},
   "source": [
    "To solve this exercise, we need to compute the eigenvalues of $\\mathbf{Q}$ and find the largest one. Now, the question is how to find $\\mathbf{Q}$ given $\\mathbf{A}$. Consider the quadratic function of the form:\n",
    "\n",
    "$$\n",
    "g(\\mathbf{x}) = \\frac{1}{2} \\mathbf{x}^T \\mathbf{Q} \\mathbf{x} - \\mathbf{b}^T \\mathbf{x}\n",
    "$$\n",
    "\n",
    "If wanted to extract $\\mathbf{Q}$ out of this expression, we find the Hessian. First, let us compute the gradient of $g$:\n",
    "$$\n",
    "g(\\mathbf{x}) = \\mathbf{Q} \\mathbf{x} - \\mathbf{b}\n",
    "$$\n",
    "\n",
    "The Hessian of $g$ is:\n",
    "$$\n",
    "g(\\mathbf{x}) = \\mathbf{Q}\n",
    "$$\n",
    "\n",
    "Therefore, whenever we need to find the $\\mathbf{Q}$ for a quadratic function, we simply compute the Hessian and the result is an expression of $\\mathbf{Q}$.\n",
    "\n",
    "From exercise a) we know that Hessian and therefore $\\mathbf{Q} = 2(\\mathbf{A}^T \\mathbf{A})$."
   ]
  },
  {
   "cell_type": "code",
   "execution_count": 14,
   "metadata": {},
   "outputs": [],
   "source": [
    "A = sy.Matrix([[1, 0],\n",
    "               [0, 2]])\n",
    "Q = 2* (A.T * A)"
   ]
  },
  {
   "cell_type": "markdown",
   "metadata": {},
   "source": [
    "To determine the largest range of values of $\\alpha$ for which the fixed-step-size algorithm is globally convergent, we use Theorem 8.3:\n",
    "\n",
    "\n",
    "<img src=\"figures/lecture-08/theorem-8.3.png\" width=\"600\" />\n"
   ]
  },
  {
   "cell_type": "markdown",
   "metadata": {},
   "source": [
    "We compute the eigenvalues of $\\mathbf{Q}$:"
   ]
  },
  {
   "cell_type": "code",
   "execution_count": 15,
   "metadata": {},
   "outputs": [
    {
     "data": {
      "image/png": "[encoded data removed]",
      "text/latex": [
       "$$\\left \\{ 2 : 1, \\quad 8 : 1\\right \\}$$"
      ],
      "text/plain": [
       "{2: 1, 8: 1}"
      ]
     },
     "execution_count": 15,
     "metadata": {},
     "output_type": "execute_result"
    }
   ],
   "source": [
    "Q.eigenvals()"
   ]
  },
  {
   "cell_type": "markdown",
   "metadata": {},
   "source": [
    "Thus, $0 < \\alpha < \\frac{2}{8}$ or  $0 < \\alpha < \\frac{1}{4}$"
   ]
  },
  {
   "cell_type": "markdown",
   "metadata": {},
   "source": [
    "---\n",
    "## Exercise 8.21"
   ]
  },
  {
   "cell_type": "markdown",
   "metadata": {},
   "source": [
    "\n",
    "<img src=\"figures/homework-08/exercise-8.21.png\" width=\"600\" />\n"
   ]
  },
  {
   "cell_type": "markdown",
   "metadata": {},
   "source": [
    "---\n",
    "<img src=\"figures/homework-08/exercise-8.21-a.png\" width=\"600\" />\n"
   ]
  },
  {
   "cell_type": "code",
   "execution_count": 16,
   "metadata": {},
   "outputs": [
    {
     "data": {
      "text/latex": [
       "$$\\left[\\begin{matrix}3 x_{1}^{2} + 4 x_{1} x_{2} + 2 x_{1} + 3 x_{2}^{2} + 1\\end{matrix}\\right]$$"
      ],
      "text/plain": [
       "⎡    2                        2    ⎤\n",
       "⎣3⋅x₁  + 4⋅x₁⋅x₂ + 2⋅x₁ + 3⋅x₂  + 1⎦"
      ]
     },
     "metadata": {},
     "output_type": "display_data"
    },
    {
     "data": {
      "text/plain": []
     },
     "execution_count": 16,
     "metadata": {},
     "output_type": "execute_result"
    }
   ],
   "source": [
    "def create_ex821():\n",
    "    x1, x2 = sy.symbols('x1, x2')\n",
    "    f = 1 + 2*x1 + 3*(x1**2 + x2**2) + 4*x1*x2\n",
    "    return Func(f, (x1, x2))\n",
    "ex821 = create_ex821()\n",
    "ex821"
   ]
  },
  {
   "cell_type": "code",
   "execution_count": 21,
   "metadata": {},
   "outputs": [
    {
     "data": {
      "text/plain": [
       "(<Figure size 864x432 with 2 Axes>,\n",
       " <matplotlib.axes._subplots.AxesSubplot at 0x7fe3eeee29b0>)"
      ]
     },
     "execution_count": 21,
     "metadata": {},
     "output_type": "execute_result"
    },
    {
     "data": {
      "image/png": "[encoded data removed]",
      "text/plain": [
       "<Figure size 864x432 with 2 Axes>"
      ]
     },
     "metadata": {
      "needs_background": "light"
     },
     "output_type": "display_data"
    }
   ],
   "source": [
    "fig, ex = ex821.plot_contour()"
   ]
  },
  {
   "cell_type": "markdown",
   "metadata": {},
   "source": [
    "First, we need to rewrite the function $f$ as the following quadratic form:\n",
    "$$\n",
    "f(\\mathbf{x}) = \\frac{1}{2} \\mathbf{x}^T \\mathbf{Q} \\mathbf{x} - \\mathbf{b}^T \\mathbf{x}\n",
    "$$"
   ]
  },
  {
   "cell_type": "code",
   "execution_count": 17,
   "metadata": {},
   "outputs": [
    {
     "name": "stdout",
     "output_type": "stream",
     "text": [
      "Ignoring constant term: 1\n"
     ]
    },
    {
     "data": {
      "text/latex": [
       "$$\\left ( \\left[\\begin{matrix}6 & 4\\\\4 & 6\\end{matrix}\\right], \\quad \\left[\\begin{matrix}-2\\\\0\\end{matrix}\\right]\\right )$$"
      ],
      "text/plain": [
       "⎛⎡6  4⎤  ⎡-2⎤⎞\n",
       "⎜⎢    ⎥, ⎢  ⎥⎟\n",
       "⎝⎣4  6⎦  ⎣0 ⎦⎠"
      ]
     },
     "execution_count": 17,
     "metadata": {},
     "output_type": "execute_result"
    }
   ],
   "source": [
    "Q, b = ex821.as_quadratic_form_for_gradient_descent()\n",
    "(Q, b)"
   ]
  },
  {
   "cell_type": "markdown",
   "metadata": {},
   "source": [
    "Verify that $\\mathbf{Q}$ is correct:"
   ]
  },
  {
   "cell_type": "code",
   "execution_count": 18,
   "metadata": {},
   "outputs": [
    {
     "data": {
      "text/latex": [
       "$$\\left[\\begin{matrix}3 x_{1}^{2} + 4 x_{1} x_{2} - 2 x_{1} + 3 x_{2}^{2}\\end{matrix}\\right]$$"
      ],
      "text/plain": [
       "⎡    2                        2⎤\n",
       "⎣3⋅x₁  + 4⋅x₁⋅x₂ - 2⋅x₁ + 3⋅x₂ ⎦"
      ]
     },
     "execution_count": 18,
     "metadata": {},
     "output_type": "execute_result"
    }
   ],
   "source": [
    "sy.expand(Func.create_quadratic(Q/2, b))"
   ]
  },
  {
   "cell_type": "markdown",
   "metadata": {},
   "source": [
    "Looks fine. Next, we determine the largest range of values of $\\alpha$ for which the fixed-step-size algorithm is globally convergent. For this, we use Theorem 8.3:\n",
    "\n",
    "\n",
    "<img src=\"figures/lecture-08/theorem-8.3.png\" width=\"600\" />\n"
   ]
  },
  {
   "cell_type": "markdown",
   "metadata": {},
   "source": [
    "We compute the eigenvalues of $\\mathbf{Q}$:"
   ]
  },
  {
   "cell_type": "code",
   "execution_count": 19,
   "metadata": {},
   "outputs": [
    {
     "data": {
      "image/png": "[encoded data removed]",
      "text/latex": [
       "$$\\left \\{ 2 : 1, \\quad 10 : 1\\right \\}$$"
      ],
      "text/plain": [
       "{2: 1, 10: 1}"
      ]
     },
     "execution_count": 19,
     "metadata": {},
     "output_type": "execute_result"
    }
   ],
   "source": [
    "Q.eigenvals()"
   ]
  },
  {
   "cell_type": "markdown",
   "metadata": {},
   "source": [
    "The upper range is $2/10 = 1/5$"
   ]
  },
  {
   "cell_type": "code",
   "execution_count": 20,
   "metadata": {},
   "outputs": [
    {
     "data": {
      "text/html": [
       "$0 < \\alpha < 1/5$"
      ],
      "text/plain": [
       "<IPython.core.display.HTML object>"
      ]
     },
     "execution_count": 20,
     "metadata": {},
     "output_type": "execute_result"
    }
   ],
   "source": [
    "ex821.find_step_size_range(Q)"
   ]
  },
  {
   "cell_type": "markdown",
   "metadata": {},
   "source": [
    "---\n",
    "<img src=\"figures/homework-08/exercise-8.21-b.png\" width=\"600\" />\n"
   ]
  },
  {
   "cell_type": "code",
   "execution_count": 21,
   "metadata": {},
   "outputs": [
    {
     "data": {
      "text/latex": [
       "$$\\left[\\begin{matrix}x_{1} \\left(3 x_{1} + x_{2}\\right) + 16 x_{1} + x_{2} \\left(3 x_{1} + 3 x_{2}\\right) + 23 x_{2}\\end{matrix}\\right]$$"
      ],
      "text/plain": [
       "[x₁⋅(3⋅x₁ + x₂) + 16⋅x₁ + x₂⋅(3⋅x₁ + 3⋅x₂) + 23⋅x₂]"
      ]
     },
     "metadata": {},
     "output_type": "display_data"
    },
    {
     "data": {
      "text/plain": []
     },
     "execution_count": 21,
     "metadata": {},
     "output_type": "execute_result"
    }
   ],
   "source": [
    "def create_ex821b():\n",
    "    Q = [[3, 3],\n",
    "         [1, 3]]\n",
    "    b = [16, 23]\n",
    "    return Func.create_quadratic(Q, b)\n",
    "ex821b = create_ex821b()\n",
    "ex821b"
   ]
  },
  {
   "cell_type": "markdown",
   "metadata": {},
   "source": [
    "First, we need to rewrite the function $f$ as the following quadratic form:\n",
    "$$\n",
    "f(\\mathbf{x}) = \\frac{1}{2} \\mathbf{x}^T \\mathbf{Q} \\mathbf{x} - \\mathbf{b}^T \\mathbf{x}\n",
    "$$"
   ]
  },
  {
   "cell_type": "code",
   "execution_count": 22,
   "metadata": {},
   "outputs": [
    {
     "data": {
      "text/latex": [
       "$$\\left ( \\left[\\begin{matrix}6 & 4\\\\4 & 6\\end{matrix}\\right], \\quad \\left[\\begin{matrix}-16\\\\-23\\end{matrix}\\right]\\right )$$"
      ],
      "text/plain": [
       "⎛⎡6  4⎤  ⎡-16⎤⎞\n",
       "⎜⎢    ⎥, ⎢   ⎥⎟\n",
       "⎝⎣4  6⎦  ⎣-23⎦⎠"
      ]
     },
     "execution_count": 22,
     "metadata": {},
     "output_type": "execute_result"
    }
   ],
   "source": [
    "Q, b = ex821b.as_quadratic_form_for_gradient_descent()\n",
    "(Q, b)"
   ]
  },
  {
   "cell_type": "markdown",
   "metadata": {},
   "source": [
    "Let us check that $\\mathbf{Q}$ is correct."
   ]
  },
  {
   "cell_type": "code",
   "execution_count": 23,
   "metadata": {},
   "outputs": [
    {
     "data": {
      "image/png": "[encoded data removed]",
      "text/latex": [
       "$$3 x_{1}^{2} + 4 x_{1} x_{2} + 16 x_{1} + 3 x_{2}^{2} + 23 x_{2}$$"
      ],
      "text/plain": [
       "    2                         2        \n",
       "3⋅x₁  + 4⋅x₁⋅x₂ + 16⋅x₁ + 3⋅x₂  + 23⋅x₂"
      ]
     },
     "execution_count": 23,
     "metadata": {},
     "output_type": "execute_result"
    }
   ],
   "source": [
    "sy.expand(ex821b._f[0])"
   ]
  },
  {
   "cell_type": "code",
   "execution_count": 24,
   "metadata": {},
   "outputs": [
    {
     "data": {
      "text/latex": [
       "$$\\left[\\begin{matrix}3 x_{1}^{2} + 4 x_{1} x_{2} - 16 x_{1} + 3 x_{2}^{2} - 23 x_{2}\\end{matrix}\\right]$$"
      ],
      "text/plain": [
       "⎡    2                         2        ⎤\n",
       "⎣3⋅x₁  + 4⋅x₁⋅x₂ - 16⋅x₁ + 3⋅x₂  - 23⋅x₂⎦"
      ]
     },
     "execution_count": 24,
     "metadata": {},
     "output_type": "execute_result"
    }
   ],
   "source": [
    "sy.expand(Func.create_quadratic(Q/2, b))"
   ]
  },
  {
   "cell_type": "markdown",
   "metadata": {},
   "source": [
    "Looks fine. Next, we determine the largest range of values of $\\alpha$ for which the fixed-step-size algorithm is globally convergent. For this, we use Theorem 8.3:\n",
    "\n",
    "\n",
    "<img src=\"figures/lecture-08/theorem-8.3.png\" width=\"600\" />\n"
   ]
  },
  {
   "cell_type": "markdown",
   "metadata": {},
   "source": [
    "We compute the eigenvalues of $\\mathbf{Q}$:"
   ]
  },
  {
   "cell_type": "code",
   "execution_count": 25,
   "metadata": {},
   "outputs": [
    {
     "data": {
      "image/png": "[encoded data removed]",
      "text/latex": [
       "$$\\left \\{ 2 : 1, \\quad 10 : 1\\right \\}$$"
      ],
      "text/plain": [
       "{2: 1, 10: 1}"
      ]
     },
     "execution_count": 25,
     "metadata": {},
     "output_type": "execute_result"
    }
   ],
   "source": [
    "Q.eigenvals()"
   ]
  },
  {
   "cell_type": "markdown",
   "metadata": {},
   "source": [
    "The upper range is $2/10 = 1/5$"
   ]
  },
  {
   "cell_type": "code",
   "execution_count": 26,
   "metadata": {},
   "outputs": [
    {
     "data": {
      "text/html": [
       "$0 < \\alpha < 1/5$"
      ],
      "text/plain": [
       "<IPython.core.display.HTML object>"
      ]
     },
     "execution_count": 26,
     "metadata": {},
     "output_type": "execute_result"
    }
   ],
   "source": [
    "ex821b.find_step_size_range(Q)"
   ]
  },
  {
   "cell_type": "markdown",
   "metadata": {},
   "source": [
    "---\n",
    "## Exercise 8.25"
   ]
  },
  {
   "cell_type": "markdown",
   "metadata": {},
   "source": [
    "<img src=\"figures/homework-08/exercise-8.25.png\" width=\"600\" />\n"
   ]
  },
  {
   "cell_type": "code",
   "execution_count": 2,
   "metadata": {},
   "outputs": [],
   "source": [
    "from steepestd import SteepestDescent"
   ]
  },
  {
   "cell_type": "markdown",
   "metadata": {},
   "source": [
    "To test our algorithm, we use the Example 8.1 from the book:\n",
    "\n",
    "<img src=\"figures/lecture-08/example-8.1a.png\" width=\"600\" />\n",
    "\n",
    "This function has a minimum at $ \\mathbf{x}^{*} = [4, 3, -5]^T$"
   ]
  },
  {
   "cell_type": "code",
   "execution_count": 3,
   "metadata": {},
   "outputs": [
    {
     "data": {
      "text/latex": [
       "$$\\left[\\begin{matrix}\\left(x_{1} - 4\\right)^{4} + \\left(x_{2} - 3\\right)^{2} + 4 \\left(x_{3} + 5\\right)^{4}\\end{matrix}\\right]$$"
      ],
      "text/plain": [
       "⎡        4           2             4⎤\n",
       "⎣(x₁ - 4)  + (x₂ - 3)  + 4⋅(x₃ + 5) ⎦"
      ]
     },
     "metadata": {},
     "output_type": "display_data"
    },
    {
     "data": {
      "text/plain": []
     },
     "execution_count": 3,
     "metadata": {},
     "output_type": "execute_result"
    }
   ],
   "source": [
    "x1, x2, x3 = sy.symbols('x1, x2, x3')\n",
    "f = (x1 - 4)**4   +  (x2 - 3)**2  +  4*(x3 + 5)**4\n",
    "f_ex81 = Func(f, (x1, x2, x3))\n",
    "f_ex81"
   ]
  },
  {
   "cell_type": "code",
   "execution_count": 4,
   "metadata": {},
   "outputs": [],
   "source": [
    "x_0 = sy.Matrix([4, 2, -1])"
   ]
  },
  {
   "cell_type": "code",
   "execution_count": 7,
   "metadata": {},
   "outputs": [],
   "source": [
    "s = SteepestDescent(f_ex81)\n",
    "x_star = s.run(initial_point=x_0, verbose=False)"
   ]
  },
  {
   "cell_type": "code",
   "execution_count": 8,
   "metadata": {},
   "outputs": [
    {
     "data": {
      "text/latex": [
       "$$\\left[\\begin{matrix}4\\\\3.00000000043026\\\\-5.00300637790484\\end{matrix}\\right]$$"
      ],
      "text/plain": [
       "⎡        4        ⎤\n",
       "⎢                 ⎥\n",
       "⎢3.00000000043026 ⎥\n",
       "⎢                 ⎥\n",
       "⎣-5.00300637790484⎦"
      ]
     },
     "execution_count": 8,
     "metadata": {},
     "output_type": "execute_result"
    }
   ],
   "source": [
    "x_star"
   ]
  },
  {
   "cell_type": "markdown",
   "metadata": {},
   "source": [
    "---\n",
    "## Exercise 8.26"
   ]
  },
  {
   "cell_type": "markdown",
   "metadata": {},
   "source": [
    "<img src=\"figures/homework-08/exercise-8.26.png\" width=\"600\" />\n"
   ]
  },
  {
   "cell_type": "code",
   "execution_count": 27,
   "metadata": {},
   "outputs": [
    {
     "data": {
      "text/latex": [
       "$$\\left[\\begin{matrix}\\left(- x_{1} + 1\\right)^{2} + 100 \\left(- x_{1}^{2} + x_{2}\\right)^{2}\\end{matrix}\\right]$$"
      ],
      "text/plain": [
       "⎡                             2⎤\n",
       "⎢         2       ⎛    2     ⎞ ⎥\n",
       "⎣(-x₁ + 1)  + 100⋅⎝- x₁  + x₂⎠ ⎦"
      ]
     },
     "metadata": {},
     "output_type": "display_data"
    },
    {
     "data": {
      "text/plain": []
     },
     "execution_count": 27,
     "metadata": {},
     "output_type": "execute_result"
    }
   ],
   "source": [
    "def create_ex826():\n",
    "    x1, x2 = sy.symbols('x1, x2')\n",
    "    f = 100*(x2 - x1**2)**2  +  (1-x1)**2\n",
    "    return Func(f, (x1, x2))\n",
    "f_ex826 = create_ex826()\n",
    "f_ex826"
   ]
  },
  {
   "cell_type": "markdown",
   "metadata": {},
   "source": [
    "The Rosenbrock function, also referred to as the Valley or Banana function, is a popular test problem for gradient-based optimization algorithms. The function is unimodal, and the global minimum lies in a narrow, parabolic valley. The minimiser is know to be at $\\mathbf{x}^{*} = [1, 1]^T$ i.e., $f(\\mathbf{x}^{*}) = 0$. However, even though this valley is easy to find, convergence to the minimum is difficult.\n",
    "\n",
    "Let us plot the function in its two-dimensional form:"
   ]
  },
  {
   "cell_type": "code",
   "execution_count": 28,
   "metadata": {},
   "outputs": [
    {
     "data": {
      "image/png": "[encoded data removed]",
      "text/plain": [
       "<Figure size 432x288 with 1 Axes>"
      ]
     },
     "metadata": {
      "needs_background": "light"
     },
     "output_type": "display_data"
    }
   ],
   "source": [
    "f_ex826.plot()"
   ]
  },
  {
   "cell_type": "markdown",
   "metadata": {},
   "source": [
    "We may get a glimpse of the narrow valley where the global minimum lies with a contour plot:"
   ]
  },
  {
   "cell_type": "code",
   "execution_count": 45,
   "metadata": {},
   "outputs": [
    {
     "data": {
      "image/png": "[encoded data removed]",
      "text/plain": [
       "<Figure size 864x432 with 2 Axes>"
      ]
     },
     "metadata": {
      "needs_background": "light"
     },
     "output_type": "display_data"
    }
   ],
   "source": [
    "f_ex826.plot_contour(x_limit=(-3, 3), levels=40);"
   ]
  },
  {
   "cell_type": "markdown",
   "metadata": {},
   "source": [
    "Let us try to find the minimum with the steepest descent algorith with adaptive step size:"
   ]
  },
  {
   "cell_type": "code",
   "execution_count": 29,
   "metadata": {},
   "outputs": [
    {
     "data": {
      "text/latex": [
       "$$\\left[\\begin{matrix}1.69652635913806\\\\2.87711421760573\\end{matrix}\\right]$$"
      ],
      "text/plain": [
       "⎡1.69652635913806⎤\n",
       "⎢                ⎥\n",
       "⎣2.87711421760573⎦"
      ]
     },
     "execution_count": 29,
     "metadata": {},
     "output_type": "execute_result"
    }
   ],
   "source": [
    "x_0 = sy.Matrix([-2, 2])\n",
    "s_826 = SteepestDescent(f_ex826)\n",
    "s_826.run(initial_point=x_0, verbose=False)"
   ]
  },
  {
   "cell_type": "markdown",
   "metadata": {},
   "source": [
    "How steepest descent algorithm with a fixed step size $\\alpha=0.001$?"
   ]
  },
  {
   "cell_type": "code",
   "execution_count": 43,
   "metadata": {},
   "outputs": [
    {
     "data": {
      "text/latex": [
       "$$\\left[\\begin{matrix}-1.25967374549844\\\\1.59452485453232\\end{matrix}\\right]$$"
      ],
      "text/plain": [
       "⎡-1.25967374549844⎤\n",
       "⎢                 ⎥\n",
       "⎣1.59452485453232 ⎦"
      ]
     },
     "execution_count": 43,
     "metadata": {},
     "output_type": "execute_result"
    }
   ],
   "source": [
    "s_826 = SteepestDescent(f_ex826)\n",
    "s_826.run(initial_point=x_0, alpha=0.001, verbose=False)"
   ]
  },
  {
   "cell_type": "markdown",
   "metadata": {},
   "source": [
    "Both results seem like they are minima but they are not the global minimum."
   ]
  }
 ],
 "metadata": {
  "kernelspec": {
   "display_name": "Python 3",
   "language": "python",
   "name": "python3"
  },
  "language_info": {
   "codemirror_mode": {
    "name": "ipython",
    "version": 3
   },
   "file_extension": ".py",
   "mimetype": "text/x-python",
   "name": "python",
   "nbconvert_exporter": "python",
   "pygments_lexer": "ipython3",
   "version": "3.6.6"
  }
 },
 "nbformat": 4,
 "nbformat_minor": 2
}
