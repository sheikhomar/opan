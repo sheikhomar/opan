{
 "cells": [
  {
   "cell_type": "code",
   "execution_count": 1,
   "metadata": {},
   "outputs": [
    {
     "data": {
      "text/html": [
       "<style type=\"text/css\">.summary {\n",
       "  border: solid 1px green !important;\n",
       "  background: #cdffd8 !important;\n",
       "  padding: 10px !important;\n",
       "  border-radius: 2px !important;\n",
       "}\n",
       "\n",
       ".insight {\n",
       "  border: solid 1px green !important;\n",
       "  background: #cdffd8 !important;\n",
       "  padding: 10px !important;\n",
       "  border-radius: 2px !important;\n",
       "}\n",
       "\n",
       ".sidenote {\n",
       "  border: solid 1px green !important;\n",
       "  background: #cdffd8 !important;\n",
       "  padding: 10px !important;\n",
       "  border-radius: 2px !important;\n",
       "}\n",
       "\n",
       ".warning {\n",
       "  border: solid 1px #8a6d3b !important;\n",
       "  background: #fcf8e3 !important;\n",
       "  padding: 10px !important;\n",
       "  border-radius: 2px !important;\n",
       "}\n",
       "\n",
       ".green {\n",
       "  color: #006600 !important;\n",
       "}\n",
       "\n",
       ".red {\n",
       "  color: #cc0000 !important;\n",
       "}\n",
       "\n",
       ".simplex-tableaux {\n",
       "    font-size: 13pt !important;\n",
       "}\n",
       "\n",
       ".last-row td {\n",
       "    border-top: solid 1px Black !important;\n",
       "}\n",
       "\n",
       ".smallest-value {\n",
       "    background-color: Green !important;\n",
       "    color: White !important;\n",
       "    font-weight: bold !important;\n",
       "}</style>Stylesheet \"styles.css\" loaded."
      ],
      "text/plain": [
       "<IPython.core.display.HTML object>"
      ]
     },
     "metadata": {},
     "output_type": "display_data"
    }
   ],
   "source": [
    "import numpy as np\n",
    "import matplotlib.pyplot as plt\n",
    "import sympy as sy\n",
    "import utils as utils\n",
    "from fractions import Fraction\n",
    "from func import Func\n",
    "import func\n",
    "\n",
    "from IPython.display import display, HTML\n",
    "\n",
    "# Inline plotting\n",
    "%matplotlib inline\n",
    "\n",
    "# Make sympy print pretty math expressions\n",
    "sy.init_printing()\n",
    "\n",
    "utils.load_custom_styles()"
   ]
  },
  {
   "cell_type": "markdown",
   "metadata": {},
   "source": [
    "\n",
    "# Exercise 1 a) "
   ]
  },
  {
   "cell_type": "markdown",
   "metadata": {},
   "source": [
    "\n",
    "<img src=\"figures/sol-ex1a.jpg\" width=\"500\" />\n"
   ]
  },
  {
   "cell_type": "markdown",
   "metadata": {},
   "source": [
    "# Exercise 1 b)"
   ]
  },
  {
   "cell_type": "markdown",
   "metadata": {},
   "source": [
    "Using following procedure:\n",
    "\n",
    "**Step 1:** Convert inequalities to equalites using slack variables\n",
    "\n",
    "**Step 2:** Convert objective function to an equally.\n",
    "\n",
    "**Step 3:** Construct the initial simplex tableaux\n",
    "\n",
    "\n",
    "<img src=\"figures/sol-ex1b.jpg\" width=\"500\" />\n",
    "\n",
    "\n",
    "\n",
    "\n",
    "**Step 4:** Find the pivot column by looking at the smallest value at the bottom row. \n",
    "\n",
    "**Step 5:** Find the pivot row by pick the smallest of the ratios: $b_i / a_{i1}$\n",
    "\n",
    "**Step 6:** Make the pivot column to a basis column using elementary row operations.\n",
    "\n",
    "Following row operations are needed:\n",
    "\n",
    "- $R_1  - 2R_3 \\to R_1$\n",
    "- $R_2  - R_3 \\to R_2$\n",
    "- $R_4  + 3 R_3 \\to R_4$\n"
   ]
  },
  {
   "cell_type": "markdown",
   "metadata": {},
   "source": [
    "We can find the maximum using SciPy:"
   ]
  },
  {
   "cell_type": "code",
   "execution_count": 3,
   "metadata": {},
   "outputs": [
    {
     "data": {
      "text/html": [
       "Optimal solution: "
      ],
      "text/plain": [
       "<IPython.core.display.HTML object>"
      ]
     },
     "metadata": {},
     "output_type": "display_data"
    },
    {
     "data": {
      "text/latex": [
       "$\\displaystyle x_1 = 20, x_2 = 60, s_1 = 0, s_2 = 0, s_3 = 20, M=180$"
      ],
      "text/plain": [
       "<IPython.core.display.Math object>"
      ]
     },
     "metadata": {},
     "output_type": "display_data"
    }
   ],
   "source": [
    "import linprog as lp\n",
    "\n",
    "A = [[2, 1],\n",
    "     [1, 1],\n",
    "     [1, 0]]\n",
    "b = [100, 80, 40]\n",
    "c = [3, 2]\n",
    "\n",
    "res = lp.maximise(A, b, c)\n",
    "lp.pretty_print(res)"
   ]
  },
  {
   "cell_type": "markdown",
   "metadata": {},
   "source": [
    "The maximum for $f(20, 60)=180$ "
   ]
  },
  {
   "cell_type": "markdown",
   "metadata": {},
   "source": [
    "# Exercise 1 c)"
   ]
  },
  {
   "cell_type": "markdown",
   "metadata": {},
   "source": [
    "Moving the right hand side of inequality (i) would increase the maximum slightly. This is because of the following reasons.\n",
    "\n",
    "We know that at least one of the extreme points or corners of the feasible area corresponds to an optimal solution according to Theorem 6:\n",
    "\n",
    "<img src=\"figures/exam-jan-2018/theorem-6.png\" width=\"800\" />\n",
    "\n",
    "This corresponds with the result in b). The maximum $(20, 60)$ is the intersection between (i) and (ii). \n",
    "\n",
    "Drawing the level set $f(x_1, x_2)=180$, it becomes clear why the line corresponding to inequality (i) should be moved."
   ]
  },
  {
   "cell_type": "markdown",
   "metadata": {},
   "source": [
    "# Exercise 2 a)"
   ]
  },
  {
   "cell_type": "markdown",
   "metadata": {},
   "source": [
    "The gradient of $g$ gives the partial derivatives in each dimensions. The partial derivative $\\frac{\\partial g}{\\partial x_1}$ gives us the slope of $g$ in the positive $x_1$ direction, $\\frac{\\partial f}{\\partial x_2}$ gives us the slope of $g$ in the positive $x_2$ direction and $\\frac{\\partial g}{\\partial x_3}$ gives us the slope in the positive $x_3$ direction.\n",
    "\n",
    "Instead of fixing the direction, we can generalise the partial derivatives to compute the slope in any direction that we want. Like the partial derivative, we can define the directional derivative as follows:\n",
    "\n",
    "\\begin{align*}\n",
    "D_{\\mathbf{d}} f(\\mathbf{x}) = \\lim_{h \\to 0} \\frac{g(\\mathbf{x} + h \\mathbf{d}) - g(\\mathbf{x})}{h}\n",
    "\\end{align*}"
   ]
  },
  {
   "cell_type": "markdown",
   "metadata": {},
   "source": [
    "The directional derivative:\n",
    "$$\n",
    "\\frac{\\partial f(\\mathbf{x})}{\\partial \\mathbf{d}} = \\nabla f(\\mathbf{x})^T \\mathbf{d}\n",
    "$$"
   ]
  },
  {
   "cell_type": "code",
   "execution_count": 12,
   "metadata": {},
   "outputs": [
    {
     "data": {
      "image/png": "[encoded data removed]",
      "text/latex": [
       "$$e^{x_{2} \\left(x_{1} + 1\\right)}$$"
      ],
      "text/plain": [
       " x₂⋅(x₁ + 1)\n",
       "ℯ           "
      ]
     },
     "execution_count": 12,
     "metadata": {},
     "output_type": "execute_result"
    }
   ],
   "source": [
    "x1,x2 = sy.symbols('x1, x2')\n",
    "g = sy.exp((x1+1)*x2)\n",
    "g"
   ]
  },
  {
   "cell_type": "markdown",
   "metadata": {},
   "source": [
    "We can find the derivative using NumPy:"
   ]
  },
  {
   "cell_type": "code",
   "execution_count": 8,
   "metadata": {},
   "outputs": [
    {
     "data": {
      "image/png": "[encoded data removed]",
      "text/latex": [
       "$$\\left[\\begin{matrix}x_{2} e^{x_{2} \\left(x_{1} + 1\\right)}\\\\\\left(x_{1} + 1\\right) e^{x_{2} \\left(x_{1} + 1\\right)}\\end{matrix}\\right]$$"
      ],
      "text/plain": [
       "⎡       x₂⋅(x₁ + 1)   ⎤\n",
       "⎢   x₂⋅ℯ              ⎥\n",
       "⎢                     ⎥\n",
       "⎢          x₂⋅(x₁ + 1)⎥\n",
       "⎣(x₁ + 1)⋅ℯ           ⎦"
      ]
     },
     "execution_count": 8,
     "metadata": {},
     "output_type": "execute_result"
    }
   ],
   "source": [
    "D = sy.Matrix([g]).jacobian((x1, x2)).T\n",
    "D"
   ]
  },
  {
   "cell_type": "markdown",
   "metadata": {},
   "source": [
    "Next, we find the directional derivative in the direction $d=[1,1]$:"
   ]
  },
  {
   "cell_type": "code",
   "execution_count": 14,
   "metadata": {},
   "outputs": [
    {
     "data": {
      "image/png": "[encoded data removed]",
      "text/latex": [
       "$$\\left[\\begin{matrix}x_{2} e^{x_{2} \\left(x_{1} + 1\\right)} + \\left(x_{1} + 1\\right) e^{x_{2} \\left(x_{1} + 1\\right)}\\end{matrix}\\right]$$"
      ],
      "text/plain": [
       "⎡    x₂⋅(x₁ + 1)             x₂⋅(x₁ + 1)⎤\n",
       "⎣x₂⋅ℯ            + (x₁ + 1)⋅ℯ           ⎦"
      ]
     },
     "execution_count": 14,
     "metadata": {},
     "output_type": "execute_result"
    }
   ],
   "source": [
    "dd = D.T * sy.Matrix([1, 1])\n",
    "dd"
   ]
  },
  {
   "cell_type": "markdown",
   "metadata": {},
   "source": [
    "Finally, we evaluate the directional derivative in the point (2,3):"
   ]
  },
  {
   "cell_type": "code",
   "execution_count": 15,
   "metadata": {},
   "outputs": [
    {
     "data": {
      "image/png": "[encoded data removed]",
      "text/latex": [
       "$$\\left[\\begin{matrix}48618.5035654523\\end{matrix}\\right]$$"
      ],
      "text/plain": [
       "[48618.5035654523]"
      ]
     },
     "execution_count": 15,
     "metadata": {},
     "output_type": "execute_result"
    }
   ],
   "source": [
    "dd.evalf(subs={x1:2, x2:3})"
   ]
  },
  {
   "cell_type": "markdown",
   "metadata": {},
   "source": [
    "# Exercise 2 b)"
   ]
  },
  {
   "cell_type": "markdown",
   "metadata": {},
   "source": [
    "We can use multivariable Taylor series:\n",
    "\n",
    "$$\n",
    "f(x) \\approx f(x_0) + Df(x_0) (x-x_0) +  \\frac{1}{2} (x-x_0)^T D^2 f(x_0) (x-x_0) + \\dots\n",
    "$$"
   ]
  },
  {
   "cell_type": "code",
   "execution_count": 63,
   "metadata": {},
   "outputs": [
    {
     "data": {
      "image/png": "[encoded data removed]",
      "text/latex": [
       "$$\\left[\\begin{matrix}e^{x_{2} \\left(x_{1} + 1\\right)}\\end{matrix}\\right]$$"
      ],
      "text/plain": [
       "⎡ x₂⋅(x₁ + 1)⎤\n",
       "⎣ℯ           ⎦"
      ]
     },
     "metadata": {},
     "output_type": "display_data"
    },
    {
     "data": {
      "text/plain": []
     },
     "execution_count": 63,
     "metadata": {},
     "output_type": "execute_result"
    }
   ],
   "source": [
    "x1,x2 = sy.symbols('x1, x2')\n",
    "g = sy.exp((x1+1)*x2)\n",
    "G = Func(g, (x1, x2))\n",
    "G"
   ]
  },
  {
   "cell_type": "code",
   "execution_count": 64,
   "metadata": {},
   "outputs": [],
   "source": [
    "def taylor(self, x0):\n",
    "    \"\"\"\n",
    "    Computes the third order Taylor series expansion about the\n",
    "    given point x0.\n",
    "    \"\"\"\n",
    "    # Compute the vector: x-x0 since we are going to use multiple times\n",
    "    x_minus_x0  = self._x - sy.Matrix(x0)\n",
    "\n",
    "    # Compute f(x0)\n",
    "    term1 = self.func_at(x0)\n",
    "\n",
    "    # Compute dfdx(x0)*(x-x0)\n",
    "    term2 = self.gradient_at(x0).T * x_minus_x0\n",
    "\n",
    "    # Compute p1 = 1/2*(x-x0)\n",
    "    p1 = sy.Rational(1, 2) * x_minus_x0\n",
    "\n",
    "    # Compute p2 = p1^T * Hessian(x0)\n",
    "    p2 = p1.T * self.hessian_at(x0)\n",
    "\n",
    "    # Compute term3 = p2 * (x-x0)\n",
    "    term3 = p2 * x_minus_x0\n",
    "\n",
    "    result = term1 + term2 + term3\n",
    "\n",
    "    # Simplify the sum of all the terms\n",
    "    # return sy.simplify(result)\n",
    "    return result"
   ]
  },
  {
   "cell_type": "code",
   "execution_count": 65,
   "metadata": {},
   "outputs": [
    {
     "data": {
      "image/png": "[encoded data removed]",
      "text/latex": [
       "$$\\left[\\begin{matrix}\\frac{x_{2} \\left(x_{1} - 1\\right)}{2} + x_{2} \\left(\\frac{x_{1}}{2} + 2 x_{2} - \\frac{1}{2}\\right) + 2 x_{2} + 1\\end{matrix}\\right]$$"
      ],
      "text/plain": [
       "⎡x₂⋅(x₁ - 1)      ⎛x₁          1⎞           ⎤\n",
       "⎢─────────── + x₂⋅⎜── + 2⋅x₂ - ─⎟ + 2⋅x₂ + 1⎥\n",
       "⎣     2           ⎝2           2⎠           ⎦"
      ]
     },
     "execution_count": 65,
     "metadata": {},
     "output_type": "execute_result"
    }
   ],
   "source": [
    "result = taylor(G, (1, 0))\n",
    "result"
   ]
  },
  {
   "cell_type": "code",
   "execution_count": 66,
   "metadata": {},
   "outputs": [
    {
     "data": {
      "image/png": "[encoded data removed]",
      "text/latex": [
       "$$\\left[\\begin{matrix}x_{1} x_{2} + 2 x_{2}^{2} + x_{2} + 1\\end{matrix}\\right]$$"
      ],
      "text/plain": [
       "⎡            2         ⎤\n",
       "⎣x₁⋅x₂ + 2⋅x₂  + x₂ + 1⎦"
      ]
     },
     "execution_count": 66,
     "metadata": {},
     "output_type": "execute_result"
    }
   ],
   "source": [
    "sy.simplify(result)"
   ]
  },
  {
   "cell_type": "markdown",
   "metadata": {},
   "source": [
    "# Exercise 2 c)"
   ]
  },
  {
   "cell_type": "markdown",
   "metadata": {},
   "source": [
    "Since it is an optimisation problem with equality constraints, we can use the Lagrangian method.\n",
    "\n",
    "The Lagrangian method is given as follows:\n",
    "1. Define the Lagrangian function by incoporating the constraint into the objective function\n",
    "$$\n",
    "L(\\mathbf{x}, \\lambda) = f(\\mathbf{x}) - \\lambda ( h(\\mathbf{x}) - c  )\n",
    "$$\n",
    "where $\\lambda$ is the Lagrangian multiplier associated with the contraint. When the contraint holds i.e., when $h(\\mathbf{x})=c$ then $L(\\mathbf{x}, \\lambda)=f(\\mathbf{x})$\n",
    "2. Since $L(\\mathbf{x}, \\lambda)$ is an unconstraint objective function, we can optimise it by finding its FONC i.e., taking the derivative and setting it zero.\n",
    "3. Now, we get a system of linear equations. Solving it will yield the points where the objective function is maximised or minimised."
   ]
  },
  {
   "cell_type": "code",
   "execution_count": 19,
   "metadata": {},
   "outputs": [
    {
     "data": {
      "image/png": "[encoded data removed]",
      "text/latex": [
       "$$\\left[\\begin{matrix}x_{2}^{2} + \\left(x_{1} - 1\\right)^{2}\\end{matrix}\\right]$$"
      ],
      "text/plain": [
       "⎡  2           2⎤\n",
       "⎣x₂  + (x₁ - 1) ⎦"
      ]
     },
     "metadata": {},
     "output_type": "display_data"
    },
    {
     "data": {
      "text/plain": []
     },
     "execution_count": 19,
     "metadata": {},
     "output_type": "execute_result"
    }
   ],
   "source": [
    "x1, x2 = sy.symbols('x1, x2')\n",
    "f = (x1 - 1)**2 + x2**2\n",
    "h = Fraction(1,9)*x1**2 + Fraction(1,4)*x2**2 - 1\n",
    "F = Func(f, (x1, x2), constraints=[h])\n",
    "F"
   ]
  },
  {
   "cell_type": "code",
   "execution_count": 22,
   "metadata": {},
   "outputs": [],
   "source": [
    "def solve_lagrangian(self):\n",
    "    num_constraints = len(self._constraints)\n",
    "\n",
    "    # Define a lambda symbol for each constraint\n",
    "    lambda_names = tuple([('lambda%s' % i) for i in range(1, num_constraints+1)])\n",
    "    lambdas = sy.symbols(lambda_names)\n",
    "    lambda_vec = sy.Matrix(lambdas)\n",
    "\n",
    "    # Define constraints as vector\n",
    "    H = sy.Matrix(self._constraints)\n",
    "\n",
    "    # Formulate the Lagrangian function l\n",
    "    l = self._f - lambda_vec.T * H\n",
    "\n",
    "    # Find the gradient of the Lagrangian function\n",
    "    # with respect to all parameters\n",
    "    all_params = tuple(self._x) + lambdas\n",
    "    Dl = l.jacobian(all_params)\n",
    "\n",
    "    # Solve it with respect to all the parameters\n",
    "    result = sy.nonlinsolve(Dl, all_params)\n",
    "\n",
    "    # Remove the lambda value from the results\n",
    "    points = [tup[0:-num_constraints] for tup in list(result)]\n",
    "    lambdas = [tup[-num_constraints:] for tup in list(result)]\n",
    "\n",
    "    return points, lambdas"
   ]
  },
  {
   "cell_type": "code",
   "execution_count": 25,
   "metadata": {},
   "outputs": [],
   "source": [
    "points, lambdas = solve_lagrangian(F)"
   ]
  },
  {
   "cell_type": "code",
   "execution_count": 26,
   "metadata": {},
   "outputs": [
    {
     "data": {
      "image/png": "[encoded data removed]",
      "text/latex": [
       "$$\\left [ \\left ( -3, \\quad 0\\right ), \\quad \\left ( \\frac{9}{5}, \\quad - \\frac{8}{5}\\right ), \\quad \\left ( \\frac{9}{5}, \\quad \\frac{8}{5}\\right ), \\quad \\left ( 3, \\quad 0\\right )\\right ]$$"
      ],
      "text/plain": [
       "[(-3, 0), (9/5, -8/5), (9/5, 8/5), (3, 0)]"
      ]
     },
     "execution_count": 26,
     "metadata": {},
     "output_type": "execute_result"
    }
   ],
   "source": [
    "points"
   ]
  },
  {
   "cell_type": "code",
   "execution_count": 27,
   "metadata": {},
   "outputs": [
    {
     "name": "stdout",
     "output_type": "stream",
     "text": [
      "Evaluting f(-3, 0) = 16.0000000000000\n",
      "Evaluting f(9/5, -8/5) = 3.20000000000000\n",
      "Evaluting f(9/5, 8/5) = 3.20000000000000\n",
      "Evaluting f(3, 0) = 4.00000000000000\n"
     ]
    }
   ],
   "source": [
    "F.evalf(points)"
   ]
  },
  {
   "cell_type": "markdown",
   "metadata": {},
   "source": [
    "The maximum is $(-3, 0)$ and the minimum point are $(9/5, -8/5)$ and $(9/5, 8/5)$."
   ]
  },
  {
   "cell_type": "markdown",
   "metadata": {},
   "source": [
    "# Exercise 3 a)"
   ]
  },
  {
   "cell_type": "markdown",
   "metadata": {},
   "source": [
    "We can stop when we reach maximum number of iterations e.g. 1000, or stop when the current position does not change much."
   ]
  },
  {
   "cell_type": "markdown",
   "metadata": {},
   "source": [
    "# Exercise 3 b)"
   ]
  },
  {
   "cell_type": "markdown",
   "metadata": {},
   "source": [
    "Because this is the mechanism for which the algorithm attempts to escape local minima."
   ]
  },
  {
   "cell_type": "markdown",
   "metadata": {},
   "source": [
    "# Exercise 3 c)"
   ]
  },
  {
   "cell_type": "markdown",
   "metadata": {},
   "source": [
    "When the input to the objective function is discrete then we have a discrete optimisation otherwise we have a continuous optimisation."
   ]
  },
  {
   "cell_type": "markdown",
   "metadata": {},
   "source": [
    "# Exercise 3 d)"
   ]
  },
  {
   "cell_type": "markdown",
   "metadata": {},
   "source": [
    "No"
   ]
  },
  {
   "cell_type": "markdown",
   "metadata": {},
   "source": [
    "# Exercise 3 e. i)"
   ]
  },
  {
   "cell_type": "markdown",
   "metadata": {},
   "source": [
    "A candidate solution is path that can be represented as an array of locations e.g. [A, B, C, D, E, F]."
   ]
  },
  {
   "cell_type": "markdown",
   "metadata": {},
   "source": [
    "# Exercise 3 e. ii)"
   ]
  },
  {
   "cell_type": "markdown",
   "metadata": {},
   "source": [
    "If we represent the problem as a graph, the neighbour algorithm could find the set of locations that have edges to a given location."
   ]
  },
  {
   "cell_type": "markdown",
   "metadata": {},
   "source": [
    "# Exercise 3 e. iii)"
   ]
  },
  {
   "cell_type": "code",
   "execution_count": null,
   "metadata": {},
   "outputs": [],
   "source": []
  },
  {
   "cell_type": "markdown",
   "metadata": {},
   "source": [
    "# Exercise 3 e. iv)"
   ]
  },
  {
   "cell_type": "code",
   "execution_count": null,
   "metadata": {},
   "outputs": [],
   "source": []
  },
  {
   "cell_type": "markdown",
   "metadata": {},
   "source": [
    "# Exercise 3 e. v)"
   ]
  },
  {
   "cell_type": "markdown",
   "metadata": {},
   "source": [
    "Simulated annealing is more likely to accept worse candidate solution when the temperature is hot i.e. at the beginning of the algorithm. As the iteration index $k$ increases, the algorithm becomes increasingly reluctant to choose to a worse point. "
   ]
  },
  {
   "cell_type": "markdown",
   "metadata": {},
   "source": [
    "# Exercise 3 e. vi)"
   ]
  },
  {
   "cell_type": "code",
   "execution_count": null,
   "metadata": {},
   "outputs": [],
   "source": []
  },
  {
   "cell_type": "markdown",
   "metadata": {},
   "source": [
    "# Exercise 4 a)"
   ]
  },
  {
   "cell_type": "code",
   "execution_count": 32,
   "metadata": {},
   "outputs": [],
   "source": [
    "C1 = np.array([[1, 1],\n",
    "               [2, 0]])\n",
    "C2 = np.array([[ 0, -2],\n",
    "               [-1, -1]])\n",
    "X_test = np.array([[ 2,  0, -1, -2],\n",
    "                   [ 0,  0,  1,  0]])"
   ]
  },
  {
   "cell_type": "code",
   "execution_count": 33,
   "metadata": {},
   "outputs": [
    {
     "data": {
      "text/plain": [
       "array([1, 1, 1, 2])"
      ]
     },
     "execution_count": 33,
     "metadata": {},
     "output_type": "execute_result"
    }
   ],
   "source": [
    "from sklearn.metrics.pairwise import pairwise_distances\n",
    "\n",
    "# Compute the class centroid for each class\n",
    "mu1 = np.mean(C1, axis=1).reshape(-1, 1)\n",
    "mu2 = np.mean(C2, axis=1).reshape(-1, 1)\n",
    "\n",
    "# Compute distances between the centroids and the test samples\n",
    "pair_dist_mu1 = pairwise_distances(X_test.T, mu1.T)\n",
    "pair_dist_mu2 = pairwise_distances(X_test.T, mu2.T)\n",
    "pair_dist = np.concatenate([pair_dist_mu1, pair_dist_mu2], axis=1)\n",
    "\n",
    "# Classify using the lowest distance\n",
    "np.argmin(pair_dist, axis=1)+1"
   ]
  },
  {
   "cell_type": "markdown",
   "metadata": {},
   "source": [
    "$x_5, x_6$ and $x_7$ is classified to class 1 and $x_8$ is classified to class 2."
   ]
  },
  {
   "cell_type": "markdown",
   "metadata": {},
   "source": [
    "# Exercise 4 b)"
   ]
  },
  {
   "cell_type": "code",
   "execution_count": 39,
   "metadata": {},
   "outputs": [],
   "source": [
    "X = np.concatenate([C1, C2], axis=1)\n",
    "l = [1, 1, 2, 2]"
   ]
  },
  {
   "cell_type": "code",
   "execution_count": 40,
   "metadata": {},
   "outputs": [
    {
     "data": {
      "image/png": "[encoded data removed]",
      "text/latex": [
       "$$\\left [ 1, \\quad 1, \\quad 1, \\quad 2\\right ]$$"
      ],
      "text/plain": [
       "[1, 1, 1, 2]"
      ]
     },
     "execution_count": 40,
     "metadata": {},
     "output_type": "execute_result"
    }
   ],
   "source": [
    "classifications = []\n",
    "for i in range(X_test.shape[1]):\n",
    "    x_i = X_test[:,i].reshape(-1, 1)\n",
    "    # Compute the distance each sample in the training set\n",
    "    pair_dist = pairwise_distances(X.T, x_i.T).reshape(-1)\n",
    "    \n",
    "    # Assign the label of the closest sample\n",
    "    index = np.argmin(pair_dist, axis=0)\n",
    "    label = l[index]\n",
    "    \n",
    "    classifications.append(label)\n",
    "classifications"
   ]
  },
  {
   "cell_type": "markdown",
   "metadata": {},
   "source": [
    "$x_5, x_6$ and $x_7$ is classified to class 1 and $x_8$ is classified to class 2."
   ]
  },
  {
   "cell_type": "markdown",
   "metadata": {},
   "source": [
    "# Exercise 4 c)"
   ]
  },
  {
   "cell_type": "markdown",
   "metadata": {},
   "source": [
    "The optimal projection vector $\\mathbf{w}$ can be computed as follows:\n",
    "\n",
    "<img src=\"figures/lecture-19/fisher-ratio-solution-2b.png\" width=\"600\" />\n",
    "\n",
    "\n",
    "The within-class scatter matrix $\\mathbf{S}_w$ can be computed as follows:\n",
    "\n",
    "<img src=\"figures/lecture-19/within-scatter-matrix-formula.png\" width=\"600\" />\n",
    "\n",
    "\n",
    "\n",
    "\n",
    "\n",
    "\n"
   ]
  },
  {
   "cell_type": "code",
   "execution_count": 43,
   "metadata": {},
   "outputs": [
    {
     "data": {
      "text/plain": [
       "array([[2, 0],\n",
       "       [0, 2]])"
      ]
     },
     "execution_count": 43,
     "metadata": {},
     "output_type": "execute_result"
    }
   ],
   "source": [
    "m1 = np.mean(C1, axis=1).reshape(-1, 1)\n",
    "m2 = np.mean(C2, axis=1).reshape(-1, 1)\n",
    "\n",
    "S1 = np.dot((C1 - m1), (C1 - m1).T)\n",
    "S2 = np.dot((C2 - m2), (C2 - m2).T)\n",
    "Sw = S1 + S2\n",
    "Sw"
   ]
  },
  {
   "cell_type": "code",
   "execution_count": 45,
   "metadata": {},
   "outputs": [
    {
     "data": {
      "text/plain": [
       "array([1, 1])"
      ]
     },
     "execution_count": 45,
     "metadata": {},
     "output_type": "execute_result"
    }
   ],
   "source": [
    "w = np.dot(np.linalg.inv(Sw), m1-m2)\n",
    "w = w.reshape(-1)\n",
    "w"
   ]
  },
  {
   "cell_type": "markdown",
   "metadata": {},
   "source": [
    "The projection vector is $\\mathbf{w}=[1, 1]^T$."
   ]
  },
  {
   "cell_type": "markdown",
   "metadata": {},
   "source": [
    "# Exercise 4 d)"
   ]
  },
  {
   "cell_type": "markdown",
   "metadata": {},
   "source": [
    "<img src=\"figures/sol-ex-4d.png\" width=\"400\" />\n",
    "\n"
   ]
  },
  {
   "cell_type": "markdown",
   "metadata": {},
   "source": [
    "# Exercise 5 a)"
   ]
  },
  {
   "cell_type": "markdown",
   "metadata": {},
   "source": [
    "We can use Baye's decision rule to classify the test samples:\n",
    "\n",
    "- Classify $x$ as $c_1$ if $P(c_1 \\mid x) > P(c_2 \\mid x)$; otherwise classify $x$ as $c_2$"
   ]
  },
  {
   "cell_type": "markdown",
   "metadata": {},
   "source": [
    "Using Bayes' formula, we have:\n",
    "\n",
    "$$\n",
    "P(c_k \\mid \\mathbf{x}) = \\frac{p(\\mathbf{x} \\mid c_k) P(c_k)}{p(\\mathbf{x})}\n",
    "$$\n",
    "where\n",
    "$$\n",
    "p(\\mathbf{x}) = \\sum_{k=1}^K p(\\mathbf{x} \\mid c_k) P(c_k)\n",
    "$$"
   ]
  },
  {
   "cell_type": "markdown",
   "metadata": {},
   "source": [
    "Since $p(\\mathbf{x})$ is the same for when computing $P(c_k\\mid \\mathbf{x})$, it is not necessary to compute it when we want to use the conditional probability to classify new samples. Therefore, the decision rule becomes:\n",
    "\n",
    "- Classify $x$ as $c_1$ if $p(x \\mid c_1)P(c_1) \\geq p(x \\mid c_2) P (c_2)$; otherwise classify $x$ as $c_2$"
   ]
  },
  {
   "cell_type": "markdown",
   "metadata": {},
   "source": [
    "The prior probabilities $P(c_1)$ and $P(c_2)$ are given:\n",
    "- $P(c_1) = 500/1500=1/3$\n",
    "- $P(c_2) = 1000/1500=2/3$\n"
   ]
  },
  {
   "cell_type": "code",
   "execution_count": 47,
   "metadata": {},
   "outputs": [],
   "source": [
    "P_c1 = 1/3\n",
    "P_c2 = 2/2"
   ]
  },
  {
   "cell_type": "code",
   "execution_count": 48,
   "metadata": {},
   "outputs": [],
   "source": [
    "p_x_c1 = np.array([0.2, 0.1, 0.05, 0])\n",
    "p_x_c2 = np.array([0, 0.05, 0.1, 0.2])"
   ]
  },
  {
   "cell_type": "code",
   "execution_count": 49,
   "metadata": {},
   "outputs": [
    {
     "data": {
      "text/plain": [
       "array([1/15, 1/30, 1/60, 0])"
      ]
     },
     "execution_count": 49,
     "metadata": {},
     "output_type": "execute_result"
    }
   ],
   "source": [
    "P_c1_x = p_x_c1 * P_c1\n",
    "P_c1_x"
   ]
  },
  {
   "cell_type": "code",
   "execution_count": 50,
   "metadata": {},
   "outputs": [
    {
     "data": {
      "text/plain": [
       "array([0, 1/20, 1/10, 1/5])"
      ]
     },
     "execution_count": 50,
     "metadata": {},
     "output_type": "execute_result"
    }
   ],
   "source": [
    "P_c2_x = p_x_c2 * P_c2\n",
    "P_c2_x"
   ]
  },
  {
   "cell_type": "code",
   "execution_count": 51,
   "metadata": {},
   "outputs": [
    {
     "data": {
      "text/plain": [
       "array([[1/15, 1/30, 1/60, 0],\n",
       "       [0, 1/20, 1/10, 1/5]])"
      ]
     },
     "execution_count": 51,
     "metadata": {},
     "output_type": "execute_result"
    }
   ],
   "source": [
    "# Create a matrix so we can easily compute argmin\n",
    "P_ck_x = np.concatenate([[P_c1_x], \n",
    "                         [P_c2_x]])\n",
    "P_ck_x"
   ]
  },
  {
   "cell_type": "code",
   "execution_count": 56,
   "metadata": {},
   "outputs": [],
   "source": [
    "def print_classification(P, objective='max'):\n",
    "    labels = np.argmin(P, axis=0)+1 if objective=='min' else np.argmax(P, axis=0)+1\n",
    "    out = 'Classification Result: \\n$$\\n'\n",
    "    for i, label in enumerate(labels):\n",
    "        out += 'x_{} \\\\to c_{}  \\\\\\\\ \\n'.format(i+1, label)\n",
    "    #['x{} => c{}'.format(i+1, label) for i, label in enumerate(labels)]\n",
    "    out += '$$'\n",
    "    return HTML(out)"
   ]
  },
  {
   "cell_type": "code",
   "execution_count": 57,
   "metadata": {},
   "outputs": [
    {
     "data": {
      "text/html": [
       "Classification Result: \n",
       "$$\n",
       "x_1 \\to c_1  \\\\ \n",
       "x_2 \\to c_2  \\\\ \n",
       "x_3 \\to c_2  \\\\ \n",
       "x_4 \\to c_2  \\\\ \n",
       "$$"
      ],
      "text/plain": [
       "<IPython.core.display.HTML object>"
      ]
     },
     "execution_count": 57,
     "metadata": {},
     "output_type": "execute_result"
    }
   ],
   "source": [
    "print_classification(P_ck_x, objective='max')"
   ]
  },
  {
   "cell_type": "markdown",
   "metadata": {},
   "source": [
    "# Exercise 5 b)"
   ]
  },
  {
   "cell_type": "code",
   "execution_count": 58,
   "metadata": {},
   "outputs": [],
   "source": [
    "Lambda = np.array([[  0, 0.4],\n",
    "                   [0.3,   0]])"
   ]
  },
  {
   "cell_type": "code",
   "execution_count": 59,
   "metadata": {},
   "outputs": [
    {
     "data": {
      "text/plain": [
       "[array([0, 1/50, 1/25, 2/25]), array([1/50, 1/100, 1/200, 0])]"
      ]
     },
     "execution_count": 59,
     "metadata": {},
     "output_type": "execute_result"
    }
   ],
   "source": [
    "n_classes = len(P_ck_x)\n",
    "n_actions = Lambda.shape[1]\n",
    "R_ai_x = []\n",
    "for i in range(n_actions):\n",
    "    lambda_i = Lambda[i,:]\n",
    "    R_ai_x.append(0.0)\n",
    "    for k in range(n_classes):\n",
    "        R_ai_x[i] += lambda_i[k] * P_ck_x[k]\n",
    "R_ai_x"
   ]
  },
  {
   "cell_type": "code",
   "execution_count": 60,
   "metadata": {},
   "outputs": [
    {
     "data": {
      "text/html": [
       "Classification Result: \n",
       "$$\n",
       "x_1 \\to c_1  \\\\ \n",
       "x_2 \\to c_2  \\\\ \n",
       "x_3 \\to c_2  \\\\ \n",
       "x_4 \\to c_2  \\\\ \n",
       "$$"
      ],
      "text/plain": [
       "<IPython.core.display.HTML object>"
      ]
     },
     "execution_count": 60,
     "metadata": {},
     "output_type": "execute_result"
    }
   ],
   "source": [
    "print_classification(R_ai_x, objective='min')"
   ]
  },
  {
   "cell_type": "markdown",
   "metadata": {},
   "source": [
    "# Exercise 6 a)"
   ]
  },
  {
   "cell_type": "markdown",
   "metadata": {},
   "source": [
    "No, because the samples in each class in the projected space would be mixed together and therefore difficult to discriminate."
   ]
  },
  {
   "cell_type": "markdown",
   "metadata": {},
   "source": [
    "# Exercise 6 b)"
   ]
  },
  {
   "cell_type": "markdown",
   "metadata": {},
   "source": [
    "In order to classify the test samples using a linear classifier, we can augment the data representations using a mapping that transforms the original samples to another feature space where the samples become linearly separable."
   ]
  },
  {
   "cell_type": "markdown",
   "metadata": {},
   "source": [
    "We can use the second order polynomial kernel function:\n",
    "\n",
    "$$\n",
    "\\phi(\\mathbf{x}) = \n",
    "\\begin{bmatrix}\n",
    "x_1^2 \\\\\n",
    "\\sqrt{2} x_1 x_2 \\\\\n",
    "x_2^2 \n",
    "\\end{bmatrix}\n",
    "$$"
   ]
  },
  {
   "cell_type": "markdown",
   "metadata": {},
   "source": [
    "The decision function in the original feature space:\n",
    "\n",
    "<img src=\"figures/sol-ex-6a.png\" width=\"400\" />\n"
   ]
  },
  {
   "cell_type": "markdown",
   "metadata": {},
   "source": [
    "The decision function in the transformed space would be a 2D plane that looks something like the grey plane in the figure below:\n",
    "\n",
    "\n",
    "\n",
    "<img src=\"figures/exam-jun-2018/sol-ex4.2.b.png\" width=\"200\" />\n",
    "\n",
    "\n"
   ]
  },
  {
   "cell_type": "markdown",
   "metadata": {},
   "source": [
    "\n",
    "# Exercise 6 c)"
   ]
  },
  {
   "cell_type": "markdown",
   "metadata": {},
   "source": [
    "<img src=\"figures/sol-ex-6c.jpg\" width=\"600\" />\n"
   ]
  },
  {
   "cell_type": "markdown",
   "metadata": {},
   "source": [
    "We cannot use a linear activation function in the hidden layer. To simplify the proof, we ignore the bias terms. Suppose we have a three-layer network (one hidden layer and one output neuron). The output neuron is computed:\n",
    "\n",
    "$$\n",
    "o_{ML} = \\mathbf{w}^{(2)T} \\mathbf{h}_1\n",
    "$$\n",
    "\n",
    "The $\\mathbf{h}_1$ is computed as follows:\n",
    "\n",
    "$$\n",
    "\\mathbf{h}_1 = \\mathbf{W}^{(1)T} \\mathbf{x}\n",
    "$$\n",
    "\n",
    "Combining the expressions, we get:\n",
    "\n",
    "$$\n",
    "o_{3L} = \\mathbf{w}^{(2)T} \\mathbf{W}^{(1)T} \\mathbf{x}\n",
    "$$\n",
    "\n",
    "The expression above can be simplied:\n",
    "$$\n",
    "o_{3L} = \\mathbf{w}^T_{c} \\mathbf{x}\n",
    "$$\n",
    "where $\\mathbf{w}_{c} = \\mathbf{w}^{(2)T} \\mathbf{W}^{(1)T}$\n",
    "\n",
    "This expression is linear discriminant function which means that the three-layer network will not be able to handle samples that are not linearly separable when the activation functions for all neurons are linear.\n",
    "\n",
    "A neural network that only uses linear activation functions cannot model a nonlinear function even though the network consists of large number of hidden layers and neurons. Therefore, non-linear activation functions are important in the neural network for this task because the samples are not linearly separable."
   ]
  }
 ],
 "metadata": {
  "kernelspec": {
   "display_name": "Python 3",
   "language": "python",
   "name": "python3"
  },
  "language_info": {
   "codemirror_mode": {
    "name": "ipython",
    "version": 3
   },
   "file_extension": ".py",
   "mimetype": "text/x-python",
   "name": "python",
   "nbconvert_exporter": "python",
   "pygments_lexer": "ipython3",
   "version": "3.6.7"
  }
 },
 "nbformat": 4,
 "nbformat_minor": 2
}
