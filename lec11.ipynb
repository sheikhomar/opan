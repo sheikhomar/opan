{
 "cells": [
  {
   "cell_type": "markdown",
   "metadata": {},
   "source": [
    "# Lecture 11: Global Search Methods, part 1"
   ]
  },
  {
   "cell_type": "code",
   "execution_count": 37,
   "metadata": {},
   "outputs": [
    {
     "data": {
      "text/html": [
       "<style type=\"text/css\">.sidenote {\n",
       "  border: solid 1px green !important;\n",
       "  background: #cdffd8 !important;\n",
       "  padding: 10px !important;\n",
       "  border-radius: 2px !important;\n",
       "}\n",
       "\n",
       ".warning {\n",
       "  border: solid 1px #8a6d3b !important;\n",
       "  background: #fcf8e3 !important;\n",
       "  padding: 10px !important;\n",
       "  border-radius: 2px !important;\n",
       "}\n",
       "\n",
       ".green {\n",
       "  color: #006600 !important;\n",
       "}\n",
       "\n",
       ".red {\n",
       "  color: #cc0000 !important;\n",
       "}</style>Stylesheet \"styles.css\" loaded."
      ],
      "text/plain": [
       "<IPython.core.display.HTML object>"
      ]
     },
     "metadata": {},
     "output_type": "display_data"
    }
   ],
   "source": [
    "import numpy as np\n",
    "import matplotlib.pyplot as plt\n",
    "import sympy as sy\n",
    "import utils as utils\n",
    "from fractions import Fraction\n",
    "\n",
    "from func import Func\n",
    "from globalsearch import NaiveRandomSearch, create_animation\n",
    "from IPython.display import display, HTML\n",
    "\n",
    "# Inline plotting\n",
    "%matplotlib inline\n",
    "\n",
    "# Make sympy print pretty math expressions\n",
    "sy.init_printing()\n",
    "\n",
    "utils.load_custom_styles()"
   ]
  },
  {
   "cell_type": "markdown",
   "metadata": {},
   "source": [
    "---\n",
    "## Preliminary"
   ]
  },
  {
   "cell_type": "markdown",
   "metadata": {},
   "source": [
    "### Global vs Local Optimum\n",
    " - Global Optimum is the input to an objective function that yields the highest/lowest function value. A global optimimum is **not necessarily unique**. There can be multiple global optima that yield the same function value.\n",
    " - Local Optimum is the input to an objective function that yields the highest/lowest function value in a local neighbourhood. A saddle point is not local optimum."
   ]
  },
  {
   "cell_type": "markdown",
   "metadata": {},
   "source": [
    "### Global vs Local Optimisation:\n",
    "- Global optimisation algorithms have built-in mechanisms that allow them to escape local minima. However, global optimisation algorithms do not gurantee to find the global optimum. There are few global methods that gurantee to find the global optimum but they take *very very* long time to compute.\n",
    "- Local optimisation algorithms find local optima only. They might find global optimum but this depends on the starting point. They have no way of getting out of local minima but they tend to be fast. They perform local search i.e., at each step the algorithm picks a solution candidate from a local \"neighbourhood\" of candidate solutions. The next candidate is somehow related to current candidate. \n",
    "\n",
    "Neighbourhood can be loosely defined as where we are right now and where we want to go."
   ]
  },
  {
   "cell_type": "markdown",
   "metadata": {},
   "source": [
    "### Deterministic vs Stochastic Algorithm:\n",
    "- Deterministic: given the same input, the algorithm will always produce the same output. There is no randomness when the algorithm searches for an optimimum. \n",
    "- Stochastic: given the same input, the algorithm may produce different outputs. These algorithms add some randomness to the search, e.g. by randomly selecting from neighbourhood of candidate solutions. What are the benefits stochastic algorithms? Well, for one they are easier to implement. Adding randomness to the search is sometimes faster and more robust. In addition, it is one mechanism to get out of an local optimum. However, some researchers disagree! There is no real concensus whether stochastic methods are better than deterministic ones. "
   ]
  },
  {
   "cell_type": "markdown",
   "metadata": {},
   "source": [
    "A deterministic algorithm like Newton's method depends on the starting point. In principle, we can run the algorithm with randomly generated starting points."
   ]
  },
  {
   "cell_type": "markdown",
   "metadata": {},
   "source": [
    "<div class=\"warning\">\n",
    "Pseudo-random numbers are not really random numbers. The random number generator is seeded which means that generator allows us to start the random sequence at some point. Typically, it is seed using the current timestamp. Notice that the seed is not part of the input of the algorithm.\n",
    "</div>"
   ]
  },
  {
   "cell_type": "markdown",
   "metadata": {},
   "source": [
    "### Discrete vs Continuous Optimisation\n",
    "Discrete vs Continuous Optimisation Task: the input to the objective function determines whether the optimisation task is discrete or continuous. When the input space is finite then we have a discrete optimisation, otherwise we have a continuous."
   ]
  },
  {
   "cell_type": "markdown",
   "metadata": {},
   "source": [
    "---\n",
    "## Introduction"
   ]
  },
  {
   "cell_type": "markdown",
   "metadata": {},
   "source": [
    "The iterative algorithms in previous chapters, in particular gradient methods,\n",
    "Newton's method, conjugate gradient methods, and quasi-Newton methods,\n",
    "start with an initial point and then generate a sequence of iterates. Typically,\n",
    "the best we can hope for is that the sequence converges to a local minimizer.\n",
    "For this reason, it is often desirable for the initial point to be close to a global\n",
    "minimizer. Moreover, these methods require first derivatives (and also second\n",
    "derivatives in the case of Newton's method)."
   ]
  },
  {
   "cell_type": "markdown",
   "metadata": {},
   "source": [
    "In this lecture we discuss various search methods that attempt to search throughout the entire feasible set:\n",
    "\n",
    "- They use only objective function values and do not require derivatives. Consequently, they are applicable to a much wider class of optimization problems.\n",
    "\n",
    "- In some cases, they can be used to generate \"good\" initial (starting) points for the iterative methods discussed previously.\n",
    "\n",
    "- Some of the methods (specifically, the **randomized search methods**) are also used in combinatorial optimization, where the\n",
    "feasible set is finite (discrete), but typically large."
   ]
  },
  {
   "cell_type": "markdown",
   "metadata": {
    "toc-hr-collapsed": true
   },
   "source": [
    "---\n",
    "## Randomised Search Methods"
   ]
  },
  {
   "cell_type": "markdown",
   "metadata": {},
   "source": [
    "A randomized search method, also sometimes called a **probabilistic search method**,  is an algorithm that searches the feasible set $\\Omega$ of an optimization problem by considering randomized samples of candidate points in the set.\n"
   ]
  },
  {
   "cell_type": "markdown",
   "metadata": {},
   "source": [
    "The optimisation problem that we want to solve has the form:"
   ]
  },
  {
   "cell_type": "markdown",
   "metadata": {},
   "source": [
    "<img src=\"figures/lecture-11/constrained-min-problem.png\" width=\"600\" />\n",
    "\n"
   ]
  },
  {
   "cell_type": "markdown",
   "metadata": {},
   "source": [
    "For any $\\mathbf{x} \\in \\Omega$, we assume there exist a \n",
    "set $N(\\mathbf{x}) \\subset \\Omega$ (subset) from which we can generate\n",
    "a random sample. \n",
    "\n",
    "Typically, $N(\\mathbf{x})$ is a set of points that are \"close\" to $\\mathbf{x}$, \n",
    "and for this reason we usually think of $N(\\mathbf{x})$ as a \"neighborhood\"\n",
    "of $\\mathbf{x}$. We use the term **neighborhood** for $N(\\mathbf{x})$ even \n",
    "in the general case where the points in it are arbitrary, not necessarily \n",
    "close to $\\mathbf{x}$.\n",
    "\n",
    "When we speak of generating a random point in $N(\\mathbf{x})$, we mean that\n",
    "there is a prespecified distribution over $N(\\mathbf{x})$, and we sample a \n",
    "point with this distribution. Often, this distribution is chosen to be uniform \n",
    "over $N(\\mathbf{x})$; other distributions are also used, including Gaussian\n",
    "and Cauchy."
   ]
  },
  {
   "cell_type": "markdown",
   "metadata": {},
   "source": [
    "---\n",
    "### Naive Random Search Algorithm"
   ]
  },
  {
   "cell_type": "markdown",
   "metadata": {},
   "source": [
    "A naive random search algorithm whould like this:"
   ]
  },
  {
   "cell_type": "markdown",
   "metadata": {},
   "source": [
    "1. Set $k := 0$. Select an initial point $\\mathbf{x}^{(0)} \\in \\Omega$. Typically, the initial point is selected randomly.\n",
    "\n",
    "2. Select a next-candidate point $\\mathbf{z}^{(k)}$ at random from $N\\left(\\mathbf{x}^{(k)}\\right)$. \n",
    "    \n",
    "3. If $f\\left(\\mathbf{z}^{(k)}\\right) < f\\left(\\mathbf{x}^{(k)}\\right)$ then \n",
    "   set $\\mathbf{x}^{(k+1)} := \\mathbf{z}^{(k)}$; otherwise $\\mathbf{x}^{(k+1)} := \\mathbf{x}^{(k)}$\n",
    "   \n",
    "4. If stopping criterion is satisfied, then stop.\n",
    "\n",
    "5. Set $k := k + 1$, go to step 2.\n",
    "   \n",
    "\n"
   ]
  },
  {
   "cell_type": "markdown",
   "metadata": {},
   "source": [
    "The algorithm has the familiar form:\n",
    "$$\n",
    "\\mathbf{x}^{(k+1)} = \\mathbf{x}^{(k)} + \\mathbf{d}^{(k)}\n",
    "$$\n",
    "\n",
    "where $\\mathbf{d}^{(k)}$ is randomly generated. By design, the direction $\\mathbf{d}^{(k)}$  is either $\\mathbf{0}$ or a descent direction."
   ]
  },
  {
   "cell_type": "markdown",
   "metadata": {},
   "source": [
    "----\n",
    "#### In-Class Pseudo Code"
   ]
  },
  {
   "cell_type": "code",
   "execution_count": null,
   "metadata": {},
   "outputs": [],
   "source": [
    "x_k = initial_point\n",
    "\n",
    "for i in range(100):\n",
    "    # Notice that the RANDOM is a red herring\n",
    "    \n",
    "    z = NEIGHBOUR(x_k) \n",
    "    \n",
    "    # If we don't find any improvement in the cost\n",
    "    # in a number of iterations, then stop\n",
    "    \n",
    "    if COST(z) < COST(x_k):\n",
    "        x_kp1= z\n",
    "    else\n",
    "        x_kp1 = x_k"
   ]
  },
  {
   "cell_type": "markdown",
   "metadata": {},
   "source": [
    "---\n",
    "### Issues with Naive Random Search Algorithm"
   ]
  },
  {
   "cell_type": "markdown",
   "metadata": {},
   "source": [
    "The main problem with the naive random search method is that it may get stuck in a region around a local minimizer.\n",
    "\n",
    "Here is an example where the algorithm may get stuck in a local minimizer. Suppose that our initial point $\\mathbf{x}^{(0)}$ is a local minimizer. Imagine also that the \"neighbourhood\" of $\\mathbf{x}^{(0)}$ i.e., $N\\left(\\mathbf{x}^{(0)}\\right)$ is sufficiently small that all points in it have no smaller objective function value than $\\mathbf{x}^{(0)}$. In such case, the the algorithm will be stuck in that local minimum."
   ]
  },
  {
   "cell_type": "markdown",
   "metadata": {},
   "source": [
    "How can we prevent the algorithm getting stuck in a region around a local minimizer?\n",
    "\n",
    "- One way is to ensure that at each $k$, the neighborhood $N\\left(\\mathbf{x}^{(k)}\\right)$ is a very large set. \n",
    "\n",
    "    In the extreme case, we can set $N\\left(\\mathbf{x}^{(k)}\\right)$ to be the feasible set $\\Omega$. In this case, running $k$ iterations of the naive random search algorithm amounts to finding the best point among $k$ randomly chosen points in $\\Omega$.\n",
    "    \n",
    "    The problem is when the neighborhood is too large the search algorithm\n",
    "    results in a slow search process, because the sampling of candidate points to\n",
    "    consider is spread out, making it more unlikely to find a better candidate\n",
    "    point.\n",
    "\n",
    "- Another approach is to choose with some probability a candidate point $\\mathbf{z}^{(k)}$ even though it does not result in a lower function value than $\\mathbf{x}^{(k)}$ i.e., the candidate point $\\mathbf{z}^{(k)}$ is worse than $\\mathbf{x}^{(k)}$. The **simulated annealing** algorithm incorporates such a mechanism."
   ]
  },
  {
   "cell_type": "markdown",
   "metadata": {},
   "source": [
    "---\n",
    "## Simulated Annealing"
   ]
  },
  {
   "cell_type": "markdown",
   "metadata": {},
   "source": [
    "Simulated annealing is an instance of a **randomized search method**."
   ]
  },
  {
   "cell_type": "markdown",
   "metadata": {},
   "source": [
    "Simulated annealing works like the Naive Random Search method. The difference is that it may (with some probability) choose a worse candidate point $\\mathbf{z}^{(k)}$ as $\\mathbf{x}^{(k+1)}$. Initially, the\n",
    "algorithm jumps around and is more likely to climb out of regions around local minimizers, but with time it settles down and is more likely to spend time around a global minimizer.\n",
    "\n",
    "In other words, as the iteration index $k$ increases, the algorithm becomes increasingly reluctant to choose to a worse point. The intuitive reason for this behavior is that initially we wish to actively explore the feasible set, but with time we would like to be less active in exploration so that we spend more time in a region around a global minimizer."
   ]
  },
  {
   "cell_type": "markdown",
   "metadata": {},
   "source": [
    "1. Set $k := 0$. Select an initial point $\\mathbf{x}^{(0)} \\in \\Omega$. Typically, the initial point is selected randomly.\n",
    "\n",
    "2. Select a next-candidate point $\\mathbf{z}^{(k)}$ at random from $N\\left(\\mathbf{x}^{(k)}\\right)$. \n",
    "    \n",
    "3. If $p\\left(  k, f\\left(\\mathbf{z}^{(k)}\\right), f\\left(\\mathbf{x}^{(k)}\\right)   \\right) > r$  where $r$ is random number between 0 and 1 then \n",
    "   set $\\mathbf{x}^{(k+1)} := \\mathbf{z}^{(k)}$; otherwise $\\mathbf{x}^{(k+1)} := \\mathbf{x}^{(k)}$\n",
    "   \n",
    "4. If stopping criterion is satisfied, then stop.\n",
    "\n",
    "5. Set $k := k + 1$, go to step 2.\n",
    "   \n",
    "\n"
   ]
  },
  {
   "cell_type": "markdown",
   "metadata": {},
   "source": [
    "---\n",
    "### Acceptance Probability"
   ]
  },
  {
   "cell_type": "markdown",
   "metadata": {},
   "source": [
    "The major difference between simulated annealing and naive random search\n",
    "is that in **step 3**, there is some probability that we set the next iterate to be\n",
    "equal to the random point selected from the neighborhood, even if that point\n",
    "turns out to be worse than the current iterate. This probability is called \n",
    "**acceptance probability**. A typical choice is:\n",
    "\n",
    "$$\n",
    "p\\left(  k, f\\left(\\mathbf{z}^{(k)}\\right), f\\left(\\mathbf{x}^{(k)}\\right)   \\right) = \n",
    " \\exp\\left(  - \\frac{   \n",
    "f(\\mathbf{z}^{(k)}) - f(\\mathbf{x}^{(k)})\n",
    "}{T_k}     \\right)   \n",
    "$$"
   ]
  },
  {
   "cell_type": "markdown",
   "metadata": {},
   "source": [
    "where $T_k > 0$ represents a positive sequence called the **temperature schedule** or **cooling schedule**."
   ]
  },
  {
   "cell_type": "markdown",
   "metadata": {},
   "source": [
    "The acceptance probability $p$ works as follows:\n",
    "\n",
    "- <span class=\"green\">When $\\mathbf{z}^{(k)}$ is better than $\\mathbf{x}^{(k)}$</span> i.e., $f\\left(\\mathbf{z}^{(k)}\\right) \\leq f\\left(\\mathbf{x}^{(k)}\\right)$, then the argument to the $\\exp$ function becomes positive. This means that the $p$ yields a value that is larger than 1. In step 3 of the algorithm, we set $\\mathbf{x}^{(k+1)}$ to $\\mathbf{z}^{(k)}$ because $p > r$ where $r$ is a value between 0 and 1. This is also what we want because $\\mathbf{z}^{(k)}$ is better than $\\mathbf{x}^{(k)}$.\n",
    "\n",
    "- <span class=\"red\">When $\\mathbf{z}^{(k)}$ is worse than $\\mathbf{x}^{(k)}$</span> i.e., $f\\left(\\mathbf{z}^{(k)}\\right) > f\\left(\\mathbf{x}^{(k)}\\right)$, then the argument to the $\\exp$ function becomes negative. This means that the $\\exp$ function will always yield a value between 0 and 1 (exclusive). Although $\\mathbf{z}^{(k)}$ is worse than $\\mathbf{x}^{(k)}$, there is still a probability of setting $\\mathbf{x}^{(k+1)}$ to $\\mathbf{z}^{(k)}$ if $p \\leq r$."
   ]
  },
  {
   "cell_type": "markdown",
   "metadata": {},
   "source": [
    "We can show this with a graph:\n",
    "\n",
    "<img src=\"figures/lecture-11/acceptability-range.png\" width=\"400\" />\n"
   ]
  },
  {
   "cell_type": "markdown",
   "metadata": {},
   "source": [
    "---\n",
    "#### Accepting a Worse Solution"
   ]
  },
  {
   "cell_type": "markdown",
   "metadata": {},
   "source": [
    "So, when is the algorithm more likely to take a worse solution? Well, the algorithm is more likely to accept a worse solution:\n",
    "\n",
    "1) **When temperature $T_k$ is high** then the argument of $\\exp$ function will be close to zero i.e., the expression below moves towards zero:\n",
    "\n",
    "$$\n",
    " - \\frac{   \n",
    "f(\\mathbf{z}^{(k)}) - f(\\mathbf{x}^{(k)})\n",
    "}{T_k}\n",
    "$$\n",
    "\n",
    "This means that the value of $p$ goes closer 1. Therefore, the algorithm is more likely to accept a worse candidate solution in step 3. If the temperature is low, then $p$ would move away from 1 and step 3 is less likely to accept a worse solution.\n",
    "\n",
    "2) **When the difference between $f(z)$ and $f(x)$ is low**, then then the argument of $\\exp$ function will be close to zero"
   ]
  },
  {
   "cell_type": "markdown",
   "metadata": {},
   "source": [
    "---\n",
    "### Temperature Schedule"
   ]
  },
  {
   "cell_type": "markdown",
   "metadata": {},
   "source": [
    "It is typical to let the \"temperature\" $T_k$ be monotonically decreasing to 0 (hence the word cooling). So we start by making the temperature high,\n",
    "and for each iteration, we lower the temperature i.e. temperature decreases with more iterations. In other words, as the iteration index $k$ increases, the algorithm becomes increasingly reluctant to move to a worse point. An appropriate cooling schedule is\n",
    "\n",
    "$$\n",
    "T_k = \n",
    "\\frac{\n",
    "  \\gamma\n",
    "}{\n",
    "  \\log(k + 2)\n",
    "}\n",
    "$$\n",
    "where $\\gamma > 0$ is a problem-dependent constant. It must large enough to allow the algorithm to \"climb out\" of regions around local minimizers that are not global minimizers."
   ]
  },
  {
   "cell_type": "markdown",
   "metadata": {},
   "source": [
    "In the figure below, we plot different cooling schedules to see the effect of $\\gamma$:"
   ]
  },
  {
   "cell_type": "code",
   "execution_count": 4,
   "metadata": {},
   "outputs": [
    {
     "data": {
      "image/png": "[encoded data removed]",
      "text/plain": [
       "<Figure size 864x432 with 1 Axes>"
      ]
     },
     "metadata": {
      "needs_background": "light"
     },
     "output_type": "display_data"
    }
   ],
   "source": [
    "fig, ax = plt.subplots(figsize=(12, 6))\n",
    "x = np.arange(1, 101)\n",
    "ax.plot(x, 1/np.log(x + 2), label='$1/\\log(k+2)$')\n",
    "ax.plot(x, 2/np.log(x + 2), label='$2/\\log(k+2)$')\n",
    "ax.plot(x, 3/np.log(x + 2), label='$3/\\log(k+2)$')\n",
    "ax.set_xlim((x.min(), x.max()))\n",
    "ax.legend();"
   ]
  },
  {
   "cell_type": "code",
   "execution_count": null,
   "metadata": {},
   "outputs": [],
   "source": []
  },
  {
   "cell_type": "markdown",
   "metadata": {},
   "source": [
    "---\n",
    "### The Best Point So Far"
   ]
  },
  {
   "cell_type": "markdown",
   "metadata": {},
   "source": [
    "The simulated annealing has the familiar form:\n",
    "$$\n",
    "\\mathbf{x}^{(k+1)} = \\mathbf{x}^{(k)} + \\mathbf{d}^{(k)}\n",
    "$$\n",
    "\n",
    "where $\\mathbf{d}^{(k)}$ is randomly generated. The direction $\\mathbf{d}^{(k)}$ may be:\n",
    "\n",
    "- $\\mathbf{0}$ \n",
    "- a descent direction\n",
    "- an ascent direction"
   ]
  },
  {
   "cell_type": "markdown",
   "metadata": {},
   "source": [
    "Since the direction of simulated annealing algorithm may be an ascent direction, it is good idea to keep track of the best point that we have seen so far; $\\mathbf{x}^{(k)}_{best}$. At each iteration $k$, this point is updated as follows:"
   ]
  },
  {
   "cell_type": "markdown",
   "metadata": {},
   "source": [
    "<img src=\"figures/lecture-11/best-so-far-point-update.png\" width=\"600\" />\n",
    "\n"
   ]
  },
  {
   "cell_type": "markdown",
   "metadata": {},
   "source": [
    "---\n",
    "### In-Class Pseudo Code"
   ]
  },
  {
   "cell_type": "code",
   "execution_count": null,
   "metadata": {},
   "outputs": [],
   "source": [
    "def p(E_old, E_new, T):\n",
    "    return exp(- (E_new - E_old)/(T) )\n",
    "\n",
    "def run():\n",
    "    for i in range(100):\n",
    "        z = NEIGHBOUR(x)\n",
    "\n",
    "        # If we don't find any improvement in the cost\n",
    "        # in a number of iterations, then stop\n",
    "\n",
    "        T_new = T_old * 0.75\n",
    "\n",
    "        if p(E_old, E_new, T_new) > RANDOM:\n",
    "            x_kp1 = z\n",
    "        else\n",
    "            x_kp1 = x\n",
    "\n",
    "        T_old = T_new\n"
   ]
  },
  {
   "cell_type": "markdown",
   "metadata": {},
   "source": [
    "---\n",
    "## Particle Swarm Optimisation (PSO)"
   ]
  },
  {
   "cell_type": "markdown",
   "metadata": {},
   "source": [
    "The PSO algorithm differs from the randomized search methods in one key way: Instead of updating a single candidate solution $\\mathbf{z}^{(k)}$ at each iteration $k$, we update a population (set) of candidate solutions, called a **swarm**. Each candidate solution in the swarm is called a **particle**."
   ]
  },
  {
   "cell_type": "code",
   "execution_count": null,
   "metadata": {},
   "outputs": [],
   "source": [
    "class Swarm:\n",
    "    def __init__(self):\n",
    "        self.global_best = None\n",
    "        self.particles = []\n",
    "\n",
    "    \n",
    "class Particle:\n",
    "    def __init__(self):\n",
    "        self.position = None\n",
    "        self.best_position = None\n",
    "        self.velocity = None\n",
    "        \n",
    "    def update_velocity(self):\n",
    "        self.next_velocity = \n",
    "            w * self.velocity + \n",
    "            c1 * r1 * (self.best_position - self.current_position) +\n",
    "            c2 * r2 * (self.swarm.global_best - self.current_position) "
   ]
  }
 ],
 "metadata": {
  "kernelspec": {
   "display_name": "Python 3",
   "language": "python",
   "name": "python3"
  },
  "language_info": {
   "codemirror_mode": {
    "name": "ipython",
    "version": 3
   },
   "file_extension": ".py",
   "mimetype": "text/x-python",
   "name": "python",
   "nbconvert_exporter": "python",
   "pygments_lexer": "ipython3",
   "version": "3.6.6"
  }
 },
 "nbformat": 4,
 "nbformat_minor": 2
}
