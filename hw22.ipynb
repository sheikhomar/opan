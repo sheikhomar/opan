{
 "cells": [
  {
   "cell_type": "markdown",
   "metadata": {},
   "source": [
    "# Homework 22"
   ]
  },
  {
   "cell_type": "code",
   "execution_count": 1,
   "metadata": {},
   "outputs": [
    {
     "data": {
      "text/html": [
       "<style type=\"text/css\">.summary {\n",
       "  border: solid 1px green !important;\n",
       "  background: #cdffd8 !important;\n",
       "  padding: 10px !important;\n",
       "  border-radius: 2px !important;\n",
       "}\n",
       "\n",
       ".insight {\n",
       "  border: solid 1px green !important;\n",
       "  background: #cdffd8 !important;\n",
       "  padding: 10px !important;\n",
       "  border-radius: 2px !important;\n",
       "}\n",
       "\n",
       ".sidenote {\n",
       "  border: solid 1px green !important;\n",
       "  background: #cdffd8 !important;\n",
       "  padding: 10px !important;\n",
       "  border-radius: 2px !important;\n",
       "}\n",
       "\n",
       ".warning {\n",
       "  border: solid 1px #8a6d3b !important;\n",
       "  background: #fcf8e3 !important;\n",
       "  padding: 10px !important;\n",
       "  border-radius: 2px !important;\n",
       "}\n",
       "\n",
       ".green {\n",
       "  color: #006600 !important;\n",
       "}\n",
       "\n",
       ".red {\n",
       "  color: #cc0000 !important;\n",
       "}</style>Stylesheet \"styles.css\" loaded."
      ],
      "text/plain": [
       "<IPython.core.display.HTML object>"
      ]
     },
     "metadata": {},
     "output_type": "display_data"
    }
   ],
   "source": [
    "import numpy as np\n",
    "import matplotlib.pyplot as plt\n",
    "import sympy as sy\n",
    "import utils as utils\n",
    "from fractions import Fraction\n",
    "from sklearn.metrics import pairwise_distances\n",
    "\n",
    "from IPython.display import display, HTML\n",
    "\n",
    "# Inline plotting\n",
    "%matplotlib inline\n",
    "\n",
    "# Make sympy print pretty math expressions\n",
    "sy.init_printing()\n",
    "\n",
    "utils.load_custom_styles()"
   ]
  },
  {
   "cell_type": "markdown",
   "metadata": {},
   "source": [
    "---\n",
    "## Exercise 4.5\n",
    "\n",
    "<img src=\"figures/homework-22/exercise-4.5.png\" width=\"600\" />\n",
    "\n",
    "\n",
    "\n",
    "\n",
    "\n",
    "\n"
   ]
  },
  {
   "cell_type": "markdown",
   "metadata": {},
   "source": [
    "<div class=\"sidenote\">\n",
    "Suppose $\\mathcal{R}_k$ is a convex set in a real vector space and $g_k : \\mathcal{R}_k \\to \\mathbb{R}$ is a function.\n",
    "\n",
    "Then we can define a convex function. The function $g_k(\\cdot)$ is **convex** if for all pairs of samples $\\mathbf{x}_1 \\in \\mathcal{R}_k$ and $\\mathbf{x}_2 \\in \\mathcal{R}_k$ and for all $\\lambda \\in [0, 1]$, we have:\n",
    "\n",
    "$$\n",
    "        g_k(\\lambda \\mathbf{x}_1 + (1-\\lambda) \\mathbf{x}_2) \\leq  \n",
    "\\lambda g_k(\\mathbf{x}_1) + (1-\\lambda) g_k(\\mathbf{x}_2)\n",
    "$$\n",
    "<div>"
   ]
  },
  {
   "cell_type": "markdown",
   "metadata": {},
   "source": [
    "We know that $\\mathbf{x}_1$ and $\\mathbf{x}_2$ belong to class $k$. This means that the decision function $g_k(\\cdot)$ will yield a larger value i.e., the distance to the separating hyperplane will be larger than another decision function $g_l(\\cdot)$. Therefore, for the two given samples, we can write:\n"
   ]
  },
  {
   "cell_type": "markdown",
   "metadata": {},
   "source": [
    "<img src=\"figures/homework-22/solution-4.5a.png\" width=\"600\" />\n",
    "\n",
    "\n",
    "\n",
    "\n",
    "\n"
   ]
  },
  {
   "cell_type": "markdown",
   "metadata": {},
   "source": [
    "<img src=\"figures/homework-22/solution-4.5b.png\" width=\"600\" />\n",
    "\n",
    "\n",
    "\n",
    "\n",
    "\n"
   ]
  },
  {
   "cell_type": "markdown",
   "metadata": {},
   "source": [
    "<div class=\"warning\">\n",
    "Where does the second $\\mathbf{w}_{l0}$ come from in Equation (4.27)?\n",
    "<div>"
   ]
  },
  {
   "cell_type": "markdown",
   "metadata": {},
   "source": [
    "Equation (4.27) gives us the follow:"
   ]
  },
  {
   "cell_type": "markdown",
   "metadata": {},
   "source": [
    "<img src=\"figures/homework-22/solution-4.5c.png\" width=\"600\" />\n"
   ]
  },
  {
   "cell_type": "markdown",
   "metadata": {},
   "source": [
    "Since we know that $g_l(\\mathbf{x}_1) < g_k(\\mathbf{x}_1)$ and $g_l(\\mathbf{x}_2) < g_k(\\mathbf{x}_2)$, we can substitute the expressions from 4.25 and 4.26 and change the equality size to an inequality:"
   ]
  },
  {
   "cell_type": "markdown",
   "metadata": {},
   "source": [
    "<img src=\"figures/homework-22/solution-4.5d.png\" width=\"600\" />\n"
   ]
  },
  {
   "cell_type": "markdown",
   "metadata": {},
   "source": [
    "Now we can write:"
   ]
  },
  {
   "cell_type": "markdown",
   "metadata": {},
   "source": [
    "<div class=\"warning\">\n",
    "Why can we do this?\n",
    "<div>"
   ]
  },
  {
   "cell_type": "markdown",
   "metadata": {},
   "source": [
    "\\begin{align}\n",
    "g_l(\\mathbf{z}) \n",
    "&= \n",
    "  \\mathbf{w}_k^T \\left[ \\lambda \\mathbf{x}_1 + (1-\\lambda) \\mathbf{w}^T\\mathbf{x}_2 \\right] + w_{k0}\\\\\n",
    "&= \n",
    "  \\mathbf{w}_k^T \\mathbf{z} + w_{k0} \\\\\n",
    "&= \n",
    "  g_k(\\mathbf{z})\n",
    "\\end{align}"
   ]
  },
  {
   "cell_type": "markdown",
   "metadata": {},
   "source": [
    "---\n",
    "## Exercise 4.6\n",
    "\n",
    "<img src=\"figures/homework-22/exercise-4.6.png\" width=\"600\" />\n",
    "\n",
    "\n",
    "\n",
    "\n",
    "\n",
    "\n"
   ]
  },
  {
   "cell_type": "markdown",
   "metadata": {},
   "source": [
    "Suppose we have $N$ samples $\\mathbf{x}_i \\in \\mathbb{R}^D$ in two different classes. \n",
    "\n",
    "Suppose we pick any two samples so that\n",
    "- $\\mathbf{x}_{pos}$ belongs to the positive class\n",
    "- $\\mathbf{x}_{neg}$ belongs to the negative class"
   ]
  },
  {
   "cell_type": "markdown",
   "metadata": {},
   "source": [
    "We can make each sample distinct by augmenting them with their corresponding label as follows:\n",
    "- $\\tilde{\\mathbf{x}}_{pos} = [\\mathbf{x}_{pos}^T, 1]^T$\n",
    "- $\\tilde{\\mathbf{x}}_{neg} = [\\mathbf{x}_{neg}^T, -1]^T$"
   ]
  },
  {
   "cell_type": "markdown",
   "metadata": {},
   "source": [
    "Notice that we have mapped our samples from both classes to a higher dimension."
   ]
  },
  {
   "cell_type": "markdown",
   "metadata": {},
   "source": [
    "Given a linear decision function $g(\\mathbf{x}) = \\mathbf{w}^T \\mathbf{x}$, all samples can be classified correctly using the following weight vector:\n",
    "\n",
    "$$\n",
    "\\mathbf{w} = \n",
    "  \\begin{bmatrix}\n",
    "  0\\\\0\\\\ \\vdots \\\\ 1\n",
    "  \\end{bmatrix}\n",
    "$$"
   ]
  },
  {
   "cell_type": "markdown",
   "metadata": {},
   "source": [
    "Another approach:\n",
    "\n",
    "<img src=\"figures/homework-22/solution-4.6.png\" width=\"600\" />\n",
    "\n",
    "\n",
    "\n",
    "\n",
    "\n",
    "\n",
    "\n",
    "\n",
    "\n",
    "\n",
    "\n",
    "\n",
    "\n"
   ]
  },
  {
   "cell_type": "markdown",
   "metadata": {},
   "source": [
    "---\n",
    "## Exercise 4.7\n",
    "\n",
    "<img src=\"figures/homework-22/exercise-4.7.png\" width=\"600\" />\n",
    "\n",
    "\n",
    "\n",
    "\n",
    "\n",
    "\n",
    "\n",
    "\n",
    "\n",
    "\n",
    "\n",
    "\n"
   ]
  },
  {
   "cell_type": "markdown",
   "metadata": {},
   "source": [
    "<div class=\"warning\">\n",
    "Why can we do this? Restudy!\n",
    "<div>"
   ]
  },
  {
   "cell_type": "markdown",
   "metadata": {},
   "source": [
    "\n",
    "\n",
    "<img src=\"figures/homework-22/solution-4.7.png\" width=\"600\" />\n",
    "\n",
    "\n"
   ]
  },
  {
   "cell_type": "markdown",
   "metadata": {},
   "source": [
    "---\n",
    "## Exercise 5.1\n",
    "\n",
    "<img src=\"figures/homework-22/exercise-5.1.png\" width=\"600\" />\n",
    "\n",
    "\n",
    "\n",
    "\n",
    "\n",
    "\n"
   ]
  },
  {
   "cell_type": "code",
   "execution_count": 75,
   "metadata": {},
   "outputs": [],
   "source": [
    "def plot_svm(c1, c2, w, w_origin, margin, support_vectors, xlim=(-2, 2), ylim=(-2, 2)):\n",
    "    #fig, ax = utils.prepare_plot(c1[0,:], c1[1,:], xlimit=(-0.5, 2.5), ylimit=(-0.5, 2.5), figsize=(8,8))\n",
    "    fig, ax = plt.subplots(figsize=(8,8))\n",
    "    ax.set_xlim(xlim)\n",
    "    ax.set_ylim(ylim)\n",
    "    ax.scatter(c1[0,:], c1[1,:], label='Positive Class', )\n",
    "    ax.scatter(c2[0,:], c2[1,:], label='Negative Class')\n",
    "\n",
    "    coords = np.arange(-100, 100, 1) \n",
    "    \n",
    "    # Draw decision function\n",
    "    x1_coords = (-(coords * w[1]) / w[0])  + w_origin[0]\n",
    "    x2_coords = (-(x1_coords * w[0]) / w[1]) + w_origin[1]\n",
    "    ax.plot(x1_coords, x2_coords, color='black', label='Decision function')\n",
    "\n",
    "    # Draw the margin\n",
    "    x1_coords = (-(coords * w[1]) / w[0])  + w_origin[0] + margin\n",
    "    x2_coords = (-(x1_coords * w[0]) / w[1]) + w_origin[1] + margin\n",
    "    ax.plot(x1_coords, x2_coords, color='grey', linestyle='dashed', label='Margin Lines')\n",
    "\n",
    "    x1_coords = (-(coords * w[1]) / w[0])  + w_origin[0] - margin\n",
    "    x2_coords = (-(x1_coords * w[0]) / w[1]) + w_origin[1] - margin\n",
    "    ax.plot(x1_coords, x2_coords, color='grey', linestyle='dashed')\n",
    "\n",
    "    # Draw the weight vector\n",
    "    arrow_x1 = 0.5\n",
    "    arrow_x2 = (-arrow_x1 * w[0] / w[1])  + w_origin[1]\n",
    "    w = w / np.linalg.norm(w)\n",
    "    ax.arrow(arrow_x1, arrow_x2, w[0], w[1], color='black', head_width=0.07, head_length=0.1)\n",
    "    \n",
    "    ax.scatter(support_vectors[0,:], support_vectors[1,:], \n",
    "               facecolors='none', edgecolors='grey', s=150, label='Support Vectors')\n",
    "\n",
    "    ax.legend();\n",
    "    return None"
   ]
  },
  {
   "cell_type": "code",
   "execution_count": 76,
   "metadata": {},
   "outputs": [],
   "source": [
    "c1 = np.array([[1, 2, 2],\n",
    "               [1, 2, 0]])\n",
    "c2 = np.array([[0, 1, 0],\n",
    "               [0, 0, 1]])"
   ]
  },
  {
   "cell_type": "code",
   "execution_count": 77,
   "metadata": {},
   "outputs": [],
   "source": [
    "X = np.concatenate([c1, c2], axis=1)\n",
    "y_c1 = np.ones(c1.shape[1])\n",
    "y_c2 = -np.ones(c2.shape[1])\n",
    "y = np.concatenate([y_c1, y_c2])"
   ]
  },
  {
   "cell_type": "code",
   "execution_count": 78,
   "metadata": {},
   "outputs": [
    {
     "data": {
      "image/png": "[encoded data removed]",
      "text/plain": [
       "<Figure size 576x576 with 1 Axes>"
      ]
     },
     "metadata": {
      "needs_background": "light"
     },
     "output_type": "display_data"
    }
   ],
   "source": [
    "w = np.array([1.0, 1.0])\n",
    "w_origin = [1.5, 1.5]\n",
    "margin = 0.5\n",
    "support_vectors = np.array([[1, 0, 1, 2],\n",
    "                            [0, 1, 1, 0]])\n",
    "xlim = -0.5, 2.5\n",
    "ylim = -0.5, 2.5\n",
    "plot_svm(c1, c2, w, w_origin, margin, support_vectors, xlim, ylim)"
   ]
  },
  {
   "cell_type": "markdown",
   "metadata": {},
   "source": [
    "---\n",
    "## Exercise 5.2\n",
    "\n",
    "<img src=\"figures/homework-22/exercise-5.2.png\" width=\"600\" />\n",
    "\n",
    "\n",
    "\n",
    "\n",
    "\n",
    "\n"
   ]
  },
  {
   "cell_type": "markdown",
   "metadata": {},
   "source": [
    "We need to show that the kernel matrix $\\mathbf{K}$ in the dual problem formulation of SVM must be a positive definite in order to find a solution:"
   ]
  },
  {
   "cell_type": "markdown",
   "metadata": {},
   "source": [
    "<div class=\"warning\">\n",
    "Correct?\n",
    "<div>"
   ]
  },
  {
   "cell_type": "markdown",
   "metadata": {},
   "source": [
    "Recall how quadratic functions are defined:\n",
    "\n",
    "<img src=\"figures/homework-22/recall-quadratic-functions.png\" width=\"600\" />\n",
    "\n",
    "\n",
    "\n",
    "\n",
    "\n"
   ]
  },
  {
   "cell_type": "markdown",
   "metadata": {},
   "source": [
    "The Hessian of $f$ is $F(\\mathbf{x})= \\mathbf{Q}$."
   ]
  },
  {
   "cell_type": "markdown",
   "metadata": {},
   "source": [
    "<div class=\"warning\">\n",
    "So in order for a quadratic function to a have a solution, the Hession of the function must be symmetric positive definite matrix.\n",
    "Correct?\n",
    "<div>"
   ]
  },
  {
   "cell_type": "markdown",
   "metadata": {},
   "source": [
    "<img src=\"figures/homework-22/solution-5.2a.png\" width=\"600\" />\n",
    "\n",
    "\n",
    "\n",
    "\n"
   ]
  },
  {
   "cell_type": "markdown",
   "metadata": {},
   "source": [
    "The formulation is a quadratic function. The first partial derivative of $\\mathcal{J}_{a}$ is:"
   ]
  },
  {
   "cell_type": "markdown",
   "metadata": {},
   "source": [
    "<img src=\"figures/homework-22/solution-5.2b.png\" width=\"600\" />\n",
    "\n",
    "\n",
    "\n",
    "\n"
   ]
  },
  {
   "cell_type": "markdown",
   "metadata": {},
   "source": [
    "The Hessian is:"
   ]
  },
  {
   "cell_type": "markdown",
   "metadata": {},
   "source": [
    "<img src=\"figures/homework-22/solution-5.2c.png\" width=\"600\" />\n",
    "\n",
    "\n",
    "\n",
    "\n"
   ]
  },
  {
   "cell_type": "markdown",
   "metadata": {},
   "source": [
    "<img src=\"figures/homework-22/solution-5.2d.png\" width=\"600\" />\n",
    "\n",
    "\n",
    "\n",
    "\n",
    "\n",
    "\n"
   ]
  },
  {
   "cell_type": "markdown",
   "metadata": {},
   "source": [
    "---\n",
    "## Exercise 5.3: \n",
    "\n",
    "<center><b>Show that the linear SVM classifier always finds the optimal hyper-plane in the linear case.</b></center>\n",
    "\n",
    "\n",
    "\n",
    "\n",
    "\n"
   ]
  },
  {
   "cell_type": "code",
   "execution_count": null,
   "metadata": {},
   "outputs": [],
   "source": []
  },
  {
   "cell_type": "markdown",
   "metadata": {},
   "source": [
    "<img src=\"figures/homework-22/solution-5.3a.png\" width=\"600\" />\n",
    "\n",
    "\n",
    "\n",
    "\n",
    "\n",
    "\n",
    "\n",
    "\n",
    "\n",
    "\n",
    "\n"
   ]
  },
  {
   "cell_type": "markdown",
   "metadata": {},
   "source": [
    "<img src=\"figures/homework-22/solution-5.3b.png\" width=\"600\" />\n",
    "\n"
   ]
  },
  {
   "cell_type": "markdown",
   "metadata": {},
   "source": [
    "---\n",
    "## Exercise 5.4\n",
    "\n",
    "<img src=\"figures/homework-22/exercise-5.4.png\" width=\"600\" />\n",
    "\n",
    "\n",
    "\n",
    "\n"
   ]
  },
  {
   "cell_type": "markdown",
   "metadata": {},
   "source": [
    "<div class=\"warning\">\n",
    "Restudy!\n",
    "<div>"
   ]
  },
  {
   "cell_type": "markdown",
   "metadata": {},
   "source": [
    "<img src=\"figures/homework-22/solution-5.4a.png\" width=\"600\" />\n",
    "\n",
    "\n"
   ]
  },
  {
   "cell_type": "markdown",
   "metadata": {},
   "source": [
    "<img src=\"figures/homework-22/solution-5.4b.png\" width=\"600\" />\n",
    "\n",
    "\n",
    "\n",
    "\n",
    "\n",
    "\n",
    "\n",
    "\n",
    "\n",
    "\n",
    "\n",
    "\n",
    "\n",
    "\n",
    "\n",
    "\n",
    "\n",
    "\n",
    "\n",
    "\n",
    "\n"
   ]
  },
  {
   "cell_type": "markdown",
   "metadata": {},
   "source": [
    "<img src=\"figures/homework-22/solution-5.4c.png\" width=\"600\" />\n",
    "\n",
    "\n",
    "\n",
    "\n",
    "\n",
    "\n"
   ]
  }
 ],
 "metadata": {
  "kernelspec": {
   "display_name": "Python 3",
   "language": "python",
   "name": "python3"
  },
  "language_info": {
   "codemirror_mode": {
    "name": "ipython",
    "version": 3
   },
   "file_extension": ".py",
   "mimetype": "text/x-python",
   "name": "python",
   "nbconvert_exporter": "python",
   "pygments_lexer": "ipython3",
   "version": "3.6.6"
  }
 },
 "nbformat": 4,
 "nbformat_minor": 2
}
