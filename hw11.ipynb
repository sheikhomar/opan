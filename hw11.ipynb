{
 "cells": [
  {
   "cell_type": "markdown",
   "metadata": {},
   "source": [
    "# Homework 11"
   ]
  },
  {
   "cell_type": "code",
   "execution_count": 3,
   "metadata": {},
   "outputs": [],
   "source": [
    "import numpy as np\n",
    "import matplotlib.pyplot as plt\n",
    "import sympy as sy\n",
    "import utils as utils\n",
    "from fractions import Fraction\n",
    "\n",
    "from func import Func\n",
    "from IPython.display import display, HTML\n",
    "\n",
    "# Inline plotting\n",
    "%matplotlib inline\n",
    "\n",
    "# Make sympy print pretty math expressions\n",
    "sy.init_printing()"
   ]
  },
  {
   "cell_type": "markdown",
   "metadata": {},
   "source": [
    "---\n",
    "## Example 14.3\n",
    "\n",
    "\n",
    "<img src=\"figures/homework-11/example-14.3.png\" width=\"600\" />\n",
    "\n",
    "\n",
    "\n",
    "\n",
    "\n",
    "\n",
    "\n",
    "\n",
    "\n",
    "\n",
    "\n",
    "\n"
   ]
  },
  {
   "cell_type": "markdown",
   "metadata": {},
   "source": [
    "<img src=\"figures/homework-11/figure-14.10.png\" width=\"600\" />\n",
    "\n",
    "\n",
    "\n",
    "\n",
    "\n",
    "\n",
    "\n",
    "\n",
    "\n",
    "\n",
    "\n",
    "\n",
    "\n",
    "\n",
    "\n",
    "\n",
    "\n",
    "\n",
    "\n",
    "\n"
   ]
  },
  {
   "cell_type": "markdown",
   "metadata": {},
   "source": [
    "---\n",
    "## Exercise 14.2\n",
    "\n",
    "<img src=\"figures/homework-11/exercise-14.2.png\" width=\"600\" />\n"
   ]
  },
  {
   "cell_type": "code",
   "execution_count": 4,
   "metadata": {},
   "outputs": [],
   "source": [
    "class NaiveRandomSearch:\n",
    "    def __init__(self, f):\n",
    "        self._f = f\n",
    "    \n",
    "    def check_feasible_set(self):\n",
    "        feasible_set = [\n",
    "            sy.Interval(-3, sy.oo),\n",
    "            sy.Interval(-sy.oo, 3)\n",
    "        ]\n",
    "\n",
    "        def fetch_val(val, min_val=-1000, max_val=1000):\n",
    "            if val == sy.oo:\n",
    "                return max_val\n",
    "            if val == -sy.oo:\n",
    "                return min_val\n",
    "            return val\n",
    "\n",
    "        low = np.zeros(len(feasible_set))\n",
    "        high = np.zeros(len(feasible_set))\n",
    "        for index, interval in enumerate(feasible_set):\n",
    "            if isinstance(interval, sy.EmptySet):\n",
    "                raise ValueError('Interval at {0} is invalid.'.format(index))\n",
    "            low[index] = fetch_val(interval.left)\n",
    "            high[index] = fetch_val(interval.right)\n",
    "\n",
    "        low, high  \n",
    "    \n",
    "    def pick_random_point(self, x_k, alpha):\n",
    "        # TODO: Ensure that these points are within the feasible set\n",
    "        low  = x_k - alpha\n",
    "        high = x_k + alpha\n",
    "        return np.random.uniform(low, high)\n",
    "    \n",
    "    def f_at(self, point):\n",
    "        f_val = self._f.func_at(point)\n",
    "        return f_val[0]\n",
    "    \n",
    "    def run(self, initial_point, alpha, max_iterations=20):\n",
    "        x_k = np.array(initial_point)\n",
    "        has_converged = False\n",
    "        \n",
    "        for k in range(1, max_iterations+1):\n",
    "            z_k = self.pick_random_point(x_k, alpha)\n",
    "            \n",
    "            f_at_z_k = self.f_at(z_k)\n",
    "            f_at_x_k = self.f_at(x_k)\n",
    "            \n",
    "            if self.f_at(z_k) < self.f_at(x_k):\n",
    "                x_kp1 = z_k\n",
    "            else:\n",
    "                x_kp1 = x_k\n",
    "            \n",
    "            # TODO: Check for stopping criterion\n",
    "            \n",
    "            print('k={0:2}: x[k]={1} f(x[k])={2:.4f}  z(k)={3}, f(z[k])={4:.4f} x[k+1]={5}'.format( \n",
    "                k, \n",
    "                utils.format_vector(x_k),\n",
    "                float(f_at_x_k),\n",
    "                utils.format_vector(z_k),\n",
    "                float(f_at_z_k),\n",
    "                utils.format_vector(x_kp1)\n",
    "                )\n",
    "            )\n",
    "            \n",
    "            x_k = x_kp1\n",
    "        return x_k\n"
   ]
  },
  {
   "cell_type": "code",
   "execution_count": 5,
   "metadata": {},
   "outputs": [
    {
     "data": {
      "text/latex": [
       "$$\\left[\\begin{matrix}3 \\left(- x + 1\\right)^{2} e^{- x^{2} - \\left(y + 1\\right)^{2}} - \\left(- 10 x^{3} + 2 x - 10 y^{5}\\right) e^{- x^{2} - y^{2}} - \\frac{e^{- y^{2} - \\left(x + 1\\right)^{2}}}{3}\\end{matrix}\\right]$$"
      ],
      "text/plain": [
       "⎡                                                                        2    \n",
       "⎢                2          2                               2    2    - y  - (\n",
       "⎢          2  - x  - (y + 1)    ⎛      3             5⎞  - x  - y    ℯ        \n",
       "⎢3⋅(-x + 1) ⋅ℯ                - ⎝- 10⋅x  + 2⋅x - 10⋅y ⎠⋅ℯ          - ─────────\n",
       "⎣                                                                           3 \n",
       "\n",
       "      2⎤\n",
       "x + 1) ⎥\n",
       "       ⎥\n",
       "───────⎥\n",
       "       ⎦"
      ]
     },
     "metadata": {},
     "output_type": "display_data"
    },
    {
     "data": {
      "text/plain": []
     },
     "execution_count": 5,
     "metadata": {},
     "output_type": "execute_result"
    }
   ],
   "source": [
    "def create_f142():\n",
    "    x, y = sy.symbols('x, y')\n",
    "    term1 = 3*(1-x)**2 * sy.exp(-x**2 - (y+1)**2)\n",
    "    term2 = 10*(x/5 - x**3 - y**5) * sy.exp(-x**2 - y**2)\n",
    "    term3 = sy.exp(-(x+1)**2 - y**2) / 3\n",
    "    f = term1 - term2 - term3\n",
    "    return Func(f, (x,y))\n",
    "\n",
    "f142 = create_f142()\n",
    "f142"
   ]
  },
  {
   "cell_type": "code",
   "execution_count": 7,
   "metadata": {},
   "outputs": [
    {
     "data": {
      "image/png": "[encoded data removed]",
      "text/plain": [
       "<Figure size 864x432 with 2 Axes>"
      ]
     },
     "metadata": {
      "needs_background": "light"
     },
     "output_type": "display_data"
    }
   ],
   "source": [
    "fig, ax = f142.plot_contour(x_limit=(-3, 3), levels=30)"
   ]
  },
  {
   "cell_type": "code",
   "execution_count": 8,
   "metadata": {},
   "outputs": [],
   "source": [
    "nrs = NaiveRandomSearch(f142)"
   ]
  },
  {
   "cell_type": "code",
   "execution_count": 275,
   "metadata": {},
   "outputs": [
    {
     "name": "stdout",
     "output_type": "stream",
     "text": [
      "k= 1: x[k]=['0.0000', '1.5000'] f(x[k])=7.9966  z(k)=['-0.4282', '2.7244'], f(z[k])=0.7467 x[k+1]=['-0.4282', '2.7244']\n",
      "k= 2: x[k]=['-0.4282', '2.7244'] f(x[k])=0.7467  z(k)=['-2.2272', '1.9915'], f(z[k])=0.0261 x[k+1]=['-2.2272', '1.9915']\n",
      "k= 3: x[k]=['-2.2272', '1.9915'] f(x[k])=0.0261  z(k)=['-3.3437', '1.6101'], f(z[k])=-0.0004 x[k+1]=['-3.3437', '1.6101']\n",
      "k= 4: x[k]=['-3.3437', '1.6101'] f(x[k])=-0.0004  z(k)=['-5.1042', '2.1478'], f(z[k])=-0.0000 x[k+1]=['-3.3437', '1.6101']\n",
      "k= 5: x[k]=['-3.3437', '1.6101'] f(x[k])=-0.0004  z(k)=['-4.1946', '2.1953'], f(z[k])=-0.0000 x[k+1]=['-3.3437', '1.6101']\n",
      "k= 6: x[k]=['-3.3437', '1.6101'] f(x[k])=-0.0004  z(k)=['-3.2960', '2.8308'], f(z[k])=0.0000 x[k+1]=['-3.3437', '1.6101']\n",
      "k= 7: x[k]=['-3.3437', '1.6101'] f(x[k])=-0.0004  z(k)=['-2.9136', '1.9165'], f(z[k])=-0.0001 x[k+1]=['-3.3437', '1.6101']\n",
      "k= 8: x[k]=['-3.3437', '1.6101'] f(x[k])=-0.0004  z(k)=['-2.2697', '0.5541'], f(z[k])=-0.5088 x[k+1]=['-2.2697', '0.5541']\n",
      "k= 9: x[k]=['-2.2697', '0.5541'] f(x[k])=-0.5088  z(k)=['-3.1218', '2.0364'], f(z[k])=-0.0000 x[k+1]=['-2.2697', '0.5541']\n",
      "k=10: x[k]=['-2.2697', '0.5541'] f(x[k])=-0.5088  z(k)=['-1.6184', '-1.2233'], f(z[k])=0.2891 x[k+1]=['-2.2697', '0.5541']\n",
      "k=11: x[k]=['-2.2697', '0.5541'] f(x[k])=-0.5088  z(k)=['-3.3035', '1.7515'], f(z[k])=-0.0002 x[k+1]=['-2.2697', '0.5541']\n",
      "k=12: x[k]=['-2.2697', '0.5541'] f(x[k])=-0.5088  z(k)=['-2.2848', '-0.1663'], f(z[k])=-0.5781 x[k+1]=['-2.2848', '-0.1663']\n",
      "k=13: x[k]=['-2.2848', '-0.1663'] f(x[k])=-0.5781  z(k)=['-3.3479', '0.4017'], f(z[k])=-0.0053 x[k+1]=['-2.2848', '-0.1663']\n",
      "k=14: x[k]=['-2.2848', '-0.1663'] f(x[k])=-0.5781  z(k)=['-3.1158', '0.7754'], f(z[k])=-0.0117 x[k+1]=['-2.2848', '-0.1663']\n",
      "k=15: x[k]=['-2.2848', '-0.1663'] f(x[k])=-0.5781  z(k)=['-3.5271', '-0.2186'], f(z[k])=-0.0020 x[k+1]=['-2.2848', '-0.1663']\n",
      "k=16: x[k]=['-2.2848', '-0.1663'] f(x[k])=-0.5781  z(k)=['-0.8313', '-1.5175'], f(z[k])=-0.4114 x[k+1]=['-2.2848', '-0.1663']\n",
      "k=17: x[k]=['-2.2848', '-0.1663'] f(x[k])=-0.5781  z(k)=['-4.2073', '0.0888'], f(z[k])=-0.0000 x[k+1]=['-2.2848', '-0.1663']\n",
      "k=18: x[k]=['-2.2848', '-0.1663'] f(x[k])=-0.5781  z(k)=['-3.2226', '0.3406'], f(z[k])=-0.0109 x[k+1]=['-2.2848', '-0.1663']\n",
      "k=19: x[k]=['-2.2848', '-0.1663'] f(x[k])=-0.5781  z(k)=['-2.3615', '0.8003'], f(z[k])=-0.2692 x[k+1]=['-2.2848', '-0.1663']\n",
      "k=20: x[k]=['-2.2848', '-0.1663'] f(x[k])=-0.5781  z(k)=['-0.5126', '-2.0382'], f(z[k])=-2.4576 x[k+1]=['-0.5126', '-2.0382']\n"
     ]
    },
    {
     "data": {
      "text/plain": [
       "array([-212448/414463, -1906060/935163])"
      ]
     },
     "execution_count": 275,
     "metadata": {},
     "output_type": "execute_result"
    }
   ],
   "source": [
    "nrs.run(initial_point=(0, 1.5), alpha=2, max_iterations=20)"
   ]
  },
  {
   "cell_type": "markdown",
   "metadata": {},
   "source": [
    "---\n",
    "## Exercise 14.3\n",
    "\n",
    "<img src=\"figures/homework-11/exercise-14.3.png\" width=\"600\" />\n",
    "\n"
   ]
  },
  {
   "cell_type": "code",
   "execution_count": null,
   "metadata": {},
   "outputs": [],
   "source": []
  }
 ],
 "metadata": {
  "kernelspec": {
   "display_name": "Python 3",
   "language": "python",
   "name": "python3"
  },
  "language_info": {
   "codemirror_mode": {
    "name": "ipython",
    "version": 3
   },
   "file_extension": ".py",
   "mimetype": "text/x-python",
   "name": "python",
   "nbconvert_exporter": "python",
   "pygments_lexer": "ipython3",
   "version": "3.6.6"
  }
 },
 "nbformat": 4,
 "nbformat_minor": 2
}
