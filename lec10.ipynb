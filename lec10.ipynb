{
 "cells": [
  {
   "cell_type": "markdown",
   "metadata": {},
   "source": [
    "# Lecture 10: Conjugate Gradient Methods"
   ]
  },
  {
   "cell_type": "code",
   "execution_count": 1,
   "metadata": {},
   "outputs": [
    {
     "data": {
      "text/html": [
       "<style type=\"text/css\">.summary {\n",
       "  border: solid 1px green !important;\n",
       "  background: #cdffd8 !important;\n",
       "  padding: 10px !important;\n",
       "  border-radius: 2px !important;\n",
       "}\n",
       "\n",
       ".insight {\n",
       "  border: solid 1px green !important;\n",
       "  background: #cdffd8 !important;\n",
       "  padding: 10px !important;\n",
       "  border-radius: 2px !important;\n",
       "}\n",
       "\n",
       ".sidenote {\n",
       "  border: solid 1px green !important;\n",
       "  background: #cdffd8 !important;\n",
       "  padding: 10px !important;\n",
       "  border-radius: 2px !important;\n",
       "}\n",
       "\n",
       ".warning {\n",
       "  border: solid 1px #8a6d3b !important;\n",
       "  background: #fcf8e3 !important;\n",
       "  padding: 10px !important;\n",
       "  border-radius: 2px !important;\n",
       "}\n",
       "\n",
       ".green {\n",
       "  color: #006600 !important;\n",
       "}\n",
       "\n",
       ".red {\n",
       "  color: #cc0000 !important;\n",
       "}\n",
       "\n",
       ".simplex-tableaux {\n",
       "    font-size: 13pt !important;\n",
       "}\n",
       "\n",
       ".last-row td {\n",
       "    border-top: solid 1px Black !important;\n",
       "}\n",
       "\n",
       ".smallest-value {\n",
       "    background-color: Green !important;\n",
       "    color: White !important;\n",
       "    font-weight: bold !important;\n",
       "}</style>Stylesheet \"styles.css\" loaded."
      ],
      "text/plain": [
       "<IPython.core.display.HTML object>"
      ]
     },
     "metadata": {},
     "output_type": "display_data"
    }
   ],
   "source": [
    "import numpy as np\n",
    "import matplotlib.pyplot as plt\n",
    "import sympy as sy\n",
    "import utils as utils\n",
    "from fractions import Fraction\n",
    "from conjugate import ConjugateGradient\n",
    "\n",
    "from func import Func\n",
    "from IPython.display import display, HTML\n",
    "\n",
    "# Inline plotting\n",
    "%matplotlib inline\n",
    "\n",
    "# Make sympy print pretty math expressions\n",
    "sy.init_printing()\n",
    "\n",
    "# Load custom stylesheet\n",
    "utils.load_custom_styles()"
   ]
  },
  {
   "cell_type": "markdown",
   "metadata": {},
   "source": [
    "---\n",
    "## Questions\n",
    "- What does this mean: \"If Newton's method converges, it has a quadratic order of convergence.\"? [CZ. p193]\n"
   ]
  },
  {
   "cell_type": "markdown",
   "metadata": {},
   "source": [
    "---\n",
    "## Definiteness of Matrices\n"
   ]
  },
  {
   "cell_type": "markdown",
   "metadata": {},
   "source": [
    "Here are the definitions. Let $\\mathbf{x}$ be non-zero vector:\n",
    "\n",
    "1. A matrix $A$ is positive definite if $\\mathbf{x}^T A \\mathbf{x} > 0$ for all vectors $\\mathbf{x} \\not = \\mathbf{0}$\n",
    "1. A matrix $A$ is positive semi-definite if $\\mathbf{x}^T A \\mathbf{x} \\geq 0$ for all vectors $\\mathbf{x} \\not = \\mathbf{0}$\n",
    "3. A matrix $A$ is negative definite if $\\mathbf{x}^T A \\mathbf{x} < 0$ for all vectors $\\mathbf{x} \\not = \\mathbf{0}$\n",
    "4. A matrix $A$ is negative semi-definite if $\\mathbf{x}^T A \\mathbf{x} \\leq 0$ for all vectors $\\mathbf{x} \\not = \\mathbf{0}$\n",
    "\n",
    "One way to tell if a matrix is positive definite is to calculate the eigenvalues and just check to see if they’re all positive. However, computing the eigenvalues for large matrices may be difficult."
   ]
  },
  {
   "cell_type": "markdown",
   "metadata": {},
   "source": [
    "<img src=\"figures/lecture-10/definiteness-intuition.png\" width=\"400\" />\n"
   ]
  },
  {
   "cell_type": "markdown",
   "metadata": {},
   "source": [
    "Graphically, positive-definiteness describes the bowl shape of a paraboloid."
   ]
  },
  {
   "cell_type": "markdown",
   "metadata": {},
   "source": [
    "<img src=\"figures/lecture-10/pos-neg-definite.png\" width=\"600\" />\n"
   ]
  },
  {
   "cell_type": "markdown",
   "metadata": {},
   "source": [
    "<img src=\"figures/lecture-10/semi-definite-matrices.png\" width=\"600\" />\n"
   ]
  },
  {
   "cell_type": "markdown",
   "metadata": {},
   "source": [
    "Finally, we have the indefinte matrix where $\\mathbf{x}^T A \\mathbf{x} $ is sometimes zero, positive or negative:"
   ]
  },
  {
   "cell_type": "markdown",
   "metadata": {},
   "source": [
    "<img src=\"figures/lecture-10/indefinite-matrix.png\" width=\"500\" />\n",
    "\n",
    "\n",
    "\n",
    "\n",
    "\n",
    "\n",
    "\n",
    "\n",
    "\n",
    "\n"
   ]
  },
  {
   "cell_type": "markdown",
   "metadata": {},
   "source": []
  },
  {
   "cell_type": "markdown",
   "metadata": {},
   "source": [
    "<img src=\"figures/lecture-10/definiteness-saddle-point.png\" width=\"500\" />\n"
   ]
  },
  {
   "cell_type": "markdown",
   "metadata": {},
   "source": [
    "---\n",
    "## Trust Region Algorithm"
   ]
  },
  {
   "cell_type": "markdown",
   "metadata": {},
   "source": [
    "Trust region algorithm is an algorithm that works like the Newtom algorithm:\n",
    "\n",
    "1. Create an quadratic approximation $Q(\\mathbf{x})$ of $f(\\mathbf{x})$ around $\\mathbf{x}^{(k)}$ i.e., a polynomial of degree 2. \n",
    "2. Define a **Trust Region** around the current point. The trust region is just a circle of radius $\\delta_k$ centered at $\\mathbf{x}^{(k)}$.\n",
    "3. Search for the minimum of $Q(\\mathbf{x})$ inside the Trust Region. \n",
    "4. Let $\\mathbf{x}^{(k+1)}$ be the minimum of $Q(\\mathbf{x})$ found in the previous step.\n",
    "5. If $f(\\mathbf{x}^{(k+1)}) < f(\\mathbf{x}^{(k)})$ then we know that $Q(\\mathbf{x})$ is a good approximator of $f(\\mathbf{x})$. :\n",
    "  1. Increase the trust region radius $\\delta_k$.\n",
    "  2. Change $\\mathbf{x}^{(k)} = \\mathbf{x}^{(k+1)}$ \n",
    "6. If $f(\\mathbf{x}^{(k+1)}) < f(\\mathbf{x}^{(k)})$ but the reduction is not as big as predicted by $Q(\\mathbf{x})$, then we do the following:\n",
    "  1. Do not change the trust region radius $\\delta_k$.\n",
    "  2. Change $\\mathbf{x}^{(k)} = \\mathbf{x}^{(k+1)}$ \n",
    "7. If $f(\\mathbf{x}^{(k+1)}) > f(\\mathbf{x}^{(k)})$ then we know that $Q(\\mathbf{x})$ is no longer a correct approximation of $f(\\mathbf{x})$.\n",
    "  1. Reduce the trust region radius $\\delta_k$.\n",
    "  2. Do not change $\\mathbf{x}^{(k)}$\n",
    "8. Stop the algorithm if $\\left \\lVert  \\mathbf{x}^{(k+1)} - \\mathbf{x}^{(k)} \\right \\rVert $ is too small. Otherwise run another iteration.\n",
    "\n",
    "Note that the trust region radius becomes very huge at the end of the search."
   ]
  },
  {
   "cell_type": "markdown",
   "metadata": {},
   "source": [
    "The figure below illustrates the development of the trust region in each iteration. The red dot represents $\\mathbf{x}^{(k)}$ and the red cross represents the minimum of $Q(\\mathbf{x})$."
   ]
  },
  {
   "cell_type": "markdown",
   "metadata": {},
   "source": [
    "<img src=\"figures/lecture-10/trust-region-algorithm-steps.png\" width=\"600\" />\n"
   ]
  },
  {
   "cell_type": "markdown",
   "metadata": {},
   "source": [
    "Basically, at each iteration we are:\n",
    "1. approximating the underlying function with a quadratic at $\\mathbf{x}^{(k)}$, \n",
    "2. finding the one single point that is the minimum of our approximation $\\mathbf{x}^{(k+1)}$, and only then \n",
    "3. seeing what the actual underlying function value is at that point $\\mathbf{x}^{(k+1)}$."
   ]
  },
  {
   "cell_type": "markdown",
   "metadata": {},
   "source": [
    "---\n",
    "### Contour plots in matplotlib"
   ]
  },
  {
   "cell_type": "markdown",
   "metadata": {},
   "source": [
    "How to create contour plots in matplotlib"
   ]
  },
  {
   "cell_type": "code",
   "execution_count": 2,
   "metadata": {},
   "outputs": [
    {
     "data": {
      "text/latex": [
       "$$\\left[\\begin{matrix}x_{1}^{4} - 10 x_{1}^{2} - 2 x_{1} + 10 x_{2}^{2} + 4 \\sin{\\left (x_{1} x_{2} \\right )}\\end{matrix}\\right]$$"
      ],
      "text/plain": [
       "⎡  4        2               2               ⎤\n",
       "⎣x₁  - 10⋅x₁  - 2⋅x₁ + 10⋅x₂  + 4⋅sin(x₁⋅x₂)⎦"
      ]
     },
     "metadata": {},
     "output_type": "display_data"
    },
    {
     "data": {
      "text/plain": []
     },
     "execution_count": 2,
     "metadata": {},
     "output_type": "execute_result"
    }
   ],
   "source": [
    "x1, x2 = sy.symbols('x1, x2')\n",
    "f = Func(-10*x1**2 + 10*x2**2 + 4*sy.sin(x1 * x2) - 2*x1 + x1**4, (x1, x2))\n",
    "f"
   ]
  },
  {
   "cell_type": "code",
   "execution_count": 3,
   "metadata": {},
   "outputs": [
    {
     "data": {
      "image/png": "[encoded data removed]",
      "text/plain": [
       "<Figure size 864x432 with 2 Axes>"
      ]
     },
     "metadata": {
      "needs_background": "light"
     },
     "output_type": "display_data"
    }
   ],
   "source": [
    "fig, ax = f.plot_contour(x_limit=(-4, 4), levels=20)"
   ]
  },
  {
   "cell_type": "markdown",
   "metadata": {},
   "source": [
    "---\n",
    "## Quasi-Newton Methods"
   ]
  },
  {
   "cell_type": "markdown",
   "metadata": {},
   "source": [
    "Recall that the update rule for the Multivariate Newton method in root finding is given as:\n",
    "\n",
    "$$\n",
    "\\mathbf{x}^{(k+1)} = \\mathbf{x}^{(k)} - \\nabla f\\left( \\mathbf{x}^{(k)} \\right)^{-1} f \\left( \\mathbf{x}^{(k)} \\right)\n",
    "$$\n",
    "and optimisation algorithm:\n",
    "$$\n",
    "\\mathbf{x}^{(k+1)} = \\mathbf{x}^{(k)} - F \\left( \\mathbf{x}^{(k)} \\right)^{-1} \\nabla f \\left( \\mathbf{x}^{(k)} \\right)\n",
    "$$\n",
    "where $F$ is the Hessian. \n",
    "\n",
    "In general, if the initial point is not sufficiently close to the solution, then Newton's optimisation algorithm may not possess the descent property i.e., $f(\\mathbf{x}^{(k+1)}) \\not < f(\\mathbf{x}^{(k)}) $ for some $k$.\n",
    "\n",
    "In practice, we may want to may try to guarantee that the algorithm has the descent property by modifying the original algorithm as follows:\n",
    "\n",
    "$$\n",
    "\\mathbf{x}^{(k+1)} = \\mathbf{x}^{(k)} - \\alpha_k F(\\mathbf{x}^{(k)})^{-1} \\nabla f(\\mathbf{x}^{(k)})\n",
    "$$\n",
    "\n",
    "where$\\alpha_k$ is chosen to ensure that $f(\\mathbf{x}^{(k+1)}) < f(\\mathbf{x}^{(k)}) $. For example, we may choose $\\alpha_k = \\text{argmin}_{\\alpha \\geq 0} f\\left(\\mathbf{x}^{(k)} - \\alpha F(\\mathbf{x}^{(k)})^{-1} \\nabla f(\\mathbf{x}^{(k)}) \\right) $\n",
    "\n"
   ]
  },
  {
   "cell_type": "markdown",
   "metadata": {},
   "source": [
    "<div class=\"sidenote\">\n",
    "<b>Sidenote:</b> \n",
    "Notice how Newton's method is very similar to the steepest descent method:<br>\n",
    "\n",
    "$$\n",
    "\\mathbf{x}^{(k+1)} = \\mathbf{x}^{(k)} - \\alpha \\nabla f \\left( \\mathbf{x}^{(k)} \\right)\n",
    "$$\n",
    "   \n",
    "In Newton's method, we scale the gradient $\\nabla f(\\mathbf{x}^{(k)})$ by the Hessian matrix.\n",
    "</div>"
   ]
  },
  {
   "cell_type": "markdown",
   "metadata": {},
   "source": [
    "\n",
    "<img src=\"figures/lecture-10/quasi-newton-intro.png\" width=\"600\" />\n"
   ]
  },
  {
   "cell_type": "markdown",
   "metadata": {},
   "source": [
    "Computing the inverse of a Hessian requires $O\\left(n^3\\right)$ with standard techniques. Each iteration of the algorithm can be quite expensive for large $n$."
   ]
  },
  {
   "cell_type": "markdown",
   "metadata": {},
   "source": [
    "Quasi-Newton algorithms have the form:\n",
    "\n",
    "<img src=\"figures/lecture-10/quasi-newton-method-form.png\" width=\"600\" />\n"
   ]
  },
  {
   "cell_type": "markdown",
   "metadata": {},
   "source": [
    "<div class=\"warning\">\n",
    "<b>Warning:</b> \n",
    "There are two main differences between the book and the lecture slides. \n",
    "<ol>\n",
    "<li>In the book, the approximation is the inverse of the Hessian i.e., \n",
    " $F^{-1}$ whereas in the lecture, we approximate the Hessian i.e., $F$. Approximating the inverse of the Hessian should be faster than computing the inverse after approximating the Hessian. Why not just approximate the inverse of the Hessian like in the book?</li>\n",
    "<li>The notation differs; the book uses both $H$ and $B$ to denote the approximation of the inverse of the Hessian. In the slides, $B$ is used to denote the approximation of the Hessian.</li>\n",
    "</ol>\n",
    "\n",
    "The rest of this section describes the method in the lecture.\n",
    "</div>"
   ]
  },
  {
   "cell_type": "markdown",
   "metadata": {},
   "source": [
    "Quasi-Newton methods avoid computing the Hessian using a procedure analogous to the secant method. We replace the Hessian $F$ with an approximation $B_k$ that is computed for each iteration:\n",
    "\n",
    "$$\n",
    "\\mathbf{x}^{(k+1)} = \\mathbf{x}^{(k)} - B_k^{-1} \\nabla f \\left( \\mathbf{x}^{(k)} \\right)\n",
    "$$"
   ]
  },
  {
   "cell_type": "markdown",
   "metadata": {},
   "source": [
    "Recall that the secant method approximates derivative of a function $f$ by using two points:"
   ]
  },
  {
   "cell_type": "markdown",
   "metadata": {},
   "source": [
    "<img src=\"figures/lecture-10/secant-figure.png\" width=\"600\" />\n",
    "\n",
    "\n"
   ]
  },
  {
   "cell_type": "markdown",
   "metadata": {},
   "source": [
    "Here is a comparison:"
   ]
  },
  {
   "cell_type": "markdown",
   "metadata": {},
   "source": [
    "<img src=\"figures/lecture-10/secant-vs-quasi-newton.png\" width=\"400\" />\n",
    "\n",
    "\n"
   ]
  },
  {
   "cell_type": "markdown",
   "metadata": {},
   "source": [
    "There are different ways to update $\\mathbf{B}_{k+1}$:"
   ]
  },
  {
   "cell_type": "markdown",
   "metadata": {},
   "source": [
    "<img src=\"figures/lecture-10/quasi-newton-update-b-rules.png\" width=\"400\" />\n",
    "\n",
    "\n"
   ]
  },
  {
   "cell_type": "markdown",
   "metadata": {},
   "source": [
    "---\n",
    "## Conjugate Methods"
   ]
  },
  {
   "cell_type": "markdown",
   "metadata": {},
   "source": [
    "**Definition:** Let $A$ be an $n \\times n$ matrix. Two vectors $\\mathbf{d}^{(i)}$ and $\\mathbf{d}^{(j)}$ are $A$-conjugate or $A$-orthogonal if their dot product is zero:\n",
    "$$\n",
    "\\mathbf{d}^{(i)T} A \\mathbf{d}^{(j)} = 0\n",
    "$$"
   ]
  },
  {
   "cell_type": "markdown",
   "metadata": {},
   "source": [
    "Recall that the matrix-vector multiplication $A \\mathbf{d}^{(j)}$ transforms the vector $\\mathbf{d}^{(j)}$ into a new coordinate space described by the matrix $A$ if the columns of $A$ are linearly indenpedent. The definition of $A$-conjugate says that the transformed vector  $A \\mathbf{d}^{(j)}$ is orthogonal to the other vector $\\mathbf{d}^{(i)}$."
   ]
  },
  {
   "cell_type": "markdown",
   "metadata": {},
   "source": [
    "<img src=\"figures/lecture-10/a-conjugate-illustration.png\" width=\"600\" />\n",
    "\n"
   ]
  },
  {
   "cell_type": "markdown",
   "metadata": {},
   "source": [
    "---\n",
    "### Intuition\n",
    "\n",
    "The steepest descent method finds the minimum using a zig-zag approach, where at each iteration the direction is orthogonal to the direction of the previous step. Observe that the algorithms moves in the same direction many times. It would be more efficient to combine all these zigzags into one step for each direction. We don’t want any redundant steps, i.e. each direction should be linearly independent."
   ]
  },
  {
   "cell_type": "markdown",
   "metadata": {},
   "source": [
    "<img src=\"figures/lecture-10/steepest-descent-vs-conjugate-method.png\" width=\"400\" />\n",
    "\n",
    "\n",
    "\n",
    "\n",
    "\n",
    "\n",
    "\n",
    "\n",
    "\n",
    "\n",
    "\n",
    "\n",
    "\n",
    "\n",
    "\n",
    "\n",
    "\n",
    "\n"
   ]
  },
  {
   "cell_type": "markdown",
   "metadata": {},
   "source": [
    "Conjugate Gradient Methods come in two algorithms:\n",
    "1. Conjugate **direction** method: find some good directions that are \"conjugate\". This method can be computationally expensive.\n",
    "2. Conjugate **gradient** method: use the gradient to find these \"conjugate\" directions efficiently. The conjugate directions can be computed incrementally as we go."
   ]
  },
  {
   "cell_type": "markdown",
   "metadata": {},
   "source": [
    "---\n",
    "### Conjugate Direction Algorithm\n"
   ]
  },
  {
   "cell_type": "markdown",
   "metadata": {},
   "source": [
    "<img src=\"figures/lecture-10/conjugate-direction-algorithm-01.png\" width=\"600\" />\n",
    "\n",
    "\n",
    "\n",
    "\n",
    "\n",
    "\n",
    "\n"
   ]
  },
  {
   "cell_type": "markdown",
   "metadata": {},
   "source": [
    "The gradient of the above quadratic function is:\n",
    "$$\n",
    "\\nabla f(\\mathbf{x}) = Q \\mathbf{x} - \\mathbf{b}\n",
    "$$"
   ]
  },
  {
   "cell_type": "markdown",
   "metadata": {},
   "source": [
    "---"
   ]
  },
  {
   "cell_type": "markdown",
   "metadata": {},
   "source": [
    "<img src=\"figures/lecture-10/conjugate-direction-algorithm-02.png\" width=\"600\" />\n",
    "\n",
    "\n"
   ]
  },
  {
   "cell_type": "markdown",
   "metadata": {},
   "source": [
    "<p class=\"sidenote\"><b>Notice</b> that as input, this algorithm requires a starting point $\\mathbf{x}^{(0)}$ and set of vectors $\\mathbf{d}^{(0)}, \\mathbf{d}^{(1)}, \\cdots, \\mathbf{d}^{(n-1)}$ that are mutually $Q$-conjugate. \n",
    "    </p>"
   ]
  },
  {
   "cell_type": "markdown",
   "metadata": {},
   "source": [
    "<img src=\"figures/lecture-10/theorem-10.1.png\" width=\"600\" />\n",
    "\n"
   ]
  },
  {
   "cell_type": "markdown",
   "metadata": {},
   "source": [
    "Theorem 10.1 tells us that if the matrix $Q$ is an $n \\times n$ matrix, then the basic conjugate direction algorithm finds a solution in $n$ iterations."
   ]
  },
  {
   "cell_type": "markdown",
   "metadata": {},
   "source": [
    "So for a quadratic function of $n$ variables, the conjugate direction method reaches the solution after $n$ steps. The method also possesses a certain desirable property in the intermediate steps. "
   ]
  },
  {
   "cell_type": "markdown",
   "metadata": {},
   "source": [
    "<img src=\"figures/lecture-10/lemma-10.2.png\" width=\"600\" />\n",
    "\n"
   ]
  },
  {
   "cell_type": "markdown",
   "metadata": {},
   "source": [
    "where $\\mathbf{g}^{(k+1)} = Q \\mathbf{x}^{(k+1)} - \\mathbf{b} $ is the gradent of the quadratic function $f$."
   ]
  },
  {
   "cell_type": "markdown",
   "metadata": {},
   "source": [
    "The conjugate direction algorithm is very effective. However, to use the algorithm, we need to specify the $Q$-conjugate directions. Fortunately, there is a way to generate $Q$-conjugate directions as we perform iterations. The Conjugate Gradient Algorithm incorporates the generation of $Q$-conjugate directions at each step."
   ]
  },
  {
   "cell_type": "markdown",
   "metadata": {},
   "source": [
    "---\n",
    "### Example 10.2"
   ]
  },
  {
   "cell_type": "markdown",
   "metadata": {},
   "source": [
    "<img src=\"figures/lecture-10/example-10.2.png\" width=\"600\" />\n"
   ]
  },
  {
   "cell_type": "markdown",
   "metadata": {},
   "source": [
    "Because $f$ is a quadratic function in two variables, we will find the solution in two steps (according to Theorem 10.1); $\\mathbf{x}^{*} = \\mathbf{x}^{(2)}$"
   ]
  },
  {
   "cell_type": "markdown",
   "metadata": {},
   "source": [
    "---\n",
    "### Conjugate Gradient Algorithm"
   ]
  },
  {
   "cell_type": "markdown",
   "metadata": {},
   "source": [
    "The conjugate gradient algorithm does not use prespecified conjugate directions, but instead computes the directions as the algorithm progresses."
   ]
  },
  {
   "cell_type": "markdown",
   "metadata": {},
   "source": [
    "<img src=\"figures/lecture-10/conjugate-gradient-algorithm-steps.png\" width=\"600\" />\n",
    "\n"
   ]
  },
  {
   "cell_type": "markdown",
   "metadata": {},
   "source": [
    "---\n",
    "### Example 10.3\n",
    "<img src=\"figures/lecture-10/example-10.3.png\" width=\"600\" />\n"
   ]
  },
  {
   "cell_type": "code",
   "execution_count": 4,
   "metadata": {},
   "outputs": [
    {
     "data": {
      "text/latex": [
       "$$\\left[\\begin{matrix}\\frac{3 x_{1}^{2}}{2} + x_{1} x_{3} - 3 x_{1} + 2 x_{2}^{2} + 2 x_{2} x_{3} + \\frac{3 x_{3}^{2}}{2} - x_{3}\\end{matrix}\\right]$$"
      ],
      "text/plain": [
       "⎡    2                                        2     ⎤\n",
       "⎢3⋅x₁                       2             3⋅x₃      ⎥\n",
       "⎢───── + x₁⋅x₃ - 3⋅x₁ + 2⋅x₂  + 2⋅x₂⋅x₃ + ───── - x₃⎥\n",
       "⎣  2                                        2       ⎦"
      ]
     },
     "metadata": {},
     "output_type": "display_data"
    },
    {
     "data": {
      "text/plain": []
     },
     "execution_count": 4,
     "metadata": {},
     "output_type": "execute_result"
    }
   ],
   "source": [
    "Q = [[3, 0, 1],\n",
    "     [0, 4, 2],\n",
    "     [1, 2, 3]]\n",
    "b = [3, 0, 1]\n",
    "\n",
    "# Verify the Q is \n",
    "f_ex103 = Func.create_quadratic_half(Q, b)\n",
    "f_ex103"
   ]
  },
  {
   "cell_type": "code",
   "execution_count": 5,
   "metadata": {},
   "outputs": [
    {
     "name": "stdout",
     "output_type": "stream",
     "text": [
      "Stopping since g(k) = [ 0.0000,  0.0000,  0.0000]\n"
     ]
    },
    {
     "data": {
      "text/html": [
       "<table><thead><tr><th style=\"text-align:center;\">$k$</th><th style=\"text-align:center;\">$d^{(k)}$</th><th style=\"text-align:center;\">$\\alpha_k$</th><th style=\"text-align:center;\">$x^{(k+1)}$</th><th style=\"text-align:center;\">$g^{(k+1)}$</th><th style=\"text-align:center;\">$\\beta_k$</th></tr></thead><tbody><tr><td style=\"text-align:left;\">$0$</td><td style=\"text-align:left;\">\\begin{bmatrix}3.00000 \\\\ 0.00000 \\\\ 1.00000 \\\\ \\end{bmatrix}&nbsp;</td><td style=\"text-align:left;\">$0.277778$</td><td style=\"text-align:left;\">\\begin{bmatrix}0.83333 \\\\ 0.00000 \\\\ 0.27778 \\\\ \\end{bmatrix}&nbsp;</td><td style=\"text-align:left;\">\\begin{bmatrix}-0.22222 \\\\ 0.55556 \\\\ 0.66667 \\\\ \\end{bmatrix}&nbsp;</td><td style=\"text-align:left;\">$0.080247$</td></tr><tr><td style=\"text-align:left;\">$1$</td><td style=\"text-align:left;\">\\begin{bmatrix}0.46296 \\\\ -0.55556 \\\\ -0.58642 \\\\ \\end{bmatrix}&nbsp;</td><td style=\"text-align:left;\">$0.218692$</td><td style=\"text-align:left;\">\\begin{bmatrix}0.93458 \\\\ -0.12150 \\\\ 0.14953 \\\\ \\end{bmatrix}&nbsp;</td><td style=\"text-align:left;\">\\begin{bmatrix}-0.04673 \\\\ -0.18692 \\\\ 0.14019 \\\\ \\end{bmatrix}&nbsp;</td><td style=\"text-align:left;\">$0.070749$</td></tr><tr><td style=\"text-align:left;\">$2$</td><td style=\"text-align:left;\">\\begin{bmatrix}0.07948 \\\\ 0.14761 \\\\ -0.18168 \\\\ \\end{bmatrix}&nbsp;</td><td style=\"text-align:left;\">$0.823077$</td><td style=\"text-align:left;\">\\begin{bmatrix}1.00000 \\\\ 0.00000 \\\\ 0.00000 \\\\ \\end{bmatrix}&nbsp;</td><td style=\"text-align:left;\">\\begin{bmatrix}0.00000 \\\\ 0.00000 \\\\ 0.00000 \\\\ \\end{bmatrix}&nbsp;</td><td style=\"text-align:left;\">$0.000000$</td></tr></tbody></table>"
      ],
      "text/plain": [
       "<IPython.core.display.HTML object>"
      ]
     },
     "metadata": {},
     "output_type": "display_data"
    }
   ],
   "source": [
    "cg = ConjugateGradient(f_ex103, Q)\n",
    "x_star = cg.find_minimum((0, 0, 0))"
   ]
  },
  {
   "cell_type": "code",
   "execution_count": 6,
   "metadata": {},
   "outputs": [
    {
     "data": {
      "text/latex": [
       "$$\\left[\\begin{matrix}1\\\\0\\\\0\\end{matrix}\\right]$$"
      ],
      "text/plain": [
       "⎡1⎤\n",
       "⎢ ⎥\n",
       "⎢0⎥\n",
       "⎢ ⎥\n",
       "⎣0⎦"
      ]
     },
     "execution_count": 6,
     "metadata": {},
     "output_type": "execute_result"
    }
   ],
   "source": [
    "x_star"
   ]
  },
  {
   "cell_type": "markdown",
   "metadata": {},
   "source": [
    "---\n",
    "### Questions in Class"
   ]
  },
  {
   "cell_type": "markdown",
   "metadata": {},
   "source": [
    "Why not solve the functions analytically? Because when we get large problems, then we need to store large set of data. Performing matrix operations may take long time."
   ]
  }
 ],
 "metadata": {
  "kernelspec": {
   "display_name": "Python 3",
   "language": "python",
   "name": "python3"
  },
  "language_info": {
   "codemirror_mode": {
    "name": "ipython",
    "version": 3
   },
   "file_extension": ".py",
   "mimetype": "text/x-python",
   "name": "python",
   "nbconvert_exporter": "python",
   "pygments_lexer": "ipython3",
   "version": "3.6.6"
  }
 },
 "nbformat": 4,
 "nbformat_minor": 2
}
