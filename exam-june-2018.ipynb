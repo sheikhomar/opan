{
 "cells": [
  {
   "cell_type": "code",
   "execution_count": 1,
   "metadata": {},
   "outputs": [
    {
     "data": {
      "text/html": [
       "<style type=\"text/css\">.summary {\n",
       "  border: solid 1px green !important;\n",
       "  background: #cdffd8 !important;\n",
       "  padding: 10px !important;\n",
       "  border-radius: 2px !important;\n",
       "}\n",
       "\n",
       ".insight {\n",
       "  border: solid 1px green !important;\n",
       "  background: #cdffd8 !important;\n",
       "  padding: 10px !important;\n",
       "  border-radius: 2px !important;\n",
       "}\n",
       "\n",
       ".sidenote {\n",
       "  border: solid 1px green !important;\n",
       "  background: #cdffd8 !important;\n",
       "  padding: 10px !important;\n",
       "  border-radius: 2px !important;\n",
       "}\n",
       "\n",
       ".warning {\n",
       "  border: solid 1px #8a6d3b !important;\n",
       "  background: #fcf8e3 !important;\n",
       "  padding: 10px !important;\n",
       "  border-radius: 2px !important;\n",
       "}\n",
       "\n",
       ".green {\n",
       "  color: #006600 !important;\n",
       "}\n",
       "\n",
       ".red {\n",
       "  color: #cc0000 !important;\n",
       "}\n",
       "\n",
       ".simplex-tableaux {\n",
       "    font-size: 13pt !important;\n",
       "}\n",
       "\n",
       ".last-row td {\n",
       "    border-top: solid 1px Black !important;\n",
       "}\n",
       "\n",
       ".smallest-value {\n",
       "    background-color: Green !important;\n",
       "    color: White !important;\n",
       "    font-weight: bold !important;\n",
       "}</style>Stylesheet \"styles.css\" loaded."
      ],
      "text/plain": [
       "<IPython.core.display.HTML object>"
      ]
     },
     "metadata": {},
     "output_type": "display_data"
    }
   ],
   "source": [
    "import numpy as np\n",
    "import matplotlib.pyplot as plt\n",
    "import sympy as sy\n",
    "import utils as utils\n",
    "from fractions import Fraction\n",
    "from func import Func\n",
    "import func\n",
    "\n",
    "from IPython.display import display, HTML\n",
    "\n",
    "# Inline plotting\n",
    "%matplotlib inline\n",
    "\n",
    "# Make sympy print pretty math expressions\n",
    "sy.init_printing()\n",
    "\n",
    "utils.load_custom_styles()"
   ]
  },
  {
   "cell_type": "markdown",
   "metadata": {},
   "source": [
    "---\n",
    "# Exercise 1\n",
    "\n",
    "\n",
    "\n",
    "<img src=\"figures/exam-jun-2018/ex1.png\" width=\"800\" />\n",
    "\n"
   ]
  },
  {
   "cell_type": "markdown",
   "metadata": {},
   "source": [
    "---\n",
    "## Exercise 1 a)\n",
    "\n",
    "<img src=\"figures/exam-jun-2018/ex1a.png\" width=\"800\" />\n",
    "\n",
    "\n",
    "\n"
   ]
  },
  {
   "cell_type": "markdown",
   "metadata": {},
   "source": [
    "<img src=\"figures/exam-jun-2018/sketch.jpg\" width=\"500\" />\n",
    "\n",
    "\n",
    "\n",
    "\n",
    "\n",
    "\n",
    "\n",
    "\n",
    "\n",
    "\n",
    "\n",
    "\n"
   ]
  },
  {
   "cell_type": "markdown",
   "metadata": {},
   "source": [
    "---\n",
    "## Exercise 1 b)\n",
    "\n",
    "<img src=\"figures/exam-jun-2018/ex1b.png\" width=\"800\" />\n",
    "\n",
    "\n",
    "\n"
   ]
  },
  {
   "cell_type": "markdown",
   "metadata": {},
   "source": [
    "Using following procedure:\n",
    "\n",
    "**Step 1:** Convert inequalities to equalites using slack variables\n",
    "\n",
    "**Step 2:** Convert objective function to an equally.\n",
    "\n",
    "**Step 3:** Construct the initial simplex tableaux\n",
    "\n",
    "\n",
    "<img src=\"figures/exam-jun-2018/initial-tableaux.jpg\" width=\"700\" />\n",
    "\n",
    "\n",
    "\n",
    "\n",
    "\n",
    "**Step 4:** Find the pivot column by looking at the smallest value at the bottom row. \n",
    "\n",
    "**Step 5:** Find the pivot row by pick the smallest of the ratios: $b_i / a_{i1}$\n",
    "\n",
    "**Step 6:** Make the pivot column to a basis column using elementary row operations.\n",
    "\n",
    "Following row operations are needed:\n",
    "\n",
    "- $\\frac{1}{2} R_3  \\to R_3$\n",
    "- $R_1  - R_3 \\to R_1$\n",
    "- $R_2  - 6 R_3 \\to R_2$\n",
    "- $R_4  + 6 R_3 \\to R_4$\n"
   ]
  },
  {
   "cell_type": "code",
   "execution_count": 2,
   "metadata": {},
   "outputs": [
    {
     "name": "stdout",
     "output_type": "stream",
     "text": [
      "   x_1   x_2   s_1   s_2   s_3    b    \n",
      "|   1     4     1     0     0    16   | s_1\n",
      "|   6     4     0     1     0    30   | s_2\n",
      "|   2    -5     0     0     1     6   | s_3\n",
      "|  -6    -5     0     0     0     0   |\n",
      "Current solution: {'x_1': 0, 'x_2': 0, 's_1': Fraction(16, 1), 's_2': Fraction(30, 1), 's_3': Fraction(6, 1), 'z': 0}\n",
      "\n",
      "   x_1   x_2   s_1   s_2   s_3    b    \n",
      "|   1     4     1     0     0    16   | s_1\n",
      "|   6     4     0     1     0    30   | s_2\n",
      "|   2    -5     0     0     1     6   | s_3\n",
      "|  -6    -5     0     0     0     0   |\n",
      "\n",
      "There are negative elements in the bottom row, so the current solution is not optimal. Thus, pivot to improve the current solution. The entering variable is x_1 and the departing variable is s_3.\n",
      "\n",
      "\n",
      "Perform elementary row operations until the pivot is one and all other elements in the entering column are zero.\n",
      "\n",
      "   x_1   x_2   s_1   s_2   s_3    b    \n",
      "|   0   13/2    1     0   -1/2   13   | s_1\n",
      "|   0    19     0     1    -3    12   | s_2\n",
      "|   1   -5/2    0     0    1/2    3   | x_1\n",
      "|   0    -20    0     0     3    18   |\n",
      "Current solution: {'x_1': Fraction(3, 1), 'x_2': 0, 's_1': Fraction(13, 1), 's_2': Fraction(12, 1), 's_3': 0, 'z': Fraction(18, 1)}\n",
      "\n",
      "   x_1   x_2   s_1   s_2   s_3    b    \n",
      "|   0   13/2    1     0   -1/2   13   | s_1\n",
      "|   0    19     0     1    -3    12   | s_2\n",
      "|   1   -5/2    0     0    1/2    3   | x_1\n",
      "|   0    -20    0     0     3    18   |\n",
      "\n",
      "There are negative elements in the bottom row, so the current solution is not optimal. Thus, pivot to improve the current solution. The entering variable is x_2 and the departing variable is s_2.\n",
      "\n",
      "\n",
      "Perform elementary row operations until the pivot is one and all other elements in the entering column are zero.\n",
      "\n",
      "   x_1   x_2   s_1   s_2   s_3    b    \n",
      "|   0     0     1   -13/38 10/19 169/19 | s_1\n",
      "|   0     1     0   1/19  -3/19 12/19 | x_2\n",
      "|   1     0     0   5/38  2/19  87/19 | x_1\n",
      "|   0     0     0   20/19 -3/19 582/19 |\n",
      "Current solution: {'x_1': Fraction(87, 19), 'x_2': Fraction(12, 19), 's_1': Fraction(169, 19), 's_2': 0, 's_3': 0, 'z': Fraction(582, 19)}\n",
      "\n",
      "   x_1   x_2   s_1   s_2   s_3    b    \n",
      "|   0     0     1   -13/38 10/19 169/19 | s_1\n",
      "|   0     1     0   1/19  -3/19 12/19 | x_2\n",
      "|   1     0     0   5/38  2/19  87/19 | x_1\n",
      "|   0     0     0   20/19 -3/19 582/19 |\n",
      "\n",
      "There are negative elements in the bottom row, so the current solution is not optimal. Thus, pivot to improve the current solution. The entering variable is s_3 and the departing variable is s_1.\n",
      "\n",
      "\n",
      "Perform elementary row operations until the pivot is one and all other elements in the entering column are zero.\n",
      "\n",
      "   x_1   x_2   s_1   s_2   s_3    b    \n",
      "|   0     0   19/10 -13/20   1   169/10 | s_3\n",
      "|   0     1   3/10  -1/20   0   33/10 | x_2\n",
      "|   1     0   -1/5   1/5    0   14/5  | x_1\n",
      "|   0     0   3/10  19/20   0   333/10 |\n",
      "Current solution: {'x_1': Fraction(14, 5), 'x_2': Fraction(33, 10), 's_1': 0, 's_2': 0, 's_3': Fraction(169, 10), 'z': Fraction(333, 10)}\n",
      "\n",
      "That's all folks!\n"
     ]
    }
   ],
   "source": [
    "from simplex import SimplexSolver \n",
    "A = [[1, 4],\n",
    "     [6, 4],\n",
    "     [2, -5]]\n",
    "b = [16, 30, 6]\n",
    "c = [6, 5]\n",
    "solver = SimplexSolver()\n",
    "res = solver.run_simplex(A, b, c, prob='max', enable_msg=True, latex_path=None)"
   ]
  },
  {
   "cell_type": "markdown",
   "metadata": {},
   "source": [
    "---\n",
    "## Exercise 1c)\n",
    "\n",
    "<img src=\"figures/exam-jun-2018/ex1c.png\" width=\"800\" />\n",
    "\n",
    "\n",
    "\n"
   ]
  },
  {
   "cell_type": "markdown",
   "metadata": {},
   "source": [
    "We know that at least one of the extreme points or corners of the feasible area corresponds to an optimal solution:\n",
    "\n",
    "<img src=\"figures/exam-jan-2018/theorem-6.png\" width=\"800\" />\n",
    "\n",
    "\n",
    "\n"
   ]
  },
  {
   "cell_type": "markdown",
   "metadata": {},
   "source": [
    "Therefore, we only need to evaluate the corner points that have integer entries. There are only three such points: \n",
    "- $f(0,0)= 6 \\cdot 0 + 5 \\cdot 0 = 0$\n",
    "- $f(0,4)= 6 \\cdot 0 + 5 \\cdot 4 = 20$\n",
    "- $f(0,4)= 6 \\cdot 0 + 5 \\cdot 3 = 15$\n",
    "\n",
    "Thus, $(0,4)$ is the maximum integer point."
   ]
  },
  {
   "cell_type": "markdown",
   "metadata": {},
   "source": [
    "---\n",
    "## Exercise 2 a)\n",
    "\n",
    "<img src=\"figures/exam-jun-2018/ex2a.png\" width=\"800\" />\n",
    "\n",
    "\n",
    "\n"
   ]
  },
  {
   "cell_type": "markdown",
   "metadata": {},
   "source": [
    "The gradient of $f$:\n",
    "$$\n",
    "\\nabla f =  \\begin{bmatrix} \\frac{\\partial f}{\\partial x_1} \\\\ \\frac{\\partial f}{\\partial x_2} \\\\ \\end{bmatrix}= \\begin{bmatrix} x_2 - 1 \\\\ x_1 \\\\  \\end{bmatrix}\n",
    "$$"
   ]
  },
  {
   "cell_type": "markdown",
   "metadata": {},
   "source": [
    "The gradient of $f$ gives the partial derivatives in each dimensions. The partial derivative $\\frac{\\partial f}{\\partial x_1}$ gives us the slope of $f$ in the positive $x_1$ direction and $\\frac{\\partial f}{\\partial x_2}$ gives us the slope of $f$ in the positive $x_2$ direction.\n",
    "\n",
    "Instead of fixing the direction, we can generalise the partial derivatives to compute the slope in any direction that we want. Like the partial derivative, we can define the directional derivative as follows:\n",
    "\n",
    "\\begin{align*}\n",
    "D_{\\mathbf{d}} f(\\mathbf{x}) = \\lim_{h \\to 0} \\frac{f(\\mathbf{x} + h \\mathbf{d}) - f(\\mathbf{x})}{h}\n",
    "\\end{align*}\n",
    "\n",
    "This means that we can dot the gradient with the direction vector $\\mathbf{d}$ to find the directional derivative:\n",
    "\n",
    "The directional derivative:\n",
    "$$\n",
    "\\frac{\\partial f(\\mathbf{x})}{\\partial \\mathbf{d}}  = \\nabla f(\\mathbf{x})^T \\mathbf{d} = [x_2 -1, x_1] \\begin{bmatrix} 1 \\\\ 1 \\\\ \\end{bmatrix} = x_1 + x_2 - 1\n",
    "$$\n"
   ]
  },
  {
   "cell_type": "code",
   "execution_count": 13,
   "metadata": {},
   "outputs": [
    {
     "data": {
      "text/latex": [
       "$$\\left[\\begin{matrix}x_{2} - 1\\\\x_{1}\\end{matrix}\\right]$$"
      ],
      "text/plain": [
       "⎡x₂ - 1⎤\n",
       "⎢      ⎥\n",
       "⎣  x₁  ⎦"
      ]
     },
     "execution_count": 13,
     "metadata": {},
     "output_type": "execute_result"
    }
   ],
   "source": [
    "x1, x2 = sy.symbols('x1, x2')\n",
    "f = sy.Matrix([x1*x2 - x1])\n",
    "d = f.jacobian([x1, x2]).T\n",
    "d"
   ]
  },
  {
   "cell_type": "code",
   "execution_count": 12,
   "metadata": {},
   "outputs": [
    {
     "data": {
      "text/latex": [
       "$$\\left[\\begin{matrix}x_{1} + x_{2} - 1\\end{matrix}\\right]$$"
      ],
      "text/plain": [
       "[x₁ + x₂ - 1]"
      ]
     },
     "execution_count": 12,
     "metadata": {},
     "output_type": "execute_result"
    }
   ],
   "source": [
    "d.T * sy.Matrix([[1], [1]])"
   ]
  },
  {
   "cell_type": "markdown",
   "metadata": {},
   "source": [
    "---\n",
    "## Exercise 2 b)\n",
    "\n",
    "<img src=\"figures/exam-jun-2018/ex2b.png\" width=\"800\" />\n",
    "\n",
    "\n",
    "\n"
   ]
  },
  {
   "cell_type": "markdown",
   "metadata": {},
   "source": [
    "Since it is an optimisation problem with equality constraints, we can use the Lagrangian method.\n",
    "\n",
    "The Lagrangian method is given as follows:\n",
    "1. Define the Lagrangian function by incoporating the constraint into the objective function\n",
    "$$\n",
    "L(\\mathbf{x}, \\lambda) = f(\\mathbf{x}) - \\lambda ( h(\\mathbf{x}) - c  )\n",
    "$$\n",
    "where $\\lambda$ is the Lagrangian multiplier associated with the contraint. When the contraint holds i.e., when $h(\\mathbf{x})=c$ then $L(\\mathbf{x}, \\lambda)=f(\\mathbf{x})$\n",
    "2. Since $L(\\mathbf{x}, \\lambda)$ is an unconstraint objective function, we can optimise it by finding its FONC i.e., taking the derivative and setting it zero.\n",
    "3. Now, we get a system of linear equations. Solving it will yield the points where the objective function is maximised or minimised."
   ]
  },
  {
   "cell_type": "code",
   "execution_count": 14,
   "metadata": {},
   "outputs": [
    {
     "data": {
      "text/latex": [
       "$$\\left[\\begin{matrix}x_{1} x_{2} - x_{1}\\end{matrix}\\right]$$"
      ],
      "text/plain": [
       "[x₁⋅x₂ - x₁]"
      ]
     },
     "metadata": {},
     "output_type": "display_data"
    },
    {
     "data": {
      "text/plain": []
     },
     "execution_count": 14,
     "metadata": {},
     "output_type": "execute_result"
    }
   ],
   "source": [
    "x1, x2 = sy.symbols('x1, x2')\n",
    "f = x1*x2 - x1\n",
    "h = x1**2 + x2**2 - 4\n",
    "F = Func(f, (x1, x2), constraints=[h])\n",
    "F"
   ]
  },
  {
   "cell_type": "code",
   "execution_count": 41,
   "metadata": {},
   "outputs": [],
   "source": [
    "points, lambdas = F.solve_lagrangian()"
   ]
  },
  {
   "cell_type": "code",
   "execution_count": 40,
   "metadata": {},
   "outputs": [
    {
     "name": "stdout",
     "output_type": "stream",
     "text": [
      "Evaluting f[1.0756066517006793, 1.6861406616345072] = 0.738017459656381\n",
      "Evaluting f[-1.6103013167780909, -1.1861406616345072] = 3.52034518609217\n",
      "Evaluting f[1.6103013167780909, -1.1861406616345072] = -3.52034518609217\n",
      "Evaluting f[-1.0756066517006793, 1.6861406616345072] = -0.738017459656381\n"
     ]
    }
   ],
   "source": [
    "dec_points = []\n",
    "for point in points:\n",
    "    l = [float(i) for i in list(point)]\n",
    "    dec_points.append(l)\n",
    "F.evalf(dec_points)"
   ]
  },
  {
   "cell_type": "markdown",
   "metadata": {},
   "source": [
    "Maximum is $[-1.6103013167780909, -1.1861406616345072]^T$ and minimum is $[1.6103013167780909, -1.1861406616345072]^T$."
   ]
  },
  {
   "cell_type": "markdown",
   "metadata": {},
   "source": [
    "---\n",
    "## Exercise 2 c)\n",
    "\n",
    "<img src=\"figures/exam-jun-2018/ex2c.png\" width=\"800\" />\n",
    "\n",
    "\n",
    "\n"
   ]
  },
  {
   "cell_type": "markdown",
   "metadata": {},
   "source": [
    "The new constraint $D$ turns the problem into a canonical linear programming problem. For this kind of problems, we can use Theorem 6:\n",
    "\n",
    "<img src=\"figures/exam-jan-2018/theorem-6.png\" width=\"800\" />\n",
    "\n",
    "Thus, the maximum of $f$ lies on the circle which we found in b).\n",
    "\n",
    "\n",
    "\n",
    "\n"
   ]
  },
  {
   "cell_type": "markdown",
   "metadata": {},
   "source": [
    "---\n",
    "# Exercise 3\n",
    "\n",
    "<img src=\"figures/exam-jun-2018/ex3.png\" width=\"800\" />\n",
    "\n",
    "\n",
    "\n"
   ]
  },
  {
   "cell_type": "markdown",
   "metadata": {},
   "source": [
    "---\n",
    "## Exercise 3 a)\n",
    "\n",
    "<img src=\"figures/exam-jun-2018/ex3a.png\" width=\"800\" />\n",
    "\n",
    "\n",
    "\n"
   ]
  },
  {
   "cell_type": "markdown",
   "metadata": {},
   "source": [
    "No."
   ]
  },
  {
   "cell_type": "markdown",
   "metadata": {},
   "source": [
    "---\n",
    "## Exercise 3 b)\n",
    "\n",
    "<img src=\"figures/exam-jun-2018/ex3b.png\" width=\"800\" />\n",
    "\n",
    "\n",
    "\n"
   ]
  },
  {
   "cell_type": "markdown",
   "metadata": {},
   "source": [
    "Continuous optimisation is when the input to our objective function is continuous."
   ]
  },
  {
   "cell_type": "markdown",
   "metadata": {},
   "source": [
    "---\n",
    "## Exercise 3 c)\n",
    "\n",
    "<img src=\"figures/exam-jun-2018/ex3c.png\" width=\"800\" />\n",
    "\n",
    "\n",
    "\n"
   ]
  },
  {
   "cell_type": "markdown",
   "metadata": {},
   "source": [
    "Stochastic methods such as genetic algorithm employ randomness in the search for an optimum."
   ]
  },
  {
   "cell_type": "markdown",
   "metadata": {},
   "source": [
    "---\n",
    "## Exercise 3 d)\n",
    "\n",
    "<img src=\"figures/exam-jun-2018/ex3d.png\" width=\"800\" />\n",
    "\n",
    "\n"
   ]
  },
  {
   "cell_type": "markdown",
   "metadata": {},
   "source": [
    "It means that these methods use a set of candidate solutions to find the best solution. One example of such an optimisation method is particle swarm."
   ]
  },
  {
   "cell_type": "markdown",
   "metadata": {},
   "source": [
    "---\n",
    "## Exercise 3 e)\n",
    "\n",
    "<img src=\"figures/exam-jun-2018/ex3e.png\" width=\"800\" />\n",
    "\n",
    "\n",
    "\n"
   ]
  },
  {
   "cell_type": "markdown",
   "metadata": {},
   "source": [
    "\n",
    "### Exercise 3 e. i)\n",
    "\n",
    "<img src=\"figures/exam-jun-2018/ex3i.png\" width=\"800\" />\n",
    "\n",
    "\n",
    "\n"
   ]
  },
  {
   "cell_type": "markdown",
   "metadata": {},
   "source": [
    "A particle can be represented as a vector with the following information:\n",
    "- position, two values $(x_p,y_o)$\n",
    "- velocity, two values $(x_v,y_v)$\n",
    "- fitness value, evaluate the function at the current position: $f(x_p, y_o)$\n",
    "- best position to keep track of the particle's personal best"
   ]
  },
  {
   "cell_type": "markdown",
   "metadata": {},
   "source": [
    "---\n",
    "## Exercise 3 ii)\n",
    "\n",
    "<img src=\"figures/exam-jun-2018/ex3j.png\" width=\"800\" />\n",
    "\n",
    "\n",
    "\n"
   ]
  },
  {
   "cell_type": "markdown",
   "metadata": {},
   "source": [
    "It refers to the velocity for particle $i$."
   ]
  },
  {
   "cell_type": "markdown",
   "metadata": {},
   "source": [
    "---\n",
    "## Exercise 3 iii)\n",
    "\n",
    "<img src=\"figures/exam-jun-2018/ex3k.png\" width=\"800\" />\n",
    "\n",
    "\n",
    "\n"
   ]
  },
  {
   "cell_type": "markdown",
   "metadata": {},
   "source": [
    "It refers to iteration of the iterative algorithm."
   ]
  },
  {
   "cell_type": "markdown",
   "metadata": {},
   "source": [
    "---\n",
    "## Exercise 3 iv)\n",
    "\n",
    "<img src=\"figures/exam-jun-2018/ex3l.png\" width=\"800\" />\n",
    "\n",
    "\n",
    "\n"
   ]
  },
  {
   "cell_type": "markdown",
   "metadata": {},
   "source": [
    "- Step 1: Compute the fitness of each particle\n",
    "- Step 2: Update the best position of each particle and the best global particle\n",
    "- Step 3: Update each individual particle's velocity and position"
   ]
  },
  {
   "cell_type": "markdown",
   "metadata": {},
   "source": [
    "---\n",
    "# Exercise 4, Question 1\n",
    "\n",
    "\n",
    "<img src=\"figures/exam-jun-2018/ex4.png\" width=\"800\" />\n",
    "\n",
    "\n",
    "\n"
   ]
  },
  {
   "cell_type": "markdown",
   "metadata": {},
   "source": [
    "---\n",
    "## Exercise 4, Question 1 a)\n",
    "\n",
    "\n",
    "<img src=\"figures/exam-jun-2018/ex4.1a.png\" width=\"800\" />\n",
    "\n",
    "\n",
    "\n"
   ]
  },
  {
   "cell_type": "markdown",
   "metadata": {},
   "source": [
    "We can use Baye's decision rule to classify the test samples:\n",
    "\n",
    "- Classify $x$ as $c_1$ if $P(c_1 \\mid x) > P(c_2 \\mid x)$; otherwise classify $x$ as $c_2$"
   ]
  },
  {
   "cell_type": "markdown",
   "metadata": {},
   "source": [
    "Using Bayes' formula, we have:\n",
    "\n",
    "$$\n",
    "P(c_k \\mid \\mathbf{x}) = \\frac{p(\\mathbf{x} \\mid c_k) P(c_k)}{p(\\mathbf{x})}\n",
    "$$\n",
    "where\n",
    "$$\n",
    "p(\\mathbf{x}) = \\sum_{k=1}^K p(\\mathbf{x} \\mid c_k) P(c_k)\n",
    "$$"
   ]
  },
  {
   "cell_type": "markdown",
   "metadata": {},
   "source": [
    "Since $p(\\mathbf{x})$ is the same for when computing $P(c_k\\mid \\mathbf{x})$, it is not necessary to compute it when we want to use the conditional probability to classify new samples. Therefore, the decision rule becomes:\n",
    "\n",
    "- Classify $x$ as $c_1$ if $p(x \\mid c_1)P(c_1) \\geq p(x \\mid c_2) P (c_2)$; otherwise classify $x$ as $c_2$"
   ]
  },
  {
   "cell_type": "markdown",
   "metadata": {},
   "source": [
    "The prior probabilities $P(c_1)$ and $P(c_2)$ are given:\n",
    "- $P(c_1) = 100/300=1/3$\n",
    "- $P(c_2) = 200/300=2/3$\n"
   ]
  },
  {
   "cell_type": "markdown",
   "metadata": {},
   "source": [
    "We can now classify:"
   ]
  },
  {
   "cell_type": "markdown",
   "metadata": {},
   "source": [
    "$x_1$ is classified as $c_1$ because $p(x = 3 \\mid c_1) P(c_1) > p(x = 3 \\mid c_2) P(c_2)$:\n",
    "$$\n",
    "p(x = 3 \\mid c_1) P(c_1) = \\frac{1}{10} \\cdot \\frac{1}{3} = \\frac{1}{30} \\\\\n",
    "p(x = 3 \\mid c_2) P(c_2) = 0 \\cdot \\frac{2}{3} = 0\n",
    "$$"
   ]
  },
  {
   "cell_type": "markdown",
   "metadata": {},
   "source": [
    "$x_2$ is classified as $c_1$ because $p(x = 7 \\mid c_1) P(c_1) = p(x = 7 \\mid c_2) P(c_2)$:\n",
    "$$\n",
    "p(x = 7 \\mid c_1) P(c_1) = \\frac{1}{10} \\cdot \\frac{1}{3} = \\frac{1}{30}\\\\\n",
    "p(x = 7 \\mid c_2) P(c_2) = \\frac{1}{20} \\cdot \\frac{2}{3} = \\frac{1}{30}\n",
    "$$"
   ]
  },
  {
   "cell_type": "markdown",
   "metadata": {},
   "source": [
    "$x_3$ is classified as $c_2$ because $p(x = 8 \\mid c_1) P(c_1) < p(x = 8 \\mid c_2) P(c_2)$:\n",
    "$$\n",
    "p(x = 8 \\mid c_1) P(c_1) = \\frac{1}{20} \\cdot \\frac{1}{3} = \\frac{1}{60}\\\\\n",
    "p(x = 8 \\mid c_2) P(c_2) = \\frac{1}{10} \\cdot \\frac{2}{3} = \\frac{1}{15}\n",
    "$$"
   ]
  },
  {
   "cell_type": "markdown",
   "metadata": {},
   "source": [
    "$x_4$ is classified as $c_2$ because $p(x = 9 \\mid c_1) P(c_1) < p(x = 9 \\mid c_2) P(c_2)$:\n",
    "$$\n",
    "p(x = 9 \\mid c_1) P(c_1) = 0 \\cdot \\frac{1}{3} = 0\\\\\n",
    "p(x = 9 \\mid c_2) P(c_2) = \\frac{1}{5} \\cdot \\frac{2}{3} = \\frac{2}{15}\n",
    "$$"
   ]
  },
  {
   "cell_type": "markdown",
   "metadata": {},
   "source": [
    "---\n",
    "## Exercise 4, Question 1 b)\n",
    "\n",
    "\n",
    "<img src=\"figures/exam-jun-2018/ex4.1b.png\" width=\"800\" />\n",
    "\n",
    "\n",
    "\n"
   ]
  },
  {
   "cell_type": "markdown",
   "metadata": {},
   "source": [
    "The risk of taking action $\\alpha_i$ given the observation $x$ is given as:\n",
    "\n",
    "$$\n",
    "R(\\alpha_i \\mid x) = \\lambda(\\alpha_i \\mid c_1) P(c_1 \\mid x) + \\lambda(\\alpha_i \\mid c_2) P(c_2 \\mid x)\n",
    "$$"
   ]
  },
  {
   "cell_type": "markdown",
   "metadata": {},
   "source": [
    "Classify $x_1$ as $c_1$\n",
    "\\begin{align}\n",
    "R(\\alpha_1 \\mid x = 3) &= 0   + 0.3 \\cdot 0 = 0 \\\\\n",
    "R(\\alpha_2 \\mid x = 3) &= 0.2 \\cdot \\frac{1}{30} + 0 = \\frac{7}{30} \\\\\n",
    "\\end{align}"
   ]
  },
  {
   "cell_type": "markdown",
   "metadata": {},
   "source": [
    "Classify $x_2$ as $c_2$\n",
    "\\begin{align}\n",
    "R(\\alpha_1 \\mid x = 7) &= 0   + 0.3 \\cdot \\frac{1}{30} = \\frac{1}{100}\\\\\n",
    "R(\\alpha_2 \\mid x = 7) &= 0.2 \\cdot \\frac{1}{30} + 0 = \\frac{1}{150} \\\\\n",
    "\\end{align}"
   ]
  },
  {
   "cell_type": "markdown",
   "metadata": {},
   "source": [
    "Classify $x_3$ as $c_2$\n",
    "\\begin{align}\n",
    "R(\\alpha_1 \\mid x = 8) &= 0   + 0.3 \\cdot \\frac{1}{15} = \\frac{1}{50}\\\\\n",
    "R(\\alpha_2 \\mid x = 8) &= 0.2 \\cdot \\frac{1}{60} + 0 = \\frac{1}{300} \\\\\n",
    "\\end{align}"
   ]
  },
  {
   "cell_type": "markdown",
   "metadata": {},
   "source": [
    "Classify $x_4$ as $c_2$\n",
    "\\begin{align}\n",
    "R(\\alpha_1 \\mid x = 9) &= 0   + 0.3 \\cdot \\frac{2}{15} = \\frac{1}{15}\\\\\n",
    "R(\\alpha_2 \\mid x = 9) &= 0.2 \\cdot 0 + 0 = 0 \\\\\n",
    "\\end{align}"
   ]
  },
  {
   "cell_type": "markdown",
   "metadata": {},
   "source": [
    "---\n",
    "## Exercise 4, Question 2\n",
    "\n",
    "\n",
    "<img src=\"figures/exam-jun-2018/ex4.2.png\" width=\"800\" />\n",
    "\n",
    "\n",
    "\n"
   ]
  },
  {
   "cell_type": "markdown",
   "metadata": {},
   "source": [
    "---\n",
    "## Exercise 4, Question 2 a)\n",
    "\n",
    "\n",
    "<img src=\"figures/exam-jun-2018/ex4.2a.png\" width=\"800\" />\n",
    "\n",
    "\n",
    "\n"
   ]
  },
  {
   "cell_type": "markdown",
   "metadata": {},
   "source": [
    "In order to classify the test samples using a linear classifier, we can augment the data representations using a mapping that transforms the original samples to another feature space where the samples become linearly separable."
   ]
  },
  {
   "cell_type": "markdown",
   "metadata": {},
   "source": [
    "---\n",
    "## Exercise 4, Question 2 b)\n",
    "\n",
    "\n",
    "<img src=\"figures/exam-jun-2018/ex4.2b.png\" width=\"800\" />\n",
    "\n",
    "\n",
    "\n"
   ]
  },
  {
   "cell_type": "markdown",
   "metadata": {},
   "source": [
    "We can use the second order polynomial kernel function:\n",
    "\n",
    "$$\n",
    "\\phi(\\mathbf{x}) = \n",
    "\\begin{bmatrix}\n",
    "x_1^2 \\\\\n",
    "\\sqrt{2} x_1 x_2 \\\\\n",
    "x_2^2 \n",
    "\\end{bmatrix}\n",
    "$$"
   ]
  },
  {
   "cell_type": "markdown",
   "metadata": {},
   "source": [
    "---\n",
    "## Exercise 4, Question 2 c)\n",
    "\n",
    "\n",
    "<img src=\"figures/exam-jun-2018/ex4.2c.png\" width=\"800\" />\n",
    "\n",
    "\n",
    "\n"
   ]
  },
  {
   "cell_type": "markdown",
   "metadata": {},
   "source": [
    "\n",
    "\n",
    "<img src=\"figures/exam-jun-2018/sol-ex4.2.b.png\" width=\"200\" />\n",
    "\n",
    "\n"
   ]
  },
  {
   "cell_type": "markdown",
   "metadata": {},
   "source": [
    "---\n",
    "## Exercise 4, Question 3 a)\n",
    "\n",
    "\n",
    "<img src=\"figures/exam-jun-2018/ex4.3a.png\" width=\"800\" />\n",
    "\n",
    "\n",
    "\n"
   ]
  },
  {
   "cell_type": "markdown",
   "metadata": {},
   "source": [
    "---\n",
    "## Exercise 4, Question 3 b)\n",
    "\n",
    "\n",
    "<img src=\"figures/exam-jun-2018/ex4.3b.png\" width=\"800\" />\n",
    "\n",
    "\n",
    "\n"
   ]
  },
  {
   "cell_type": "markdown",
   "metadata": {},
   "source": [
    "---\n",
    "## Exercise 4, Question 3 c)\n",
    "\n",
    "\n",
    "<img src=\"figures/exam-jun-2018/ex4.3c.png\" width=\"800\" />\n",
    "\n",
    "\n",
    "\n"
   ]
  },
  {
   "cell_type": "markdown",
   "metadata": {},
   "source": [
    "---\n",
    "## Exercise 4, Question 3 d)\n",
    "\n",
    "\n",
    "<img src=\"figures/exam-jun-2018/ex4.3d.png\" width=\"800\" />\n",
    "\n",
    "\n",
    "\n"
   ]
  }
 ],
 "metadata": {
  "kernelspec": {
   "display_name": "Python 3",
   "language": "python",
   "name": "python3"
  },
  "language_info": {
   "codemirror_mode": {
    "name": "ipython",
    "version": 3
   },
   "file_extension": ".py",
   "mimetype": "text/x-python",
   "name": "python",
   "nbconvert_exporter": "python",
   "pygments_lexer": "ipython3",
   "version": "3.6.6"
  }
 },
 "nbformat": 4,
 "nbformat_minor": 2
}
