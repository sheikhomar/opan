{
 "cells": [
  {
   "cell_type": "markdown",
   "metadata": {},
   "source": [
    "# Lecture 9: Unconstrained optimization, Newton's method"
   ]
  },
  {
   "cell_type": "code",
   "execution_count": 1,
   "metadata": {},
   "outputs": [],
   "source": [
    "import numpy as np\n",
    "import matplotlib.pyplot as plt\n",
    "import sympy as sy\n",
    "import utils as utils\n",
    "\n",
    "from func import Func\n",
    "from newton import NewtonMultivariateSearch\n",
    "\n",
    "from IPython.display import display, HTML\n",
    "\n",
    "# Inline plotting\n",
    "%matplotlib inline\n",
    "\n",
    "# Make sympy print pretty math expressions\n",
    "sy.init_printing()"
   ]
  },
  {
   "cell_type": "markdown",
   "metadata": {},
   "source": [
    "## Questions:\n",
    "\n",
    "- **Homework 08:** Got stuck implementing steepest descent algorithm. How to find $\\alpha_k$ using the Secant method? How to choose the two points?\n",
    "- **Newton Search in nD (see below):** Tried to implement Newton's method for minimisation using solve. It gives different results than when using the inverse of Hessian. Help!\n",
    "- **Newton Search in nD (see below):** When to break out of the loop for minimisation problems? When are we close to a solution?\n",
    "- **Homework 09:** How to go about solving exercise 9.1 c)"
   ]
  },
  {
   "cell_type": "markdown",
   "metadata": {
    "toc-hr-collapsed": true
   },
   "source": [
    "---\n",
    "## Multivariate Newton's Method"
   ]
  },
  {
   "cell_type": "markdown",
   "metadata": {},
   "source": [
    "### Root finding"
   ]
  },
  {
   "cell_type": "markdown",
   "metadata": {},
   "source": [
    "When we have a single function $f$, the update rule for the Multivariate Newton's Method in root finding is given as:\n",
    "\n",
    "$$\n",
    "\\mathbf{x}^{(k+1)} = \\mathbf{x}^{(k)} - \\nabla f\\left( \\mathbf{x}^{(k)} \\right)^{-1} f \\left( \\mathbf{x}^{(k)} \\right)\n",
    "$$"
   ]
  },
  {
   "cell_type": "markdown",
   "metadata": {},
   "source": [
    "#### Example from the lecture"
   ]
  },
  {
   "cell_type": "markdown",
   "metadata": {},
   "source": [
    "Sometimes, we are given multiple functions that we need to solve (i.e. find the roots of) iteratively."
   ]
  },
  {
   "cell_type": "markdown",
   "metadata": {},
   "source": [
    "For example, let us say we want to solve this system:\n",
    "\n",
    "\\begin{align}\n",
    "f_1(x_1, x_2) &=  x_1^2 + 2x_2^2 - 22 \\\\\n",
    "f_2(x_1, x_2) &= 2x_1^2 +  x_2^2 - 17\n",
    "\\end{align}"
   ]
  },
  {
   "cell_type": "markdown",
   "metadata": {},
   "source": [
    "We can rewrite the above as vector:\n",
    "\n",
    "$$\n",
    "\\mathbf{f}(\\mathbf{x}) = \n",
    "\\begin{bmatrix}\n",
    "x_1^2 + 2x_2^2 - 22 \\\\\n",
    "2x_1^2 +  x_2^2 - 17\n",
    "\\end{bmatrix}\n",
    "$$\n",
    "where $\\mathbf{x} = [x_1, x_2]$"
   ]
  },
  {
   "cell_type": "markdown",
   "metadata": {},
   "source": [
    "Solving this system means that we have to find roots of the functions i.e., $\\mathbf{f}(\\mathbf{x})=\\mathbf{0}$."
   ]
  },
  {
   "cell_type": "markdown",
   "metadata": {},
   "source": [
    "In this case, the update rule becoes:\n",
    "$$\n",
    "\\mathbf{x}^{(k+1)} = \\mathbf{x}^{(k)} - J\\left( \\mathbf{x}^{(k)} \\right)^{-1} \\mathbf{f} \\left( \\mathbf{x}^{(k)} \\right)\n",
    "$$\n",
    "where $J$ is the Jacobian matrix given as\n",
    "$$\n",
    "J(\\mathbf{x}) = \n",
    "  \\begin{bmatrix}\n",
    "    \\frac{\\partial f_1}{\\partial x_1} & \\frac{\\partial f_1}{\\partial x_2}  \\\\\n",
    "    \\frac{\\partial f_2}{\\partial x_1} & \\frac{\\partial f_2}{\\partial x_2}\n",
    "  \\end{bmatrix}\n",
    "$$"
   ]
  },
  {
   "cell_type": "markdown",
   "metadata": {},
   "source": [
    "Let us solve the example above in SymPy using the update rule above. For the initial point, we use $\\mathbf{x}^{(0)} = [10, 10]^T$:"
   ]
  },
  {
   "cell_type": "code",
   "execution_count": 2,
   "metadata": {},
   "outputs": [
    {
     "data": {
      "text/latex": [
       "$$\\left[\\begin{matrix}x_{1}^{2} + 2 x_{2}^{2} - 22\\\\2 x_{1}^{2} + x_{2}^{2} - 17\\end{matrix}\\right]$$"
      ],
      "text/plain": [
       "⎡  2       2     ⎤\n",
       "⎢x₁  + 2⋅x₂  - 22⎥\n",
       "⎢                ⎥\n",
       "⎢    2     2     ⎥\n",
       "⎣2⋅x₁  + x₂  - 17⎦"
      ]
     },
     "execution_count": 2,
     "metadata": {},
     "output_type": "execute_result"
    }
   ],
   "source": [
    "# Setup the system\n",
    "x1, x2 = sy.symbols('x1, x2')\n",
    "x = (x1, x2)\n",
    "f1 = x1**2    +  2*x2**2  - 22\n",
    "f2 = 2*x1**2  +    x2**2  - 17\n",
    "f = sy.Matrix([f1, f2])\n",
    "f"
   ]
  },
  {
   "cell_type": "code",
   "execution_count": 3,
   "metadata": {},
   "outputs": [
    {
     "data": {
      "text/latex": [
       "$$\\left[\\begin{matrix}\\frac{26}{5}\\\\\\frac{109}{20}\\end{matrix}\\right]$$"
      ],
      "text/plain": [
       "⎡26/5⎤\n",
       "⎢    ⎥\n",
       "⎢109 ⎥\n",
       "⎢─── ⎥\n",
       "⎣ 20 ⎦"
      ]
     },
     "execution_count": 3,
     "metadata": {},
     "output_type": "execute_result"
    }
   ],
   "source": [
    "# Set initial point\n",
    "x_k = (10, 10)\n",
    "\n",
    "# Compute the Jabobian matrix\n",
    "J = f.jacobian((x1, x2))\n",
    "\n",
    "# Compute the Jacobian at x(k)\n",
    "J_at_x_k = J.subs(dict(zip(x, x_k)))\n",
    "\n",
    "# Compute the functions at x(k)\n",
    "f_at_x_k = f.subs(dict(zip(x, x_k)))\n",
    "\n",
    "# Using the update rule, compute the next point x(k+1)\n",
    "x_k_plus_1 = sy.Matrix(x_k) - J_at_x_k.inv() * f_at_x_k\n",
    "x_k_plus_1"
   ]
  },
  {
   "cell_type": "code",
   "execution_count": 4,
   "metadata": {},
   "outputs": [
    {
     "data": {
      "text/plain": [
       "\"['5.2000', '5.4500']\""
      ]
     },
     "execution_count": 4,
     "metadata": {},
     "output_type": "execute_result"
    }
   ],
   "source": [
    "utils.format_vector(x_k_plus_1)"
   ]
  },
  {
   "cell_type": "markdown",
   "metadata": {},
   "source": [
    "---\n",
    "#### Approach used during the lecture"
   ]
  },
  {
   "cell_type": "markdown",
   "metadata": {},
   "source": [
    "Notice that in the lecture, Carl used an alternative method which consists of two steps as discussed in the book:"
   ]
  },
  {
   "cell_type": "markdown",
   "metadata": {},
   "source": [
    "<img src=\"figures/lecture-09/newtons-method-solve.png\" width=\"600\" />\n"
   ]
  },
  {
   "cell_type": "markdown",
   "metadata": {},
   "source": [
    "where $F$ is the Jacobian. The only difference is the notation:\n",
    "\n",
    "<img src=\"figures/lecture-09/lecture-notation.png\" width=\"150\" />\n"
   ]
  },
  {
   "cell_type": "markdown",
   "metadata": {},
   "source": [
    "This approach does not require the computation of the inverse of the Jacobian which could be computationally prohibitive for large $n$."
   ]
  },
  {
   "cell_type": "markdown",
   "metadata": {},
   "source": [
    "---\n",
    "### Optimisation"
   ]
  },
  {
   "cell_type": "markdown",
   "metadata": {},
   "source": [
    "Newton's method (sometimes called the Newton-Raphson method) uses first and second derivatives. The idea behind this method is as follows:\n",
    "\n",
    "- Given a starting point $\\mathbf{x}^{(k)}$, we construct a quadratic approximation $q(\\mathbf{x})$ to the objective function $f(\\mathbf{x})$ at that point. We can create such an approximation using the Taylor series expansion of $f$ about the point $\\mathbf{x}^{(k)}$:\n",
    "\n",
    "$$\n",
    "q(\\mathbf{x}) = \n",
    "    f \\left(  \\mathbf{x}^{(k)}  \\right)\n",
    "  + \\left(\\mathbf{x} - \\mathbf{x}^{(k)} \\right)^T \\nabla f \\left( \\mathbf{x}^{(k)} \\right)\n",
    "  + \\frac{1}{2} \\left(\\mathbf{x} - \\mathbf{x}^{(k)} \\right)^T F\\left(\\mathbf{x}^{(k)} \\right)  \\left(\\mathbf{x} - \\mathbf{x}^{(k)} \\right)\n",
    "$$\n",
    "where $F$ is the Hessian.\n",
    "\n",
    "- We then minimize the approximate (quadratic) function $q(\\mathbf{x})$ instead of the original objective function $f(\\mathbf{x})$.  This can be done by apply the FONC to $q$ i.e., taking the derivative of $q(\\mathbf{x})$ and solving it for when $\\nabla q(\\mathbf{x}) = \\mathbf{0}$ where $\\nabla q(\\mathbf{x})$ is given as:\n",
    "\n",
    "$$\n",
    "\\nabla q(\\mathbf{x}) = \n",
    "     \\nabla f \\left( \\mathbf{x}^{(k)} \\right)\n",
    "   + F\\left(\\mathbf{x}^{(k)} \\right)  \\left(\\mathbf{x} - \\mathbf{x}^{(k)} \\right)\n",
    "$$\n",
    "\n",
    "- We use the minimizer $\\mathbf{x}^{*}$ of the approximate function as the starting point in the next step i.e., $\\mathbf{x}^{(1)} = \\mathbf{x}^{*}$\n",
    "\n",
    "$$\n",
    "\\mathbf{x}^{(k+1)} = \\mathbf{x}^{(k)} - F \\left( \\mathbf{x}^{(k)} \\right)^{-1} \\nabla f \\left( \\mathbf{x}^{(k)} \\right)\n",
    "$$\n",
    "\n",
    "- Repeat the procedure iteratively. \n",
    "\n",
    "If the objective function $f$ is quadratic, then the approximation $q$ is exact, and the method yields the true minimizer in one step. \n",
    "\n",
    "If, on the other hand, the objective function is not quadratic, then the approximation will provide only an estimate of the position of the true minimizer."
   ]
  },
  {
   "cell_type": "markdown",
   "metadata": {},
   "source": [
    "---\n",
    "## Relationship between root finding and minimisation"
   ]
  },
  {
   "cell_type": "markdown",
   "metadata": {},
   "source": [
    "Newton's method can be seen as an iterative algorithm to find roots. It is often useful when a system of equations do not have a solution but we want to get close to a solution using a iterative method. For example, we know that the following problem does not have a solution:\n"
   ]
  },
  {
   "cell_type": "markdown",
   "metadata": {},
   "source": [
    "<img src=\"figures/lecture-09/four-same-sized-circles-problem.png\" width=\"400\" />\n"
   ]
  },
  {
   "cell_type": "markdown",
   "metadata": {},
   "source": [
    "This is because we cannot solve the equations with respect to all the variables i.e., we cannot find values for the variables such that all equations become true simultaneously. Solving in this regard means finding roots of system of equations. This is where Newton's method for root finding comes into the picture."
   ]
  },
  {
   "cell_type": "markdown",
   "metadata": {},
   "source": [
    "It turns out that the same idea about root finding can be applied to find the minimum of a function $f$. Instead of looking for where $f$ intersects with the $x$-axis, we look at its derivative $f'$. Basically, we try to find the root $f'$. The root of $f'$ gives us the minimum of $f$ as illustrated below:"
   ]
  },
  {
   "cell_type": "markdown",
   "metadata": {},
   "source": [
    "<img src=\"figures/lecture-09/newton-root-to-min.png\" width=\"400\" />\n"
   ]
  },
  {
   "cell_type": "markdown",
   "metadata": {},
   "source": [
    "Another interesting observation is that lines in the $f'$ corresponds to quadratic in $f$ as illustrated in the figure below:"
   ]
  },
  {
   "cell_type": "markdown",
   "metadata": {},
   "source": [
    "<img src=\"figures/lecture-09/newton-approximations.png\" width=\"400\" />\n",
    "\n"
   ]
  },
  {
   "cell_type": "markdown",
   "metadata": {},
   "source": [
    "On the right side, we see that Newton's method approximates a line. As lines in the $f'$ space corresponds to a quadratic function (a polynomial of degree 2) in the $f$ space, the Newton's method approximates a quadratic. The root of the line at each step in the Newton's method corresponds to the approximation of the minimum of a quadratic function."
   ]
  },
  {
   "cell_type": "markdown",
   "metadata": {},
   "source": [
    "---\n",
    "### How does Newton's method compare to steepest descent method"
   ]
  },
  {
   "cell_type": "markdown",
   "metadata": {},
   "source": [
    "Recall that the method of steepest descent uses only first derivatives (gradients) in selecting a suitable search direction. This strategy is not always the most effective. If higher derivatives are used, the resulting iterative algorithm may perform better than the steepest descent method. Newton's method performs better than the steepest descent method **if the initial point is close to the minimizer**."
   ]
  },
  {
   "cell_type": "markdown",
   "metadata": {},
   "source": [
    "---\n",
    "### Advantages and Disadvantages of Newton's Method\n",
    "\n",
    "<img src=\"figures/lecture-09/pros-cons-newton.png\" width=\"500\" />\n"
   ]
  },
  {
   "cell_type": "markdown",
   "metadata": {},
   "source": [
    "---\n",
    "### Example "
   ]
  },
  {
   "cell_type": "code",
   "execution_count": 5,
   "metadata": {},
   "outputs": [
    {
     "data": {
      "text/latex": [
       "$$\\left[\\begin{matrix}\\left(x_{1} + 10 x_{2}\\right)^{2} + 10 \\left(x_{1} - x_{4}\\right)^{4} + \\left(x_{2} - 2 x_{3}\\right)^{4} + 5 \\left(x_{3} - x_{4}\\right)^{2}\\end{matrix}\\right]$$"
      ],
      "text/plain": [
       "⎡            2               4              4              2⎤\n",
       "⎣(x₁ + 10⋅x₂)  + 10⋅(x₁ - x₄)  + (x₂ - 2⋅x₃)  + 5⋅(x₃ - x₄) ⎦"
      ]
     },
     "metadata": {},
     "output_type": "display_data"
    },
    {
     "data": {
      "text/plain": []
     },
     "execution_count": 5,
     "metadata": {},
     "output_type": "execute_result"
    }
   ],
   "source": [
    "x1, x2, x3, x4 = sy.symbols('x1, x2, x3, x4')\n",
    "f = Func((x1 + 10*x2)**2   + 5*(x3-x4)**2  + (x2 - 2*x3)**4 + 10*(x1 - x4)**4, (x1, x2, x3, x4))\n",
    "f"
   ]
  },
  {
   "cell_type": "code",
   "execution_count": 7,
   "metadata": {},
   "outputs": [
    {
     "name": "stdout",
     "output_type": "stream",
     "text": [
      "Iteration  1: x(1)=['1.5873', '-0.1587', '0.2540', '0.2540'] \n",
      "Iteration  2: x(2)=['1.0582', '-0.1058', '0.1693', '0.1693'] \n",
      "Iteration  3: x(3)=['0.7055', '-0.0705', '0.1129', '0.1129'] \n",
      "Iteration  4: x(4)=['0.4703', '-0.0470', '0.0752', '0.0752'] \n",
      "Iteration  5: x(5)=['0.3135', '-0.0314', '0.0502', '0.0502'] \n",
      "Iteration  6: x(6)=['0.2090', '-0.0209', '0.0334', '0.0334'] \n",
      "Iteration  7: x(7)=['0.1394', '-0.0139', '0.0223', '0.0223'] \n",
      "Iteration  8: x(8)=['0.0929', '-0.0093', '0.0149', '0.0149'] \n",
      "Iteration  9: x(9)=['0.0619', '-0.0062', '0.0099', '0.0099'] \n",
      "Iteration 10: x(10)=['0.0413', '-0.0041', '0.0066', '0.0066'] \n",
      "Iteration 11: x(11)=['0.0275', '-0.0028', '0.0044', '0.0044'] \n",
      "Iteration 12: x(12)=['0.0184', '-0.0018', '0.0029', '0.0029'] \n",
      "Iteration 13: x(13)=['0.0122', '-0.0012', '0.0020', '0.0020'] \n",
      "Iteration 14: x(14)=['0.0082', '-0.0008', '0.0013', '0.0013'] \n",
      "Iteration 15: x(15)=['0.0054', '-0.0005', '0.0009', '0.0009'] \n",
      "Iteration 16: x(16)=['0.0036', '-0.0004', '0.0006', '0.0006'] \n",
      "Iteration 17: x(17)=['0.0024', '-0.0002', '0.0004', '0.0004'] \n",
      "Iteration 18: x(18)=['0.0016', '-0.0002', '0.0003', '0.0003'] \n",
      "Iteration 19: x(19)=['0.0011', '-0.0001', '0.0002', '0.0002'] \n",
      "Iteration 20: x(20)=['0.0007', '-0.0001', '0.0001', '0.0001'] \n",
      "Iteration 21: x(21)=['0.0005', '-0.0000', '0.0001', '0.0001'] \n",
      " Stopping condition never reached!\n"
     ]
    },
    {
     "data": {
      "text/latex": [
       "$$\\left[\\begin{matrix}\\frac{104857600}{219667417263}\\\\- \\frac{10485760}{219667417263}\\\\\\frac{16777216}{219667417263}\\\\\\frac{16777216}{219667417263}\\end{matrix}\\right]$$"
      ],
      "text/plain": [
       "⎡ 104857600  ⎤\n",
       "⎢────────────⎥\n",
       "⎢219667417263⎥\n",
       "⎢            ⎥\n",
       "⎢ -10485760  ⎥\n",
       "⎢────────────⎥\n",
       "⎢219667417263⎥\n",
       "⎢            ⎥\n",
       "⎢  16777216  ⎥\n",
       "⎢────────────⎥\n",
       "⎢219667417263⎥\n",
       "⎢            ⎥\n",
       "⎢  16777216  ⎥\n",
       "⎢────────────⎥\n",
       "⎣219667417263⎦"
      ]
     },
     "execution_count": 7,
     "metadata": {},
     "output_type": "execute_result"
    }
   ],
   "source": [
    "newton_search = NewtonMultivariateSearch(f)\n",
    "newton_search.find_minimum((3, -1, 0, 1))"
   ]
  },
  {
   "cell_type": "markdown",
   "metadata": {},
   "source": [
    "---\n",
    "## Nonlinear Least Squares \n",
    "\n"
   ]
  },
  {
   "cell_type": "markdown",
   "metadata": {},
   "source": [
    "Let us first define the least squares problem:\n"
   ]
  },
  {
   "cell_type": "markdown",
   "metadata": {},
   "source": [
    "<img src=\"figures/lecture-09/def-least-squares-problem.png\" width=\"500\" />\n",
    "\n",
    "\n",
    "\n",
    "\n",
    "\n",
    "\n",
    "\n"
   ]
  },
  {
   "cell_type": "markdown",
   "metadata": {},
   "source": [
    "where $\\mathbf{\\hat{x}}$ is the least squares solution and $r_i(\\mathbf{x})$ are the residuals:\n",
    "\n",
    "$$\n",
    "r_i(\\mathbf{x}) = y_i - M(\\mathbf{x}, \\beta)\n",
    "$$"
   ]
  },
  {
   "cell_type": "markdown",
   "metadata": {},
   "source": [
    "An alternative definition of the least squares problem is as follows:"
   ]
  },
  {
   "cell_type": "markdown",
   "metadata": {},
   "source": [
    "<img src=\"figures/lecture-09/non-linear-least-squares-problem.png\" width=\"600\" />\n",
    "\n",
    "\n",
    "\n",
    "\n",
    "\n",
    "\n",
    "\n",
    "\n"
   ]
  },
  {
   "cell_type": "markdown",
   "metadata": {},
   "source": [
    "---\n",
    "## Curve Fitting\n"
   ]
  },
  {
   "cell_type": "markdown",
   "metadata": {},
   "source": [
    "Curve fitting is the process of finding the parameters of a function (model) that best fit some given set of data points."
   ]
  },
  {
   "cell_type": "markdown",
   "metadata": {},
   "source": [
    "---\n",
    "### Example 9.2"
   ]
  },
  {
   "cell_type": "markdown",
   "metadata": {},
   "source": [
    "<img src=\"figures/lecture-09/figure-9.2.png\" width=\"600\" />\n",
    "\n",
    "\n",
    "\n",
    "\n",
    "\n",
    "\n",
    "\n",
    "\n"
   ]
  },
  {
   "cell_type": "markdown",
   "metadata": {},
   "source": [
    "<img src=\"figures/lecture-09/example-9.2.png\" width=\"600\" />\n",
    "\n",
    "\n",
    "\n",
    "\n",
    "\n",
    "\n",
    "\n",
    "\n"
   ]
  },
  {
   "cell_type": "code",
   "execution_count": 8,
   "metadata": {},
   "outputs": [],
   "source": [
    "def sinusoid(t, A, omega, phi):\n",
    "    return A * np.sin(omega * t + phi)\n",
    "\n",
    "num_points = 20\n",
    "x_start = 0\n",
    "x_end = 10\n",
    "\n",
    "A = 2\n",
    "omega = np.pi/4\n",
    "phi = 0\n",
    "noise = 0.2\n",
    "\n",
    "# Generate data with some noise\n",
    "x = np.linspace(x_start, x_end, num_points)\n",
    "y_pure = sinusoid(x, A, omega, phi)\n",
    "noise_data = np.random.normal(0, noise, y_pure.shape)\n",
    "y = y_pure + noise_data\n",
    "\n",
    "# Data for plotting the sinusoid\n",
    "x_smooth = np.linspace(x_start, x_end, num_points*4)\n",
    "y_smooth = sinusoid(x_smooth, A, omega, phi)"
   ]
  },
  {
   "cell_type": "code",
   "execution_count": 9,
   "metadata": {},
   "outputs": [],
   "source": [
    "from scipy import optimize\n",
    "\n",
    "# Use Levenberg-Marquardt algorithm for curve fitting\n",
    "optimal_values, covariance = optimize.curve_fit(sinusoid, x, y)\n",
    "\n",
    "# Generate plot data using the optimal values from the LM algorithm\n",
    "fitted_A, fitted_omega, fitted_phi = optimal_values\n",
    "\n",
    "y_fitted = sinusoid(x_smooth, fitted_A, fitted_omega, fitted_phi)"
   ]
  },
  {
   "cell_type": "code",
   "execution_count": 10,
   "metadata": {},
   "outputs": [
    {
     "data": {
      "image/png": "[encoded data removed]",
      "text/plain": [
       "<Figure size 720x432 with 1 Axes>"
      ]
     },
     "metadata": {
      "needs_background": "light"
     },
     "output_type": "display_data"
    }
   ],
   "source": [
    "fig, ax = utils.prepare_plot(x, y, xlimit=(-.2, 10.2))\n",
    "\n",
    "ax.plot(x_smooth, y_smooth, color='#999999', label='Sinusoid function')\n",
    "ax.scatter(x, y, label='Data points');\n",
    "ax.plot(x_smooth, y_fitted, color='brown', label='Fitted points');\n",
    "\n",
    "ax.set_xlabel('$t$')\n",
    "ax.set_ylabel('$f(t)$')\n",
    "ax.legend();"
   ]
  },
  {
   "cell_type": "code",
   "execution_count": null,
   "metadata": {},
   "outputs": [],
   "source": []
  }
 ],
 "metadata": {
  "kernelspec": {
   "display_name": "Python 3",
   "language": "python",
   "name": "python3"
  },
  "language_info": {
   "codemirror_mode": {
    "name": "ipython",
    "version": 3
   },
   "file_extension": ".py",
   "mimetype": "text/x-python",
   "name": "python",
   "nbconvert_exporter": "python",
   "pygments_lexer": "ipython3",
   "version": "3.6.6"
  }
 },
 "nbformat": 4,
 "nbformat_minor": 2
}
