{
 "cells": [
  {
   "cell_type": "markdown",
   "metadata": {},
   "source": [
    "# Lecture 7: Unconstrained optimization, 1D search methods"
   ]
  },
  {
   "cell_type": "code",
   "execution_count": 1,
   "metadata": {},
   "outputs": [],
   "source": [
    "import numpy as np\n",
    "import matplotlib.pyplot as plt\n",
    "import sympy as sy\n",
    "from func import Func\n",
    "from search1d import GoldenSectionSearch, FibonacciSearch, NewtonSearch\n",
    "\n",
    "# Inline plotting\n",
    "%matplotlib inline\n",
    "\n",
    "# Make sympy print pretty math expressions\n",
    "sy.init_printing()"
   ]
  },
  {
   "cell_type": "markdown",
   "metadata": {},
   "source": [
    "We are interested in the problem of minimizing an objective function $f : \\mathbb{R} \\to \\mathbb{R}$ (i.e., a one-dimensional problem)"
   ]
  },
  {
   "cell_type": "markdown",
   "metadata": {},
   "source": [
    "There are multiple search method for 1D:\n",
    "- Golden section Search ($f$). Slow but slow and robust.\n",
    "- Newton Method more efficient but needs more information ($f, f', f^{''}$)"
   ]
  },
  {
   "cell_type": "markdown",
   "metadata": {},
   "source": [
    "## Golden Section Search"
   ]
  },
  {
   "cell_type": "markdown",
   "metadata": {},
   "source": [
    "<img src=\"figures/lecture-07/figure-7.1.png\" width=\"400\" />\n"
   ]
  },
  {
   "cell_type": "markdown",
   "metadata": {},
   "source": [
    "The Golden Section Search allows us to determine the minimizer of an objective function $f: \\mathbb{R} \\to \\mathbb{R}$ over a closed interval, say $[a_0, b_0]$ The only property that we assume of the objective function $f$ is that it is **unimodal**, which means that $f$ has only one local minimizer in that interval."
   ]
  },
  {
   "cell_type": "markdown",
   "metadata": {},
   "source": [
    "Before starting the algorithm, we have to make sure that the unimodel. \n",
    "\n",
    "The idea is not to find the exact value. We want to make the uncertaintly interval smaller and smaller and stop the that interval is of relatively small size."
   ]
  },
  {
   "cell_type": "code",
   "execution_count": null,
   "metadata": {},
   "outputs": [],
   "source": []
  },
  {
   "cell_type": "markdown",
   "metadata": {},
   "source": [
    "<img src=\"figures/lecture-07/figure-7.3.png\" width=\"600\" />\n"
   ]
  },
  {
   "cell_type": "markdown",
   "metadata": {},
   "source": [
    "We choose two intermediate points in such a way that an approximation to the minimizer of $f$ may be achieved in as few evaluations as possible. We choose the intermediate points $a_1$ and $b_1$ in such a way that the reduction in the range\n",
    "is symmetric:\n",
    "\n",
    "$$\n",
    "a_1 = a_0 + \\rho(b_0 - a_0)\\\\\n",
    "b_1 = a_0 + (1-\\rho)(b_0 - a_0)\n",
    "$$\n",
    "\n",
    "where the symbols $\\rho$ and $1-\\rho$ (the Golden ration) are constants:\n",
    "\n",
    "$$\n",
    "\\rho = \\frac{3- \\sqrt{5}}{2} \\approx 0.382, \\hspace{5mm} 1-\\rho=\\frac{\\sqrt{5}-1}{2} \\approx 0.61803\n",
    "$$"
   ]
  },
  {
   "cell_type": "markdown",
   "metadata": {},
   "source": [
    "Next, we evaluate $f$ at the two intermediate points $a_1$ and $b_1$ i.e., $f(a_1)$ and $f(b_1)$.\n",
    "\n",
    "- If $f(a_1) < f(b_1)$ then we continue with the next iteration from the interval $[a_0, b_1]$\n",
    "- If $f(a_1) > f(b_1)$ then we continue with the next iteration from the interval $[a_1, b_0]$"
   ]
  },
  {
   "cell_type": "code",
   "execution_count": null,
   "metadata": {},
   "outputs": [],
   "source": []
  },
  {
   "cell_type": "markdown",
   "metadata": {},
   "source": [
    "<img src=\"figures/lecture-07/figure-7.4.png\" width=\"600\" />\n"
   ]
  },
  {
   "cell_type": "markdown",
   "metadata": {},
   "source": [
    "In the Golden Section Search, the size of the next interval is fixed. The value of $\\rho$ is fixed. \n",
    "\n",
    "The length of the interval is 1 (otherwise just make it so it is 1).\n",
    "\n"
   ]
  },
  {
   "cell_type": "code",
   "execution_count": null,
   "metadata": {},
   "outputs": [],
   "source": []
  },
  {
   "cell_type": "markdown",
   "metadata": {},
   "source": [
    "---\n",
    "## Example 7.1"
   ]
  },
  {
   "cell_type": "markdown",
   "metadata": {},
   "source": [
    "<img src=\"figures/lecture-07/example-7.1.png\" width=\"600\" />\n"
   ]
  },
  {
   "cell_type": "code",
   "execution_count": 2,
   "metadata": {},
   "outputs": [],
   "source": [
    "def create_example71():\n",
    "    x = sy.symbols('x')\n",
    "    f = x**4 - 14*x**3 + 60*x**2 - 70*x\n",
    "    return GoldenSectionSearch(f, x, initial_range=(0,2), uncertainty=0.3)\n",
    "\n",
    "example71 = create_example71()"
   ]
  },
  {
   "cell_type": "code",
   "execution_count": 3,
   "metadata": {},
   "outputs": [
    {
     "data": {
      "image/png": "[encoded data removed]",
      "text/plain": [
       "<Figure size 720x432 with 1 Axes>"
      ]
     },
     "metadata": {
      "needs_background": "light"
     },
     "output_type": "display_data"
    }
   ],
   "source": [
    "example71.plot()"
   ]
  },
  {
   "cell_type": "code",
   "execution_count": 4,
   "metadata": {},
   "outputs": [
    {
     "data": {
      "image/png": "[encoded data removed]",
      "text/latex": [
       "$$4$$"
      ],
      "text/plain": [
       "4"
      ]
     },
     "execution_count": 4,
     "metadata": {},
     "output_type": "execute_result"
    }
   ],
   "source": [
    "example71.estimate_iterations()"
   ]
  },
  {
   "cell_type": "code",
   "execution_count": 5,
   "metadata": {},
   "outputs": [
    {
     "data": {
      "text/html": [
       "<table><thead><tr><th>$k$</th><th>$a_k$</th><th>$b_k$</th><th>$f(a_k)$</th><th>$f(b_k)$</th><th>Uncertainty interval</th></tr></thead><tbody><tr><td>1</td><td>0.7639</td><td>1.2361</td><td>-24.3607</td><td>-18.9582</td><td>[0.0000, 1.2361]</td></tr><tr><td>2</td><td>0.4721</td><td>0.7639</td><td>-21.0985</td><td>-24.3607</td><td>[0.4721, 1.2361]</td></tr><tr><td>3</td><td>0.7639</td><td>0.9443</td><td>-24.3607</td><td>-23.5925</td><td>[0.4721, 0.9443]</td></tr><tr><td>4</td><td>0.6525</td><td>0.7639</td><td>-23.8374</td><td>-24.3607</td><td>[0.6525, 0.9443]</td></tr></tbody></table>"
      ],
      "text/plain": [
       "<IPython.core.display.HTML object>"
      ]
     },
     "metadata": {},
     "output_type": "display_data"
    }
   ],
   "source": [
    "example71.run(num_iterations=4)"
   ]
  },
  {
   "cell_type": "markdown",
   "metadata": {},
   "source": [
    "---\n",
    "## Fibonacci Search"
   ]
  },
  {
   "cell_type": "markdown",
   "metadata": {},
   "source": [
    "In the Fib search, we do not insist on a fixed $\\rho$ in each iteration. In each iteration $k$, we compute a new $\\rho_k$. "
   ]
  },
  {
   "cell_type": "markdown",
   "metadata": {},
   "source": [
    "In the long run, the Fib search method is more efficient than the Golden Search method."
   ]
  },
  {
   "cell_type": "code",
   "execution_count": null,
   "metadata": {},
   "outputs": [],
   "source": []
  },
  {
   "cell_type": "markdown",
   "metadata": {},
   "source": [
    "<img src=\"figures/lecture-07/figure-7.5.png\" width=\"600\" />\n"
   ]
  },
  {
   "cell_type": "code",
   "execution_count": null,
   "metadata": {},
   "outputs": [],
   "source": []
  },
  {
   "cell_type": "markdown",
   "metadata": {},
   "source": [
    "<img src=\"figures/lecture-07/slide-6.png\" width=\"600\" />\n"
   ]
  },
  {
   "cell_type": "markdown",
   "metadata": {},
   "source": [
    "We want to minimize the uncertainty range because $(1-\\rho_k)$ is the reduction of the uncertainty range for iteration $k$. Multiplying them together, we find the reduction of the uncertainty range for $N$ iterations."
   ]
  },
  {
   "cell_type": "markdown",
   "metadata": {},
   "source": [
    "---\n",
    "## Bisection Method"
   ]
  },
  {
   "cell_type": "markdown",
   "metadata": {},
   "source": [
    "The idea is to split the interval in the middle $(b_0-a_0)/2$. Then we compute the derivative of that point $f'((b_0-a_0)/2)$. If the slope is negative then pick the right interval otherwise pick the left interval."
   ]
  },
  {
   "cell_type": "markdown",
   "metadata": {},
   "source": [
    "Normally, the derivative is error-prone. It is more efficent. In each iteration, we reduce the interval by half. "
   ]
  },
  {
   "cell_type": "code",
   "execution_count": null,
   "metadata": {},
   "outputs": [],
   "source": []
  },
  {
   "cell_type": "markdown",
   "metadata": {},
   "source": [
    "---\n",
    "## Example 7.2"
   ]
  },
  {
   "cell_type": "markdown",
   "metadata": {},
   "source": [
    "<img src=\"figures/lecture-07/example-7.2.png\" width=\"600\" />\n"
   ]
  },
  {
   "cell_type": "code",
   "execution_count": 6,
   "metadata": {},
   "outputs": [],
   "source": [
    "def create_example72():\n",
    "    x = sy.symbols('x')\n",
    "    f = x**4 - 14*x**3 + 60*x**2 - 70*x\n",
    "    return FibonacciSearch(f, x, initial_range=(0, 2), uncertainty=0.3, epsilon=0.05)\n",
    "example72 = create_example72()"
   ]
  },
  {
   "cell_type": "code",
   "execution_count": 7,
   "metadata": {},
   "outputs": [
    {
     "data": {
      "image/png": "[encoded data removed]",
      "text/plain": [
       "<Figure size 720x432 with 1 Axes>"
      ]
     },
     "metadata": {
      "needs_background": "light"
     },
     "output_type": "display_data"
    }
   ],
   "source": [
    "example72.plot()"
   ]
  },
  {
   "cell_type": "code",
   "execution_count": 8,
   "metadata": {},
   "outputs": [
    {
     "data": {
      "image/png": "[encoded data removed]",
      "text/latex": [
       "$$4$$"
      ],
      "text/plain": [
       "4"
      ]
     },
     "execution_count": 8,
     "metadata": {},
     "output_type": "execute_result"
    }
   ],
   "source": [
    "example72.estimate_iterations()"
   ]
  },
  {
   "cell_type": "code",
   "execution_count": 9,
   "metadata": {},
   "outputs": [
    {
     "data": {
      "text/html": [
       "<table><thead><tr><th>$k$</th><th>$a_k$</th><th>$b_k$</th><th>$f(a_k)$</th><th>$f(b_k)$</th><th>Uncertainty interval</th></tr></thead><tbody><tr><td>1</td><td>0.7500</td><td>1.2500</td><td>-24.3398</td><td>-18.6523</td><td>[0.0000, 1.2500]</td></tr><tr><td>2</td><td>0.5000</td><td>0.7500</td><td>-21.6875</td><td>-24.3398</td><td>[0.5000, 1.2500]</td></tr><tr><td>3</td><td>0.7500</td><td>1.0000</td><td>-24.3398</td><td>-23.0000</td><td>[0.5000, 1.0000]</td></tr><tr><td>4</td><td>0.7250</td><td>0.7500</td><td>-24.2713</td><td>-24.3398</td><td>[0.7250, 1.0000]</td></tr></tbody></table>"
      ],
      "text/plain": [
       "<IPython.core.display.HTML object>"
      ]
     },
     "metadata": {},
     "output_type": "display_data"
    }
   ],
   "source": [
    "example72.run(num_iterations=4)"
   ]
  },
  {
   "cell_type": "code",
   "execution_count": null,
   "metadata": {},
   "outputs": [],
   "source": []
  },
  {
   "cell_type": "markdown",
   "metadata": {},
   "source": [
    "---\n",
    "## Lecture Example"
   ]
  },
  {
   "cell_type": "markdown",
   "metadata": {},
   "source": [
    "Try out the first 2 iteration of the Golden Search method for the function $f(x) = x^2 - 2x + 2$ on the interval $[0, 2]$. How much is the uncertainty reduce in 2 iterations?"
   ]
  },
  {
   "cell_type": "code",
   "execution_count": 10,
   "metadata": {},
   "outputs": [],
   "source": [
    "def create_lecture_example():\n",
    "    x = sy.symbols('x')\n",
    "    f = x**2 - 2*x + 2\n",
    "    return GoldenSectionSearch(f, x, initial_range=(0,2), uncertainty=0.3)\n",
    "\n",
    "lecture_example = create_lecture_example()"
   ]
  },
  {
   "cell_type": "code",
   "execution_count": 11,
   "metadata": {},
   "outputs": [
    {
     "data": {
      "image/png": "[encoded data removed]",
      "text/plain": [
       "<Figure size 720x432 with 1 Axes>"
      ]
     },
     "metadata": {
      "needs_background": "light"
     },
     "output_type": "display_data"
    }
   ],
   "source": [
    "lecture_example.plot()"
   ]
  },
  {
   "cell_type": "code",
   "execution_count": 12,
   "metadata": {},
   "outputs": [
    {
     "data": {
      "text/html": [
       "<table><thead><tr><th>$k$</th><th>$a_k$</th><th>$b_k$</th><th>$f(a_k)$</th><th>$f(b_k)$</th><th>Uncertainty interval</th></tr></thead><tbody><tr><td>1</td><td>0.7639</td><td>1.2361</td><td>1.0557</td><td>1.0557</td><td>[0.0000, 0.0000]</td></tr><tr><td>2</td><td>0.7639</td><td>1.2361</td><td>1.0557</td><td>1.0557</td><td>[0.0000, 0.0000]</td></tr></tbody></table>"
      ],
      "text/plain": [
       "<IPython.core.display.HTML object>"
      ]
     },
     "metadata": {},
     "output_type": "display_data"
    }
   ],
   "source": [
    "lecture_example.run(2)"
   ]
  },
  {
   "cell_type": "code",
   "execution_count": null,
   "metadata": {},
   "outputs": [],
   "source": []
  },
  {
   "cell_type": "markdown",
   "metadata": {},
   "source": [
    "---\n",
    "## Newtons Method 1D\n"
   ]
  },
  {
   "cell_type": "markdown",
   "metadata": {},
   "source": [
    "This method is the most efficient. "
   ]
  },
  {
   "cell_type": "markdown",
   "metadata": {},
   "source": [
    "A second order Tayler expansion of the function $f(x)$. Note that $x_0$ is a fixed point. Expanding at $x_0$ we get a second-order polynomial."
   ]
  },
  {
   "cell_type": "markdown",
   "metadata": {},
   "source": [
    "$$\n",
    "f(x) = f(x) + \\frac{1}{1!} f'(x_0)(x-x_0) + \\frac{1}{2!} f^{''}(x_0)(x-x_0)^2\n",
    "$$"
   ]
  },
  {
   "cell_type": "markdown",
   "metadata": {},
   "source": [
    "Cosine or Logarithm functions are implemented in the computer as Taylor approximations because in the computer we only have add and mul instructions. "
   ]
  },
  {
   "cell_type": "markdown",
   "metadata": {},
   "source": [
    "The idea in Newtons Method is to make an approximation of the function $f(x)$ and find the minimum of the approximated function $q$. This can be done by taking the derivative of $q(x)$ and solving it for when $q'(x) = 0$."
   ]
  },
  {
   "cell_type": "markdown",
   "metadata": {},
   "source": [
    "We can derive the Newton Formula:"
   ]
  },
  {
   "cell_type": "markdown",
   "metadata": {},
   "source": [
    "<img src=\"figures/lecture-07/newtons-formula.png\" width=\"200\" />\n"
   ]
  },
  {
   "cell_type": "code",
   "execution_count": null,
   "metadata": {},
   "outputs": [],
   "source": []
  },
  {
   "cell_type": "code",
   "execution_count": null,
   "metadata": {},
   "outputs": [],
   "source": []
  },
  {
   "cell_type": "markdown",
   "metadata": {},
   "source": [
    "---\n",
    "<img src=\"figures/lecture-07/example-7.4.png\" width=\"600\" />\n"
   ]
  },
  {
   "cell_type": "markdown",
   "metadata": {},
   "source": [
    "The function above is complicated. Finding the local minimiser i.e., the solution to $f'(x)=0$ is really difficult. A better way to use the Newton's method to find a solution iteratively. This method requires first derivative and the second derivative of the function:\n"
   ]
  },
  {
   "cell_type": "markdown",
   "metadata": {},
   "source": [
    "$$\n",
    "f'(x) = x-\\cos(x) \\\\\n",
    "f^{''}(x) = 1 + \\sin(x)\n",
    "$$"
   ]
  },
  {
   "cell_type": "markdown",
   "metadata": {},
   "source": [
    "Our update method for finding the extreme point becomes as follows:"
   ]
  },
  {
   "cell_type": "markdown",
   "metadata": {},
   "source": [
    "$$\n",
    "x^{(k+1)} = x^{(k)} - \\frac{x^{(k)} - \\cos( x^{(k)} )}{1 + \\sin( x^{(k)} )}\n",
    "$$"
   ]
  },
  {
   "cell_type": "code",
   "execution_count": 13,
   "metadata": {},
   "outputs": [],
   "source": [
    "def create_example_74():\n",
    "    x = sy.symbols('x')\n",
    "    f = 1/2 * x**2 - sy.sin(x)\n",
    "    return NewtonSearch(f, x)\n",
    "ex74 = create_example_74()"
   ]
  },
  {
   "cell_type": "markdown",
   "metadata": {},
   "source": [
    "Since our starting point is $0.5$, let us plot the function around that region:"
   ]
  },
  {
   "cell_type": "code",
   "execution_count": 14,
   "metadata": {},
   "outputs": [
    {
     "data": {
      "image/png": "[encoded data removed]",
      "text/plain": [
       "<Figure size 720x432 with 1 Axes>"
      ]
     },
     "metadata": {
      "needs_background": "light"
     },
     "output_type": "display_data"
    }
   ],
   "source": [
    "ex74.plot(xlimit=(0.2, 1.2))"
   ]
  },
  {
   "cell_type": "markdown",
   "metadata": {},
   "source": [
    "We can run the algorithm:"
   ]
  },
  {
   "cell_type": "code",
   "execution_count": 15,
   "metadata": {},
   "outputs": [
    {
     "name": "stdout",
     "output_type": "stream",
     "text": [
      "Iteration  1: x(k)=0.7552224171056364\n",
      "Iteration  2: x(k)=0.7391416661498792\n",
      "Iteration  3: x(k)=0.7390851339208068\n",
      "Iteration  4: x(k)=0.7390851332151607\n",
      " Stopping condition reached!\n"
     ]
    }
   ],
   "source": [
    "result = ex74.run(starting_point=0.5, epsilon=10**(-5))"
   ]
  },
  {
   "cell_type": "code",
   "execution_count": 16,
   "metadata": {},
   "outputs": [
    {
     "data": {
      "image/png": "[encoded data removed]",
      "text/latex": [
       "$$0.7390851332151607$$"
      ],
      "text/plain": [
       "0.7390851332151607"
      ]
     },
     "execution_count": 16,
     "metadata": {},
     "output_type": "execute_result"
    }
   ],
   "source": [
    "result"
   ]
  },
  {
   "cell_type": "markdown",
   "metadata": {},
   "source": [
    "The algorithm converges when $x_k = 0.739$"
   ]
  },
  {
   "cell_type": "markdown",
   "metadata": {},
   "source": [
    "It is important to find a good starting point. If the starting point is bad then the method may not converge. Let us see what happens, when we have a bad starting point."
   ]
  },
  {
   "cell_type": "code",
   "execution_count": 17,
   "metadata": {},
   "outputs": [
    {
     "data": {
      "image/png": "[encoded data removed]",
      "text/plain": [
       "<Figure size 720x432 with 1 Axes>"
      ]
     },
     "metadata": {
      "needs_background": "light"
     },
     "output_type": "display_data"
    }
   ],
   "source": [
    "ex74.plot(xlimit=(-20, 20))"
   ]
  },
  {
   "cell_type": "code",
   "execution_count": 18,
   "metadata": {},
   "outputs": [
    {
     "name": "stdout",
     "output_type": "stream",
     "text": [
      "Iteration  1: x(k)=3.905463459065606\n",
      "Iteration  2: x(k)=-11.105750472107161\n",
      "Iteration  3: x(k)=-5.480845900820577\n",
      "Iteration  4: x(k)=-1.8881001310342538\n",
      "Iteration  5: x(k)=29.684359567498745\n",
      "Iteration  6: x(k)=-2284.5938245028065\n",
      "Iteration  7: x(k)=-866.0171565651744\n",
      "Iteration  8: x(k)=-403.5201131016982\n",
      "Iteration  9: x(k)=26165.809645458077\n",
      "Iteration 10: x(k)=8639.891506265605\n",
      "Iteration 11: x(k)=2840.599433148386\n",
      "Iteration 12: x(k)=1025.320876017047\n",
      "Iteration 13: x(k)=490.80218833141294\n",
      "Iteration 14: x(k)=194.64110185608217\n",
      "Iteration 15: x(k)=-29.80541925966034\n",
      "Iteration 16: x(k)=-14.91669092731878\n",
      "Iteration 17: x(k)=34.30811522155956\n",
      "Iteration 18: x(k)=6.0145415699482\n",
      "Iteration 19: x(k)=-0.8607310367681738\n",
      "Iteration 20: x(k)=5.397999680330236\n",
      " Stopping condition never reached!\n"
     ]
    },
    {
     "data": {
      "image/png": "[encoded data removed]",
      "text/latex": [
       "$$5.397999680330236$$"
      ],
      "text/plain": [
       "5.397999680330236"
      ]
     },
     "execution_count": 18,
     "metadata": {},
     "output_type": "execute_result"
    }
   ],
   "source": [
    "ex74.run(starting_point=8, epsilon=10**(-5))"
   ]
  },
  {
   "cell_type": "markdown",
   "metadata": {},
   "source": [
    "From the output, we can see that the algorithm fluctuates between the two walls and does not converge after 20 iterations."
   ]
  },
  {
   "cell_type": "markdown",
   "metadata": {},
   "source": [
    "---\n",
    "### Tangent method for root finding in $g(x)$"
   ]
  },
  {
   "cell_type": "markdown",
   "metadata": {},
   "source": [
    "Newton's method can be used to find intersection with the $x$-axis. "
   ]
  },
  {
   "cell_type": "markdown",
   "metadata": {},
   "source": [
    "\n",
    "<img src=\"figures/lecture-07/newtons-zero-finding.png\" width=\"600\" />\n",
    "\n"
   ]
  },
  {
   "cell_type": "markdown",
   "metadata": {},
   "source": [
    "Notice that the only difference between the root finding and finding the minimum is the ratio in the update formula."
   ]
  },
  {
   "cell_type": "markdown",
   "metadata": {},
   "source": [
    "<img src=\"figures/lecture-07/figure-7.8.png\" width=\"600\" />\n"
   ]
  },
  {
   "cell_type": "markdown",
   "metadata": {},
   "source": [
    "---\n",
    "<img src=\"figures/lecture-07/example-7.5.png\" width=\"600\" />\n"
   ]
  },
  {
   "cell_type": "code",
   "execution_count": 19,
   "metadata": {},
   "outputs": [],
   "source": [
    "import numpy as np\n",
    "import matplotlib.pyplot as plt\n",
    "import sympy as sy\n",
    "from func import Func\n",
    "from search1d import GoldenSectionSearch, FibonacciSearch, NewtonSearch\n",
    "\n",
    "# Inline plotting\n",
    "%matplotlib inline\n",
    "\n",
    "# Make sympy print pretty math expressions\n",
    "sy.init_printing()"
   ]
  },
  {
   "cell_type": "code",
   "execution_count": 20,
   "metadata": {},
   "outputs": [],
   "source": [
    "def create_example_75():\n",
    "    x = sy.symbols('x')\n",
    "    f = x**3 - 12.2*x**2 + 7.45*x + 42\n",
    "    return NewtonSearch(f, x)\n",
    "ex75 = create_example_75()"
   ]
  },
  {
   "cell_type": "code",
   "execution_count": 21,
   "metadata": {},
   "outputs": [
    {
     "data": {
      "image/png": "[encoded data removed]",
      "text/plain": [
       "<Figure size 720x432 with 1 Axes>"
      ]
     },
     "metadata": {
      "needs_background": "light"
     },
     "output_type": "display_data"
    }
   ],
   "source": [
    "ex75.plot(xlimit=(0, 13), show_spines=True)"
   ]
  },
  {
   "cell_type": "markdown",
   "metadata": {},
   "source": [
    "From the plot, we can see that if our starting point is $x=12$ then we should find a root around $x=11$."
   ]
  },
  {
   "cell_type": "code",
   "execution_count": 22,
   "metadata": {},
   "outputs": [
    {
     "name": "stdout",
     "output_type": "stream",
     "text": [
      "Iteration  1: x(k)=11.300375042618478\n",
      "Iteration  2: x(k)=11.201895469742569\n",
      "Iteration  3: x(k)=11.200000695476783\n",
      "Iteration  4: x(k)=11.200000000000093\n",
      " Stopping condition reached!\n"
     ]
    },
    {
     "data": {
      "image/png": "[encoded data removed]",
      "text/latex": [
       "$$11.200000000000093$$"
      ],
      "text/plain": [
       "11.200000000000093"
      ]
     },
     "execution_count": 22,
     "metadata": {},
     "output_type": "execute_result"
    }
   ],
   "source": [
    "ex75.find_root(starting_point=12)"
   ]
  },
  {
   "cell_type": "code",
   "execution_count": 23,
   "metadata": {},
   "outputs": [
    {
     "data": {
      "image/png": "[encoded data removed]",
      "text/latex": [
       "$$1.0416556506243069e-11$$"
      ],
      "text/plain": [
       "1.0416556506243069e-11"
      ]
     },
     "execution_count": 23,
     "metadata": {},
     "output_type": "execute_result"
    }
   ],
   "source": [
    "result = ex75.evaluate(11.200000000000093)\n",
    "result"
   ]
  },
  {
   "cell_type": "code",
   "execution_count": 24,
   "metadata": {},
   "outputs": [
    {
     "data": {
      "text/plain": [
       "'0.000000'"
      ]
     },
     "execution_count": 24,
     "metadata": {},
     "output_type": "execute_result"
    }
   ],
   "source": [
    "# Above is same as zero. It is more clear if we \n",
    "# suppress scientific notation in Python\n",
    "'%f' % result"
   ]
  },
  {
   "cell_type": "markdown",
   "metadata": {},
   "source": [
    "Newton's method of tangents may fail if the first approximation to the root\n",
    "is such that the ratio $g(x^{(0)})/g'(x^{(0)})$ is not small enough."
   ]
  },
  {
   "cell_type": "markdown",
   "metadata": {},
   "source": [
    "<img src=\"figures/lecture-07/figure-7.9.png\" width=\"600\" />\n",
    "\n"
   ]
  },
  {
   "cell_type": "markdown",
   "metadata": {},
   "source": [
    "---\n",
    "## Secant Method"
   ]
  },
  {
   "cell_type": "markdown",
   "metadata": {},
   "source": [
    "The Newton's method requires to find the derivative of the function. Some functions like $f(x)=\\sin(\\cos(e^x))$ where the derivative is complicated $f'(x) = -e^x \\sin(e^x) \\cos(\\cos(e^x))$. The Secant method uses a **secant line** instead of a tangent line to find the root. So what is the difference between a tangent line and secant line? A tangent line is a line that intersects a function at one point whereas a secant line intersects the function at two differenet points.\n",
    "\n",
    "\\begin{align}\n",
    "x^{(k+1)} = x^{(k)} - \\frac{x^{(k)} - \\cos( x^{(k)} )}{1 + \\sin( x^{(k)} )}\n",
    "\\end{align}"
   ]
  },
  {
   "cell_type": "markdown",
   "metadata": {},
   "source": [
    "One of the problems with secant method is that we risk dividing by zero if we choose two points that never intersects the $x$-axis."
   ]
  },
  {
   "cell_type": "markdown",
   "metadata": {},
   "source": [
    "In this method, we approximate the derivative of the given function in case, we cannot the derivative is not available."
   ]
  },
  {
   "cell_type": "markdown",
   "metadata": {},
   "source": [
    "### Minimisation of $f(x)$"
   ]
  },
  {
   "cell_type": "markdown",
   "metadata": {},
   "source": [
    "<img src=\"figures/lecture-07/secant-method.png\" width=\"600\" />\n"
   ]
  },
  {
   "cell_type": "markdown",
   "metadata": {},
   "source": [
    "We can approximate the derivative of the function:\n",
    "\n",
    "$$\n",
    "f'(x) = \\frac{ f(x^{k}) - f(x^{k-1}) }{x^{k} - x^{k-1}} \\\\\\\\\n",
    "f''(x) = \\frac{ f'(x^{k}) - f'(x^{k-1}) }{x^{k} - x^{k-1}} \\\\\n",
    "$$\n",
    "\n",
    "In this way, we don't need the derivative or the second derivative. "
   ]
  },
  {
   "cell_type": "markdown",
   "metadata": {},
   "source": [
    "The starting point is always tricky. If a bad starting point is chosen we may end up in a situation where it does not converge."
   ]
  },
  {
   "cell_type": "markdown",
   "metadata": {},
   "source": [
    "### Secant method to find roots"
   ]
  },
  {
   "cell_type": "markdown",
   "metadata": {},
   "source": [
    "<img src=\"figures/lecture-07/secant-method-root.png\" width=\"600\" />\n",
    "\n",
    "\n"
   ]
  },
  {
   "cell_type": "code",
   "execution_count": null,
   "metadata": {},
   "outputs": [],
   "source": []
  },
  {
   "cell_type": "markdown",
   "metadata": {},
   "source": [
    "<img src=\"figures/lecture-07/figure-7.10.png\" width=\"600\" />\n"
   ]
  },
  {
   "cell_type": "code",
   "execution_count": null,
   "metadata": {},
   "outputs": [],
   "source": []
  },
  {
   "cell_type": "markdown",
   "metadata": {},
   "source": [
    "<img src=\"figures/lecture-07/example-7.6.png\" width=\"600\" />\n"
   ]
  },
  {
   "cell_type": "code",
   "execution_count": null,
   "metadata": {},
   "outputs": [],
   "source": []
  },
  {
   "cell_type": "markdown",
   "metadata": {},
   "source": [
    "<img src=\"figures/lecture-07/example-7.6-result.png\" width=\"600\" />\n"
   ]
  },
  {
   "cell_type": "code",
   "execution_count": null,
   "metadata": {},
   "outputs": [],
   "source": []
  },
  {
   "cell_type": "markdown",
   "metadata": {},
   "source": [
    "<img src=\"figures/lecture-07/example-7.7-a.png\" width=\"600\" />\n",
    "<img src=\"figures/lecture-07/example-7.7-b.png\" width=\"600\" />\n"
   ]
  },
  {
   "cell_type": "markdown",
   "metadata": {},
   "source": [
    "We cannot use a linear method. Therefore, we need to use the Secant method or Newton Method.  "
   ]
  },
  {
   "cell_type": "markdown",
   "metadata": {},
   "source": [
    "Typically, in Deep Learning, Newton is not used because $f''$ is difficult to compute. Also, the Newton method is more suspetible to noise in the data."
   ]
  },
  {
   "cell_type": "code",
   "execution_count": null,
   "metadata": {},
   "outputs": [],
   "source": []
  }
 ],
 "metadata": {
  "kernelspec": {
   "display_name": "Python 3",
   "language": "python",
   "name": "python3"
  },
  "language_info": {
   "codemirror_mode": {
    "name": "ipython",
    "version": 3
   },
   "file_extension": ".py",
   "mimetype": "text/x-python",
   "name": "python",
   "nbconvert_exporter": "python",
   "pygments_lexer": "ipython3",
   "version": "3.6.6"
  }
 },
 "nbformat": 4,
 "nbformat_minor": 2
}
