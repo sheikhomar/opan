{
 "cells": [
  {
   "cell_type": "markdown",
   "metadata": {},
   "source": [
    "# Lecture 12: Genetic Algorithm"
   ]
  },
  {
   "cell_type": "markdown",
   "metadata": {},
   "source": [
    "Local vs Global Optimisation:\n",
    "- Local Optimisation: no mechanism to get out of the local minimum e.g. the Newton Method just returns the minimum. \n",
    "- Global Optimisation: the lowest point throughout the whole. There are not necesarrily one single global point. We try not to get stuck into local minimums. In Global Optimisation algorithm there is a mechanism to get out of local minimum. There is no gurantee of getting the global optimum. But they try to get out of local minimum."
   ]
  },
  {
   "cell_type": "markdown",
   "metadata": {},
   "source": [
    "Deterministic version is very dependent on the starting point. In principle, you can try randmoly generated starting point\n",
    "\n",
    "Real stochastic algorithm cannot be repeated. The deterministic algorithm you can always.\n",
    "- Easy to implement stochastic algorithm\n",
    "- It is easy to setup\n",
    "\n",
    "There is no real concensus whether determistic vs stochastic methods is better than the other. "
   ]
  },
  {
   "cell_type": "markdown",
   "metadata": {},
   "source": [
    "- Discrete Optimisation: when the input space is finite\n",
    "- Stochastic Optimisation: when the input space is infinite"
   ]
  },
  {
   "cell_type": "markdown",
   "metadata": {},
   "source": [
    "Pseudo-random numbers are not really random numbers. Pseudo-random numbers are seeded that allows us to start the random sequence from the same time. We could seed it using the current clock. The seed is not part of the input. "
   ]
  },
  {
   "cell_type": "markdown",
   "metadata": {},
   "source": [
    "---\n",
    "## Particle Swarm Optimisation\n"
   ]
  },
  {
   "cell_type": "markdown",
   "metadata": {},
   "source": [
    "w: the weight of the particle. If it is high then it takes some time to change direction"
   ]
  },
  {
   "cell_type": "markdown",
   "metadata": {},
   "source": [
    "### In-class pseudo-code"
   ]
  },
  {
   "cell_type": "markdown",
   "metadata": {},
   "source": [
    " "
   ]
  },
  {
   "cell_type": "code",
   "execution_count": null,
   "metadata": {},
   "outputs": [],
   "source": []
  },
  {
   "cell_type": "markdown",
   "metadata": {},
   "source": [
    "---\n",
    "## Genetic Algorithms"
   ]
  },
  {
   "cell_type": "markdown",
   "metadata": {},
   "source": [
    "Encoding of the travelling salesman problem: a candidate solution is the order of the cities that you want to travel to."
   ]
  },
  {
   "cell_type": "markdown",
   "metadata": {},
   "source": []
  },
  {
   "cell_type": "markdown",
   "metadata": {},
   "source": [
    "---\n",
    "### In-Class Pseudo-Code"
   ]
  },
  {
   "cell_type": "code",
   "execution_count": null,
   "metadata": {},
   "outputs": [],
   "source": []
  },
  {
   "cell_type": "markdown",
   "metadata": {},
   "source": [
    "1. **Develop a representation of a five-step \"turtle path\"**    \n",
    "    A representation of a path can consists of following chromosome of length 10. \n",
    "    \n",
    "    It consists of following atoms:\n",
    "    \n",
    "    00 = Up, 01 = Right, 10 = Left\n",
    "    \n",
    "    - \"00 01 01 00 10\" corresponds to the first path  \n",
    "    - \"00 10 00 00 10\" corresponds to the second path\n",
    "    - \"00 00 00 00 01\" corresponds to the third path\n",
    "    \n",
    "2. Objective function:\n",
    "\n",
    "    Manhatten distance \n",
    "    cost(example1) = 2\n",
    "    cost(example2) = 3\n",
    "    cost(example3) = 0\n",
    "    \n",
    "3. "
   ]
  },
  {
   "cell_type": "markdown",
   "metadata": {},
   "source": []
  }
 ],
 "metadata": {
  "kernelspec": {
   "display_name": "Python 3",
   "language": "python",
   "name": "python3"
  },
  "language_info": {
   "codemirror_mode": {
    "name": "ipython",
    "version": 3
   },
   "file_extension": ".py",
   "mimetype": "text/x-python",
   "name": "python",
   "nbconvert_exporter": "python",
   "pygments_lexer": "ipython3",
   "version": "3.6.6"
  }
 },
 "nbformat": 4,
 "nbformat_minor": 2
}
