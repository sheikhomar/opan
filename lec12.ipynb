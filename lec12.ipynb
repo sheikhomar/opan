{
 "cells": [
  {
   "cell_type": "markdown",
   "metadata": {},
   "source": [
    "# Lecture 12: Genetic Algorithms"
   ]
  },
  {
   "cell_type": "markdown",
   "metadata": {},
   "source": [
    "---\n",
    "## Overview"
   ]
  },
  {
   "cell_type": "markdown",
   "metadata": {},
   "source": [
    "Genetic algorithms are a family of models that use evolution as a metaphor. We can use genetic algorithms to do optimisation in the following way:\n",
    "\n",
    "- Suppose we want to **maximise** an objective function $f(\\mathbf{x})$ subject to $\\mathbf{x} \\in \\Omega$.\n",
    "\n",
    "- Choose a suitable representation scheme.\n",
    "\n",
    "- Generate an initial set of points in $\\Omega$, denoted $P(0)$, called the **initial population** of size $N$ (population size).  This is usually done by a random selection of a set of chromosomes that represents points in $\\Omega$.\n",
    "\n",
    "- Evaluate the fitness for each chromosome of the population $P(k)$. The fitness of each chromosome is based on the objective function value of thae corresponding candidate solution.\n",
    "\n",
    "- Create a new population $P(k+1)$ in two stages:\n",
    "  1. **Selection Stage**: from the population $P(k)$ select a **mating pool**, denoted $M(k)$, of length $N$ (same as population size).\n",
    "  \n",
    "  2. **Evolution Stage**: apply **crossover** and **mutation** operations:\n",
    "  \n",
    "    - The crossover operation picks a pair of chromosomes at random from the mating pool, called the parents, and gives a pair of offspring chromosomes called the children. After the crossover operation, we replace the parents in the mating pool by their offspring.\n",
    "    \n",
    "    - Mutation operation takes each chromosome from the mating pool and randomly changes each symbol of the chromosome with a given probability $p_m$. Typically, the value of $p_m$ is very small (e.g., 0.01).\n",
    "\n",
    "- Discard the previous generation. Some approaches also add some of the best individuals to the next generation. This is called \"elitism\".\n",
    "\n",
    "- Repeat the procedure iteratively, generating populations $P(2), P(3), \\cdots $ until an appropriate stopping criterion is reached.\n",
    "\n",
    "- When the algorithm stops, we should get an individual with a high fitness (objective value) that could be optimal"
   ]
  },
  {
   "cell_type": "markdown",
   "metadata": {},
   "source": [
    "<img src=\"figures/lecture-12/genetic-algorithm-short.png\" width=\"350\" />\n",
    "\n",
    "\n",
    "\n",
    "\n",
    "\n",
    "\n",
    "\n",
    "\n",
    "\n",
    "\n"
   ]
  },
  {
   "cell_type": "markdown",
   "metadata": {},
   "source": [
    "### Flowchart"
   ]
  },
  {
   "cell_type": "markdown",
   "metadata": {},
   "source": [
    "<img src=\"figures/lecture-12/genetic-algorithm-flowchart.png\" width=\"350\" />\n",
    "\n",
    "\n",
    "\n",
    "\n",
    "\n",
    "\n",
    "\n",
    "\n",
    "\n",
    "\n"
   ]
  },
  {
   "cell_type": "markdown",
   "metadata": {},
   "source": [
    "---\n",
    "## Representation Scheme\n",
    "\n",
    "- Like Particle Swarm Optimisation, we have a population of candidate solutions at each iteration.\n",
    "- Instead of \"particles\", each point $\\mathbf{x} \\in \\Omega$ is encoded as a string of symbols called **chromosome** e.g.: `010 100 111 110 001 010 101`\n",
    "- Each chromosome consists of elements from a chosen set of symbols, called the **alphabet**. A common alphabet is the set $\\{0,1\\}$.\n",
    "- The number of symbols in each chromosome, denoted $L$, is fixed.\n",
    "- Each chromosome represents one candidate solution to our optimisation problem"
   ]
  },
  {
   "cell_type": "markdown",
   "metadata": {},
   "source": [
    "The figure below illustrates how we can encode the travelling salesman problem. Each city is represented by a string of 3 binary symbol. A chromosome, which represents a candidate solution, describes the order in which to visit the cities."
   ]
  },
  {
   "cell_type": "markdown",
   "metadata": {},
   "source": [
    "<img src=\"figures/lecture-12/travelling-salesman-encoding.png\" width=\"250\" />\n",
    "\n",
    "\n",
    "\n",
    "\n",
    "\n",
    "\n",
    "\n",
    "\n",
    "\n",
    "\n"
   ]
  },
  {
   "cell_type": "markdown",
   "metadata": {},
   "source": [
    "To apply the genetic algorithm to solve the optimization problem with vectors $\\mathbf{x} \\in \\mathbb{R}^2$, we use a simple binary representation scheme with length $L = 32$, where the first 16 bits of each chromosome encode the x component, whereas the remaining\n",
    "16 bits encode the y component. For example, we can encode the vector: $[-1, 3]^T$ as follows:\n",
    "\n",
    "<img src=\"figures/lecture-12/encoding-vector.png\" width=\"250\" />\n",
    "\n"
   ]
  },
  {
   "cell_type": "markdown",
   "metadata": {},
   "source": [
    "The choice of chromosome length $L$, alphabet, and encoding (i.e., the mapping from $\\Omega$ onto the set of chromosomes) is called the **representation scheme** for the problem."
   ]
  },
  {
   "cell_type": "markdown",
   "metadata": {},
   "source": [
    "---\n",
    "## Fitness\n"
   ]
  },
  {
   "cell_type": "markdown",
   "metadata": {},
   "source": [
    "To each chromosome there corresponds a value of the objective function, referred to as the **fitness** of the chromosome. For each chromosome $\\mathbf{x}$, the book uses $f(\\mathbf{x})$ for its fitness. Note that, for convenience, the book uses  $f$ to denote both the original\n",
    "objective function and the fitness measure on the set of chromosomes. The book assumes that $f$ is a **nonnegative** function."
   ]
  },
  {
   "cell_type": "markdown",
   "metadata": {},
   "source": [
    "---\n",
    "## Selection Stage\n",
    "\n"
   ]
  },
  {
   "cell_type": "markdown",
   "metadata": {},
   "source": [
    "In the selection stage,  we select a **mating pool**, denoted $M(k)$, of length $N$ (same as population size) from the population $P(k)$. The idea is that this \"intermediate\" population called the mating pool is likely to contain the best individuals in the population $P(k)$. There are many ways to form the mating pool:\n",
    "\n",
    "One method (roulette-wheel scheme) is to select chromosomes into the mating pool with probabilities proportional to their fitness. So an individual  chromosome is more likely to be selected in proporition to its relative fitness within the population i.e., fit individuals are more likely to be selected. \n",
    "\n",
    "<img src=\"figures/lecture-12/roulette-wheel-selection.png\" width=\"600\" />\n",
    "\n",
    "An alternative selection scheme (tournament scheme) is to select a pair of chromosomes at random from $P(k)$, compare the fitness values of these two chromosomes, and place the fitter of the two into the mating pool.\n"
   ]
  },
  {
   "cell_type": "markdown",
   "metadata": {},
   "source": [
    "---\n",
    "## Crossover (recombination)\n"
   ]
  },
  {
   "cell_type": "markdown",
   "metadata": {},
   "source": [
    "The **crossover operation** takes a pair of chromosomes, called the parents, and gives a pair of offspring chromosomes, called the children. \n",
    "\n",
    "How to pick parents? Pairs of parents for crossover are chosen from the mating pool randomly, such that the probability that a chromosome is chosen for crossover is $p_c$. There are several ways to pick the parents:\n",
    "\n",
    "1. Randomly choose two chromosomes from the mating pool as parents. In this case if $N$ is the number of chromosomes in the mating pool, then $p_c = 2/N$.\n",
    "2. Randomly pick  $k$ pairs of parents  (where $k < N/2$) i.e., we randomly pick $2k$ chromosomes from the mating pool. In this case, we $p_c = 2k/N$. \n",
    "3. Given a value of $p_c$, pick a random number of pairs of parents such that the average number of pairs is $p_c N/2$. \n",
    "\n",
    "Notice that in the first two examples above, the number of pairs of parents is fixed and the value of $p_c$ is dependent on this number. In the last example, the $p_c$ is fixed.\n",
    "\n",
    "Once the parents for crossover have been determined, we apply the crossover operation to the parents. There are many types of possible crossover\n",
    "operations:\n",
    "\n",
    "- One-point crossover: choose a random number between 1 and $L-1$ according to a uniform distribution, where $L$ is the length of chromosomes. We\n",
    "refer to this number as the **crossing site**. Crossover then involves exchanging substrings of the parents to the left of the crossing site:\n",
    "\n",
    "<img src=\"figures/lecture-12/one-point-crossover.png\" width=\"240\" />\n",
    "\n",
    "- Two-point crossover: randomly select two crossing sites and all bits of parents are swapped\n",
    "\n",
    "<img src=\"figures/lecture-12/two-point-crossover.png\" width=\"240\" />\n",
    "\n",
    "- Uniform crossover: children have some ratio of genes from either parent, e.g. half uniform children have approximately half genes from each parent so we have a mixing ratio of 0.5. For each bit in Parent A, randomly decide with probability of mixing ratio if we need to swap with corresponding bit from Parent B.\n",
    "\n",
    "<img src=\"figures/lecture-12/uniform-crossover.png\" width=\"260\" />\n",
    "\n",
    "\n",
    "The operation involves exchanging substrings of the two parent chromosomes i.e., we swap parts of the parent's chromosomes with each other to get two new children.\n",
    "\n",
    "\n",
    "\n",
    "\n",
    "\n",
    "\n"
   ]
  },
  {
   "cell_type": "markdown",
   "metadata": {},
   "source": [
    "---\n",
    "## Mutation"
   ]
  },
  {
   "cell_type": "markdown",
   "metadata": {},
   "source": [
    "Mutation operation is used to keep genetic diversity between populations. It is analogous to biological mutation. "
   ]
  },
  {
   "cell_type": "markdown",
   "metadata": {},
   "source": [
    "<img src=\"figures/lecture-12/mutation.png\" width=\"260\" />\n"
   ]
  },
  {
   "cell_type": "markdown",
   "metadata": {},
   "source": [
    "The mutation operation takes each chromosome from the mating pool and randomly changes each symbol of the chromosome with a given probability $p_m$. \n",
    "\n",
    "In the case of the binary alphabet, this change corresponds to complementing the corresponding bits; that is, we replace each bit with probability $p_m$ from 0 to 1, or vice versa. If the alphabet contains more than two symbols, then the change involves randomly substituting the symbol with another symbol from the alphabet. \n",
    "\n",
    "Typically, the value of $p_m$ is very small (e.g., 0.01), so that only a few chromosomes will undergo a change due to mutation, and of those that are affected, only a few of the symbols are modified. Therefore, the mutation operation plays only a minor role in the genetic algorithm relative to the crossover operation."
   ]
  },
  {
   "cell_type": "markdown",
   "metadata": {},
   "source": [
    "---\n",
    "## Evaluating Evolution Stage\n",
    "\n",
    "The purpose of the crossover and mutation operations is to create a new  population with an average objective function value that is higher than that of the previous population. We can evaluate the **effectiveness of the evolution stage** by looking at the aveage fitness of the population; this should increase."
   ]
  },
  {
   "cell_type": "markdown",
   "metadata": {},
   "source": [
    "---\n",
    "## In-Class Exercise"
   ]
  },
  {
   "cell_type": "markdown",
   "metadata": {},
   "source": [
    "<img src=\"figures/lecture-12/in-class-exercise.png\" width=\"500\" />\n",
    "\n",
    "\n",
    "\n",
    "\n",
    "\n",
    "\n",
    "\n",
    "\n",
    "\n",
    "\n",
    "\n",
    "\n",
    "\n"
   ]
  },
  {
   "cell_type": "markdown",
   "metadata": {},
   "source": [
    "<img src=\"figures/lecture-12/in-class-exercise-a.png\" width=\"600\" />\n",
    "\n"
   ]
  },
  {
   "cell_type": "markdown",
   "metadata": {},
   "source": [
    "Since the turle can move in three distinct directions, we can use 2 bits to represent each direction; 00 = Up, 01 = Right, 10 = Left. A turtle path  consists of 5 steps, so each path (candidate solution) can be represented as a chromosome of length 10. Here are some examples of chromosomes that corresponds to turtle paths:\n",
    "\n",
    "- `00 01 01 00 10` corresponds to the first path  \n",
    "- `00 10 00 00 10` corresponds to the second path\n",
    "- `00 00 00 00 01` corresponds to the third path"
   ]
  },
  {
   "cell_type": "markdown",
   "metadata": {},
   "source": [
    "<img src=\"figures/lecture-12/in-class-exercise-b.png\" width=\"600\" />\n",
    "\n"
   ]
  },
  {
   "cell_type": "markdown",
   "metadata": {},
   "source": [
    "We can use the Manhattan distance as the objective function. Here are the costs of the three example paths:\n",
    "- `cost(example1) = 2`\n",
    "- `cost(example2) = 3`\n",
    "- `cost(example3) = 0`"
   ]
  },
  {
   "cell_type": "markdown",
   "metadata": {},
   "source": [
    "<img src=\"figures/lecture-12/in-class-exercise-c.png\" width=\"600\" />\n",
    "\n"
   ]
  },
  {
   "cell_type": "code",
   "execution_count": null,
   "metadata": {},
   "outputs": [],
   "source": []
  },
  {
   "cell_type": "markdown",
   "metadata": {},
   "source": [
    "<img src=\"figures/lecture-12/in-class-exercise-d.png\" width=\"600\" />\n",
    "\n"
   ]
  },
  {
   "cell_type": "code",
   "execution_count": null,
   "metadata": {},
   "outputs": [],
   "source": []
  },
  {
   "cell_type": "markdown",
   "metadata": {},
   "source": [
    "<img src=\"figures/lecture-12/in-class-exercise-e.png\" width=\"600\" />\n",
    "\n"
   ]
  },
  {
   "cell_type": "code",
   "execution_count": null,
   "metadata": {},
   "outputs": [],
   "source": []
  }
 ],
 "metadata": {
  "kernelspec": {
   "display_name": "Python 3",
   "language": "python",
   "name": "python3"
  },
  "language_info": {
   "codemirror_mode": {
    "name": "ipython",
    "version": 3
   },
   "file_extension": ".py",
   "mimetype": "text/x-python",
   "name": "python",
   "nbconvert_exporter": "python",
   "pygments_lexer": "ipython3",
   "version": "3.6.6"
  }
 },
 "nbformat": 4,
 "nbformat_minor": 2
}
